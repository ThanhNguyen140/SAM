{
 "cells": [
  {
   "cell_type": "code",
   "execution_count": 1,
   "id": "c2e8f740-3984-4245-97bb-f3b504eabc7a",
   "metadata": {},
   "outputs": [],
   "source": [
    "import os\n",
    "os.chdir(\"/home/stud/nguyenp0/segment_anything/database/training/patient001\")"
   ]
  },
  {
   "cell_type": "code",
   "execution_count": 2,
   "id": "ad160c8c-38dd-4ae1-b8cd-848cd499ef3e",
   "metadata": {},
   "outputs": [
    {
     "data": {
      "text/plain": [
       "['patient001_frame01.nii.gz',\n",
       " 'Info.cfg',\n",
       " 'patient001_frame12_gt.nii.gz',\n",
       " 'patient001_frame01_gt.nii.gz',\n",
       " 'MANDATORY_CITATION.md',\n",
       " 'patient001_4d.nii.gz',\n",
       " 'patient001_frame12.nii.gz']"
      ]
     },
     "execution_count": 2,
     "metadata": {},
     "output_type": "execute_result"
    }
   ],
   "source": [
    "os.listdir()"
   ]
  },
  {
   "cell_type": "code",
   "execution_count": 3,
   "id": "02f4ee42-2ca3-4dc9-825f-11c77f74f7c2",
   "metadata": {},
   "outputs": [
    {
     "data": {
      "text/plain": [
       "'ED: 1\\nES: 12\\nGroup: DCM\\nHeight: 184.0\\nNbFrame: 30\\nWeight: 95.0\\n'"
      ]
     },
     "execution_count": 3,
     "metadata": {},
     "output_type": "execute_result"
    }
   ],
   "source": [
    "with open(\"Info.cfg\") as f:\n",
    "    file = f.read()\n",
    "file\n"
   ]
  },
  {
   "cell_type": "code",
   "execution_count": 8,
   "id": "21379b5f-336c-4bee-8561-a735266c60ae",
   "metadata": {},
   "outputs": [],
   "source": [
    "import pickle\n",
    "import numpy as np"
   ]
  },
  {
   "cell_type": "code",
   "execution_count": null,
   "id": "4948ac60-9faf-4130-9d98-d8f63bf1f204",
   "metadata": {},
   "outputs": [],
   "source": []
  }
 ],
 "metadata": {
  "kernelspec": {
   "display_name": "Python 3 (ipykernel)",
   "language": "python",
   "name": "python3"
  },
  "language_info": {
   "codemirror_mode": {
    "name": "ipython",
    "version": 3
   },
   "file_extension": ".py",
   "mimetype": "text/x-python",
   "name": "python",
   "nbconvert_exporter": "python",
   "pygments_lexer": "ipython3",
   "version": "3.9.7"
  }
 },
 "nbformat": 4,
 "nbformat_minor": 5
}
