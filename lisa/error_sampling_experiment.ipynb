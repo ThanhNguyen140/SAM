{
 "cells": [
  {
   "cell_type": "code",
   "execution_count": 1,
   "metadata": {},
   "outputs": [],
   "source": [
    "import torch\n",
    "import gzip\n",
    "import numpy as np\n",
    "import pandas as pd\n",
    "import sys\n",
    "\n",
    "sys.path.append(\"..\")\n",
    "from functions.prompts import Prompt\n",
    "from functions.modified_predictor import modifiedPredictor\n",
    "from functions.pipeline import *\n",
    "from tqdm import tqdm\n",
    "import pickle\n",
    "from torchmetrics.classification import (\n",
    "    BinaryF1Score,\n",
    "    BinaryAccuracy,\n",
    "    BinaryJaccardIndex,\n",
    ")\n",
    "from functions.preprocess import remove_no_seg"
   ]
  },
  {
   "cell_type": "code",
   "execution_count": 2,
   "metadata": {},
   "outputs": [],
   "source": [
    "# remove all images from images, embeddings and ground truths that don´t conatin any segmentations\n",
    "embeddings, ground_truths, images = remove_no_seg(\n",
    "    \"/Users/lisa/Documents/Master/sam-lab/ACDC\"\n",
    ")"
   ]
  },
  {
   "cell_type": "code",
   "execution_count": 2,
   "metadata": {},
   "outputs": [],
   "source": [
    "with open(\n",
    "    \"/Users/lisa/Documents/Master/sam-lab/ACDC/results/prompts2.pickle\", \"rb\"\n",
    ") as f:\n",
    "    prompts_dict = pickle.load(f)"
   ]
  },
  {
   "cell_type": "markdown",
   "metadata": {},
   "source": [
    "prompts_dict[1][0] gives coordinates and labels for the first image for batch size 50"
   ]
  },
  {
   "cell_type": "code",
   "execution_count": 3,
   "metadata": {},
   "outputs": [],
   "source": [
    "dataloader = get_batch(\"../ACDC\", 50, debug=False)\n",
    "mp = modifiedPredictor()"
   ]
  },
  {
   "cell_type": "code",
   "execution_count": 4,
   "metadata": {},
   "outputs": [],
   "source": [
    "iterations = 14"
   ]
  },
  {
   "cell_type": "code",
   "execution_count": 5,
   "metadata": {},
   "outputs": [
    {
     "name": "stderr",
     "output_type": "stream",
     "text": [
      "100%|██████████| 50/50 [1:23:12<00:00, 99.85s/it] \n"
     ]
    },
    {
     "name": "stdout",
     "output_type": "stream",
     "text": [
      "Batch 49 done.\n"
     ]
    },
    {
     "name": "stderr",
     "output_type": "stream",
     "text": [
      "100%|██████████| 50/50 [1:24:16<00:00, 101.14s/it]\n"
     ]
    },
    {
     "name": "stdout",
     "output_type": "stream",
     "text": [
      "Batch 50 done.\n"
     ]
    },
    {
     "name": "stderr",
     "output_type": "stream",
     "text": [
      "100%|██████████| 50/50 [1:25:40<00:00, 102.81s/it]\n"
     ]
    },
    {
     "name": "stdout",
     "output_type": "stream",
     "text": [
      "Batch 51 done.\n"
     ]
    },
    {
     "name": "stderr",
     "output_type": "stream",
     "text": [
      "100%|██████████| 50/50 [1:28:10<00:00, 105.80s/it]\n"
     ]
    },
    {
     "name": "stdout",
     "output_type": "stream",
     "text": [
      "Batch 52 done.\n"
     ]
    },
    {
     "name": "stderr",
     "output_type": "stream",
     "text": [
      "100%|██████████| 50/50 [1:29:39<00:00, 107.60s/it]\n"
     ]
    },
    {
     "name": "stdout",
     "output_type": "stream",
     "text": [
      "Batch 53 done.\n"
     ]
    },
    {
     "name": "stderr",
     "output_type": "stream",
     "text": [
      "100%|██████████| 50/50 [1:28:03<00:00, 105.68s/it]\n"
     ]
    },
    {
     "name": "stdout",
     "output_type": "stream",
     "text": [
      "Batch 54 done.\n"
     ]
    },
    {
     "name": "stderr",
     "output_type": "stream",
     "text": [
      "100%|██████████| 50/50 [1:23:28<00:00, 100.17s/it]\n"
     ]
    },
    {
     "name": "stdout",
     "output_type": "stream",
     "text": [
      "Batch 55 done.\n"
     ]
    },
    {
     "name": "stderr",
     "output_type": "stream",
     "text": [
      " 84%|████████▍ | 42/50 [1:10:03<13:20, 100.09s/it]\n"
     ]
    },
    {
     "ename": "IndexError",
     "evalue": "index 42 is out of bounds for dimension 0 with size 42",
     "output_type": "error",
     "traceback": [
      "\u001b[0;31m---------------------------------------------------------------------------\u001b[0m",
      "\u001b[0;31mIndexError\u001b[0m                                Traceback (most recent call last)",
      "Cell \u001b[0;32mIn[5], line 25\u001b[0m\n\u001b[1;32m     21\u001b[0m prompts_class_3 \u001b[38;5;241m=\u001b[39m prompts_dict[\u001b[38;5;241m3\u001b[39m][i : i \u001b[38;5;241m+\u001b[39m \u001b[38;5;241m50\u001b[39m]\n\u001b[1;32m     23\u001b[0m \u001b[38;5;28;01mfor\u001b[39;00m j \u001b[38;5;129;01min\u001b[39;00m tqdm(\u001b[38;5;28mrange\u001b[39m(\u001b[38;5;241m50\u001b[39m)):\n\u001b[0;32m---> 25\u001b[0m     embedding \u001b[38;5;241m=\u001b[39m \u001b[43membeddings\u001b[49m\u001b[43m[\u001b[49m\u001b[43mj\u001b[49m\u001b[43m]\u001b[49m\n\u001b[1;32m     26\u001b[0m     ground_truth \u001b[38;5;241m=\u001b[39m ground_truths[j]\n\u001b[1;32m     28\u001b[0m     \u001b[38;5;66;03m# create Prompts classes and give masks to compute error maps\u001b[39;00m\n",
      "\u001b[0;31mIndexError\u001b[0m: index 42 is out of bounds for dimension 0 with size 42"
     ]
    }
   ],
   "source": [
    "re = Results(\"/Users/lisa/Documents/Master/sam-lab/results\", \"error_sampling_0\")\n",
    "skipped_images = []\n",
    "for i, batch in enumerate(dataloader):\n",
    "    #if i==45:\n",
    "        #break\n",
    "    if not i in range(49):#for not going over batches, that are already done\n",
    "        scores = {}\n",
    "        embeddings, ground_truths = batch\n",
    "\n",
    "        # load already computed masks from randomly sampling 1 foreground point per class\n",
    "        with gzip.open(\n",
    "            f\"/Users/lisa/Documents/Master/sam-lab/ACDC/results/masks2/batch_{i}.npy.gz\",\n",
    "            \"rb\",\n",
    "        ) as f:\n",
    "            # Load the NumPy array from the file\n",
    "            masks = torch.tensor(np.load(f))\n",
    "\n",
    "        # load already computed 1 foreground point prompts (randomly sampled)\n",
    "        prompts_class_1 = prompts_dict[1][\n",
    "            i : i + 50\n",
    "        ]  # contains 50 prompts per image for 50 images\n",
    "        prompts_class_2 = prompts_dict[2][i : i + 50]\n",
    "        prompts_class_3 = prompts_dict[3][i : i + 50]\n",
    "\n",
    "        for j in tqdm(range(len(embeddings))):\n",
    "\n",
    "            embedding = embeddings[j]\n",
    "            ground_truth = ground_truths[j]\n",
    "\n",
    "            # create Prompts classes and give masks to compute error maps\n",
    "            pr1 = Prompt(1, ground_truth, prompts_class_1[j][0], prompts_class_1[j][1])\n",
    "            pr1.give_masks(masks[j])\n",
    "            pr2 = Prompt(2, ground_truth, prompts_class_2[j][0], prompts_class_2[j][1])\n",
    "            pr2.give_masks(masks[j])\n",
    "            pr3 = Prompt(3, ground_truth, prompts_class_3[j][0], prompts_class_3[j][1])\n",
    "            pr3.give_masks(masks[j])\n",
    "\n",
    "            # loop through iterations\n",
    "            for iteration in range(iterations):\n",
    "                pr1.add_point_to_prompts()\n",
    "                pr2.add_point_to_prompts()\n",
    "                pr3.add_point_to_prompts()\n",
    "\n",
    "                pr1_sam = pr1.get_prompts_sam()\n",
    "                pr2_sam = pr2.get_prompts_sam()\n",
    "                pr3_sam = pr3.get_prompts_sam()\n",
    "\n",
    "                # count how many points are foreground and background in each prompt (for result storing)\n",
    "                pr1_n_f = (pr1_sam[1] == 1).sum(dim=1, keepdim=True)\n",
    "                pr1_n_b = (pr1_sam[1] == 0).sum(dim=1, keepdim=True)\n",
    "                pr2_n_f = (pr2_sam[1] == 1).sum(dim=1, keepdim=True)\n",
    "                pr2_n_b = (pr2_sam[1] == 0).sum(dim=1, keepdim=True)\n",
    "                pr3_n_f = (pr3_sam[1] == 1).sum(dim=1, keepdim=True)\n",
    "                pr3_n_b = (pr3_sam[1] == 0).sum(dim=1, keepdim=True)\n",
    "\n",
    "                # give prompts to the predictor and generate multiclass masks\n",
    "                logit_class_1 = mp.predict(embedding, pr1_sam[0], pr1_sam[1])\n",
    "                logit_class_2 = mp.predict(embedding, pr2_sam[0], pr2_sam[1])\n",
    "                logit_class_3 = mp.predict(embedding, pr3_sam[0], pr3_sam[1])\n",
    "\n",
    "                logit_stack = torch.cat(\n",
    "                    [logit_class_1, logit_class_2, logit_class_3], dim=1\n",
    "                )\n",
    "                new_masks = multiclass_prob_batched(logit_stack, hard_labels=True)\n",
    "\n",
    "                # evaluate the new masks with BinaryF1Score, BinaryAccuracy, BinaryJaccardIndex,\n",
    "                metrics = {}\n",
    "                for c in [1, 2, 3]:\n",
    "                    metrics[c] = {}\n",
    "                    preds = torch.where(new_masks == c, 1, 0)\n",
    "                    preds = preds.squeeze(1)\n",
    "                    metrics[c][\"IOU\"] = []\n",
    "                    metrics[c][\"Dice\"] = []\n",
    "                    metrics[c][\"Accuracy\"] = []\n",
    "                    for pred in preds:\n",
    "                        targets = torch.where(ground_truth == c, 1, 0)\n",
    "                        metric = BinaryJaccardIndex()\n",
    "                        metrics[c][\"IOU\"].append(metric(pred, targets))\n",
    "                        metric = BinaryF1Score()\n",
    "                        metrics[c][\"Dice\"].append(metric(pred, targets))\n",
    "                        metric = BinaryAccuracy()\n",
    "                        metrics[c][\"Accuracy\"].append(metric(pred, targets))\n",
    "\n",
    "                # give new masks to prompts classes\n",
    "                pr1.give_masks(new_masks)\n",
    "                pr2.give_masks(new_masks)\n",
    "                pr3.give_masks(new_masks)\n",
    "\n",
    "                # write down all results in the results class\n",
    "                results = []\n",
    "                for batch_entry in range(50):\n",
    "                    result = {\n",
    "                        \"image_id\": 50 * i + j,\n",
    "                        \"f_points_class_1\": int(pr1_n_f[batch_entry]),\n",
    "                        \"f_points_class_2\": int(pr2_n_f[batch_entry]),\n",
    "                        \"f_points_class_3\": int(pr3_n_f[batch_entry]),\n",
    "                        \"b_points_class_1\": int(pr1_n_b[batch_entry]),\n",
    "                        \"b_points_class_2\": int(pr2_n_b[batch_entry]),\n",
    "                        \"b_points_class_3\": int(pr3_n_b[batch_entry]),\n",
    "                        \"dice_class_1\": round(\n",
    "                            float(metrics[1][\"Dice\"][batch_entry]), 3\n",
    "                        ),\n",
    "                        \"dice_class_2\": round(\n",
    "                            float(metrics[2][\"Dice\"][batch_entry]), 3\n",
    "                        ),\n",
    "                        \"dice_class_3\": round(\n",
    "                            float(metrics[3][\"Dice\"][batch_entry]), 3\n",
    "                        ),\n",
    "                        \"IOU_class_1\": round(float(metrics[1][\"IOU\"][batch_entry]), 3),\n",
    "                        \"IOU_class_2\": round(float(metrics[2][\"IOU\"][batch_entry]), 3),\n",
    "                        \"IOU_class_3\": round(float(metrics[3][\"IOU\"][batch_entry]), 3),\n",
    "                        \"accuracy_class_1\": round(\n",
    "                            float(metrics[1][\"Accuracy\"][batch_entry]), 3\n",
    "                        ),\n",
    "                        \"accuracy_class_2\": round(\n",
    "                            float(metrics[2][\"Accuracy\"][batch_entry]), 3\n",
    "                        ),\n",
    "                        \"accuracy_class_3\": round(\n",
    "                            float(metrics[3][\"Accuracy\"][batch_entry]), 3\n",
    "                        ),\n",
    "                    }\n",
    "                    results.append(result)\n",
    "                re.append_row(results)\n",
    "        print(f\"Batch {i} done.\")"
   ]
  },
  {
   "cell_type": "code",
   "execution_count": 10,
   "metadata": {},
   "outputs": [
    {
     "name": "stdout",
     "output_type": "stream",
     "text": [
      "2\n"
     ]
    }
   ],
   "source": [
    "for i in range(3):\n",
    "    if not i in range(2):\n",
    "        print(i)"
   ]
  },
  {
   "cell_type": "code",
   "execution_count": 6,
   "metadata": {},
   "outputs": [
    {
     "data": {
      "text/plain": [
       "2842"
      ]
     },
     "execution_count": 6,
     "metadata": {},
     "output_type": "execute_result"
    }
   ],
   "source": [
    "len(prompts_dict[1])"
   ]
  },
  {
   "cell_type": "code",
   "execution_count": null,
   "metadata": {},
   "outputs": [],
   "source": []
  }
 ],
 "metadata": {
  "kernelspec": {
   "display_name": ".venv",
   "language": "python",
   "name": "python3"
  },
  "language_info": {
   "codemirror_mode": {
    "name": "ipython",
    "version": 3
   },
   "file_extension": ".py",
   "mimetype": "text/x-python",
   "name": "python",
   "nbconvert_exporter": "python",
   "pygments_lexer": "ipython3",
   "version": "3.11.6"
  }
 },
 "nbformat": 4,
 "nbformat_minor": 2
}
