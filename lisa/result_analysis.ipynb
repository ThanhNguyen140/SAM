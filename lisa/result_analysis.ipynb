{
 "cells": [
  {
   "cell_type": "code",
   "execution_count": 1,
   "metadata": {},
   "outputs": [],
   "source": [
    "import pandas as pd\n",
    "import matplotlib.pyplot as plt"
   ]
  },
  {
   "cell_type": "markdown",
   "metadata": {},
   "source": [
    "# Analyze the results from the error sampling experiment"
   ]
  },
  {
   "cell_type": "markdown",
   "metadata": {},
   "source": [
    "## Load the data from the one sampled point experiment and the error sampling experiments"
   ]
  },
  {
   "cell_type": "code",
   "execution_count": 3,
   "metadata": {},
   "outputs": [
    {
     "data": {
      "text/html": [
       "<div>\n",
       "<style scoped>\n",
       "    .dataframe tbody tr th:only-of-type {\n",
       "        vertical-align: middle;\n",
       "    }\n",
       "\n",
       "    .dataframe tbody tr th {\n",
       "        vertical-align: top;\n",
       "    }\n",
       "\n",
       "    .dataframe thead th {\n",
       "        text-align: right;\n",
       "    }\n",
       "</style>\n",
       "<table border=\"1\" class=\"dataframe\">\n",
       "  <thead>\n",
       "    <tr style=\"text-align: right;\">\n",
       "      <th></th>\n",
       "      <th>image_id</th>\n",
       "      <th>f_points_class_1</th>\n",
       "      <th>f_points_class_2</th>\n",
       "      <th>f_points_class_3</th>\n",
       "      <th>b_points_class_1</th>\n",
       "      <th>b_points_class_2</th>\n",
       "      <th>b_points_class_3</th>\n",
       "      <th>dice_class_1</th>\n",
       "      <th>dice_class_2</th>\n",
       "      <th>dice_class_3</th>\n",
       "      <th>IOU_class_1</th>\n",
       "      <th>IOU_class_2</th>\n",
       "      <th>IOU_class_3</th>\n",
       "      <th>accuracy_class_1</th>\n",
       "      <th>accuracy_class_2</th>\n",
       "      <th>accuracy_class_3</th>\n",
       "    </tr>\n",
       "  </thead>\n",
       "  <tbody>\n",
       "    <tr>\n",
       "      <th>0</th>\n",
       "      <td>0</td>\n",
       "      <td>1</td>\n",
       "      <td>1</td>\n",
       "      <td>1</td>\n",
       "      <td>0</td>\n",
       "      <td>0</td>\n",
       "      <td>0</td>\n",
       "      <td>0.064</td>\n",
       "      <td>0.267</td>\n",
       "      <td>0.329</td>\n",
       "      <td>0.033</td>\n",
       "      <td>0.154</td>\n",
       "      <td>0.197</td>\n",
       "      <td>0.958</td>\n",
       "      <td>0.942</td>\n",
       "      <td>0.979</td>\n",
       "    </tr>\n",
       "    <tr>\n",
       "      <th>1</th>\n",
       "      <td>0</td>\n",
       "      <td>1</td>\n",
       "      <td>1</td>\n",
       "      <td>1</td>\n",
       "      <td>0</td>\n",
       "      <td>0</td>\n",
       "      <td>0</td>\n",
       "      <td>0.859</td>\n",
       "      <td>0.444</td>\n",
       "      <td>0.000</td>\n",
       "      <td>0.753</td>\n",
       "      <td>0.285</td>\n",
       "      <td>0.000</td>\n",
       "      <td>0.991</td>\n",
       "      <td>0.966</td>\n",
       "      <td>0.973</td>\n",
       "    </tr>\n",
       "    <tr>\n",
       "      <th>2</th>\n",
       "      <td>0</td>\n",
       "      <td>1</td>\n",
       "      <td>1</td>\n",
       "      <td>1</td>\n",
       "      <td>0</td>\n",
       "      <td>0</td>\n",
       "      <td>0</td>\n",
       "      <td>0.813</td>\n",
       "      <td>0.459</td>\n",
       "      <td>0.000</td>\n",
       "      <td>0.685</td>\n",
       "      <td>0.298</td>\n",
       "      <td>0.000</td>\n",
       "      <td>0.987</td>\n",
       "      <td>0.969</td>\n",
       "      <td>0.973</td>\n",
       "    </tr>\n",
       "    <tr>\n",
       "      <th>3</th>\n",
       "      <td>0</td>\n",
       "      <td>1</td>\n",
       "      <td>1</td>\n",
       "      <td>1</td>\n",
       "      <td>0</td>\n",
       "      <td>0</td>\n",
       "      <td>0</td>\n",
       "      <td>0.815</td>\n",
       "      <td>0.473</td>\n",
       "      <td>0.000</td>\n",
       "      <td>0.688</td>\n",
       "      <td>0.310</td>\n",
       "      <td>0.000</td>\n",
       "      <td>0.987</td>\n",
       "      <td>0.970</td>\n",
       "      <td>0.973</td>\n",
       "    </tr>\n",
       "    <tr>\n",
       "      <th>4</th>\n",
       "      <td>0</td>\n",
       "      <td>1</td>\n",
       "      <td>1</td>\n",
       "      <td>1</td>\n",
       "      <td>0</td>\n",
       "      <td>0</td>\n",
       "      <td>0</td>\n",
       "      <td>0.783</td>\n",
       "      <td>0.429</td>\n",
       "      <td>0.000</td>\n",
       "      <td>0.644</td>\n",
       "      <td>0.273</td>\n",
       "      <td>0.000</td>\n",
       "      <td>0.984</td>\n",
       "      <td>0.968</td>\n",
       "      <td>0.973</td>\n",
       "    </tr>\n",
       "  </tbody>\n",
       "</table>\n",
       "</div>"
      ],
      "text/plain": [
       "   image_id  f_points_class_1  f_points_class_2  f_points_class_3  \\\n",
       "0         0                 1                 1                 1   \n",
       "1         0                 1                 1                 1   \n",
       "2         0                 1                 1                 1   \n",
       "3         0                 1                 1                 1   \n",
       "4         0                 1                 1                 1   \n",
       "\n",
       "   b_points_class_1  b_points_class_2  b_points_class_3  dice_class_1  \\\n",
       "0                 0                 0                 0         0.064   \n",
       "1                 0                 0                 0         0.859   \n",
       "2                 0                 0                 0         0.813   \n",
       "3                 0                 0                 0         0.815   \n",
       "4                 0                 0                 0         0.783   \n",
       "\n",
       "   dice_class_2  dice_class_3  IOU_class_1  IOU_class_2  IOU_class_3  \\\n",
       "0         0.267         0.329        0.033        0.154        0.197   \n",
       "1         0.444         0.000        0.753        0.285        0.000   \n",
       "2         0.459         0.000        0.685        0.298        0.000   \n",
       "3         0.473         0.000        0.688        0.310        0.000   \n",
       "4         0.429         0.000        0.644        0.273        0.000   \n",
       "\n",
       "   accuracy_class_1  accuracy_class_2  accuracy_class_3  \n",
       "0             0.958             0.942             0.979  \n",
       "1             0.991             0.966             0.973  \n",
       "2             0.987             0.969             0.973  \n",
       "3             0.987             0.970             0.973  \n",
       "4             0.984             0.968             0.973  "
      ]
     },
     "execution_count": 3,
     "metadata": {},
     "output_type": "execute_result"
    }
   ],
   "source": [
    "df_1_point = pd.read_csv(\"/Users/lisa/Documents/Master/sam-lab/results/pos_0100.csv\")\n",
    "df_1_point.head()"
   ]
  },
  {
   "cell_type": "code",
   "execution_count": 5,
   "metadata": {},
   "outputs": [
    {
     "data": {
      "text/plain": [
       "142100"
      ]
     },
     "execution_count": 5,
     "metadata": {},
     "output_type": "execute_result"
    }
   ],
   "source": [
    "len(df_1_point)"
   ]
  },
  {
   "cell_type": "code",
   "execution_count": 7,
   "metadata": {},
   "outputs": [
    {
     "data": {
      "text/html": [
       "<div>\n",
       "<style scoped>\n",
       "    .dataframe tbody tr th:only-of-type {\n",
       "        vertical-align: middle;\n",
       "    }\n",
       "\n",
       "    .dataframe tbody tr th {\n",
       "        vertical-align: top;\n",
       "    }\n",
       "\n",
       "    .dataframe thead th {\n",
       "        text-align: right;\n",
       "    }\n",
       "</style>\n",
       "<table border=\"1\" class=\"dataframe\">\n",
       "  <thead>\n",
       "    <tr style=\"text-align: right;\">\n",
       "      <th></th>\n",
       "      <th>image_id</th>\n",
       "      <th>f_points_class_1</th>\n",
       "      <th>f_points_class_2</th>\n",
       "      <th>f_points_class_3</th>\n",
       "      <th>b_points_class_1</th>\n",
       "      <th>b_points_class_2</th>\n",
       "      <th>b_points_class_3</th>\n",
       "      <th>dice_class_1</th>\n",
       "      <th>dice_class_2</th>\n",
       "      <th>dice_class_3</th>\n",
       "      <th>IOU_class_1</th>\n",
       "      <th>IOU_class_2</th>\n",
       "      <th>IOU_class_3</th>\n",
       "      <th>accuracy_class_1</th>\n",
       "      <th>accuracy_class_2</th>\n",
       "      <th>accuracy_class_3</th>\n",
       "    </tr>\n",
       "  </thead>\n",
       "  <tbody>\n",
       "    <tr>\n",
       "      <th>0</th>\n",
       "      <td>0</td>\n",
       "      <td>2</td>\n",
       "      <td>2</td>\n",
       "      <td>2</td>\n",
       "      <td>0</td>\n",
       "      <td>0</td>\n",
       "      <td>0</td>\n",
       "      <td>0.585</td>\n",
       "      <td>0.038</td>\n",
       "      <td>0.008</td>\n",
       "      <td>0.413</td>\n",
       "      <td>0.019</td>\n",
       "      <td>0.004</td>\n",
       "      <td>0.960</td>\n",
       "      <td>0.731</td>\n",
       "      <td>0.973</td>\n",
       "    </tr>\n",
       "    <tr>\n",
       "      <th>1</th>\n",
       "      <td>0</td>\n",
       "      <td>2</td>\n",
       "      <td>2</td>\n",
       "      <td>2</td>\n",
       "      <td>0</td>\n",
       "      <td>0</td>\n",
       "      <td>0</td>\n",
       "      <td>0.016</td>\n",
       "      <td>0.262</td>\n",
       "      <td>0.000</td>\n",
       "      <td>0.008</td>\n",
       "      <td>0.151</td>\n",
       "      <td>0.000</td>\n",
       "      <td>0.503</td>\n",
       "      <td>0.943</td>\n",
       "      <td>0.973</td>\n",
       "    </tr>\n",
       "    <tr>\n",
       "      <th>2</th>\n",
       "      <td>0</td>\n",
       "      <td>2</td>\n",
       "      <td>2</td>\n",
       "      <td>2</td>\n",
       "      <td>0</td>\n",
       "      <td>0</td>\n",
       "      <td>0</td>\n",
       "      <td>0.129</td>\n",
       "      <td>0.150</td>\n",
       "      <td>0.969</td>\n",
       "      <td>0.069</td>\n",
       "      <td>0.081</td>\n",
       "      <td>0.940</td>\n",
       "      <td>0.632</td>\n",
       "      <td>0.878</td>\n",
       "      <td>0.998</td>\n",
       "    </tr>\n",
       "    <tr>\n",
       "      <th>3</th>\n",
       "      <td>0</td>\n",
       "      <td>2</td>\n",
       "      <td>2</td>\n",
       "      <td>2</td>\n",
       "      <td>0</td>\n",
       "      <td>0</td>\n",
       "      <td>0</td>\n",
       "      <td>0.102</td>\n",
       "      <td>0.001</td>\n",
       "      <td>0.906</td>\n",
       "      <td>0.054</td>\n",
       "      <td>0.000</td>\n",
       "      <td>0.827</td>\n",
       "      <td>0.498</td>\n",
       "      <td>0.948</td>\n",
       "      <td>0.995</td>\n",
       "    </tr>\n",
       "    <tr>\n",
       "      <th>4</th>\n",
       "      <td>0</td>\n",
       "      <td>2</td>\n",
       "      <td>2</td>\n",
       "      <td>2</td>\n",
       "      <td>0</td>\n",
       "      <td>0</td>\n",
       "      <td>0</td>\n",
       "      <td>0.818</td>\n",
       "      <td>0.278</td>\n",
       "      <td>0.008</td>\n",
       "      <td>0.692</td>\n",
       "      <td>0.161</td>\n",
       "      <td>0.004</td>\n",
       "      <td>0.987</td>\n",
       "      <td>0.965</td>\n",
       "      <td>0.958</td>\n",
       "    </tr>\n",
       "  </tbody>\n",
       "</table>\n",
       "</div>"
      ],
      "text/plain": [
       "   image_id  f_points_class_1  f_points_class_2  f_points_class_3  \\\n",
       "0         0                 2                 2                 2   \n",
       "1         0                 2                 2                 2   \n",
       "2         0                 2                 2                 2   \n",
       "3         0                 2                 2                 2   \n",
       "4         0                 2                 2                 2   \n",
       "\n",
       "   b_points_class_1  b_points_class_2  b_points_class_3  dice_class_1  \\\n",
       "0                 0                 0                 0         0.585   \n",
       "1                 0                 0                 0         0.016   \n",
       "2                 0                 0                 0         0.129   \n",
       "3                 0                 0                 0         0.102   \n",
       "4                 0                 0                 0         0.818   \n",
       "\n",
       "   dice_class_2  dice_class_3  IOU_class_1  IOU_class_2  IOU_class_3  \\\n",
       "0         0.038         0.008        0.413        0.019        0.004   \n",
       "1         0.262         0.000        0.008        0.151        0.000   \n",
       "2         0.150         0.969        0.069        0.081        0.940   \n",
       "3         0.001         0.906        0.054        0.000        0.827   \n",
       "4         0.278         0.008        0.692        0.161        0.004   \n",
       "\n",
       "   accuracy_class_1  accuracy_class_2  accuracy_class_3  \n",
       "0             0.960             0.731             0.973  \n",
       "1             0.503             0.943             0.973  \n",
       "2             0.632             0.878             0.998  \n",
       "3             0.498             0.948             0.995  \n",
       "4             0.987             0.965             0.958  "
      ]
     },
     "execution_count": 7,
     "metadata": {},
     "output_type": "execute_result"
    }
   ],
   "source": [
    "df_error_sampling = pd.read_csv(\n",
    "    \"/Users/lisa/Documents/Master/sam-lab/results/error_sampling_0.csv\"\n",
    ")\n",
    "df_error_sampling.head()"
   ]
  },
  {
   "cell_type": "code",
   "execution_count": 8,
   "metadata": {},
   "outputs": [
    {
     "data": {
      "text/plain": [
       "1989400"
      ]
     },
     "execution_count": 8,
     "metadata": {},
     "output_type": "execute_result"
    }
   ],
   "source": [
    "len(df_error_sampling)"
   ]
  },
  {
   "cell_type": "markdown",
   "metadata": {},
   "source": [
    "## Combine both dataframes by inserting the rows from the one point sampling into the error sampling dataframe"
   ]
  },
  {
   "cell_type": "code",
   "execution_count": 9,
   "metadata": {},
   "outputs": [
    {
     "data": {
      "text/plain": [
       "2841"
      ]
     },
     "execution_count": 9,
     "metadata": {},
     "output_type": "execute_result"
    }
   ],
   "source": [
    "n_images = max(df_1_point[\"image_id\"])\n",
    "for image_id in range(n_images):\n",
    "    index_insert = image_id*"
   ]
  },
  {
   "cell_type": "code",
   "execution_count": 12,
   "metadata": {},
   "outputs": [
    {
     "data": {
      "text/plain": [
       "2842.0"
      ]
     },
     "execution_count": 12,
     "metadata": {},
     "output_type": "execute_result"
    }
   ],
   "source": [
    "n_images = max(df_1_point[\"image_id\"])\n",
    "len(df_error_sampling) / (50 * 14)"
   ]
  },
  {
   "cell_type": "code",
   "execution_count": null,
   "metadata": {},
   "outputs": [],
   "source": []
  }
 ],
 "metadata": {
  "kernelspec": {
   "display_name": ".venv",
   "language": "python",
   "name": "python3"
  },
  "language_info": {
   "codemirror_mode": {
    "name": "ipython",
    "version": 3
   },
   "file_extension": ".py",
   "mimetype": "text/x-python",
   "name": "python",
   "nbconvert_exporter": "python",
   "pygments_lexer": "ipython3",
   "version": "3.11.6"
  }
 },
 "nbformat": 4,
 "nbformat_minor": 2
}
