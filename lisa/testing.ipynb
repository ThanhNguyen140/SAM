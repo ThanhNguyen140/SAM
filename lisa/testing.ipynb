{
 "cells": [
  {
   "cell_type": "code",
   "execution_count": 1,
   "metadata": {},
   "outputs": [],
   "source": [
    "import torch\n",
    "import gzip\n",
    "import numpy as np\n",
    "import matplotlib.pyplot as plt\n",
    "import sys\n",
    "\n",
    "sys.path.append(\"..\")\n",
    "from functions.sam_functions import batch_sample_from_class, show_points"
   ]
  },
  {
   "cell_type": "code",
   "execution_count": 4,
   "metadata": {},
   "outputs": [],
   "source": [
    "embeddings = torch.load(\n",
    "    \"/Users/lisa/Documents/Master/sam-lab/ACDC/database/embeddings/embeddings.pt\"\n",
    ")"
   ]
  },
  {
   "cell_type": "code",
   "execution_count": 5,
   "metadata": {},
   "outputs": [
    {
     "data": {
      "text/plain": [
       "torch.Size([2978, 256, 64, 64])"
      ]
     },
     "execution_count": 5,
     "metadata": {},
     "output_type": "execute_result"
    }
   ],
   "source": [
    "embeddings.shape"
   ]
  },
  {
   "cell_type": "markdown",
   "metadata": {},
   "source": [
    "# batched prompts"
   ]
  },
  {
   "cell_type": "code",
   "execution_count": 2,
   "metadata": {},
   "outputs": [],
   "source": [
    "ground_truth_path = (\n",
    "    \"/Users/lisa/Documents/Master/sam-lab/ACDC/database/preprocess/ground_truth.npy.gz\"\n",
    ")\n",
    "with gzip.open(ground_truth_path, \"rb\") as f:\n",
    "    # Load the NumPy array from the file\n",
    "    ground_truths = np.load(f)"
   ]
  },
  {
   "cell_type": "code",
   "execution_count": 3,
   "metadata": {},
   "outputs": [],
   "source": [
    "ground_truth = ground_truths[0]\n",
    "ground_truth = torch.tensor(ground_truth)\n",
    "points, labels = batch_sample_from_class(2, ground_truth, 1, 15, 5)"
   ]
  },
  {
   "cell_type": "code",
   "execution_count": 7,
   "metadata": {},
   "outputs": [],
   "source": [
    "# plt.imshow(ground_truth)\n",
    "# show_points(points, labels, ax=plt.gca())"
   ]
  },
  {
   "cell_type": "code",
   "execution_count": 4,
   "metadata": {},
   "outputs": [
    {
     "data": {
      "text/plain": [
       "tensor([[1, 1, 1, 1, 1, 1, 1, 1, 1, 1, 1, 1, 1, 1, 1, 0, 0, 0, 0, 0],\n",
       "        [1, 1, 1, 1, 1, 1, 1, 1, 1, 1, 1, 1, 1, 1, 1, 0, 0, 0, 0, 0]])"
      ]
     },
     "execution_count": 4,
     "metadata": {},
     "output_type": "execute_result"
    }
   ],
   "source": [
    "labels"
   ]
  },
  {
   "cell_type": "code",
   "execution_count": 5,
   "metadata": {},
   "outputs": [
    {
     "data": {
      "text/plain": [
       "tensor([[[110,  64],\n",
       "         [115,  58],\n",
       "         [ 90,  70],\n",
       "         [116,  72],\n",
       "         [ 91,  82],\n",
       "         [ 92,  86],\n",
       "         [120,  73],\n",
       "         [ 82,  81],\n",
       "         [ 94,  75],\n",
       "         [ 94,  80],\n",
       "         [114,  61],\n",
       "         [110,  53],\n",
       "         [ 89,  68],\n",
       "         [101,  88],\n",
       "         [ 93,  70],\n",
       "         [105,  94],\n",
       "         [125,  97],\n",
       "         [110, 128],\n",
       "         [112, 109],\n",
       "         [111,  84]],\n",
       "\n",
       "        [[ 99,  63],\n",
       "         [103,  60],\n",
       "         [ 83,  85],\n",
       "         [ 87,  75],\n",
       "         [ 89,  85],\n",
       "         [ 84,  80],\n",
       "         [105,  78],\n",
       "         [ 93,  93],\n",
       "         [ 94,  80],\n",
       "         [ 95,  73],\n",
       "         [108,  70],\n",
       "         [ 79,  82],\n",
       "         [101,  75],\n",
       "         [ 88,  92],\n",
       "         [ 81,  94],\n",
       "         [135,  89],\n",
       "         [118, 127],\n",
       "         [118,  89],\n",
       "         [118, 102],\n",
       "         [135, 114]]])"
      ]
     },
     "execution_count": 5,
     "metadata": {},
     "output_type": "execute_result"
    }
   ],
   "source": [
    "points"
   ]
  },
  {
   "cell_type": "code",
   "execution_count": null,
   "metadata": {},
   "outputs": [],
   "source": []
  }
 ],
 "metadata": {
  "kernelspec": {
   "display_name": "Python 3 (ipykernel)",
   "language": "python",
   "name": "python3"
  },
  "language_info": {
   "codemirror_mode": {
    "name": "ipython",
    "version": 3
   },
   "file_extension": ".py",
   "mimetype": "text/x-python",
   "name": "python",
   "nbconvert_exporter": "python",
   "pygments_lexer": "ipython3",
   "version": "3.11.6"
  }
 },
 "nbformat": 4,
 "nbformat_minor": 4
}
