{
 "cells": [
  {
   "cell_type": "markdown",
   "id": "f8cabec4-be3e-4792-bf2a-74b1c315635e",
   "metadata": {},
   "source": [
    "## Pipeline 1:\n",
    "- Negative with positive prompts\n",
    "- Number of prompts for each class: 1 positive, 1 negative"
   ]
  },
  {
   "cell_type": "code",
   "execution_count": 1,
   "id": "eb761989-5608-4e68-9727-7c369630e208",
   "metadata": {},
   "outputs": [],
   "source": [
    "import sys\n",
    "sys.path.append(\"..\")\n",
    "from functions.pipeline import *\n",
    "from tqdm import tqdm\n",
    "import pickle\n",
    "dataloader = get_batch(\"../ACDC\",50,debug = False)"
   ]
  },
  {
   "cell_type": "code",
   "execution_count": 2,
   "id": "c87475bc-be7f-44a3-ab83-d11a9378f171",
   "metadata": {},
   "outputs": [
    {
     "name": "stdout",
     "output_type": "stream",
     "text": [
      "Loading batch\n",
      "Generating prompts for this batch\n"
     ]
    },
    {
     "name": "stderr",
     "output_type": "stream",
     "text": [
      " 24%|██████████████████████████████████▌                                                                                                             | 12/50 [00:00<00:01, 37.25it/s]"
     ]
    },
    {
     "name": "stdout",
     "output_type": "stream",
     "text": [
      "n_foreground was reduced to 0.\n"
     ]
    },
    {
     "name": "stderr",
     "output_type": "stream",
     "text": [
      " 48%|█████████████████████████████████████████████████████████████████████                                                                           | 24/50 [00:00<00:00, 37.24it/s]"
     ]
    },
    {
     "name": "stdout",
     "output_type": "stream",
     "text": [
      "n_foreground was reduced to 0.\n",
      "n_background was reduced to 0.\n",
      "n_foreground was reduced to 0.\n"
     ]
    },
    {
     "name": "stderr",
     "output_type": "stream",
     "text": [
      " 64%|████████████████████████████████████████████████████████████████████████████████████████████▏                                                   | 32/50 [00:00<00:00, 37.45it/s]"
     ]
    },
    {
     "name": "stdout",
     "output_type": "stream",
     "text": [
      "n_foreground was reduced to 0.\n"
     ]
    },
    {
     "name": "stderr",
     "output_type": "stream",
     "text": [
      " 80%|███████████████████████████████████████████████████████████████████████████████████████████████████████████████████▏                            | 40/50 [00:01<00:00, 37.73it/s]"
     ]
    },
    {
     "name": "stdout",
     "output_type": "stream",
     "text": [
      "n_foreground was reduced to 0.\n"
     ]
    },
    {
     "name": "stderr",
     "output_type": "stream",
     "text": [
      "100%|████████████████████████████████████████████████████████████████████████████████████████████████████████████████████████████████████████████████| 50/50 [00:01<00:00, 37.96it/s]"
     ]
    },
    {
     "name": "stdout",
     "output_type": "stream",
     "text": [
      "n_foreground was reduced to 0.\n"
     ]
    },
    {
     "name": "stderr",
     "output_type": "stream",
     "text": [
      "\n"
     ]
    },
    {
     "name": "stdout",
     "output_type": "stream",
     "text": [
      "Generating prompts for this batch\n"
     ]
    },
    {
     "name": "stderr",
     "output_type": "stream",
     "text": [
      " 10%|██████████████▌                                                                                                                                  | 5/50 [00:00<00:01, 42.31it/s]"
     ]
    },
    {
     "name": "stdout",
     "output_type": "stream",
     "text": [
      "n_foreground was reduced to 0.\n",
      "n_foreground was reduced to 0.\n",
      "n_background was reduced to 0.\n",
      "n_foreground was reduced to 0.\n",
      "n_foreground was reduced to 0.\n",
      "n_foreground was reduced to 0.\n"
     ]
    },
    {
     "name": "stderr",
     "output_type": "stream",
     "text": [
      " 30%|███████████████████████████████████████████▏                                                                                                    | 15/50 [00:00<00:00, 40.16it/s]"
     ]
    },
    {
     "name": "stdout",
     "output_type": "stream",
     "text": [
      "n_foreground was reduced to 0.\n",
      "n_foreground was reduced to 0.\n",
      "n_foreground was reduced to 0.\n"
     ]
    },
    {
     "name": "stderr",
     "output_type": "stream",
     "text": [
      " 50%|████████████████████████████████████████████████████████████████████████                                                                        | 25/50 [00:00<00:00, 39.48it/s]"
     ]
    },
    {
     "name": "stdout",
     "output_type": "stream",
     "text": [
      "n_foreground was reduced to 0.\n",
      "n_background was reduced to 0.\n",
      "n_foreground was reduced to 0.\n",
      "n_foreground was reduced to 0.\n",
      "n_foreground was reduced to 0.\n"
     ]
    },
    {
     "name": "stderr",
     "output_type": "stream",
     "text": [
      " 58%|███████████████████████████████████████████████████████████████████████████████████▌                                                            | 29/50 [00:00<00:00, 39.34it/s]"
     ]
    },
    {
     "name": "stdout",
     "output_type": "stream",
     "text": [
      "n_foreground was reduced to 0.\n",
      "n_foreground was reduced to 0.\n"
     ]
    },
    {
     "name": "stderr",
     "output_type": "stream",
     "text": [
      " 66%|███████████████████████████████████████████████████████████████████████████████████████████████                                                 | 33/50 [00:00<00:00, 38.29it/s]"
     ]
    },
    {
     "name": "stdout",
     "output_type": "stream",
     "text": [
      "n_foreground was reduced to 0.\n"
     ]
    },
    {
     "name": "stderr",
     "output_type": "stream",
     "text": [
      " 74%|██████████████████████████████████████████████████████████████████████████████████████████████████████████▌                                     | 37/50 [00:00<00:00, 38.57it/s]"
     ]
    },
    {
     "name": "stdout",
     "output_type": "stream",
     "text": [
      "n_foreground was reduced to 0.\n"
     ]
    },
    {
     "name": "stderr",
     "output_type": "stream",
     "text": [
      "100%|████████████████████████████████████████████████████████████████████████████████████████████████████████████████████████████████████████████████| 50/50 [00:01<00:00, 38.97it/s]\n"
     ]
    },
    {
     "name": "stdout",
     "output_type": "stream",
     "text": [
      "Generating prompts for this batch\n"
     ]
    },
    {
     "name": "stderr",
     "output_type": "stream",
     "text": [
      "  8%|███████████▌                                                                                                                                     | 4/50 [00:00<00:01, 38.92it/s]"
     ]
    },
    {
     "name": "stdout",
     "output_type": "stream",
     "text": [
      "n_foreground was reduced to 0.\n"
     ]
    },
    {
     "name": "stderr",
     "output_type": "stream",
     "text": [
      " 44%|███████████████████████████████████████████████████████████████▎                                                                                | 22/50 [00:00<00:00, 39.80it/s]"
     ]
    },
    {
     "name": "stdout",
     "output_type": "stream",
     "text": [
      "n_foreground was reduced to 0.\n"
     ]
    },
    {
     "name": "stderr",
     "output_type": "stream",
     "text": [
      " 80%|███████████████████████████████████████████████████████████████████████████████████████████████████████████████████▏                            | 40/50 [00:01<00:00, 39.08it/s]"
     ]
    },
    {
     "name": "stdout",
     "output_type": "stream",
     "text": [
      "n_background was reduced to 0.\n",
      "n_foreground was reduced to 0.\n",
      "n_foreground was reduced to 0.\n"
     ]
    },
    {
     "name": "stderr",
     "output_type": "stream",
     "text": [
      "100%|████████████████████████████████████████████████████████████████████████████████████████████████████████████████████████████████████████████████| 50/50 [00:01<00:00, 39.23it/s]\n"
     ]
    },
    {
     "name": "stdout",
     "output_type": "stream",
     "text": [
      "n_foreground was reduced to 0.\n",
      "Generating prompts for this batch\n"
     ]
    },
    {
     "name": "stderr",
     "output_type": "stream",
     "text": [
      " 10%|██████████████▌                                                                                                                                  | 5/50 [00:00<00:01, 40.18it/s]"
     ]
    },
    {
     "name": "stdout",
     "output_type": "stream",
     "text": [
      "n_foreground was reduced to 0.\n",
      "n_foreground was reduced to 0.\n",
      "n_background was reduced to 0.\n",
      "n_foreground was reduced to 0.\n"
     ]
    },
    {
     "name": "stderr",
     "output_type": "stream",
     "text": [
      " 38%|██████████████████████████████████████████████████████▋                                                                                         | 19/50 [00:00<00:00, 37.85it/s]"
     ]
    },
    {
     "name": "stdout",
     "output_type": "stream",
     "text": [
      "n_foreground was reduced to 0.\n",
      "n_foreground was reduced to 0.\n"
     ]
    },
    {
     "name": "stderr",
     "output_type": "stream",
     "text": [
      " 54%|█████████████████████████████████████████████████████████████████████████████▊                                                                  | 27/50 [00:00<00:00, 38.53it/s]"
     ]
    },
    {
     "name": "stdout",
     "output_type": "stream",
     "text": [
      "n_foreground was reduced to 0.\n",
      "n_foreground was reduced to 0.\n"
     ]
    },
    {
     "name": "stderr",
     "output_type": "stream",
     "text": [
      " 78%|████████████████████████████████████████████████████████████████████████████████████████████████████████████████▎                               | 39/50 [00:01<00:00, 38.69it/s]"
     ]
    },
    {
     "name": "stdout",
     "output_type": "stream",
     "text": [
      "n_foreground was reduced to 0.\n",
      "n_foreground was reduced to 0.\n",
      "n_foreground was reduced to 0.\n"
     ]
    },
    {
     "name": "stderr",
     "output_type": "stream",
     "text": [
      "100%|████████████████████████████████████████████████████████████████████████████████████████████████████████████████████████████████████████████████| 50/50 [00:01<00:00, 38.60it/s]\n"
     ]
    },
    {
     "name": "stdout",
     "output_type": "stream",
     "text": [
      "n_foreground was reduced to 0.\n",
      "Generating prompts for this batch\n"
     ]
    },
    {
     "name": "stderr",
     "output_type": "stream",
     "text": [
      "  8%|███████████▌                                                                                                                                     | 4/50 [00:00<00:01, 36.51it/s]"
     ]
    },
    {
     "name": "stdout",
     "output_type": "stream",
     "text": [
      "n_foreground was reduced to 0.\n",
      "n_foreground was reduced to 0.\n",
      "n_foreground was reduced to 0.\n",
      "n_foreground was reduced to 0.\n",
      "n_foreground was reduced to 0.\n"
     ]
    },
    {
     "name": "stderr",
     "output_type": "stream",
     "text": [
      " 26%|█████████████████████████████████████▍                                                                                                          | 13/50 [00:00<00:00, 37.75it/s]"
     ]
    },
    {
     "name": "stdout",
     "output_type": "stream",
     "text": [
      "n_foreground was reduced to 0.\n"
     ]
    },
    {
     "name": "stderr",
     "output_type": "stream",
     "text": [
      " 42%|████████████████████████████████████████████████████████████▍                                                                                   | 21/50 [00:00<00:00, 38.78it/s]"
     ]
    },
    {
     "name": "stdout",
     "output_type": "stream",
     "text": [
      "n_foreground was reduced to 0.\n",
      "n_foreground was reduced to 0.\n",
      "n_foreground was reduced to 0.\n",
      "n_foreground was reduced to 0.\n"
     ]
    },
    {
     "name": "stderr",
     "output_type": "stream",
     "text": [
      " 58%|███████████████████████████████████████████████████████████████████████████████████▌                                                            | 29/50 [00:00<00:00, 38.77it/s]"
     ]
    },
    {
     "name": "stdout",
     "output_type": "stream",
     "text": [
      "n_foreground was reduced to 0.\n",
      "n_foreground was reduced to 0.\n"
     ]
    },
    {
     "name": "stderr",
     "output_type": "stream",
     "text": [
      " 76%|█████████████████████████████████████████████████████████████████████████████████████████████████████████████▍                                  | 38/50 [00:00<00:00, 38.22it/s]"
     ]
    },
    {
     "name": "stdout",
     "output_type": "stream",
     "text": [
      "n_foreground was reduced to 0.\n",
      "n_foreground was reduced to 0.\n"
     ]
    },
    {
     "name": "stderr",
     "output_type": "stream",
     "text": [
      "100%|████████████████████████████████████████████████████████████████████████████████████████████████████████████████████████████████████████████████| 50/50 [00:01<00:00, 37.28it/s]"
     ]
    },
    {
     "name": "stdout",
     "output_type": "stream",
     "text": [
      "n_foreground was reduced to 0.\n",
      "n_foreground was reduced to 0.\n",
      "n_foreground was reduced to 0.\n"
     ]
    },
    {
     "name": "stderr",
     "output_type": "stream",
     "text": [
      "\n"
     ]
    },
    {
     "name": "stdout",
     "output_type": "stream",
     "text": [
      "Generating prompts for this batch\n"
     ]
    },
    {
     "name": "stderr",
     "output_type": "stream",
     "text": [
      "  8%|███████████▌                                                                                                                                     | 4/50 [00:00<00:01, 34.62it/s]"
     ]
    },
    {
     "name": "stdout",
     "output_type": "stream",
     "text": [
      "n_foreground was reduced to 0.\n"
     ]
    },
    {
     "name": "stderr",
     "output_type": "stream",
     "text": [
      " 40%|█████████████████████████████████████████████████████████▌                                                                                      | 20/50 [00:00<00:00, 35.50it/s]"
     ]
    },
    {
     "name": "stdout",
     "output_type": "stream",
     "text": [
      "n_foreground was reduced to 0.\n"
     ]
    },
    {
     "name": "stderr",
     "output_type": "stream",
     "text": [
      " 58%|███████████████████████████████████████████████████████████████████████████████████▌                                                            | 29/50 [00:00<00:00, 37.27it/s]"
     ]
    },
    {
     "name": "stdout",
     "output_type": "stream",
     "text": [
      "n_foreground was reduced to 0.\n",
      "n_foreground was reduced to 0.\n",
      "n_foreground was reduced to 0.\n"
     ]
    },
    {
     "name": "stderr",
     "output_type": "stream",
     "text": [
      " 84%|████████████████████████████████████████████████████████████████████████████████████████████████████████████████████████▉                       | 42/50 [00:01<00:00, 37.91it/s]"
     ]
    },
    {
     "name": "stdout",
     "output_type": "stream",
     "text": [
      "n_foreground was reduced to 0.\n",
      "n_foreground was reduced to 0.\n"
     ]
    },
    {
     "name": "stderr",
     "output_type": "stream",
     "text": [
      "100%|████████████████████████████████████████████████████████████████████████████████████████████████████████████████████████████████████████████████| 50/50 [00:01<00:00, 36.74it/s]\n"
     ]
    },
    {
     "name": "stdout",
     "output_type": "stream",
     "text": [
      "Generating prompts for this batch\n"
     ]
    },
    {
     "name": "stderr",
     "output_type": "stream",
     "text": [
      " 32%|██████████████████████████████████████████████                                                                                                  | 16/50 [00:00<00:00, 38.19it/s]"
     ]
    },
    {
     "name": "stdout",
     "output_type": "stream",
     "text": [
      "n_foreground was reduced to 0.\n",
      "n_foreground was reduced to 0.\n"
     ]
    },
    {
     "name": "stderr",
     "output_type": "stream",
     "text": [
      " 48%|█████████████████████████████████████████████████████████████████████                                                                           | 24/50 [00:00<00:00, 37.42it/s]"
     ]
    },
    {
     "name": "stdout",
     "output_type": "stream",
     "text": [
      "n_foreground was reduced to 0.\n"
     ]
    },
    {
     "name": "stderr",
     "output_type": "stream",
     "text": [
      " 80%|███████████████████████████████████████████████████████████████████████████████████████████████████████████████████▏                            | 40/50 [00:01<00:00, 37.00it/s]"
     ]
    },
    {
     "name": "stdout",
     "output_type": "stream",
     "text": [
      "n_background was reduced to 0.\n",
      "n_foreground was reduced to 0.\n",
      "n_foreground was reduced to 0.\n"
     ]
    },
    {
     "name": "stderr",
     "output_type": "stream",
     "text": [
      "100%|████████████████████████████████████████████████████████████████████████████████████████████████████████████████████████████████████████████████| 50/50 [00:01<00:00, 36.98it/s]\n"
     ]
    },
    {
     "name": "stdout",
     "output_type": "stream",
     "text": [
      "n_background was reduced to 0.\n",
      "n_foreground was reduced to 0.\n",
      "n_foreground was reduced to 0.\n",
      "Generating prompts for this batch\n"
     ]
    },
    {
     "name": "stderr",
     "output_type": "stream",
     "text": [
      " 26%|█████████████████████████████████████▍                                                                                                          | 13/50 [00:00<00:00, 38.73it/s]"
     ]
    },
    {
     "name": "stdout",
     "output_type": "stream",
     "text": [
      "n_foreground was reduced to 0.\n",
      "n_foreground was reduced to 0.\n"
     ]
    },
    {
     "name": "stderr",
     "output_type": "stream",
     "text": [
      " 44%|███████████████████████████████████████████████████████████████▎                                                                                | 22/50 [00:00<00:00, 38.96it/s]"
     ]
    },
    {
     "name": "stdout",
     "output_type": "stream",
     "text": [
      "n_foreground was reduced to 0.\n",
      "n_foreground was reduced to 0.\n",
      "n_foreground was reduced to 0.\n",
      "n_foreground was reduced to 0.\n"
     ]
    },
    {
     "name": "stderr",
     "output_type": "stream",
     "text": [
      " 68%|█████████████████████████████████████████████████████████████████████████████████████████████████▉                                              | 34/50 [00:00<00:00, 38.28it/s]"
     ]
    },
    {
     "name": "stdout",
     "output_type": "stream",
     "text": [
      "n_foreground was reduced to 0.\n"
     ]
    },
    {
     "name": "stderr",
     "output_type": "stream",
     "text": [
      " 86%|███████████████████████████████████████████████████████████████████████████████████████████████████████████████████████████▊                    | 43/50 [00:01<00:00, 39.29it/s]"
     ]
    },
    {
     "name": "stdout",
     "output_type": "stream",
     "text": [
      "n_foreground was reduced to 0.\n",
      "n_foreground was reduced to 0.\n",
      "n_foreground was reduced to 0.\n",
      "n_foreground was reduced to 0.\n"
     ]
    },
    {
     "name": "stderr",
     "output_type": "stream",
     "text": [
      "100%|████████████████████████████████████████████████████████████████████████████████████████████████████████████████████████████████████████████████| 50/50 [00:01<00:00, 38.82it/s]\n"
     ]
    },
    {
     "name": "stdout",
     "output_type": "stream",
     "text": [
      "n_foreground was reduced to 0.\n",
      "Generating prompts for this batch\n"
     ]
    },
    {
     "name": "stderr",
     "output_type": "stream",
     "text": [
      " 74%|██████████████████████████████████████████████████████████████████████████████████████████████████████████▌                                     | 37/50 [00:00<00:00, 38.31it/s]"
     ]
    },
    {
     "name": "stdout",
     "output_type": "stream",
     "text": [
      "n_foreground was reduced to 0.\n",
      "n_foreground was reduced to 0.\n",
      "n_foreground was reduced to 0.\n"
     ]
    },
    {
     "name": "stderr",
     "output_type": "stream",
     "text": [
      " 90%|█████████████████████████████████████████████████████████████████████████████████████████████████████████████████████████████████▌              | 45/50 [00:01<00:00, 38.04it/s]"
     ]
    },
    {
     "name": "stdout",
     "output_type": "stream",
     "text": [
      "n_foreground was reduced to 0.\n"
     ]
    },
    {
     "name": "stderr",
     "output_type": "stream",
     "text": [
      "100%|████████████████████████████████████████████████████████████████████████████████████████████████████████████████████████████████████████████████| 50/50 [00:01<00:00, 37.84it/s]\n"
     ]
    },
    {
     "name": "stdout",
     "output_type": "stream",
     "text": [
      "Generating prompts for this batch\n"
     ]
    },
    {
     "name": "stderr",
     "output_type": "stream",
     "text": [
      " 82%|██████████████████████████████████████████████████████████████████████████████████████████████████████████████████████                          | 41/50 [00:01<00:00, 38.73it/s]"
     ]
    },
    {
     "name": "stdout",
     "output_type": "stream",
     "text": [
      "n_background was reduced to 0.\n",
      "n_foreground was reduced to 0.\n",
      "n_foreground was reduced to 0.\n",
      "n_foreground was reduced to 0.\n"
     ]
    },
    {
     "name": "stderr",
     "output_type": "stream",
     "text": [
      "100%|████████████████████████████████████████████████████████████████████████████████████████████████████████████████████████████████████████████████| 50/50 [00:01<00:00, 38.17it/s]"
     ]
    },
    {
     "name": "stdout",
     "output_type": "stream",
     "text": [
      "n_foreground was reduced to 0.\n",
      "n_foreground was reduced to 0.\n"
     ]
    },
    {
     "name": "stderr",
     "output_type": "stream",
     "text": [
      "\n"
     ]
    },
    {
     "name": "stdout",
     "output_type": "stream",
     "text": [
      "Generating prompts for this batch\n"
     ]
    },
    {
     "name": "stderr",
     "output_type": "stream",
     "text": [
      "  8%|███████████▌                                                                                                                                     | 4/50 [00:00<00:01, 37.05it/s]"
     ]
    },
    {
     "name": "stdout",
     "output_type": "stream",
     "text": [
      "n_foreground was reduced to 0.\n"
     ]
    },
    {
     "name": "stderr",
     "output_type": "stream",
     "text": [
      " 88%|██████████████████████████████████████████████████████████████████████████████████████████████████████████████████████████████▋                 | 44/50 [00:01<00:00, 36.01it/s]"
     ]
    },
    {
     "name": "stdout",
     "output_type": "stream",
     "text": [
      "n_foreground was reduced to 0.\n"
     ]
    },
    {
     "name": "stderr",
     "output_type": "stream",
     "text": [
      "100%|████████████████████████████████████████████████████████████████████████████████████████████████████████████████████████████████████████████████| 50/50 [00:01<00:00, 36.05it/s]\n"
     ]
    },
    {
     "name": "stdout",
     "output_type": "stream",
     "text": [
      "Generating prompts for this batch\n"
     ]
    },
    {
     "name": "stderr",
     "output_type": "stream",
     "text": [
      " 36%|███████████████████████████████████████████████████▊                                                                                            | 18/50 [00:00<00:00, 36.85it/s]"
     ]
    },
    {
     "name": "stdout",
     "output_type": "stream",
     "text": [
      "n_foreground was reduced to 0.\n",
      "n_foreground was reduced to 0.\n"
     ]
    },
    {
     "name": "stderr",
     "output_type": "stream",
     "text": [
      " 52%|██████████████████████████████████████████████████████████████████████████▉                                                                     | 26/50 [00:00<00:00, 36.77it/s]"
     ]
    },
    {
     "name": "stdout",
     "output_type": "stream",
     "text": [
      "n_foreground was reduced to 0.\n",
      "n_foreground was reduced to 0.\n"
     ]
    },
    {
     "name": "stderr",
     "output_type": "stream",
     "text": [
      " 78%|████████████████████████████████████████████████████████████████████████████████████████████████████████████████▎                               | 39/50 [00:01<00:00, 37.46it/s]"
     ]
    },
    {
     "name": "stdout",
     "output_type": "stream",
     "text": [
      "n_foreground was reduced to 0.\n",
      "n_foreground was reduced to 0.\n"
     ]
    },
    {
     "name": "stderr",
     "output_type": "stream",
     "text": [
      "100%|████████████████████████████████████████████████████████████████████████████████████████████████████████████████████████████████████████████████| 50/50 [00:01<00:00, 37.80it/s]\n"
     ]
    },
    {
     "name": "stdout",
     "output_type": "stream",
     "text": [
      "n_foreground was reduced to 0.\n",
      "n_background was reduced to 0.\n",
      "n_foreground was reduced to 0.\n",
      "Generating prompts for this batch\n"
     ]
    },
    {
     "name": "stderr",
     "output_type": "stream",
     "text": [
      "  8%|███████████▌                                                                                                                                     | 4/50 [00:00<00:01, 37.24it/s]"
     ]
    },
    {
     "name": "stdout",
     "output_type": "stream",
     "text": [
      "n_foreground was reduced to 0.\n"
     ]
    },
    {
     "name": "stderr",
     "output_type": "stream",
     "text": [
      " 42%|████████████████████████████████████████████████████████████▍                                                                                   | 21/50 [00:00<00:00, 35.18it/s]"
     ]
    },
    {
     "name": "stdout",
     "output_type": "stream",
     "text": [
      "n_foreground was reduced to 0.\n"
     ]
    },
    {
     "name": "stderr",
     "output_type": "stream",
     "text": [
      " 58%|███████████████████████████████████████████████████████████████████████████████████▌                                                            | 29/50 [00:00<00:00, 36.59it/s]"
     ]
    },
    {
     "name": "stdout",
     "output_type": "stream",
     "text": [
      "n_foreground was reduced to 0.\n",
      "n_foreground was reduced to 0.\n",
      "n_foreground was reduced to 0.\n",
      "n_foreground was reduced to 0.\n"
     ]
    },
    {
     "name": "stderr",
     "output_type": "stream",
     "text": [
      " 82%|██████████████████████████████████████████████████████████████████████████████████████████████████████████████████████                          | 41/50 [00:01<00:00, 37.03it/s]"
     ]
    },
    {
     "name": "stdout",
     "output_type": "stream",
     "text": [
      "n_foreground was reduced to 0.\n"
     ]
    },
    {
     "name": "stderr",
     "output_type": "stream",
     "text": [
      "100%|████████████████████████████████████████████████████████████████████████████████████████████████████████████████████████████████████████████████| 50/50 [00:01<00:00, 36.84it/s]\n"
     ]
    },
    {
     "name": "stdout",
     "output_type": "stream",
     "text": [
      "Generating prompts for this batch\n"
     ]
    },
    {
     "name": "stderr",
     "output_type": "stream",
     "text": [
      "  8%|███████████▌                                                                                                                                     | 4/50 [00:00<00:01, 39.87it/s]"
     ]
    },
    {
     "name": "stdout",
     "output_type": "stream",
     "text": [
      "n_foreground was reduced to 0.\n"
     ]
    },
    {
     "name": "stderr",
     "output_type": "stream",
     "text": [
      " 34%|████████████████████████████████████████████████▉                                                                                               | 17/50 [00:00<00:00, 39.21it/s]"
     ]
    },
    {
     "name": "stdout",
     "output_type": "stream",
     "text": [
      "n_foreground was reduced to 0.\n",
      "n_foreground was reduced to 0.\n"
     ]
    },
    {
     "name": "stderr",
     "output_type": "stream",
     "text": [
      " 60%|██████████████████████████████████████████████████████████████████████████████████████▍                                                         | 30/50 [00:00<00:00, 36.72it/s]"
     ]
    },
    {
     "name": "stdout",
     "output_type": "stream",
     "text": [
      "n_foreground was reduced to 0.\n"
     ]
    },
    {
     "name": "stderr",
     "output_type": "stream",
     "text": [
      " 78%|████████████████████████████████████████████████████████████████████████████████████████████████████████████████▎                               | 39/50 [00:01<00:00, 37.64it/s]"
     ]
    },
    {
     "name": "stdout",
     "output_type": "stream",
     "text": [
      "n_foreground was reduced to 0.\n"
     ]
    },
    {
     "name": "stderr",
     "output_type": "stream",
     "text": [
      "100%|████████████████████████████████████████████████████████████████████████████████████████████████████████████████████████████████████████████████| 50/50 [00:01<00:00, 38.19it/s]\n"
     ]
    },
    {
     "name": "stdout",
     "output_type": "stream",
     "text": [
      "n_foreground was reduced to 0.\n",
      "Generating prompts for this batch\n"
     ]
    },
    {
     "name": "stderr",
     "output_type": "stream",
     "text": [
      "  8%|███████████▌                                                                                                                                     | 4/50 [00:00<00:01, 32.25it/s]"
     ]
    },
    {
     "name": "stdout",
     "output_type": "stream",
     "text": [
      "n_background was reduced to 0.\n",
      "n_foreground was reduced to 0.\n",
      "n_foreground was reduced to 0.\n"
     ]
    },
    {
     "name": "stderr",
     "output_type": "stream",
     "text": [
      " 24%|██████████████████████████████████▌                                                                                                             | 12/50 [00:00<00:01, 36.29it/s]"
     ]
    },
    {
     "name": "stdout",
     "output_type": "stream",
     "text": [
      "n_foreground was reduced to 0.\n"
     ]
    },
    {
     "name": "stderr",
     "output_type": "stream",
     "text": [
      " 32%|██████████████████████████████████████████████                                                                                                  | 16/50 [00:00<00:00, 36.87it/s]"
     ]
    },
    {
     "name": "stdout",
     "output_type": "stream",
     "text": [
      "n_foreground was reduced to 0.\n"
     ]
    },
    {
     "name": "stderr",
     "output_type": "stream",
     "text": [
      " 40%|█████████████████████████████████████████████████████████▌                                                                                      | 20/50 [00:00<00:00, 37.05it/s]"
     ]
    },
    {
     "name": "stdout",
     "output_type": "stream",
     "text": [
      "n_foreground was reduced to 0.\n"
     ]
    },
    {
     "name": "stderr",
     "output_type": "stream",
     "text": [
      " 48%|█████████████████████████████████████████████████████████████████████                                                                           | 24/50 [00:00<00:00, 37.94it/s]"
     ]
    },
    {
     "name": "stdout",
     "output_type": "stream",
     "text": [
      "n_foreground was reduced to 0.\n",
      "n_foreground was reduced to 0.\n"
     ]
    },
    {
     "name": "stderr",
     "output_type": "stream",
     "text": [
      " 82%|██████████████████████████████████████████████████████████████████████████████████████████████████████████████████████                          | 41/50 [00:01<00:00, 36.57it/s]"
     ]
    },
    {
     "name": "stdout",
     "output_type": "stream",
     "text": [
      "n_background was reduced to 0.\n",
      "n_foreground was reduced to 0.\n",
      "n_foreground was reduced to 0.\n"
     ]
    },
    {
     "name": "stderr",
     "output_type": "stream",
     "text": [
      "100%|████████████████████████████████████████████████████████████████████████████████████████████████████████████████████████████████████████████████| 50/50 [00:01<00:00, 36.96it/s]\n"
     ]
    },
    {
     "name": "stdout",
     "output_type": "stream",
     "text": [
      "Generating prompts for this batch\n"
     ]
    },
    {
     "name": "stderr",
     "output_type": "stream",
     "text": [
      " 28%|████████████████████████████████████████▎                                                                                                       | 14/50 [00:00<00:00, 39.19it/s]"
     ]
    },
    {
     "name": "stdout",
     "output_type": "stream",
     "text": [
      "n_foreground was reduced to 0.\n",
      "n_foreground was reduced to 0.\n"
     ]
    },
    {
     "name": "stderr",
     "output_type": "stream",
     "text": [
      " 52%|██████████████████████████████████████████████████████████████████████████▉                                                                     | 26/50 [00:00<00:00, 37.37it/s]"
     ]
    },
    {
     "name": "stdout",
     "output_type": "stream",
     "text": [
      "n_foreground was reduced to 0.\n",
      "n_foreground was reduced to 0.\n"
     ]
    },
    {
     "name": "stderr",
     "output_type": "stream",
     "text": [
      " 68%|█████████████████████████████████████████████████████████████████████████████████████████████████▉                                              | 34/50 [00:00<00:00, 37.02it/s]"
     ]
    },
    {
     "name": "stdout",
     "output_type": "stream",
     "text": [
      "n_foreground was reduced to 0.\n",
      "n_foreground was reduced to 0.\n"
     ]
    },
    {
     "name": "stderr",
     "output_type": "stream",
     "text": [
      "100%|████████████████████████████████████████████████████████████████████████████████████████████████████████████████████████████████████████████████| 50/50 [00:01<00:00, 38.16it/s]\n"
     ]
    },
    {
     "name": "stdout",
     "output_type": "stream",
     "text": [
      "n_foreground was reduced to 0.\n",
      "n_foreground was reduced to 0.\n",
      "Generating prompts for this batch\n"
     ]
    },
    {
     "name": "stderr",
     "output_type": "stream",
     "text": [
      "  8%|███████████▌                                                                                                                                     | 4/50 [00:00<00:01, 39.53it/s]"
     ]
    },
    {
     "name": "stdout",
     "output_type": "stream",
     "text": [
      "n_foreground was reduced to 0.\n",
      "n_foreground was reduced to 0.\n",
      "n_background was reduced to 0.\n",
      "n_foreground was reduced to 0.\n",
      "n_foreground was reduced to 0.\n",
      "n_foreground was reduced to 0.\n"
     ]
    },
    {
     "name": "stderr",
     "output_type": "stream",
     "text": [
      " 46%|██████████████████████████████████████████████████████████████████▏                                                                             | 23/50 [00:00<00:00, 37.35it/s]"
     ]
    },
    {
     "name": "stdout",
     "output_type": "stream",
     "text": [
      "n_foreground was reduced to 0.\n",
      "n_foreground was reduced to 0.\n"
     ]
    },
    {
     "name": "stderr",
     "output_type": "stream",
     "text": [
      " 64%|████████████████████████████████████████████████████████████████████████████████████████████▏                                                   | 32/50 [00:00<00:00, 38.11it/s]"
     ]
    },
    {
     "name": "stdout",
     "output_type": "stream",
     "text": [
      "n_foreground was reduced to 0.\n",
      "n_foreground was reduced to 0.\n",
      "n_foreground was reduced to 0.\n",
      "n_foreground was reduced to 0.\n",
      "n_foreground was reduced to 0.\n"
     ]
    },
    {
     "name": "stderr",
     "output_type": "stream",
     "text": [
      " 92%|████████████████████████████████████████████████████████████████████████████████████████████████████████████████████████████████████▍           | 46/50 [00:01<00:00, 39.35it/s]"
     ]
    },
    {
     "name": "stdout",
     "output_type": "stream",
     "text": [
      "n_foreground was reduced to 0.\n",
      "n_foreground was reduced to 0.\n",
      "n_background was reduced to 0.\n",
      "n_foreground was reduced to 0.\n",
      "n_foreground was reduced to 0.\n"
     ]
    },
    {
     "name": "stderr",
     "output_type": "stream",
     "text": [
      "100%|████████████████████████████████████████████████████████████████████████████████████████████████████████████████████████████████████████████████| 50/50 [00:01<00:00, 38.31it/s]\n"
     ]
    },
    {
     "name": "stdout",
     "output_type": "stream",
     "text": [
      "Generating prompts for this batch\n"
     ]
    },
    {
     "name": "stderr",
     "output_type": "stream",
     "text": [
      " 10%|██████████████▌                                                                                                                                  | 5/50 [00:00<00:01, 40.21it/s]"
     ]
    },
    {
     "name": "stdout",
     "output_type": "stream",
     "text": [
      "n_foreground was reduced to 0.\n",
      "n_foreground was reduced to 0.\n",
      "n_foreground was reduced to 0.\n"
     ]
    },
    {
     "name": "stderr",
     "output_type": "stream",
     "text": [
      " 38%|██████████████████████████████████████████████████████▋                                                                                         | 19/50 [00:00<00:00, 39.19it/s]"
     ]
    },
    {
     "name": "stdout",
     "output_type": "stream",
     "text": [
      "n_foreground was reduced to 0.\n",
      "n_foreground was reduced to 0.\n",
      "n_foreground was reduced to 0.\n",
      "n_foreground was reduced to 0.\n",
      "n_foreground was reduced to 0.\n"
     ]
    },
    {
     "name": "stderr",
     "output_type": "stream",
     "text": [
      " 58%|███████████████████████████████████████████████████████████████████████████████████▌                                                            | 29/50 [00:00<00:00, 40.77it/s]"
     ]
    },
    {
     "name": "stdout",
     "output_type": "stream",
     "text": [
      "n_foreground was reduced to 0.\n",
      "n_foreground was reduced to 0.\n",
      "n_foreground was reduced to 0.\n",
      "n_background was reduced to 0.\n",
      "n_foreground was reduced to 0.\n"
     ]
    },
    {
     "name": "stderr",
     "output_type": "stream",
     "text": [
      " 78%|████████████████████████████████████████████████████████████████████████████████████████████████████████████████▎                               | 39/50 [00:00<00:00, 39.82it/s]"
     ]
    },
    {
     "name": "stdout",
     "output_type": "stream",
     "text": [
      "n_foreground was reduced to 0.\n",
      "n_foreground was reduced to 0.\n"
     ]
    },
    {
     "name": "stderr",
     "output_type": "stream",
     "text": [
      "100%|████████████████████████████████████████████████████████████████████████████████████████████████████████████████████████████████████████████████| 50/50 [00:01<00:00, 39.23it/s]\n"
     ]
    },
    {
     "name": "stdout",
     "output_type": "stream",
     "text": [
      "Generating prompts for this batch\n"
     ]
    },
    {
     "name": "stderr",
     "output_type": "stream",
     "text": [
      " 26%|█████████████████████████████████████▍                                                                                                          | 13/50 [00:00<00:00, 39.24it/s]"
     ]
    },
    {
     "name": "stdout",
     "output_type": "stream",
     "text": [
      "n_foreground was reduced to 0.\n"
     ]
    },
    {
     "name": "stderr",
     "output_type": "stream",
     "text": [
      " 54%|█████████████████████████████████████████████████████████████████████████████▊                                                                  | 27/50 [00:00<00:00, 40.95it/s]"
     ]
    },
    {
     "name": "stdout",
     "output_type": "stream",
     "text": [
      "n_foreground was reduced to 0.\n",
      "n_foreground was reduced to 0.\n",
      "n_foreground was reduced to 0.\n"
     ]
    },
    {
     "name": "stderr",
     "output_type": "stream",
     "text": [
      "100%|████████████████████████████████████████████████████████████████████████████████████████████████████████████████████████████████████████████████| 50/50 [00:01<00:00, 40.07it/s]\n"
     ]
    },
    {
     "name": "stdout",
     "output_type": "stream",
     "text": [
      "Generating prompts for this batch\n"
     ]
    },
    {
     "name": "stderr",
     "output_type": "stream",
     "text": [
      "  8%|███████████▌                                                                                                                                     | 4/50 [00:00<00:01, 39.07it/s]"
     ]
    },
    {
     "name": "stdout",
     "output_type": "stream",
     "text": [
      "n_foreground was reduced to 0.\n",
      "n_foreground was reduced to 0.\n"
     ]
    },
    {
     "name": "stderr",
     "output_type": "stream",
     "text": [
      " 44%|███████████████████████████████████████████████████████████████▎                                                                                | 22/50 [00:00<00:00, 38.91it/s]"
     ]
    },
    {
     "name": "stdout",
     "output_type": "stream",
     "text": [
      "n_foreground was reduced to 0.\n",
      "n_foreground was reduced to 0.\n"
     ]
    },
    {
     "name": "stderr",
     "output_type": "stream",
     "text": [
      " 60%|██████████████████████████████████████████████████████████████████████████████████████▍                                                         | 30/50 [00:00<00:00, 38.61it/s]"
     ]
    },
    {
     "name": "stdout",
     "output_type": "stream",
     "text": [
      "n_foreground was reduced to 0.\n"
     ]
    },
    {
     "name": "stderr",
     "output_type": "stream",
     "text": [
      " 76%|█████████████████████████████████████████████████████████████████████████████████████████████████████████████▍                                  | 38/50 [00:00<00:00, 37.82it/s]"
     ]
    },
    {
     "name": "stdout",
     "output_type": "stream",
     "text": [
      "n_foreground was reduced to 0.\n"
     ]
    },
    {
     "name": "stderr",
     "output_type": "stream",
     "text": [
      " 92%|████████████████████████████████████████████████████████████████████████████████████████████████████████████████████████████████████▍           | 46/50 [00:01<00:00, 37.50it/s]"
     ]
    },
    {
     "name": "stdout",
     "output_type": "stream",
     "text": [
      "n_foreground was reduced to 0.\n"
     ]
    },
    {
     "name": "stderr",
     "output_type": "stream",
     "text": [
      "100%|████████████████████████████████████████████████████████████████████████████████████████████████████████████████████████████████████████████████| 50/50 [00:01<00:00, 38.58it/s]\n"
     ]
    },
    {
     "name": "stdout",
     "output_type": "stream",
     "text": [
      "Generating prompts for this batch\n"
     ]
    },
    {
     "name": "stderr",
     "output_type": "stream",
     "text": [
      "  8%|███████████▌                                                                                                                                     | 4/50 [00:00<00:01, 34.14it/s]"
     ]
    },
    {
     "name": "stdout",
     "output_type": "stream",
     "text": [
      "n_foreground was reduced to 0.\n"
     ]
    },
    {
     "name": "stderr",
     "output_type": "stream",
     "text": [
      " 24%|██████████████████████████████████▌                                                                                                             | 12/50 [00:00<00:01, 35.52it/s]"
     ]
    },
    {
     "name": "stdout",
     "output_type": "stream",
     "text": [
      "n_foreground was reduced to 0.\n"
     ]
    },
    {
     "name": "stderr",
     "output_type": "stream",
     "text": [
      " 66%|███████████████████████████████████████████████████████████████████████████████████████████████                                                 | 33/50 [00:00<00:00, 37.44it/s]"
     ]
    },
    {
     "name": "stdout",
     "output_type": "stream",
     "text": [
      "n_foreground was reduced to 0.\n"
     ]
    },
    {
     "name": "stderr",
     "output_type": "stream",
     "text": [
      " 90%|█████████████████████████████████████████████████████████████████████████████████████████████████████████████████████████████████▌              | 45/50 [00:01<00:00, 38.59it/s]"
     ]
    },
    {
     "name": "stdout",
     "output_type": "stream",
     "text": [
      "n_foreground was reduced to 0.\n"
     ]
    },
    {
     "name": "stderr",
     "output_type": "stream",
     "text": [
      "100%|████████████████████████████████████████████████████████████████████████████████████████████████████████████████████████████████████████████████| 50/50 [00:01<00:00, 37.45it/s]\n"
     ]
    },
    {
     "name": "stdout",
     "output_type": "stream",
     "text": [
      "Generating prompts for this batch\n"
     ]
    },
    {
     "name": "stderr",
     "output_type": "stream",
     "text": [
      " 10%|██████████████▌                                                                                                                                  | 5/50 [00:00<00:01, 41.50it/s]"
     ]
    },
    {
     "name": "stdout",
     "output_type": "stream",
     "text": [
      "n_foreground was reduced to 0.\n"
     ]
    },
    {
     "name": "stderr",
     "output_type": "stream",
     "text": [
      " 38%|██████████████████████████████████████████████████████▋                                                                                         | 19/50 [00:00<00:00, 38.03it/s]"
     ]
    },
    {
     "name": "stdout",
     "output_type": "stream",
     "text": [
      "n_foreground was reduced to 0.\n",
      "n_foreground was reduced to 0.\n",
      "n_foreground was reduced to 0.\n",
      "n_foreground was reduced to 0.\n"
     ]
    },
    {
     "name": "stderr",
     "output_type": "stream",
     "text": [
      " 56%|████████████████████████████████████████████████████████████████████████████████▋                                                               | 28/50 [00:00<00:00, 38.40it/s]"
     ]
    },
    {
     "name": "stdout",
     "output_type": "stream",
     "text": [
      "n_foreground was reduced to 0.\n",
      "n_foreground was reduced to 0.\n",
      "n_background was reduced to 0.\n",
      "n_foreground was reduced to 0.\n"
     ]
    },
    {
     "name": "stderr",
     "output_type": "stream",
     "text": [
      " 74%|██████████████████████████████████████████████████████████████████████████████████████████████████████████▌                                     | 37/50 [00:00<00:00, 37.83it/s]"
     ]
    },
    {
     "name": "stdout",
     "output_type": "stream",
     "text": [
      "n_foreground was reduced to 0.\n"
     ]
    },
    {
     "name": "stderr",
     "output_type": "stream",
     "text": [
      "100%|████████████████████████████████████████████████████████████████████████████████████████████████████████████████████████████████████████████████| 50/50 [00:01<00:00, 39.14it/s]\n"
     ]
    },
    {
     "name": "stdout",
     "output_type": "stream",
     "text": [
      "n_foreground was reduced to 0.\n",
      "n_foreground was reduced to 0.\n",
      "Generating prompts for this batch\n"
     ]
    },
    {
     "name": "stderr",
     "output_type": "stream",
     "text": [
      " 10%|██████████████▌                                                                                                                                  | 5/50 [00:00<00:01, 40.63it/s]"
     ]
    },
    {
     "name": "stdout",
     "output_type": "stream",
     "text": [
      "n_foreground was reduced to 0.\n",
      "n_foreground was reduced to 0.\n"
     ]
    },
    {
     "name": "stderr",
     "output_type": "stream",
     "text": [
      " 20%|████████████████████████████▊                                                                                                                   | 10/50 [00:00<00:00, 40.62it/s]"
     ]
    },
    {
     "name": "stdout",
     "output_type": "stream",
     "text": [
      "n_foreground was reduced to 0.\n",
      "n_foreground was reduced to 0.\n"
     ]
    },
    {
     "name": "stderr",
     "output_type": "stream",
     "text": [
      " 56%|████████████████████████████████████████████████████████████████████████████████▋                                                               | 28/50 [00:00<00:00, 37.29it/s]"
     ]
    },
    {
     "name": "stdout",
     "output_type": "stream",
     "text": [
      "n_foreground was reduced to 0.\n"
     ]
    },
    {
     "name": "stderr",
     "output_type": "stream",
     "text": [
      " 90%|█████████████████████████████████████████████████████████████████████████████████████████████████████████████████████████████████▌              | 45/50 [00:01<00:00, 39.00it/s]"
     ]
    },
    {
     "name": "stdout",
     "output_type": "stream",
     "text": [
      "n_foreground was reduced to 0.\n",
      "n_foreground was reduced to 0.\n"
     ]
    },
    {
     "name": "stderr",
     "output_type": "stream",
     "text": [
      "100%|████████████████████████████████████████████████████████████████████████████████████████████████████████████████████████████████████████████████| 50/50 [00:01<00:00, 38.89it/s]\n"
     ]
    },
    {
     "name": "stdout",
     "output_type": "stream",
     "text": [
      "n_foreground was reduced to 0.\n",
      "Generating prompts for this batch\n"
     ]
    },
    {
     "name": "stderr",
     "output_type": "stream",
     "text": [
      " 34%|████████████████████████████████████████████████▉                                                                                               | 17/50 [00:00<00:00, 38.44it/s]"
     ]
    },
    {
     "name": "stdout",
     "output_type": "stream",
     "text": [
      "n_foreground was reduced to 0.\n",
      "n_foreground was reduced to 0.\n"
     ]
    },
    {
     "name": "stderr",
     "output_type": "stream",
     "text": [
      "100%|████████████████████████████████████████████████████████████████████████████████████████████████████████████████████████████████████████████████| 50/50 [00:01<00:00, 38.57it/s]\n"
     ]
    },
    {
     "name": "stdout",
     "output_type": "stream",
     "text": [
      "Generating prompts for this batch\n"
     ]
    },
    {
     "name": "stderr",
     "output_type": "stream",
     "text": [
      " 64%|████████████████████████████████████████████████████████████████████████████████████████████▏                                                   | 32/50 [00:00<00:00, 38.08it/s]"
     ]
    },
    {
     "name": "stdout",
     "output_type": "stream",
     "text": [
      "n_background was reduced to 0.\n",
      "n_foreground was reduced to 0.\n",
      "n_foreground was reduced to 0.\n",
      "n_background was reduced to 0.\n",
      "n_foreground was reduced to 0.\n",
      "n_foreground was reduced to 0.\n"
     ]
    },
    {
     "name": "stderr",
     "output_type": "stream",
     "text": [
      "100%|████████████████████████████████████████████████████████████████████████████████████████████████████████████████████████████████████████████████| 50/50 [00:01<00:00, 38.57it/s]"
     ]
    },
    {
     "name": "stdout",
     "output_type": "stream",
     "text": [
      "n_foreground was reduced to 0.\n",
      "n_foreground was reduced to 0.\n"
     ]
    },
    {
     "name": "stderr",
     "output_type": "stream",
     "text": [
      "\n"
     ]
    },
    {
     "name": "stdout",
     "output_type": "stream",
     "text": [
      "Generating prompts for this batch\n"
     ]
    },
    {
     "name": "stderr",
     "output_type": "stream",
     "text": [
      "  8%|███████████▌                                                                                                                                     | 4/50 [00:00<00:01, 36.53it/s]"
     ]
    },
    {
     "name": "stdout",
     "output_type": "stream",
     "text": [
      "n_foreground was reduced to 0.\n",
      "n_foreground was reduced to 0.\n"
     ]
    },
    {
     "name": "stderr",
     "output_type": "stream",
     "text": [
      " 24%|██████████████████████████████████▌                                                                                                             | 12/50 [00:00<00:01, 37.94it/s]"
     ]
    },
    {
     "name": "stdout",
     "output_type": "stream",
     "text": [
      "n_foreground was reduced to 0.\n",
      "n_background was reduced to 0.\n",
      "n_foreground was reduced to 0.\n",
      "n_foreground was reduced to 0.\n"
     ]
    },
    {
     "name": "stderr",
     "output_type": "stream",
     "text": [
      " 50%|████████████████████████████████████████████████████████████████████████                                                                        | 25/50 [00:00<00:00, 37.67it/s]"
     ]
    },
    {
     "name": "stdout",
     "output_type": "stream",
     "text": [
      "n_foreground was reduced to 0.\n"
     ]
    },
    {
     "name": "stderr",
     "output_type": "stream",
     "text": [
      " 68%|█████████████████████████████████████████████████████████████████████████████████████████████████▉                                              | 34/50 [00:00<00:00, 37.68it/s]"
     ]
    },
    {
     "name": "stdout",
     "output_type": "stream",
     "text": [
      "n_foreground was reduced to 0.\n",
      "n_background was reduced to 0.\n",
      "n_foreground was reduced to 0.\n"
     ]
    },
    {
     "name": "stderr",
     "output_type": "stream",
     "text": [
      " 94%|███████████████████████████████████████████████████████████████████████████████████████████████████████████████████████████████████████▎        | 47/50 [00:01<00:00, 38.46it/s]"
     ]
    },
    {
     "name": "stdout",
     "output_type": "stream",
     "text": [
      "n_foreground was reduced to 0.\n",
      "n_foreground was reduced to 0.\n"
     ]
    },
    {
     "name": "stderr",
     "output_type": "stream",
     "text": [
      "100%|████████████████████████████████████████████████████████████████████████████████████████████████████████████████████████████████████████████████| 50/50 [00:01<00:00, 38.29it/s]\n"
     ]
    },
    {
     "name": "stdout",
     "output_type": "stream",
     "text": [
      "Generating prompts for this batch\n"
     ]
    },
    {
     "name": "stderr",
     "output_type": "stream",
     "text": [
      " 10%|██████████████▌                                                                                                                                  | 5/50 [00:00<00:01, 40.63it/s]"
     ]
    },
    {
     "name": "stdout",
     "output_type": "stream",
     "text": [
      "n_foreground was reduced to 0.\n",
      "n_foreground was reduced to 0.\n",
      "n_foreground was reduced to 0.\n",
      "n_foreground was reduced to 0.\n"
     ]
    },
    {
     "name": "stderr",
     "output_type": "stream",
     "text": [
      " 30%|███████████████████████████████████████████▏                                                                                                    | 15/50 [00:00<00:00, 38.08it/s]"
     ]
    },
    {
     "name": "stdout",
     "output_type": "stream",
     "text": [
      "n_foreground was reduced to 0.\n",
      "n_background was reduced to 0.\n",
      "n_foreground was reduced to 0.\n"
     ]
    },
    {
     "name": "stderr",
     "output_type": "stream",
     "text": [
      " 72%|███████████████████████████████████████████████████████████████████████████████████████████████████████▋                                        | 36/50 [00:00<00:00, 38.90it/s]"
     ]
    },
    {
     "name": "stdout",
     "output_type": "stream",
     "text": [
      "n_foreground was reduced to 0.\n",
      "n_foreground was reduced to 0.\n",
      "n_foreground was reduced to 0.\n"
     ]
    },
    {
     "name": "stderr",
     "output_type": "stream",
     "text": [
      " 88%|██████████████████████████████████████████████████████████████████████████████████████████████████████████████████████████████▋                 | 44/50 [00:01<00:00, 39.12it/s]"
     ]
    },
    {
     "name": "stdout",
     "output_type": "stream",
     "text": [
      "n_background was reduced to 0.\n",
      "n_foreground was reduced to 0.\n"
     ]
    },
    {
     "name": "stderr",
     "output_type": "stream",
     "text": [
      "100%|████████████████████████████████████████████████████████████████████████████████████████████████████████████████████████████████████████████████| 50/50 [00:01<00:00, 38.33it/s]\n"
     ]
    },
    {
     "name": "stdout",
     "output_type": "stream",
     "text": [
      "n_foreground was reduced to 0.\n",
      "Generating prompts for this batch\n"
     ]
    },
    {
     "name": "stderr",
     "output_type": "stream",
     "text": [
      "  8%|███████████▌                                                                                                                                     | 4/50 [00:00<00:01, 37.45it/s]"
     ]
    },
    {
     "name": "stdout",
     "output_type": "stream",
     "text": [
      "n_foreground was reduced to 0.\n"
     ]
    },
    {
     "name": "stderr",
     "output_type": "stream",
     "text": [
      " 42%|████████████████████████████████████████████████████████████▍                                                                                   | 21/50 [00:00<00:00, 38.32it/s]"
     ]
    },
    {
     "name": "stdout",
     "output_type": "stream",
     "text": [
      "n_foreground was reduced to 0.\n",
      "n_foreground was reduced to 0.\n"
     ]
    },
    {
     "name": "stderr",
     "output_type": "stream",
     "text": [
      " 70%|████████████████████████████████████████████████████████████████████████████████████████████████████▊                                           | 35/50 [00:00<00:00, 38.16it/s]"
     ]
    },
    {
     "name": "stdout",
     "output_type": "stream",
     "text": [
      "n_background was reduced to 0.\n",
      "n_foreground was reduced to 0.\n",
      "n_foreground was reduced to 0.\n"
     ]
    },
    {
     "name": "stderr",
     "output_type": "stream",
     "text": [
      " 96%|██████████████████████████████████████████████████████████████████████████████████████████████████████████████████████████████████████████▏     | 48/50 [00:01<00:00, 39.47it/s]"
     ]
    },
    {
     "name": "stdout",
     "output_type": "stream",
     "text": [
      "n_foreground was reduced to 0.\n",
      "n_foreground was reduced to 0.\n",
      "n_foreground was reduced to 0.\n"
     ]
    },
    {
     "name": "stderr",
     "output_type": "stream",
     "text": [
      "100%|████████████████████████████████████████████████████████████████████████████████████████████████████████████████████████████████████████████████| 50/50 [00:01<00:00, 39.15it/s]\n"
     ]
    },
    {
     "name": "stdout",
     "output_type": "stream",
     "text": [
      "n_background was reduced to 0.\n",
      "n_foreground was reduced to 0.\n",
      "n_foreground was reduced to 0.\n",
      "n_background was reduced to 0.\n",
      "n_foreground was reduced to 0.\n",
      "Generating prompts for this batch\n"
     ]
    },
    {
     "name": "stderr",
     "output_type": "stream",
     "text": [
      "  8%|███████████▌                                                                                                                                     | 4/50 [00:00<00:01, 36.04it/s]"
     ]
    },
    {
     "name": "stdout",
     "output_type": "stream",
     "text": [
      "n_foreground was reduced to 0.\n",
      "n_foreground was reduced to 0.\n"
     ]
    },
    {
     "name": "stderr",
     "output_type": "stream",
     "text": [
      " 38%|██████████████████████████████████████████████████████▋                                                                                         | 19/50 [00:00<00:00, 39.11it/s]"
     ]
    },
    {
     "name": "stdout",
     "output_type": "stream",
     "text": [
      "n_foreground was reduced to 0.\n",
      "n_background was reduced to 0.\n",
      "n_foreground was reduced to 0.\n"
     ]
    },
    {
     "name": "stderr",
     "output_type": "stream",
     "text": [
      " 58%|███████████████████████████████████████████████████████████████████████████████████▌                                                            | 29/50 [00:00<00:00, 39.72it/s]"
     ]
    },
    {
     "name": "stdout",
     "output_type": "stream",
     "text": [
      "n_foreground was reduced to 0.\n",
      "n_foreground was reduced to 0.\n"
     ]
    },
    {
     "name": "stderr",
     "output_type": "stream",
     "text": [
      " 84%|████████████████████████████████████████████████████████████████████████████████████████████████████████████████████████▉                       | 42/50 [00:01<00:00, 38.80it/s]"
     ]
    },
    {
     "name": "stdout",
     "output_type": "stream",
     "text": [
      "n_foreground was reduced to 0.\n",
      "n_foreground was reduced to 0.\n"
     ]
    },
    {
     "name": "stderr",
     "output_type": "stream",
     "text": [
      "100%|████████████████████████████████████████████████████████████████████████████████████████████████████████████████████████████████████████████████| 50/50 [00:01<00:00, 38.94it/s]"
     ]
    },
    {
     "name": "stdout",
     "output_type": "stream",
     "text": [
      "n_foreground was reduced to 0.\n"
     ]
    },
    {
     "name": "stderr",
     "output_type": "stream",
     "text": [
      "\n"
     ]
    },
    {
     "name": "stdout",
     "output_type": "stream",
     "text": [
      "Generating prompts for this batch\n"
     ]
    },
    {
     "name": "stderr",
     "output_type": "stream",
     "text": [
      "  8%|███████████▌                                                                                                                                     | 4/50 [00:00<00:01, 38.22it/s]"
     ]
    },
    {
     "name": "stdout",
     "output_type": "stream",
     "text": [
      "n_foreground was reduced to 0.\n",
      "n_foreground was reduced to 0.\n"
     ]
    },
    {
     "name": "stderr",
     "output_type": "stream",
     "text": [
      " 42%|████████████████████████████████████████████████████████████▍                                                                                   | 21/50 [00:00<00:00, 37.97it/s]"
     ]
    },
    {
     "name": "stdout",
     "output_type": "stream",
     "text": [
      "n_foreground was reduced to 0.\n",
      "n_foreground was reduced to 0.\n",
      "n_foreground was reduced to 0.\n"
     ]
    },
    {
     "name": "stderr",
     "output_type": "stream",
     "text": [
      " 58%|███████████████████████████████████████████████████████████████████████████████████▌                                                            | 29/50 [00:00<00:00, 38.77it/s]"
     ]
    },
    {
     "name": "stdout",
     "output_type": "stream",
     "text": [
      "n_foreground was reduced to 0.\n",
      "n_foreground was reduced to 0.\n",
      "n_foreground was reduced to 0.\n",
      "n_foreground was reduced to 0.\n",
      "n_foreground was reduced to 0.\n"
     ]
    },
    {
     "name": "stderr",
     "output_type": "stream",
     "text": [
      " 76%|█████████████████████████████████████████████████████████████████████████████████████████████████████████████▍                                  | 38/50 [00:00<00:00, 39.02it/s]"
     ]
    },
    {
     "name": "stdout",
     "output_type": "stream",
     "text": [
      "n_foreground was reduced to 0.\n",
      "n_foreground was reduced to 0.\n",
      "n_foreground was reduced to 0.\n",
      "n_foreground was reduced to 0.\n",
      "n_foreground was reduced to 0.\n"
     ]
    },
    {
     "name": "stderr",
     "output_type": "stream",
     "text": [
      " 94%|███████████████████████████████████████████████████████████████████████████████████████████████████████████████████████████████████████▎        | 47/50 [00:01<00:00, 38.74it/s]"
     ]
    },
    {
     "name": "stdout",
     "output_type": "stream",
     "text": [
      "n_foreground was reduced to 0.\n",
      "n_foreground was reduced to 0.\n",
      "n_background was reduced to 0.\n",
      "n_foreground was reduced to 0.\n"
     ]
    },
    {
     "name": "stderr",
     "output_type": "stream",
     "text": [
      "100%|████████████████████████████████████████████████████████████████████████████████████████████████████████████████████████████████████████████████| 50/50 [00:01<00:00, 38.57it/s]\n"
     ]
    },
    {
     "name": "stdout",
     "output_type": "stream",
     "text": [
      "Generating prompts for this batch\n"
     ]
    },
    {
     "name": "stderr",
     "output_type": "stream",
     "text": [
      " 10%|██████████████▌                                                                                                                                  | 5/50 [00:00<00:01, 41.49it/s]"
     ]
    },
    {
     "name": "stdout",
     "output_type": "stream",
     "text": [
      "n_foreground was reduced to 0.\n",
      "n_foreground was reduced to 0.\n",
      "n_foreground was reduced to 0.\n"
     ]
    },
    {
     "name": "stderr",
     "output_type": "stream",
     "text": [
      " 40%|█████████████████████████████████████████████████████████▌                                                                                      | 20/50 [00:00<00:00, 40.17it/s]"
     ]
    },
    {
     "name": "stdout",
     "output_type": "stream",
     "text": [
      "n_foreground was reduced to 0.\n",
      "n_foreground was reduced to 0.\n"
     ]
    },
    {
     "name": "stderr",
     "output_type": "stream",
     "text": [
      "100%|████████████████████████████████████████████████████████████████████████████████████████████████████████████████████████████████████████████████| 50/50 [00:01<00:00, 38.31it/s]\n"
     ]
    },
    {
     "name": "stdout",
     "output_type": "stream",
     "text": [
      "Generating prompts for this batch\n"
     ]
    },
    {
     "name": "stderr",
     "output_type": "stream",
     "text": [
      " 52%|██████████████████████████████████████████████████████████████████████████▉                                                                     | 26/50 [00:00<00:00, 37.41it/s]"
     ]
    },
    {
     "name": "stdout",
     "output_type": "stream",
     "text": [
      "n_background was reduced to 0.\n",
      "n_foreground was reduced to 0.\n",
      "n_foreground was reduced to 0.\n",
      "n_foreground was reduced to 0.\n",
      "n_foreground was reduced to 0.\n"
     ]
    },
    {
     "name": "stderr",
     "output_type": "stream",
     "text": [
      " 86%|███████████████████████████████████████████████████████████████████████████████████████████████████████████████████████████▊                    | 43/50 [00:01<00:00, 38.78it/s]"
     ]
    },
    {
     "name": "stdout",
     "output_type": "stream",
     "text": [
      "n_background was reduced to 0.\n",
      "n_foreground was reduced to 0.\n",
      "n_foreground was reduced to 0.\n",
      "n_foreground was reduced to 0.\n"
     ]
    },
    {
     "name": "stderr",
     "output_type": "stream",
     "text": [
      "100%|████████████████████████████████████████████████████████████████████████████████████████████████████████████████████████████████████████████████| 50/50 [00:01<00:00, 37.54it/s]\n"
     ]
    },
    {
     "name": "stdout",
     "output_type": "stream",
     "text": [
      "n_foreground was reduced to 0.\n",
      "Generating prompts for this batch\n"
     ]
    },
    {
     "name": "stderr",
     "output_type": "stream",
     "text": [
      " 32%|██████████████████████████████████████████████                                                                                                  | 16/50 [00:00<00:00, 38.51it/s]"
     ]
    },
    {
     "name": "stdout",
     "output_type": "stream",
     "text": [
      "n_foreground was reduced to 0.\n",
      "n_foreground was reduced to 0.\n",
      "n_foreground was reduced to 0.\n"
     ]
    },
    {
     "name": "stderr",
     "output_type": "stream",
     "text": [
      " 50%|████████████████████████████████████████████████████████████████████████                                                                        | 25/50 [00:00<00:00, 39.00it/s]"
     ]
    },
    {
     "name": "stdout",
     "output_type": "stream",
     "text": [
      "n_foreground was reduced to 0.\n",
      "n_foreground was reduced to 0.\n",
      "n_foreground was reduced to 0.\n"
     ]
    },
    {
     "name": "stderr",
     "output_type": "stream",
     "text": [
      " 76%|█████████████████████████████████████████████████████████████████████████████████████████████████████████████▍                                  | 38/50 [00:01<00:00, 36.86it/s]"
     ]
    },
    {
     "name": "stdout",
     "output_type": "stream",
     "text": [
      "n_foreground was reduced to 0.\n",
      "n_foreground was reduced to 0.\n"
     ]
    },
    {
     "name": "stderr",
     "output_type": "stream",
     "text": [
      "100%|████████████████████████████████████████████████████████████████████████████████████████████████████████████████████████████████████████████████| 50/50 [00:01<00:00, 37.62it/s]\n"
     ]
    },
    {
     "name": "stdout",
     "output_type": "stream",
     "text": [
      "Generating prompts for this batch\n"
     ]
    },
    {
     "name": "stderr",
     "output_type": "stream",
     "text": [
      " 10%|██████████████▌                                                                                                                                  | 5/50 [00:00<00:01, 39.86it/s]"
     ]
    },
    {
     "name": "stdout",
     "output_type": "stream",
     "text": [
      "n_foreground was reduced to 0.\n",
      "n_foreground was reduced to 0.\n",
      "n_foreground was reduced to 0.\n"
     ]
    },
    {
     "name": "stderr",
     "output_type": "stream",
     "text": [
      " 36%|███████████████████████████████████████████████████▊                                                                                            | 18/50 [00:00<00:00, 39.91it/s]"
     ]
    },
    {
     "name": "stdout",
     "output_type": "stream",
     "text": [
      "n_foreground was reduced to 0.\n",
      "n_foreground was reduced to 0.\n",
      "n_foreground was reduced to 0.\n"
     ]
    },
    {
     "name": "stderr",
     "output_type": "stream",
     "text": [
      " 56%|████████████████████████████████████████████████████████████████████████████████▋                                                               | 28/50 [00:00<00:00, 39.91it/s]"
     ]
    },
    {
     "name": "stdout",
     "output_type": "stream",
     "text": [
      "n_foreground was reduced to 0.\n",
      "n_foreground was reduced to 0.\n",
      "n_background was reduced to 0.\n",
      "n_foreground was reduced to 0.\n"
     ]
    },
    {
     "name": "stderr",
     "output_type": "stream",
     "text": [
      " 66%|███████████████████████████████████████████████████████████████████████████████████████████████                                                 | 33/50 [00:00<00:00, 40.38it/s]"
     ]
    },
    {
     "name": "stdout",
     "output_type": "stream",
     "text": [
      "n_foreground was reduced to 0.\n",
      "n_foreground was reduced to 0.\n",
      "n_foreground was reduced to 0.\n"
     ]
    },
    {
     "name": "stderr",
     "output_type": "stream",
     "text": [
      " 86%|███████████████████████████████████████████████████████████████████████████████████████████████████████████████████████████▊                    | 43/50 [00:01<00:00, 40.39it/s]"
     ]
    },
    {
     "name": "stdout",
     "output_type": "stream",
     "text": [
      "n_foreground was reduced to 0.\n",
      "n_foreground was reduced to 0.\n",
      "n_foreground was reduced to 0.\n"
     ]
    },
    {
     "name": "stderr",
     "output_type": "stream",
     "text": [
      "100%|████████████████████████████████████████████████████████████████████████████████████████████████████████████████████████████████████████████████| 50/50 [00:01<00:00, 40.28it/s]\n"
     ]
    },
    {
     "name": "stdout",
     "output_type": "stream",
     "text": [
      "n_foreground was reduced to 0.\n",
      "Generating prompts for this batch\n"
     ]
    },
    {
     "name": "stderr",
     "output_type": "stream",
     "text": [
      "  8%|███████████▌                                                                                                                                     | 4/50 [00:00<00:01, 39.03it/s]"
     ]
    },
    {
     "name": "stdout",
     "output_type": "stream",
     "text": [
      "n_foreground was reduced to 0.\n"
     ]
    },
    {
     "name": "stderr",
     "output_type": "stream",
     "text": [
      " 44%|███████████████████████████████████████████████████████████████▎                                                                                | 22/50 [00:00<00:00, 37.27it/s]"
     ]
    },
    {
     "name": "stdout",
     "output_type": "stream",
     "text": [
      "n_foreground was reduced to 0.\n"
     ]
    },
    {
     "name": "stderr",
     "output_type": "stream",
     "text": [
      " 62%|█████████████████████████████████████████████████████████████████████████████████████████▎                                                      | 31/50 [00:00<00:00, 38.44it/s]"
     ]
    },
    {
     "name": "stdout",
     "output_type": "stream",
     "text": [
      "n_background was reduced to 0.\n",
      "n_foreground was reduced to 0.\n",
      "n_foreground was reduced to 0.\n",
      "n_foreground was reduced to 0.\n"
     ]
    },
    {
     "name": "stderr",
     "output_type": "stream",
     "text": [
      " 80%|███████████████████████████████████████████████████████████████████████████████████████████████████████████████████▏                            | 40/50 [00:01<00:00, 38.44it/s]"
     ]
    },
    {
     "name": "stdout",
     "output_type": "stream",
     "text": [
      "n_background was reduced to 0.\n",
      "n_foreground was reduced to 0.\n",
      "n_foreground was reduced to 0.\n",
      "n_foreground was reduced to 0.\n",
      "n_foreground was reduced to 0.\n"
     ]
    },
    {
     "name": "stderr",
     "output_type": "stream",
     "text": [
      "100%|████████████████████████████████████████████████████████████████████████████████████████████████████████████████████████████████████████████████| 50/50 [00:01<00:00, 38.44it/s]"
     ]
    },
    {
     "name": "stdout",
     "output_type": "stream",
     "text": [
      "n_foreground was reduced to 0.\n",
      "n_foreground was reduced to 0.\n"
     ]
    },
    {
     "name": "stderr",
     "output_type": "stream",
     "text": [
      "\n"
     ]
    },
    {
     "name": "stdout",
     "output_type": "stream",
     "text": [
      "Generating prompts for this batch\n"
     ]
    },
    {
     "name": "stderr",
     "output_type": "stream",
     "text": [
      " 10%|██████████████▌                                                                                                                                  | 5/50 [00:00<00:01, 41.64it/s]"
     ]
    },
    {
     "name": "stdout",
     "output_type": "stream",
     "text": [
      "n_foreground was reduced to 0.\n",
      "n_foreground was reduced to 0.\n"
     ]
    },
    {
     "name": "stderr",
     "output_type": "stream",
     "text": [
      " 40%|█████████████████████████████████████████████████████████▌                                                                                      | 20/50 [00:00<00:00, 40.19it/s]"
     ]
    },
    {
     "name": "stdout",
     "output_type": "stream",
     "text": [
      "n_foreground was reduced to 0.\n",
      "n_foreground was reduced to 0.\n"
     ]
    },
    {
     "name": "stderr",
     "output_type": "stream",
     "text": [
      " 60%|██████████████████████████████████████████████████████████████████████████████████████▍                                                         | 30/50 [00:00<00:00, 39.89it/s]"
     ]
    },
    {
     "name": "stdout",
     "output_type": "stream",
     "text": [
      "n_foreground was reduced to 0.\n",
      "n_foreground was reduced to 0.\n"
     ]
    },
    {
     "name": "stderr",
     "output_type": "stream",
     "text": [
      " 80%|███████████████████████████████████████████████████████████████████████████████████████████████████████████████████▏                            | 40/50 [00:00<00:00, 40.50it/s]"
     ]
    },
    {
     "name": "stdout",
     "output_type": "stream",
     "text": [
      "n_foreground was reduced to 0.\n",
      "n_foreground was reduced to 0.\n",
      "n_foreground was reduced to 0.\n",
      "n_foreground was reduced to 0.\n",
      "n_foreground was reduced to 0.\n"
     ]
    },
    {
     "name": "stderr",
     "output_type": "stream",
     "text": [
      " 90%|█████████████████████████████████████████████████████████████████████████████████████████████████████████████████████████████████▌              | 45/50 [00:01<00:00, 39.84it/s]"
     ]
    },
    {
     "name": "stdout",
     "output_type": "stream",
     "text": [
      "n_foreground was reduced to 0.\n"
     ]
    },
    {
     "name": "stderr",
     "output_type": "stream",
     "text": [
      "100%|████████████████████████████████████████████████████████████████████████████████████████████████████████████████████████████████████████████████| 50/50 [00:01<00:00, 40.14it/s]\n"
     ]
    },
    {
     "name": "stdout",
     "output_type": "stream",
     "text": [
      "Generating prompts for this batch\n"
     ]
    },
    {
     "name": "stderr",
     "output_type": "stream",
     "text": [
      "  8%|███████████▌                                                                                                                                     | 4/50 [00:00<00:01, 35.97it/s]"
     ]
    },
    {
     "name": "stdout",
     "output_type": "stream",
     "text": [
      "n_foreground was reduced to 0.\n"
     ]
    },
    {
     "name": "stderr",
     "output_type": "stream",
     "text": [
      " 28%|████████████████████████████████████████▎                                                                                                       | 14/50 [00:00<00:00, 40.68it/s]"
     ]
    },
    {
     "name": "stdout",
     "output_type": "stream",
     "text": [
      "n_foreground was reduced to 0.\n"
     ]
    },
    {
     "name": "stderr",
     "output_type": "stream",
     "text": [
      " 68%|█████████████████████████████████████████████████████████████████████████████████████████████████▉                                              | 34/50 [00:00<00:00, 40.70it/s]"
     ]
    },
    {
     "name": "stdout",
     "output_type": "stream",
     "text": [
      "n_foreground was reduced to 0.\n",
      "n_foreground was reduced to 0.\n",
      "n_foreground was reduced to 0.\n",
      "n_foreground was reduced to 0.\n"
     ]
    },
    {
     "name": "stderr",
     "output_type": "stream",
     "text": [
      " 88%|██████████████████████████████████████████████████████████████████████████████████████████████████████████████████████████████▋                 | 44/50 [00:01<00:00, 40.60it/s]"
     ]
    },
    {
     "name": "stdout",
     "output_type": "stream",
     "text": [
      "n_foreground was reduced to 0.\n",
      "n_foreground was reduced to 0.\n",
      "n_foreground was reduced to 0.\n",
      "n_foreground was reduced to 0.\n"
     ]
    },
    {
     "name": "stderr",
     "output_type": "stream",
     "text": [
      "100%|████████████████████████████████████████████████████████████████████████████████████████████████████████████████████████████████████████████████| 50/50 [00:01<00:00, 40.42it/s]\n"
     ]
    },
    {
     "name": "stdout",
     "output_type": "stream",
     "text": [
      "n_foreground was reduced to 0.\n",
      "Generating prompts for this batch\n"
     ]
    },
    {
     "name": "stderr",
     "output_type": "stream",
     "text": [
      "  8%|███████████▌                                                                                                                                     | 4/50 [00:00<00:01, 35.46it/s]"
     ]
    },
    {
     "name": "stdout",
     "output_type": "stream",
     "text": [
      "n_foreground was reduced to 0.\n",
      "n_foreground was reduced to 0.\n"
     ]
    },
    {
     "name": "stderr",
     "output_type": "stream",
     "text": [
      " 16%|███████████████████████▏                                                                                                                         | 8/50 [00:00<00:01, 36.31it/s]"
     ]
    },
    {
     "name": "stdout",
     "output_type": "stream",
     "text": [
      "n_foreground was reduced to 0.\n"
     ]
    },
    {
     "name": "stderr",
     "output_type": "stream",
     "text": [
      " 42%|████████████████████████████████████████████████████████████▍                                                                                   | 21/50 [00:00<00:00, 38.14it/s]"
     ]
    },
    {
     "name": "stdout",
     "output_type": "stream",
     "text": [
      "n_foreground was reduced to 0.\n"
     ]
    },
    {
     "name": "stderr",
     "output_type": "stream",
     "text": [
      " 60%|██████████████████████████████████████████████████████████████████████████████████████▍                                                         | 30/50 [00:00<00:00, 39.20it/s]"
     ]
    },
    {
     "name": "stdout",
     "output_type": "stream",
     "text": [
      "n_foreground was reduced to 0.\n",
      "n_foreground was reduced to 0.\n",
      "n_foreground was reduced to 0.\n"
     ]
    },
    {
     "name": "stderr",
     "output_type": "stream",
     "text": [
      " 78%|████████████████████████████████████████████████████████████████████████████████████████████████████████████████▎                               | 39/50 [00:01<00:00, 39.58it/s]"
     ]
    },
    {
     "name": "stdout",
     "output_type": "stream",
     "text": [
      "n_foreground was reduced to 0.\n",
      "n_foreground was reduced to 0.\n"
     ]
    },
    {
     "name": "stderr",
     "output_type": "stream",
     "text": [
      "100%|████████████████████████████████████████████████████████████████████████████████████████████████████████████████████████████████████████████████| 50/50 [00:01<00:00, 38.25it/s]\n"
     ]
    },
    {
     "name": "stdout",
     "output_type": "stream",
     "text": [
      "n_foreground was reduced to 0.\n",
      "n_foreground was reduced to 0.\n",
      "Generating prompts for this batch\n"
     ]
    },
    {
     "name": "stderr",
     "output_type": "stream",
     "text": [
      "  8%|███████████▌                                                                                                                                     | 4/50 [00:00<00:01, 38.34it/s]"
     ]
    },
    {
     "name": "stdout",
     "output_type": "stream",
     "text": [
      "n_foreground was reduced to 0.\n"
     ]
    },
    {
     "name": "stderr",
     "output_type": "stream",
     "text": [
      " 42%|████████████████████████████████████████████████████████████▍                                                                                   | 21/50 [00:00<00:00, 37.99it/s]"
     ]
    },
    {
     "name": "stdout",
     "output_type": "stream",
     "text": [
      "n_foreground was reduced to 0.\n"
     ]
    },
    {
     "name": "stderr",
     "output_type": "stream",
     "text": [
      " 62%|█████████████████████████████████████████████████████████████████████████████████████████▎                                                      | 31/50 [00:00<00:00, 40.03it/s]"
     ]
    },
    {
     "name": "stdout",
     "output_type": "stream",
     "text": [
      "n_foreground was reduced to 0.\n",
      "n_foreground was reduced to 0.\n",
      "n_foreground was reduced to 0.\n"
     ]
    },
    {
     "name": "stderr",
     "output_type": "stream",
     "text": [
      "100%|████████████████████████████████████████████████████████████████████████████████████████████████████████████████████████████████████████████████| 50/50 [00:01<00:00, 37.63it/s]\n"
     ]
    },
    {
     "name": "stdout",
     "output_type": "stream",
     "text": [
      "Generating prompts for this batch\n"
     ]
    },
    {
     "name": "stderr",
     "output_type": "stream",
     "text": [
      "  8%|███████████▌                                                                                                                                     | 4/50 [00:00<00:01, 38.05it/s]"
     ]
    },
    {
     "name": "stdout",
     "output_type": "stream",
     "text": [
      "n_foreground was reduced to 0.\n"
     ]
    },
    {
     "name": "stderr",
     "output_type": "stream",
     "text": [
      " 32%|██████████████████████████████████████████████                                                                                                  | 16/50 [00:00<00:00, 39.18it/s]"
     ]
    },
    {
     "name": "stdout",
     "output_type": "stream",
     "text": [
      "n_foreground was reduced to 0.\n"
     ]
    },
    {
     "name": "stderr",
     "output_type": "stream",
     "text": [
      " 88%|██████████████████████████████████████████████████████████████████████████████████████████████████████████████████████████████▋                 | 44/50 [00:01<00:00, 39.01it/s]"
     ]
    },
    {
     "name": "stdout",
     "output_type": "stream",
     "text": [
      "n_foreground was reduced to 0.\n"
     ]
    },
    {
     "name": "stderr",
     "output_type": "stream",
     "text": [
      "100%|████████████████████████████████████████████████████████████████████████████████████████████████████████████████████████████████████████████████| 50/50 [00:01<00:00, 39.25it/s]\n"
     ]
    },
    {
     "name": "stdout",
     "output_type": "stream",
     "text": [
      "n_foreground was reduced to 0.\n",
      "n_foreground was reduced to 0.\n",
      "n_foreground was reduced to 0.\n",
      "Generating prompts for this batch\n"
     ]
    },
    {
     "name": "stderr",
     "output_type": "stream",
     "text": [
      "  8%|███████████▌                                                                                                                                     | 4/50 [00:00<00:01, 39.81it/s]"
     ]
    },
    {
     "name": "stdout",
     "output_type": "stream",
     "text": [
      "n_foreground was reduced to 0.\n",
      "n_foreground was reduced to 0.\n",
      "n_foreground was reduced to 0.\n"
     ]
    },
    {
     "name": "stderr",
     "output_type": "stream",
     "text": [
      " 18%|██████████████████████████                                                                                                                       | 9/50 [00:00<00:01, 40.41it/s]"
     ]
    },
    {
     "name": "stdout",
     "output_type": "stream",
     "text": [
      "n_foreground was reduced to 0.\n"
     ]
    },
    {
     "name": "stderr",
     "output_type": "stream",
     "text": [
      " 38%|██████████████████████████████████████████████████████▋                                                                                         | 19/50 [00:00<00:00, 38.75it/s]"
     ]
    },
    {
     "name": "stdout",
     "output_type": "stream",
     "text": [
      "n_foreground was reduced to 0.\n"
     ]
    },
    {
     "name": "stderr",
     "output_type": "stream",
     "text": [
      " 54%|█████████████████████████████████████████████████████████████████████████████▊                                                                  | 27/50 [00:00<00:00, 36.42it/s]"
     ]
    },
    {
     "name": "stdout",
     "output_type": "stream",
     "text": [
      "n_foreground was reduced to 0.\n",
      "n_foreground was reduced to 0.\n",
      "n_background was reduced to 0.\n",
      "n_foreground was reduced to 0.\n",
      "n_foreground was reduced to 0.\n"
     ]
    },
    {
     "name": "stderr",
     "output_type": "stream",
     "text": [
      " 88%|██████████████████████████████████████████████████████████████████████████████████████████████████████████████████████████████▋                 | 44/50 [00:01<00:00, 37.99it/s]"
     ]
    },
    {
     "name": "stdout",
     "output_type": "stream",
     "text": [
      "n_foreground was reduced to 0.\n"
     ]
    },
    {
     "name": "stderr",
     "output_type": "stream",
     "text": [
      "100%|████████████████████████████████████████████████████████████████████████████████████████████████████████████████████████████████████████████████| 50/50 [00:01<00:00, 38.59it/s]\n"
     ]
    },
    {
     "name": "stdout",
     "output_type": "stream",
     "text": [
      "n_foreground was reduced to 0.\n",
      "n_background was reduced to 0.\n",
      "n_foreground was reduced to 0.\n",
      "n_foreground was reduced to 0.\n",
      "Generating prompts for this batch\n"
     ]
    },
    {
     "name": "stderr",
     "output_type": "stream",
     "text": [
      " 42%|████████████████████████████████████████████████████████████▍                                                                                   | 21/50 [00:00<00:00, 37.10it/s]"
     ]
    },
    {
     "name": "stdout",
     "output_type": "stream",
     "text": [
      "n_foreground was reduced to 0.\n"
     ]
    },
    {
     "name": "stderr",
     "output_type": "stream",
     "text": [
      " 76%|█████████████████████████████████████████████████████████████████████████████████████████████████████████████▍                                  | 38/50 [00:01<00:00, 38.67it/s]"
     ]
    },
    {
     "name": "stdout",
     "output_type": "stream",
     "text": [
      "n_background was reduced to 0.\n",
      "n_foreground was reduced to 0.\n",
      "n_foreground was reduced to 0.\n",
      "n_foreground was reduced to 0.\n",
      "n_foreground was reduced to 0.\n"
     ]
    },
    {
     "name": "stderr",
     "output_type": "stream",
     "text": [
      " 94%|███████████████████████████████████████████████████████████████████████████████████████████████████████████████████████████████████████▎        | 47/50 [00:01<00:00, 38.90it/s]"
     ]
    },
    {
     "name": "stdout",
     "output_type": "stream",
     "text": [
      "n_foreground was reduced to 0.\n",
      "n_foreground was reduced to 0.\n"
     ]
    },
    {
     "name": "stderr",
     "output_type": "stream",
     "text": [
      "100%|████████████████████████████████████████████████████████████████████████████████████████████████████████████████████████████████████████████████| 50/50 [00:01<00:00, 38.24it/s]\n"
     ]
    },
    {
     "name": "stdout",
     "output_type": "stream",
     "text": [
      "n_foreground was reduced to 0.\n",
      "n_foreground was reduced to 0.\n",
      "Generating prompts for this batch\n"
     ]
    },
    {
     "name": "stderr",
     "output_type": "stream",
     "text": [
      " 32%|██████████████████████████████████████████████                                                                                                  | 16/50 [00:00<00:00, 38.14it/s]"
     ]
    },
    {
     "name": "stdout",
     "output_type": "stream",
     "text": [
      "n_background was reduced to 0.\n",
      "n_foreground was reduced to 0.\n",
      "n_foreground was reduced to 0.\n",
      "n_foreground was reduced to 0.\n"
     ]
    },
    {
     "name": "stderr",
     "output_type": "stream",
     "text": [
      " 90%|█████████████████████████████████████████████████████████████████████████████████████████████████████████████████████████████████▌              | 45/50 [00:01<00:00, 38.81it/s]"
     ]
    },
    {
     "name": "stdout",
     "output_type": "stream",
     "text": [
      "n_foreground was reduced to 0.\n",
      "n_foreground was reduced to 0.\n"
     ]
    },
    {
     "name": "stderr",
     "output_type": "stream",
     "text": [
      "100%|████████████████████████████████████████████████████████████████████████████████████████████████████████████████████████████████████████████████| 50/50 [00:01<00:00, 37.56it/s]\n"
     ]
    },
    {
     "name": "stdout",
     "output_type": "stream",
     "text": [
      "Generating prompts for this batch\n"
     ]
    },
    {
     "name": "stderr",
     "output_type": "stream",
     "text": [
      "  8%|███████████▌                                                                                                                                     | 4/50 [00:00<00:01, 39.81it/s]"
     ]
    },
    {
     "name": "stdout",
     "output_type": "stream",
     "text": [
      "n_foreground was reduced to 0.\n",
      "n_foreground was reduced to 0.\n"
     ]
    },
    {
     "name": "stderr",
     "output_type": "stream",
     "text": [
      " 16%|███████████████████████▏                                                                                                                         | 8/50 [00:00<00:01, 37.47it/s]"
     ]
    },
    {
     "name": "stdout",
     "output_type": "stream",
     "text": [
      "n_foreground was reduced to 0.\n"
     ]
    },
    {
     "name": "stderr",
     "output_type": "stream",
     "text": [
      " 48%|█████████████████████████████████████████████████████████████████████                                                                           | 24/50 [00:00<00:00, 35.41it/s]"
     ]
    },
    {
     "name": "stdout",
     "output_type": "stream",
     "text": [
      "n_foreground was reduced to 0.\n",
      "n_foreground was reduced to 0.\n",
      "n_foreground was reduced to 0.\n"
     ]
    },
    {
     "name": "stderr",
     "output_type": "stream",
     "text": [
      " 72%|███████████████████████████████████████████████████████████████████████████████████████████████████████▋                                        | 36/50 [00:00<00:00, 37.57it/s]"
     ]
    },
    {
     "name": "stdout",
     "output_type": "stream",
     "text": [
      "n_foreground was reduced to 0.\n",
      "n_foreground was reduced to 0.\n"
     ]
    },
    {
     "name": "stderr",
     "output_type": "stream",
     "text": [
      "100%|████████████████████████████████████████████████████████████████████████████████████████████████████████████████████████████████████████████████| 50/50 [00:01<00:00, 37.31it/s]"
     ]
    },
    {
     "name": "stdout",
     "output_type": "stream",
     "text": [
      "n_foreground was reduced to 0.\n",
      "n_background was reduced to 0.\n",
      "n_foreground was reduced to 0.\n"
     ]
    },
    {
     "name": "stderr",
     "output_type": "stream",
     "text": [
      "\n"
     ]
    },
    {
     "name": "stdout",
     "output_type": "stream",
     "text": [
      "Generating prompts for this batch\n"
     ]
    },
    {
     "name": "stderr",
     "output_type": "stream",
     "text": [
      " 10%|██████████████▌                                                                                                                                  | 5/50 [00:00<00:01, 40.55it/s]"
     ]
    },
    {
     "name": "stdout",
     "output_type": "stream",
     "text": [
      "n_foreground was reduced to 0.\n"
     ]
    },
    {
     "name": "stderr",
     "output_type": "stream",
     "text": [
      " 20%|████████████████████████████▊                                                                                                                   | 10/50 [00:00<00:00, 40.00it/s]"
     ]
    },
    {
     "name": "stdout",
     "output_type": "stream",
     "text": [
      "n_foreground was reduced to 0.\n"
     ]
    },
    {
     "name": "stderr",
     "output_type": "stream",
     "text": [
      " 30%|███████████████████████████████████████████▏                                                                                                    | 15/50 [00:00<00:00, 40.24it/s]"
     ]
    },
    {
     "name": "stdout",
     "output_type": "stream",
     "text": [
      "n_background was reduced to 0.\n",
      "n_foreground was reduced to 0.\n"
     ]
    },
    {
     "name": "stderr",
     "output_type": "stream",
     "text": [
      " 66%|███████████████████████████████████████████████████████████████████████████████████████████████                                                 | 33/50 [00:00<00:00, 36.34it/s]"
     ]
    },
    {
     "name": "stdout",
     "output_type": "stream",
     "text": [
      "n_foreground was reduced to 0.\n"
     ]
    },
    {
     "name": "stderr",
     "output_type": "stream",
     "text": [
      " 90%|█████████████████████████████████████████████████████████████████████████████████████████████████████████████████████████████████▌              | 45/50 [00:01<00:00, 35.83it/s]"
     ]
    },
    {
     "name": "stdout",
     "output_type": "stream",
     "text": [
      "n_foreground was reduced to 0.\n",
      "n_foreground was reduced to 0.\n"
     ]
    },
    {
     "name": "stderr",
     "output_type": "stream",
     "text": [
      "100%|████████████████████████████████████████████████████████████████████████████████████████████████████████████████████████████████████████████████| 50/50 [00:01<00:00, 37.47it/s]\n"
     ]
    },
    {
     "name": "stdout",
     "output_type": "stream",
     "text": [
      "n_foreground was reduced to 0.\n",
      "Generating prompts for this batch\n"
     ]
    },
    {
     "name": "stderr",
     "output_type": "stream",
     "text": [
      "100%|████████████████████████████████████████████████████████████████████████████████████████████████████████████████████████████████████████████████| 50/50 [00:01<00:00, 37.32it/s]"
     ]
    },
    {
     "name": "stdout",
     "output_type": "stream",
     "text": [
      "n_background was reduced to 0.\n",
      "n_foreground was reduced to 0.\n",
      "n_foreground was reduced to 0.\n"
     ]
    },
    {
     "name": "stderr",
     "output_type": "stream",
     "text": [
      "\n"
     ]
    },
    {
     "name": "stdout",
     "output_type": "stream",
     "text": [
      "Generating prompts for this batch\n"
     ]
    },
    {
     "name": "stderr",
     "output_type": "stream",
     "text": [
      " 28%|████████████████████████████████████████▎                                                                                                       | 14/50 [00:00<00:00, 38.23it/s]"
     ]
    },
    {
     "name": "stdout",
     "output_type": "stream",
     "text": [
      "n_background was reduced to 0.\n",
      "n_foreground was reduced to 0.\n",
      "n_foreground was reduced to 0.\n"
     ]
    },
    {
     "name": "stderr",
     "output_type": "stream",
     "text": [
      " 86%|███████████████████████████████████████████████████████████████████████████████████████████████████████████████████████████▊                    | 43/50 [00:01<00:00, 38.10it/s]"
     ]
    },
    {
     "name": "stdout",
     "output_type": "stream",
     "text": [
      "n_foreground was reduced to 0.\n",
      "n_foreground was reduced to 0.\n"
     ]
    },
    {
     "name": "stderr",
     "output_type": "stream",
     "text": [
      "100%|████████████████████████████████████████████████████████████████████████████████████████████████████████████████████████████████████████████████| 50/50 [00:01<00:00, 38.49it/s]\n"
     ]
    },
    {
     "name": "stdout",
     "output_type": "stream",
     "text": [
      "n_foreground was reduced to 0.\n",
      "n_foreground was reduced to 0.\n",
      "n_foreground was reduced to 0.\n",
      "n_foreground was reduced to 0.\n",
      "Generating prompts for this batch\n"
     ]
    },
    {
     "name": "stderr",
     "output_type": "stream",
     "text": [
      "  8%|███████████▌                                                                                                                                     | 4/50 [00:00<00:01, 39.06it/s]"
     ]
    },
    {
     "name": "stdout",
     "output_type": "stream",
     "text": [
      "n_foreground was reduced to 0.\n",
      "n_foreground was reduced to 0.\n",
      "n_background was reduced to 0.\n",
      "n_foreground was reduced to 0.\n",
      "n_foreground was reduced to 0.\n"
     ]
    },
    {
     "name": "stderr",
     "output_type": "stream",
     "text": [
      " 40%|█████████████████████████████████████████████████████████▌                                                                                      | 20/50 [00:00<00:00, 34.98it/s]"
     ]
    },
    {
     "name": "stdout",
     "output_type": "stream",
     "text": [
      "n_foreground was reduced to 0.\n"
     ]
    },
    {
     "name": "stderr",
     "output_type": "stream",
     "text": [
      " 56%|████████████████████████████████████████████████████████████████████████████████▋                                                               | 28/50 [00:00<00:00, 36.84it/s]"
     ]
    },
    {
     "name": "stdout",
     "output_type": "stream",
     "text": [
      "n_foreground was reduced to 0.\n",
      "n_foreground was reduced to 0.\n"
     ]
    },
    {
     "name": "stderr",
     "output_type": "stream",
     "text": [
      " 82%|██████████████████████████████████████████████████████████████████████████████████████████████████████████████████████                          | 41/50 [00:01<00:00, 37.63it/s]"
     ]
    },
    {
     "name": "stdout",
     "output_type": "stream",
     "text": [
      "n_foreground was reduced to 0.\n",
      "n_foreground was reduced to 0.\n"
     ]
    },
    {
     "name": "stderr",
     "output_type": "stream",
     "text": [
      "100%|████████████████████████████████████████████████████████████████████████████████████████████████████████████████████████████████████████████████| 50/50 [00:01<00:00, 36.69it/s]"
     ]
    },
    {
     "name": "stdout",
     "output_type": "stream",
     "text": [
      "n_foreground was reduced to 0.\n"
     ]
    },
    {
     "name": "stderr",
     "output_type": "stream",
     "text": [
      "\n"
     ]
    },
    {
     "name": "stdout",
     "output_type": "stream",
     "text": [
      "Generating prompts for this batch\n"
     ]
    },
    {
     "name": "stderr",
     "output_type": "stream",
     "text": [
      " 32%|██████████████████████████████████████████████                                                                                                  | 16/50 [00:00<00:00, 37.66it/s]"
     ]
    },
    {
     "name": "stdout",
     "output_type": "stream",
     "text": [
      "n_foreground was reduced to 0.\n",
      "n_foreground was reduced to 0.\n"
     ]
    },
    {
     "name": "stderr",
     "output_type": "stream",
     "text": [
      " 56%|████████████████████████████████████████████████████████████████████████████████▋                                                               | 28/50 [00:00<00:00, 36.53it/s]"
     ]
    },
    {
     "name": "stdout",
     "output_type": "stream",
     "text": [
      "n_foreground was reduced to 0.\n"
     ]
    },
    {
     "name": "stderr",
     "output_type": "stream",
     "text": [
      " 82%|██████████████████████████████████████████████████████████████████████████████████████████████████████████████████████                          | 41/50 [00:01<00:00, 38.71it/s]"
     ]
    },
    {
     "name": "stdout",
     "output_type": "stream",
     "text": [
      "n_foreground was reduced to 0.\n",
      "n_foreground was reduced to 0.\n",
      "n_foreground was reduced to 0.\n"
     ]
    },
    {
     "name": "stderr",
     "output_type": "stream",
     "text": [
      " 92%|████████████████████████████████████████████████████████████████████████████████████████████████████████████████████████████████████▍           | 46/50 [00:01<00:00, 39.05it/s]"
     ]
    },
    {
     "name": "stdout",
     "output_type": "stream",
     "text": [
      "n_background was reduced to 0.\n",
      "n_foreground was reduced to 0.\n",
      "n_foreground was reduced to 0.\n"
     ]
    },
    {
     "name": "stderr",
     "output_type": "stream",
     "text": [
      "100%|████████████████████████████████████████████████████████████████████████████████████████████████████████████████████████████████████████████████| 50/50 [00:01<00:00, 37.94it/s]\n"
     ]
    },
    {
     "name": "stdout",
     "output_type": "stream",
     "text": [
      "Generating prompts for this batch\n"
     ]
    },
    {
     "name": "stderr",
     "output_type": "stream",
     "text": [
      "  8%|███████████▌                                                                                                                                     | 4/50 [00:00<00:01, 33.07it/s]"
     ]
    },
    {
     "name": "stdout",
     "output_type": "stream",
     "text": [
      "n_foreground was reduced to 0.\n"
     ]
    },
    {
     "name": "stderr",
     "output_type": "stream",
     "text": [
      "100%|████████████████████████████████████████████████████████████████████████████████████████████████████████████████████████████████████████████████| 50/50 [00:01<00:00, 36.39it/s]\n"
     ]
    },
    {
     "name": "stdout",
     "output_type": "stream",
     "text": [
      "Generating prompts for this batch\n"
     ]
    },
    {
     "name": "stderr",
     "output_type": "stream",
     "text": [
      " 28%|████████████████████████████████████████▎                                                                                                       | 14/50 [00:00<00:00, 39.73it/s]"
     ]
    },
    {
     "name": "stdout",
     "output_type": "stream",
     "text": [
      "n_foreground was reduced to 0.\n"
     ]
    },
    {
     "name": "stderr",
     "output_type": "stream",
     "text": [
      " 48%|█████████████████████████████████████████████████████████████████████                                                                           | 24/50 [00:00<00:00, 39.40it/s]"
     ]
    },
    {
     "name": "stdout",
     "output_type": "stream",
     "text": [
      "n_foreground was reduced to 0.\n"
     ]
    },
    {
     "name": "stderr",
     "output_type": "stream",
     "text": [
      " 82%|██████████████████████████████████████████████████████████████████████████████████████████████████████████████████████                          | 41/50 [00:01<00:00, 38.85it/s]"
     ]
    },
    {
     "name": "stdout",
     "output_type": "stream",
     "text": [
      "n_foreground was reduced to 0.\n"
     ]
    },
    {
     "name": "stderr",
     "output_type": "stream",
     "text": [
      "100%|████████████████████████████████████████████████████████████████████████████████████████████████████████████████████████████████████████████████| 50/50 [00:01<00:00, 38.72it/s]\n"
     ]
    },
    {
     "name": "stdout",
     "output_type": "stream",
     "text": [
      "Generating prompts for this batch\n"
     ]
    },
    {
     "name": "stderr",
     "output_type": "stream",
     "text": [
      " 36%|███████████████████████████████████████████████████▊                                                                                            | 18/50 [00:00<00:00, 39.62it/s]"
     ]
    },
    {
     "name": "stdout",
     "output_type": "stream",
     "text": [
      "n_background was reduced to 0.\n",
      "n_foreground was reduced to 0.\n",
      "n_foreground was reduced to 0.\n"
     ]
    },
    {
     "name": "stderr",
     "output_type": "stream",
     "text": [
      " 72%|███████████████████████████████████████████████████████████████████████████████████████████████████████▋                                        | 36/50 [00:00<00:00, 39.68it/s]"
     ]
    },
    {
     "name": "stdout",
     "output_type": "stream",
     "text": [
      "n_foreground was reduced to 0.\n",
      "n_foreground was reduced to 0.\n"
     ]
    },
    {
     "name": "stderr",
     "output_type": "stream",
     "text": [
      " 90%|█████████████████████████████████████████████████████████████████████████████████████████████████████████████████████████████████▌              | 45/50 [00:01<00:00, 38.67it/s]"
     ]
    },
    {
     "name": "stdout",
     "output_type": "stream",
     "text": [
      "n_foreground was reduced to 0.\n"
     ]
    },
    {
     "name": "stderr",
     "output_type": "stream",
     "text": [
      "100%|████████████████████████████████████████████████████████████████████████████████████████████████████████████████████████████████████████████████| 50/50 [00:01<00:00, 38.86it/s]\n"
     ]
    },
    {
     "name": "stdout",
     "output_type": "stream",
     "text": [
      "n_foreground was reduced to 0.\n",
      "n_foreground was reduced to 0.\n",
      "Generating prompts for this batch\n"
     ]
    },
    {
     "name": "stderr",
     "output_type": "stream",
     "text": [
      "  8%|███████████▌                                                                                                                                     | 4/50 [00:00<00:01, 33.83it/s]"
     ]
    },
    {
     "name": "stdout",
     "output_type": "stream",
     "text": [
      "n_foreground was reduced to 0.\n"
     ]
    },
    {
     "name": "stderr",
     "output_type": "stream",
     "text": [
      " 26%|█████████████████████████████████████▍                                                                                                          | 13/50 [00:00<00:00, 37.45it/s]"
     ]
    },
    {
     "name": "stdout",
     "output_type": "stream",
     "text": [
      "n_foreground was reduced to 0.\n"
     ]
    },
    {
     "name": "stderr",
     "output_type": "stream",
     "text": [
      " 42%|████████████████████████████████████████████████████████████▍                                                                                   | 21/50 [00:00<00:00, 36.93it/s]"
     ]
    },
    {
     "name": "stdout",
     "output_type": "stream",
     "text": [
      "n_foreground was reduced to 0.\n",
      "n_foreground was reduced to 0.\n"
     ]
    },
    {
     "name": "stderr",
     "output_type": "stream",
     "text": [
      " 66%|███████████████████████████████████████████████████████████████████████████████████████████████                                                 | 33/50 [00:00<00:00, 37.54it/s]"
     ]
    },
    {
     "name": "stdout",
     "output_type": "stream",
     "text": [
      "n_background was reduced to 0.\n",
      "n_foreground was reduced to 0.\n",
      "n_foreground was reduced to 0.\n"
     ]
    },
    {
     "name": "stderr",
     "output_type": "stream",
     "text": [
      " 76%|█████████████████████████████████████████████████████████████████████████████████████████████████████████████▍                                  | 38/50 [00:01<00:00, 38.22it/s]"
     ]
    },
    {
     "name": "stdout",
     "output_type": "stream",
     "text": [
      "n_background was reduced to 0.\n",
      "n_foreground was reduced to 0.\n",
      "n_foreground was reduced to 0.\n",
      "n_foreground was reduced to 0.\n"
     ]
    },
    {
     "name": "stderr",
     "output_type": "stream",
     "text": [
      "100%|████████████████████████████████████████████████████████████████████████████████████████████████████████████████████████████████████████████████| 50/50 [00:01<00:00, 37.98it/s]\n"
     ]
    },
    {
     "name": "stdout",
     "output_type": "stream",
     "text": [
      "n_foreground was reduced to 0.\n",
      "Generating prompts for this batch\n"
     ]
    },
    {
     "name": "stderr",
     "output_type": "stream",
     "text": [
      "  8%|███████████▌                                                                                                                                     | 4/50 [00:00<00:01, 39.19it/s]"
     ]
    },
    {
     "name": "stdout",
     "output_type": "stream",
     "text": [
      "n_foreground was reduced to 0.\n",
      "n_background was reduced to 0.\n",
      "n_foreground was reduced to 0.\n"
     ]
    },
    {
     "name": "stderr",
     "output_type": "stream",
     "text": [
      " 16%|███████████████████████▏                                                                                                                         | 8/50 [00:00<00:01, 37.11it/s]"
     ]
    },
    {
     "name": "stdout",
     "output_type": "stream",
     "text": [
      "n_foreground was reduced to 0.\n"
     ]
    },
    {
     "name": "stderr",
     "output_type": "stream",
     "text": [
      " 24%|██████████████████████████████████▌                                                                                                             | 12/50 [00:00<00:01, 34.53it/s]"
     ]
    },
    {
     "name": "stdout",
     "output_type": "stream",
     "text": [
      "n_foreground was reduced to 0.\n"
     ]
    },
    {
     "name": "stderr",
     "output_type": "stream",
     "text": [
      " 42%|████████████████████████████████████████████████████████████▍                                                                                   | 21/50 [00:00<00:00, 35.70it/s]"
     ]
    },
    {
     "name": "stdout",
     "output_type": "stream",
     "text": [
      "n_foreground was reduced to 0.\n"
     ]
    },
    {
     "name": "stderr",
     "output_type": "stream",
     "text": [
      " 58%|███████████████████████████████████████████████████████████████████████████████████▌                                                            | 29/50 [00:00<00:00, 35.77it/s]"
     ]
    },
    {
     "name": "stdout",
     "output_type": "stream",
     "text": [
      "n_foreground was reduced to 0.\n",
      "n_foreground was reduced to 0.\n",
      "n_foreground was reduced to 0.\n",
      "n_foreground was reduced to 0.\n"
     ]
    },
    {
     "name": "stderr",
     "output_type": "stream",
     "text": [
      " 84%|████████████████████████████████████████████████████████████████████████████████████████████████████████████████████████▉                       | 42/50 [00:01<00:00, 36.16it/s]"
     ]
    },
    {
     "name": "stdout",
     "output_type": "stream",
     "text": [
      "n_foreground was reduced to 0.\n",
      "n_foreground was reduced to 0.\n"
     ]
    },
    {
     "name": "stderr",
     "output_type": "stream",
     "text": [
      "100%|████████████████████████████████████████████████████████████████████████████████████████████████████████████████████████████████████████████████| 50/50 [00:01<00:00, 36.00it/s]\n"
     ]
    },
    {
     "name": "stdout",
     "output_type": "stream",
     "text": [
      "n_foreground was reduced to 0.\n",
      "n_foreground was reduced to 0.\n",
      "Generating prompts for this batch\n"
     ]
    },
    {
     "name": "stderr",
     "output_type": "stream",
     "text": [
      " 46%|██████████████████████████████████████████████████████████████████▏                                                                             | 23/50 [00:00<00:00, 40.50it/s]"
     ]
    },
    {
     "name": "stdout",
     "output_type": "stream",
     "text": [
      "n_foreground was reduced to 0.\n",
      "n_foreground was reduced to 0.\n",
      "n_background was reduced to 0.\n",
      "n_foreground was reduced to 0.\n"
     ]
    },
    {
     "name": "stderr",
     "output_type": "stream",
     "text": [
      " 92%|████████████████████████████████████████████████████████████████████████████████████████████████████████████████████████████████████▍           | 46/50 [00:01<00:00, 39.88it/s]"
     ]
    },
    {
     "name": "stdout",
     "output_type": "stream",
     "text": [
      "n_foreground was reduced to 0.\n",
      "n_foreground was reduced to 0.\n"
     ]
    },
    {
     "name": "stderr",
     "output_type": "stream",
     "text": [
      "100%|████████████████████████████████████████████████████████████████████████████████████████████████████████████████████████████████████████████████| 50/50 [00:01<00:00, 39.29it/s]\n"
     ]
    },
    {
     "name": "stdout",
     "output_type": "stream",
     "text": [
      "n_foreground was reduced to 0.\n",
      "Generating prompts for this batch\n"
     ]
    },
    {
     "name": "stderr",
     "output_type": "stream",
     "text": [
      "  8%|███████████▌                                                                                                                                     | 4/50 [00:00<00:01, 33.64it/s]"
     ]
    },
    {
     "name": "stdout",
     "output_type": "stream",
     "text": [
      "n_foreground was reduced to 0.\n"
     ]
    },
    {
     "name": "stderr",
     "output_type": "stream",
     "text": [
      " 42%|████████████████████████████████████████████████████████████▍                                                                                   | 21/50 [00:00<00:00, 38.59it/s]"
     ]
    },
    {
     "name": "stdout",
     "output_type": "stream",
     "text": [
      "n_foreground was reduced to 0.\n",
      "n_background was reduced to 0.\n",
      "n_foreground was reduced to 0.\n",
      "n_foreground was reduced to 0.\n"
     ]
    },
    {
     "name": "stderr",
     "output_type": "stream",
     "text": [
      " 60%|██████████████████████████████████████████████████████████████████████████████████████▍                                                         | 30/50 [00:00<00:00, 38.54it/s]"
     ]
    },
    {
     "name": "stdout",
     "output_type": "stream",
     "text": [
      "n_foreground was reduced to 0.\n",
      "n_background was reduced to 0.\n",
      "n_foreground was reduced to 0.\n"
     ]
    },
    {
     "name": "stderr",
     "output_type": "stream",
     "text": [
      " 88%|██████████████████████████████████████████████████████████████████████████████████████████████████████████████████████████████▋                 | 44/50 [00:01<00:00, 40.68it/s]"
     ]
    },
    {
     "name": "stdout",
     "output_type": "stream",
     "text": [
      "n_foreground was reduced to 0.\n",
      "n_foreground was reduced to 0.\n",
      "n_foreground was reduced to 0.\n"
     ]
    },
    {
     "name": "stderr",
     "output_type": "stream",
     "text": [
      "100%|████████████████████████████████████████████████████████████████████████████████████████████████████████████████████████████████████████████████| 50/50 [00:01<00:00, 39.16it/s]\n"
     ]
    },
    {
     "name": "stdout",
     "output_type": "stream",
     "text": [
      "Generating prompts for this batch\n"
     ]
    },
    {
     "name": "stderr",
     "output_type": "stream",
     "text": [
      " 12%|█████████████████▎                                                                                                                               | 5/42 [00:00<00:00, 43.54it/s]"
     ]
    },
    {
     "name": "stdout",
     "output_type": "stream",
     "text": [
      "n_foreground was reduced to 0.\n",
      "n_foreground was reduced to 0.\n"
     ]
    },
    {
     "name": "stderr",
     "output_type": "stream",
     "text": [
      " 67%|████████████████████████████████████████████████████████████████████████████████████████████████                                                | 28/42 [00:00<00:00, 38.07it/s]"
     ]
    },
    {
     "name": "stdout",
     "output_type": "stream",
     "text": [
      "n_background was reduced to 0.\n",
      "n_foreground was reduced to 0.\n",
      "n_foreground was reduced to 0.\n",
      "n_background was reduced to 0.\n",
      "n_foreground was reduced to 0.\n",
      "n_foreground was reduced to 0.\n"
     ]
    },
    {
     "name": "stderr",
     "output_type": "stream",
     "text": [
      "100%|████████████████████████████████████████████████████████████████████████████████████████████████████████████████████████████████████████████████| 42/42 [00:01<00:00, 38.29it/s]\n"
     ]
    },
    {
     "name": "stdout",
     "output_type": "stream",
     "text": [
      "n_background was reduced to 0.\n",
      "n_foreground was reduced to 0.\n",
      "n_foreground was reduced to 0.\n",
      "n_background was reduced to 0.\n",
      "n_foreground was reduced to 0.\n",
      "n_foreground was reduced to 0.\n"
     ]
    }
   ],
   "source": [
    "all_masks = []\n",
    "all_prompts = {1:[],2:[],3:[]}\n",
    "print(\"Loading batch\")\n",
    "scores={}\n",
    "for batch in tqdm(dataloader):\n",
    "    embeddings, ground_truths = batch\n",
    "    prompt_class_1 = []\n",
    "    prompt_class_2 = []\n",
    "    prompt_class_3 = []\n",
    "    for ground_truth in ground_truths:\n",
    "        prompt_class_1.append(batch_sample_from_class(50, ground_truth, 1, n_foreground = 1, n_background= 1))\n",
    "        prompt_class_2.append(batch_sample_from_class(50, ground_truth, 2, n_foreground = 1, n_background= 1))\n",
    "        prompt_class_3.append(batch_sample_from_class(50, ground_truth, 3, n_foreground = 1, n_background= 1))\n",
    "        all_prompts[1].extend(prompt_class_1)\n",
    "        all_prompts[2].extend(prompt_class_2)\n",
    "        all_prompts[3].extend(prompt_class_3)\n",
    "    ana = analyze(embeddings,ground_truths)    \n",
    "    masks= ana.generate_masks(prompt_class_1,prompt_class_2,prompt_class_3,50)\n",
    "    all_masks.append(masks)\n",
    "    for metric,f in ana.metrics.items():\n",
    "        if metric not in scores.keys():\n",
    "            scores[metric] = ana.scoring_function(f)\n",
    "        else: \n",
    "            scores[metric] = torch.cat([scores[metric],ana.scoring_function(f)],dim = 0)\n"
   ]
  },
  {
   "cell_type": "code",
   "execution_count": 6,
   "id": "78fe8c84-bdc2-4373-a57a-edf709c9d3ea",
   "metadata": {},
   "outputs": [],
   "source": [
    "results = ana.get_results(scores[\"dice_score\"],scores[\"iou\"],scores[\"accuracy\"],(1,1),(1,1),(1,1))\n",
    "re = Results(\"../ACDC\",\"neg_and_pos_0101\")\n",
    "re.append_row(results)"
   ]
  },
  {
   "cell_type": "code",
   "execution_count": null,
   "id": "454042b2-1225-4768-9eea-bb4dde1fa0d2",
   "metadata": {},
   "outputs": [],
   "source": [
    "import pickle\n",
    "file_path = \"../ACDC/\"\n",
    "with open(f\"{file_path}prompts.pickle\", 'wb') as f1:\n",
    "    pickle.dump(all_prompts, f1)\n",
    "with open(f\"{file_path}masks.pickle\", 'wb') as f2:\n",
    "    pickle.dump(all_masks, f2)\n"
   ]
  },
  {
   "cell_type": "markdown",
   "id": "435c1261-883d-4009-99f0-4fcc49dcc402",
   "metadata": {},
   "source": [
    "## Pipeline 2"
   ]
  },
  {
   "cell_type": "markdown",
   "id": "9ae96b02-7b34-4a24-8d16-949da138d7b3",
   "metadata": {},
   "source": [
    "- Only 1 positive point\n",
    "- Batch of size 50 images, 50 prompts per image"
   ]
  },
  {
   "cell_type": "code",
   "execution_count": 2,
   "id": "2ba52b74-c332-49a4-89ff-08f94315f4b8",
   "metadata": {},
   "outputs": [
    {
     "name": "stdout",
     "output_type": "stream",
     "text": [
      "Loading batch\n"
     ]
    },
    {
     "name": "stderr",
     "output_type": "stream",
     "text": [
      "  0%|            | 0/57 [00:00<?, ?it/s]"
     ]
    },
    {
     "name": "stdout",
     "output_type": "stream",
     "text": [
      "n_foreground was reduced to 0.\n",
      "n_foreground was reduced to 0.\n",
      "n_foreground was reduced to 0.\n",
      "n_foreground was reduced to 0.\n",
      "n_foreground was reduced to 0.\n",
      "n_foreground was reduced to 0.\n"
     ]
    },
    {
     "name": "stderr",
     "output_type": "stream",
     "text": [
      "  2%|  | 1/57 [01:06<1:02:02, 66.47s/it]"
     ]
    },
    {
     "name": "stdout",
     "output_type": "stream",
     "text": [
      "n_foreground was reduced to 0.\n",
      "n_foreground was reduced to 0.\n",
      "n_foreground was reduced to 0.\n",
      "n_foreground was reduced to 0.\n",
      "n_foreground was reduced to 0.\n",
      "n_foreground was reduced to 0.\n",
      "n_foreground was reduced to 0.\n",
      "n_foreground was reduced to 0.\n",
      "n_foreground was reduced to 0.\n",
      "n_foreground was reduced to 0.\n",
      "n_foreground was reduced to 0.\n",
      "n_foreground was reduced to 0.\n",
      "n_foreground was reduced to 0.\n",
      "n_foreground was reduced to 0.\n",
      "n_foreground was reduced to 0.\n",
      "n_foreground was reduced to 0.\n"
     ]
    },
    {
     "name": "stderr",
     "output_type": "stream",
     "text": [
      "  4%|▏   | 2/57 [01:38<42:14, 46.08s/it]"
     ]
    },
    {
     "name": "stdout",
     "output_type": "stream",
     "text": [
      "n_foreground was reduced to 0.\n",
      "n_foreground was reduced to 0.\n",
      "n_foreground was reduced to 0.\n",
      "n_foreground was reduced to 0.\n",
      "n_foreground was reduced to 0.\n"
     ]
    },
    {
     "name": "stderr",
     "output_type": "stream",
     "text": [
      "  5%|▏   | 3/57 [02:10<35:36, 39.57s/it]"
     ]
    },
    {
     "name": "stdout",
     "output_type": "stream",
     "text": [
      "n_foreground was reduced to 0.\n",
      "n_foreground was reduced to 0.\n",
      "n_foreground was reduced to 0.\n",
      "n_foreground was reduced to 0.\n",
      "n_foreground was reduced to 0.\n",
      "n_foreground was reduced to 0.\n",
      "n_foreground was reduced to 0.\n",
      "n_foreground was reduced to 0.\n",
      "n_foreground was reduced to 0.\n",
      "n_foreground was reduced to 0.\n",
      "n_foreground was reduced to 0.\n"
     ]
    },
    {
     "name": "stderr",
     "output_type": "stream",
     "text": [
      "  7%|▎   | 4/57 [02:41<32:14, 36.50s/it]"
     ]
    },
    {
     "name": "stdout",
     "output_type": "stream",
     "text": [
      "n_foreground was reduced to 0.\n",
      "n_foreground was reduced to 0.\n",
      "n_foreground was reduced to 0.\n",
      "n_foreground was reduced to 0.\n",
      "n_foreground was reduced to 0.\n",
      "n_foreground was reduced to 0.\n",
      "n_foreground was reduced to 0.\n",
      "n_foreground was reduced to 0.\n",
      "n_foreground was reduced to 0.\n",
      "n_foreground was reduced to 0.\n",
      "n_foreground was reduced to 0.\n",
      "n_foreground was reduced to 0.\n",
      "n_foreground was reduced to 0.\n",
      "n_foreground was reduced to 0.\n",
      "n_foreground was reduced to 0.\n",
      "n_foreground was reduced to 0.\n",
      "n_foreground was reduced to 0.\n"
     ]
    },
    {
     "name": "stderr",
     "output_type": "stream",
     "text": [
      "  9%|▎   | 5/57 [03:13<30:10, 34.82s/it]"
     ]
    },
    {
     "name": "stdout",
     "output_type": "stream",
     "text": [
      "n_foreground was reduced to 0.\n",
      "n_foreground was reduced to 0.\n",
      "n_foreground was reduced to 0.\n",
      "n_foreground was reduced to 0.\n",
      "n_foreground was reduced to 0.\n",
      "n_foreground was reduced to 0.\n",
      "n_foreground was reduced to 0.\n"
     ]
    },
    {
     "name": "stderr",
     "output_type": "stream",
     "text": [
      " 11%|▍   | 6/57 [03:45<28:44, 33.82s/it]"
     ]
    },
    {
     "name": "stdout",
     "output_type": "stream",
     "text": [
      "n_foreground was reduced to 0.\n",
      "n_foreground was reduced to 0.\n",
      "n_foreground was reduced to 0.\n",
      "n_foreground was reduced to 0.\n",
      "n_foreground was reduced to 0.\n",
      "n_foreground was reduced to 0.\n",
      "n_foreground was reduced to 0.\n"
     ]
    },
    {
     "name": "stderr",
     "output_type": "stream",
     "text": [
      " 12%|▍   | 7/57 [04:17<27:38, 33.18s/it]"
     ]
    },
    {
     "name": "stdout",
     "output_type": "stream",
     "text": [
      "n_foreground was reduced to 0.\n",
      "n_foreground was reduced to 0.\n",
      "n_foreground was reduced to 0.\n",
      "n_foreground was reduced to 0.\n",
      "n_foreground was reduced to 0.\n",
      "n_foreground was reduced to 0.\n",
      "n_foreground was reduced to 0.\n",
      "n_foreground was reduced to 0.\n",
      "n_foreground was reduced to 0.\n",
      "n_foreground was reduced to 0.\n",
      "n_foreground was reduced to 0.\n",
      "n_foreground was reduced to 0.\n"
     ]
    },
    {
     "name": "stderr",
     "output_type": "stream",
     "text": [
      " 14%|▌   | 8/57 [04:49<26:45, 32.76s/it]"
     ]
    },
    {
     "name": "stdout",
     "output_type": "stream",
     "text": [
      "n_foreground was reduced to 0.\n",
      "n_foreground was reduced to 0.\n",
      "n_foreground was reduced to 0.\n",
      "n_foreground was reduced to 0.\n"
     ]
    },
    {
     "name": "stderr",
     "output_type": "stream",
     "text": [
      " 16%|▋   | 9/57 [05:21<25:59, 32.49s/it]"
     ]
    },
    {
     "name": "stdout",
     "output_type": "stream",
     "text": [
      "n_foreground was reduced to 0.\n",
      "n_foreground was reduced to 0.\n",
      "n_foreground was reduced to 0.\n",
      "n_foreground was reduced to 0.\n",
      "n_foreground was reduced to 0.\n"
     ]
    },
    {
     "name": "stderr",
     "output_type": "stream",
     "text": [
      " 18%|▌  | 10/57 [05:53<25:18, 32.30s/it]"
     ]
    },
    {
     "name": "stdout",
     "output_type": "stream",
     "text": [
      "n_foreground was reduced to 0.\n",
      "n_foreground was reduced to 0.\n"
     ]
    },
    {
     "name": "stderr",
     "output_type": "stream",
     "text": [
      " 19%|▌  | 11/57 [06:24<24:39, 32.17s/it]"
     ]
    },
    {
     "name": "stdout",
     "output_type": "stream",
     "text": [
      "n_foreground was reduced to 0.\n",
      "n_foreground was reduced to 0.\n",
      "n_foreground was reduced to 0.\n",
      "n_foreground was reduced to 0.\n",
      "n_foreground was reduced to 0.\n",
      "n_foreground was reduced to 0.\n",
      "n_foreground was reduced to 0.\n",
      "n_foreground was reduced to 0.\n"
     ]
    },
    {
     "name": "stderr",
     "output_type": "stream",
     "text": [
      " 21%|▋  | 12/57 [06:56<24:03, 32.08s/it]"
     ]
    },
    {
     "name": "stdout",
     "output_type": "stream",
     "text": [
      "n_foreground was reduced to 0.\n",
      "n_foreground was reduced to 0.\n",
      "n_foreground was reduced to 0.\n",
      "n_foreground was reduced to 0.\n",
      "n_foreground was reduced to 0.\n",
      "n_foreground was reduced to 0.\n",
      "n_foreground was reduced to 0.\n"
     ]
    },
    {
     "name": "stderr",
     "output_type": "stream",
     "text": [
      " 23%|▋  | 13/57 [07:28<23:28, 32.02s/it]"
     ]
    },
    {
     "name": "stdout",
     "output_type": "stream",
     "text": [
      "n_foreground was reduced to 0.\n",
      "n_foreground was reduced to 0.\n",
      "n_foreground was reduced to 0.\n",
      "n_foreground was reduced to 0.\n",
      "n_foreground was reduced to 0.\n",
      "n_foreground was reduced to 0.\n"
     ]
    },
    {
     "name": "stderr",
     "output_type": "stream",
     "text": [
      " 25%|▋  | 14/57 [08:00<22:54, 31.98s/it]"
     ]
    },
    {
     "name": "stdout",
     "output_type": "stream",
     "text": [
      "n_foreground was reduced to 0.\n",
      "n_foreground was reduced to 0.\n",
      "n_foreground was reduced to 0.\n",
      "n_foreground was reduced to 0.\n",
      "n_foreground was reduced to 0.\n",
      "n_foreground was reduced to 0.\n",
      "n_foreground was reduced to 0.\n",
      "n_foreground was reduced to 0.\n",
      "n_foreground was reduced to 0.\n"
     ]
    },
    {
     "name": "stderr",
     "output_type": "stream",
     "text": [
      " 26%|▊  | 15/57 [08:32<22:21, 31.95s/it]"
     ]
    },
    {
     "name": "stdout",
     "output_type": "stream",
     "text": [
      "n_foreground was reduced to 0.\n",
      "n_foreground was reduced to 0.\n",
      "n_foreground was reduced to 0.\n",
      "n_foreground was reduced to 0.\n",
      "n_foreground was reduced to 0.\n",
      "n_foreground was reduced to 0.\n",
      "n_foreground was reduced to 0.\n",
      "n_foreground was reduced to 0.\n"
     ]
    },
    {
     "name": "stderr",
     "output_type": "stream",
     "text": [
      " 28%|▊  | 16/57 [09:04<21:49, 31.93s/it]"
     ]
    },
    {
     "name": "stdout",
     "output_type": "stream",
     "text": [
      "n_foreground was reduced to 0.\n",
      "n_foreground was reduced to 0.\n",
      "n_foreground was reduced to 0.\n",
      "n_foreground was reduced to 0.\n",
      "n_foreground was reduced to 0.\n",
      "n_foreground was reduced to 0.\n",
      "n_foreground was reduced to 0.\n",
      "n_foreground was reduced to 0.\n",
      "n_foreground was reduced to 0.\n",
      "n_foreground was reduced to 0.\n",
      "n_foreground was reduced to 0.\n",
      "n_foreground was reduced to 0.\n",
      "n_foreground was reduced to 0.\n",
      "n_foreground was reduced to 0.\n",
      "n_foreground was reduced to 0.\n",
      "n_foreground was reduced to 0.\n"
     ]
    },
    {
     "name": "stderr",
     "output_type": "stream",
     "text": [
      " 30%|▉  | 17/57 [09:36<21:16, 31.90s/it]"
     ]
    },
    {
     "name": "stdout",
     "output_type": "stream",
     "text": [
      "n_foreground was reduced to 0.\n",
      "n_foreground was reduced to 0.\n",
      "n_foreground was reduced to 0.\n",
      "n_foreground was reduced to 0.\n",
      "n_foreground was reduced to 0.\n",
      "n_foreground was reduced to 0.\n",
      "n_foreground was reduced to 0.\n",
      "n_foreground was reduced to 0.\n",
      "n_foreground was reduced to 0.\n",
      "n_foreground was reduced to 0.\n",
      "n_foreground was reduced to 0.\n",
      "n_foreground was reduced to 0.\n",
      "n_foreground was reduced to 0.\n",
      "n_foreground was reduced to 0.\n"
     ]
    },
    {
     "name": "stderr",
     "output_type": "stream",
     "text": [
      " 32%|▉  | 18/57 [10:08<20:43, 31.90s/it]"
     ]
    },
    {
     "name": "stdout",
     "output_type": "stream",
     "text": [
      "n_foreground was reduced to 0.\n",
      "n_foreground was reduced to 0.\n",
      "n_foreground was reduced to 0.\n",
      "n_foreground was reduced to 0.\n"
     ]
    },
    {
     "name": "stderr",
     "output_type": "stream",
     "text": [
      " 33%|█  | 19/57 [10:39<20:11, 31.89s/it]"
     ]
    },
    {
     "name": "stdout",
     "output_type": "stream",
     "text": [
      "n_foreground was reduced to 0.\n",
      "n_foreground was reduced to 0.\n",
      "n_foreground was reduced to 0.\n",
      "n_foreground was reduced to 0.\n",
      "n_foreground was reduced to 0.\n",
      "n_foreground was reduced to 0.\n",
      "n_foreground was reduced to 0.\n"
     ]
    },
    {
     "name": "stderr",
     "output_type": "stream",
     "text": [
      " 35%|█  | 20/57 [11:11<19:39, 31.89s/it]"
     ]
    },
    {
     "name": "stdout",
     "output_type": "stream",
     "text": [
      "n_foreground was reduced to 0.\n",
      "n_foreground was reduced to 0.\n",
      "n_foreground was reduced to 0.\n",
      "n_foreground was reduced to 0.\n"
     ]
    },
    {
     "name": "stderr",
     "output_type": "stream",
     "text": [
      " 37%|█  | 21/57 [11:43<19:08, 31.90s/it]"
     ]
    },
    {
     "name": "stdout",
     "output_type": "stream",
     "text": [
      "n_foreground was reduced to 0.\n",
      "n_foreground was reduced to 0.\n",
      "n_foreground was reduced to 0.\n",
      "n_foreground was reduced to 0.\n",
      "n_foreground was reduced to 0.\n",
      "n_foreground was reduced to 0.\n",
      "n_foreground was reduced to 0.\n",
      "n_foreground was reduced to 0.\n",
      "n_foreground was reduced to 0.\n",
      "n_foreground was reduced to 0.\n",
      "n_foreground was reduced to 0.\n"
     ]
    },
    {
     "name": "stderr",
     "output_type": "stream",
     "text": [
      " 39%|█▏ | 22/57 [12:15<18:36, 31.90s/it]"
     ]
    },
    {
     "name": "stdout",
     "output_type": "stream",
     "text": [
      "n_foreground was reduced to 0.\n",
      "n_foreground was reduced to 0.\n",
      "n_foreground was reduced to 0.\n",
      "n_foreground was reduced to 0.\n",
      "n_foreground was reduced to 0.\n",
      "n_foreground was reduced to 0.\n",
      "n_foreground was reduced to 0.\n",
      "n_foreground was reduced to 0.\n"
     ]
    },
    {
     "name": "stderr",
     "output_type": "stream",
     "text": [
      " 40%|█▏ | 23/57 [12:47<18:04, 31.89s/it]"
     ]
    },
    {
     "name": "stdout",
     "output_type": "stream",
     "text": [
      "n_foreground was reduced to 0.\n",
      "n_foreground was reduced to 0.\n"
     ]
    },
    {
     "name": "stderr",
     "output_type": "stream",
     "text": [
      " 42%|█▎ | 24/57 [13:19<17:32, 31.90s/it]"
     ]
    },
    {
     "name": "stdout",
     "output_type": "stream",
     "text": [
      "n_foreground was reduced to 0.\n",
      "n_foreground was reduced to 0.\n",
      "n_foreground was reduced to 0.\n",
      "n_foreground was reduced to 0.\n",
      "n_foreground was reduced to 0.\n",
      "n_foreground was reduced to 0.\n"
     ]
    },
    {
     "name": "stderr",
     "output_type": "stream",
     "text": [
      " 44%|█▎ | 25/57 [13:51<17:00, 31.89s/it]"
     ]
    },
    {
     "name": "stdout",
     "output_type": "stream",
     "text": [
      "n_foreground was reduced to 0.\n",
      "n_foreground was reduced to 0.\n",
      "n_foreground was reduced to 0.\n",
      "n_foreground was reduced to 0.\n",
      "n_foreground was reduced to 0.\n",
      "n_foreground was reduced to 0.\n",
      "n_foreground was reduced to 0.\n",
      "n_foreground was reduced to 0.\n",
      "n_foreground was reduced to 0.\n",
      "n_foreground was reduced to 0.\n"
     ]
    },
    {
     "name": "stderr",
     "output_type": "stream",
     "text": [
      " 46%|█▎ | 26/57 [14:23<16:28, 31.89s/it]"
     ]
    },
    {
     "name": "stdout",
     "output_type": "stream",
     "text": [
      "n_foreground was reduced to 0.\n",
      "n_foreground was reduced to 0.\n",
      "n_foreground was reduced to 0.\n",
      "n_foreground was reduced to 0.\n",
      "n_foreground was reduced to 0.\n",
      "n_foreground was reduced to 0.\n",
      "n_foreground was reduced to 0.\n",
      "n_foreground was reduced to 0.\n",
      "n_foreground was reduced to 0.\n",
      "n_foreground was reduced to 0.\n",
      "n_foreground was reduced to 0.\n"
     ]
    },
    {
     "name": "stderr",
     "output_type": "stream",
     "text": [
      " 47%|█▍ | 27/57 [14:55<15:56, 31.88s/it]"
     ]
    },
    {
     "name": "stdout",
     "output_type": "stream",
     "text": [
      "n_foreground was reduced to 0.\n",
      "n_foreground was reduced to 0.\n",
      "n_foreground was reduced to 0.\n",
      "n_foreground was reduced to 0.\n",
      "n_foreground was reduced to 0.\n",
      "n_foreground was reduced to 0.\n",
      "n_foreground was reduced to 0.\n",
      "n_foreground was reduced to 0.\n",
      "n_foreground was reduced to 0.\n",
      "n_foreground was reduced to 0.\n",
      "n_foreground was reduced to 0.\n"
     ]
    },
    {
     "name": "stderr",
     "output_type": "stream",
     "text": [
      " 49%|█▍ | 28/57 [15:26<15:24, 31.88s/it]"
     ]
    },
    {
     "name": "stdout",
     "output_type": "stream",
     "text": [
      "n_foreground was reduced to 0.\n",
      "n_foreground was reduced to 0.\n",
      "n_foreground was reduced to 0.\n",
      "n_foreground was reduced to 0.\n",
      "n_foreground was reduced to 0.\n",
      "n_foreground was reduced to 0.\n",
      "n_foreground was reduced to 0.\n",
      "n_foreground was reduced to 0.\n",
      "n_foreground was reduced to 0.\n"
     ]
    },
    {
     "name": "stderr",
     "output_type": "stream",
     "text": [
      " 51%|█▌ | 29/57 [15:58<14:52, 31.88s/it]"
     ]
    },
    {
     "name": "stdout",
     "output_type": "stream",
     "text": [
      "n_foreground was reduced to 0.\n",
      "n_foreground was reduced to 0.\n",
      "n_foreground was reduced to 0.\n",
      "n_foreground was reduced to 0.\n",
      "n_foreground was reduced to 0.\n",
      "n_foreground was reduced to 0.\n",
      "n_foreground was reduced to 0.\n",
      "n_foreground was reduced to 0.\n",
      "n_foreground was reduced to 0.\n",
      "n_foreground was reduced to 0.\n",
      "n_foreground was reduced to 0.\n",
      "n_foreground was reduced to 0.\n",
      "n_foreground was reduced to 0.\n",
      "n_foreground was reduced to 0.\n",
      "n_foreground was reduced to 0.\n",
      "n_foreground was reduced to 0.\n",
      "n_foreground was reduced to 0.\n",
      "n_foreground was reduced to 0.\n"
     ]
    },
    {
     "name": "stderr",
     "output_type": "stream",
     "text": [
      " 53%|█▌ | 30/57 [16:30<14:20, 31.88s/it]"
     ]
    },
    {
     "name": "stdout",
     "output_type": "stream",
     "text": [
      "n_foreground was reduced to 0.\n",
      "n_foreground was reduced to 0.\n",
      "n_foreground was reduced to 0.\n",
      "n_foreground was reduced to 0.\n",
      "n_foreground was reduced to 0.\n"
     ]
    },
    {
     "name": "stderr",
     "output_type": "stream",
     "text": [
      " 54%|█▋ | 31/57 [17:02<13:48, 31.88s/it]"
     ]
    },
    {
     "name": "stdout",
     "output_type": "stream",
     "text": [
      "n_foreground was reduced to 0.\n",
      "n_foreground was reduced to 0.\n",
      "n_foreground was reduced to 0.\n",
      "n_foreground was reduced to 0.\n",
      "n_foreground was reduced to 0.\n",
      "n_foreground was reduced to 0.\n",
      "n_foreground was reduced to 0.\n",
      "n_foreground was reduced to 0.\n"
     ]
    },
    {
     "name": "stderr",
     "output_type": "stream",
     "text": [
      " 56%|█▋ | 32/57 [17:34<13:16, 31.88s/it]"
     ]
    },
    {
     "name": "stdout",
     "output_type": "stream",
     "text": [
      "n_foreground was reduced to 0.\n",
      "n_foreground was reduced to 0.\n",
      "n_foreground was reduced to 0.\n",
      "n_foreground was reduced to 0.\n",
      "n_foreground was reduced to 0.\n",
      "n_foreground was reduced to 0.\n",
      "n_foreground was reduced to 0.\n",
      "n_foreground was reduced to 0.\n"
     ]
    },
    {
     "name": "stderr",
     "output_type": "stream",
     "text": [
      " 58%|█▋ | 33/57 [18:06<12:45, 31.89s/it]"
     ]
    },
    {
     "name": "stdout",
     "output_type": "stream",
     "text": [
      "n_foreground was reduced to 0.\n",
      "n_foreground was reduced to 0.\n",
      "n_foreground was reduced to 0.\n",
      "n_foreground was reduced to 0.\n",
      "n_foreground was reduced to 0.\n",
      "n_foreground was reduced to 0.\n",
      "n_foreground was reduced to 0.\n",
      "n_foreground was reduced to 0.\n",
      "n_foreground was reduced to 0.\n",
      "n_foreground was reduced to 0.\n",
      "n_foreground was reduced to 0.\n",
      "n_foreground was reduced to 0.\n",
      "n_foreground was reduced to 0.\n",
      "n_foreground was reduced to 0.\n",
      "n_foreground was reduced to 0.\n",
      "n_foreground was reduced to 0.\n"
     ]
    },
    {
     "name": "stderr",
     "output_type": "stream",
     "text": [
      " 60%|█▊ | 34/57 [18:38<12:14, 31.95s/it]"
     ]
    },
    {
     "name": "stdout",
     "output_type": "stream",
     "text": [
      "n_foreground was reduced to 0.\n",
      "n_foreground was reduced to 0.\n",
      "n_foreground was reduced to 0.\n",
      "n_foreground was reduced to 0.\n",
      "n_foreground was reduced to 0.\n",
      "n_foreground was reduced to 0.\n",
      "n_foreground was reduced to 0.\n",
      "n_foreground was reduced to 0.\n",
      "n_foreground was reduced to 0.\n",
      "n_foreground was reduced to 0.\n",
      "n_foreground was reduced to 0.\n"
     ]
    },
    {
     "name": "stderr",
     "output_type": "stream",
     "text": [
      " 61%|█▊ | 35/57 [19:10<11:43, 31.99s/it]"
     ]
    },
    {
     "name": "stdout",
     "output_type": "stream",
     "text": [
      "n_foreground was reduced to 0.\n",
      "n_foreground was reduced to 0.\n",
      "n_foreground was reduced to 0.\n",
      "n_foreground was reduced to 0.\n",
      "n_foreground was reduced to 0.\n",
      "n_foreground was reduced to 0.\n",
      "n_foreground was reduced to 0.\n",
      "n_foreground was reduced to 0.\n",
      "n_foreground was reduced to 0.\n",
      "n_foreground was reduced to 0.\n",
      "n_foreground was reduced to 0.\n",
      "n_foreground was reduced to 0.\n"
     ]
    },
    {
     "name": "stderr",
     "output_type": "stream",
     "text": [
      " 63%|█▉ | 36/57 [19:42<11:12, 32.02s/it]"
     ]
    },
    {
     "name": "stdout",
     "output_type": "stream",
     "text": [
      "n_foreground was reduced to 0.\n",
      "n_foreground was reduced to 0.\n",
      "n_foreground was reduced to 0.\n",
      "n_foreground was reduced to 0.\n",
      "n_foreground was reduced to 0.\n",
      "n_foreground was reduced to 0.\n",
      "n_foreground was reduced to 0.\n",
      "n_foreground was reduced to 0.\n",
      "n_foreground was reduced to 0.\n",
      "n_foreground was reduced to 0.\n",
      "n_foreground was reduced to 0.\n"
     ]
    },
    {
     "name": "stderr",
     "output_type": "stream",
     "text": [
      " 65%|█▉ | 37/57 [20:14<10:40, 32.04s/it]"
     ]
    },
    {
     "name": "stdout",
     "output_type": "stream",
     "text": [
      "n_foreground was reduced to 0.\n",
      "n_foreground was reduced to 0.\n",
      "n_foreground was reduced to 0.\n",
      "n_foreground was reduced to 0.\n",
      "n_foreground was reduced to 0.\n",
      "n_foreground was reduced to 0.\n",
      "n_foreground was reduced to 0.\n",
      "n_foreground was reduced to 0.\n",
      "n_foreground was reduced to 0.\n",
      "n_foreground was reduced to 0.\n",
      "n_foreground was reduced to 0.\n"
     ]
    },
    {
     "name": "stderr",
     "output_type": "stream",
     "text": [
      " 67%|██ | 38/57 [20:46<10:09, 32.07s/it]"
     ]
    },
    {
     "name": "stdout",
     "output_type": "stream",
     "text": [
      "n_foreground was reduced to 0.\n",
      "n_foreground was reduced to 0.\n",
      "n_foreground was reduced to 0.\n",
      "n_foreground was reduced to 0.\n",
      "n_foreground was reduced to 0.\n"
     ]
    },
    {
     "name": "stderr",
     "output_type": "stream",
     "text": [
      " 68%|██ | 39/57 [21:18<09:37, 32.08s/it]"
     ]
    },
    {
     "name": "stdout",
     "output_type": "stream",
     "text": [
      "n_foreground was reduced to 0.\n",
      "n_foreground was reduced to 0.\n",
      "n_foreground was reduced to 0.\n",
      "n_foreground was reduced to 0.\n",
      "n_foreground was reduced to 0.\n",
      "n_foreground was reduced to 0.\n"
     ]
    },
    {
     "name": "stderr",
     "output_type": "stream",
     "text": [
      " 70%|██ | 40/57 [21:51<09:05, 32.07s/it]"
     ]
    },
    {
     "name": "stdout",
     "output_type": "stream",
     "text": [
      "n_foreground was reduced to 0.\n",
      "n_foreground was reduced to 0.\n",
      "n_foreground was reduced to 0.\n",
      "n_foreground was reduced to 0.\n",
      "n_foreground was reduced to 0.\n",
      "n_foreground was reduced to 0.\n",
      "n_foreground was reduced to 0.\n",
      "n_foreground was reduced to 0.\n",
      "n_foreground was reduced to 0.\n",
      "n_foreground was reduced to 0.\n",
      "n_foreground was reduced to 0.\n",
      "n_foreground was reduced to 0.\n",
      "n_foreground was reduced to 0.\n"
     ]
    },
    {
     "name": "stderr",
     "output_type": "stream",
     "text": [
      " 72%|██▏| 41/57 [22:23<08:33, 32.09s/it]"
     ]
    },
    {
     "name": "stdout",
     "output_type": "stream",
     "text": [
      "n_foreground was reduced to 0.\n",
      "n_foreground was reduced to 0.\n",
      "n_foreground was reduced to 0.\n",
      "n_foreground was reduced to 0.\n",
      "n_foreground was reduced to 0.\n",
      "n_foreground was reduced to 0.\n",
      "n_foreground was reduced to 0.\n",
      "n_foreground was reduced to 0.\n",
      "n_foreground was reduced to 0.\n"
     ]
    },
    {
     "name": "stderr",
     "output_type": "stream",
     "text": [
      " 74%|██▏| 42/57 [22:55<08:01, 32.10s/it]"
     ]
    },
    {
     "name": "stdout",
     "output_type": "stream",
     "text": [
      "n_foreground was reduced to 0.\n",
      "n_foreground was reduced to 0.\n",
      "n_foreground was reduced to 0.\n",
      "n_foreground was reduced to 0.\n",
      "n_foreground was reduced to 0.\n"
     ]
    },
    {
     "name": "stderr",
     "output_type": "stream",
     "text": [
      " 75%|██▎| 43/57 [23:29<07:37, 32.70s/it]"
     ]
    },
    {
     "name": "stdout",
     "output_type": "stream",
     "text": [
      "n_foreground was reduced to 0.\n",
      "n_foreground was reduced to 0.\n",
      "n_foreground was reduced to 0.\n",
      "n_foreground was reduced to 0.\n",
      "n_foreground was reduced to 0.\n",
      "n_foreground was reduced to 0.\n",
      "n_foreground was reduced to 0.\n",
      "n_foreground was reduced to 0.\n",
      "n_foreground was reduced to 0.\n",
      "n_foreground was reduced to 0.\n"
     ]
    },
    {
     "name": "stderr",
     "output_type": "stream",
     "text": [
      " 77%|██▎| 44/57 [24:02<07:08, 32.96s/it]"
     ]
    },
    {
     "name": "stdout",
     "output_type": "stream",
     "text": [
      "n_foreground was reduced to 0.\n",
      "n_foreground was reduced to 0.\n",
      "n_foreground was reduced to 0.\n",
      "n_foreground was reduced to 0.\n",
      "n_foreground was reduced to 0.\n",
      "n_foreground was reduced to 0.\n",
      "n_foreground was reduced to 0.\n"
     ]
    },
    {
     "name": "stderr",
     "output_type": "stream",
     "text": [
      " 79%|██▎| 45/57 [24:36<06:37, 33.11s/it]"
     ]
    },
    {
     "name": "stdout",
     "output_type": "stream",
     "text": [
      "n_foreground was reduced to 0.\n",
      "n_foreground was reduced to 0.\n"
     ]
    },
    {
     "name": "stderr",
     "output_type": "stream",
     "text": [
      " 81%|██▍| 46/57 [25:09<06:05, 33.20s/it]"
     ]
    },
    {
     "name": "stdout",
     "output_type": "stream",
     "text": [
      "n_foreground was reduced to 0.\n",
      "n_foreground was reduced to 0.\n",
      "n_foreground was reduced to 0.\n",
      "n_foreground was reduced to 0.\n",
      "n_foreground was reduced to 0.\n",
      "n_foreground was reduced to 0.\n",
      "n_foreground was reduced to 0.\n",
      "n_foreground was reduced to 0.\n"
     ]
    },
    {
     "name": "stderr",
     "output_type": "stream",
     "text": [
      " 82%|██▍| 47/57 [25:43<05:33, 33.36s/it]"
     ]
    },
    {
     "name": "stdout",
     "output_type": "stream",
     "text": [
      "n_foreground was reduced to 0.\n",
      "n_foreground was reduced to 0.\n",
      "n_foreground was reduced to 0.\n",
      "n_foreground was reduced to 0.\n",
      "n_foreground was reduced to 0.\n",
      "n_foreground was reduced to 0.\n",
      "n_foreground was reduced to 0.\n",
      "n_foreground was reduced to 0.\n",
      "n_foreground was reduced to 0.\n",
      "n_foreground was reduced to 0.\n"
     ]
    },
    {
     "name": "stderr",
     "output_type": "stream",
     "text": [
      " 84%|██▌| 48/57 [26:17<05:00, 33.41s/it]"
     ]
    },
    {
     "name": "stdout",
     "output_type": "stream",
     "text": [
      "n_foreground was reduced to 0.\n",
      "n_foreground was reduced to 0.\n",
      "n_foreground was reduced to 0.\n",
      "n_foreground was reduced to 0.\n",
      "n_foreground was reduced to 0.\n",
      "n_foreground was reduced to 0.\n",
      "n_foreground was reduced to 0.\n",
      "n_foreground was reduced to 0.\n"
     ]
    },
    {
     "name": "stderr",
     "output_type": "stream",
     "text": [
      " 86%|██▌| 49/57 [26:51<04:28, 33.62s/it]"
     ]
    },
    {
     "name": "stdout",
     "output_type": "stream",
     "text": [
      "n_foreground was reduced to 0.\n"
     ]
    },
    {
     "name": "stderr",
     "output_type": "stream",
     "text": [
      " 88%|██▋| 50/57 [27:25<03:56, 33.75s/it]"
     ]
    },
    {
     "name": "stdout",
     "output_type": "stream",
     "text": [
      "n_foreground was reduced to 0.\n",
      "n_foreground was reduced to 0.\n",
      "n_foreground was reduced to 0.\n"
     ]
    },
    {
     "name": "stderr",
     "output_type": "stream",
     "text": [
      " 89%|██▋| 51/57 [27:58<03:22, 33.74s/it]"
     ]
    },
    {
     "name": "stdout",
     "output_type": "stream",
     "text": [
      "n_foreground was reduced to 0.\n",
      "n_foreground was reduced to 0.\n",
      "n_foreground was reduced to 0.\n",
      "n_foreground was reduced to 0.\n",
      "n_foreground was reduced to 0.\n",
      "n_foreground was reduced to 0.\n",
      "n_foreground was reduced to 0.\n"
     ]
    },
    {
     "name": "stderr",
     "output_type": "stream",
     "text": [
      " 91%|██▋| 52/57 [28:32<02:48, 33.67s/it]"
     ]
    },
    {
     "name": "stdout",
     "output_type": "stream",
     "text": [
      "n_foreground was reduced to 0.\n",
      "n_foreground was reduced to 0.\n",
      "n_foreground was reduced to 0.\n",
      "n_foreground was reduced to 0.\n",
      "n_foreground was reduced to 0.\n",
      "n_foreground was reduced to 0.\n",
      "n_foreground was reduced to 0.\n",
      "n_foreground was reduced to 0.\n",
      "n_foreground was reduced to 0.\n",
      "n_foreground was reduced to 0.\n"
     ]
    },
    {
     "name": "stderr",
     "output_type": "stream",
     "text": [
      " 93%|██▊| 53/57 [29:06<02:14, 33.70s/it]"
     ]
    },
    {
     "name": "stdout",
     "output_type": "stream",
     "text": [
      "n_foreground was reduced to 0.\n",
      "n_foreground was reduced to 0.\n",
      "n_foreground was reduced to 0.\n",
      "n_foreground was reduced to 0.\n",
      "n_foreground was reduced to 0.\n",
      "n_foreground was reduced to 0.\n",
      "n_foreground was reduced to 0.\n",
      "n_foreground was reduced to 0.\n",
      "n_foreground was reduced to 0.\n",
      "n_foreground was reduced to 0.\n",
      "n_foreground was reduced to 0.\n",
      "n_foreground was reduced to 0.\n",
      "n_foreground was reduced to 0.\n"
     ]
    },
    {
     "name": "stderr",
     "output_type": "stream",
     "text": [
      " 95%|██▊| 54/57 [29:40<01:41, 33.82s/it]"
     ]
    },
    {
     "name": "stdout",
     "output_type": "stream",
     "text": [
      "n_foreground was reduced to 0.\n",
      "n_foreground was reduced to 0.\n",
      "n_foreground was reduced to 0.\n",
      "n_foreground was reduced to 0.\n",
      "n_foreground was reduced to 0.\n",
      "n_foreground was reduced to 0.\n"
     ]
    },
    {
     "name": "stderr",
     "output_type": "stream",
     "text": [
      " 96%|██▉| 55/57 [30:14<01:07, 33.93s/it]"
     ]
    },
    {
     "name": "stdout",
     "output_type": "stream",
     "text": [
      "n_foreground was reduced to 0.\n",
      "n_foreground was reduced to 0.\n",
      "n_foreground was reduced to 0.\n",
      "n_foreground was reduced to 0.\n",
      "n_foreground was reduced to 0.\n",
      "n_foreground was reduced to 0.\n",
      "n_foreground was reduced to 0.\n",
      "n_foreground was reduced to 0.\n",
      "n_foreground was reduced to 0.\n"
     ]
    },
    {
     "name": "stderr",
     "output_type": "stream",
     "text": [
      " 98%|██▉| 56/57 [30:51<00:34, 34.79s/it]"
     ]
    },
    {
     "name": "stdout",
     "output_type": "stream",
     "text": [
      "n_foreground was reduced to 0.\n",
      "n_foreground was reduced to 0.\n",
      "n_foreground was reduced to 0.\n",
      "n_foreground was reduced to 0.\n",
      "n_foreground was reduced to 0.\n",
      "n_foreground was reduced to 0.\n",
      "n_foreground was reduced to 0.\n",
      "n_foreground was reduced to 0.\n",
      "n_foreground was reduced to 0.\n",
      "n_foreground was reduced to 0.\n"
     ]
    },
    {
     "name": "stderr",
     "output_type": "stream",
     "text": [
      "100%|███| 57/57 [31:21<00:00, 33.00s/it]\n"
     ]
    }
   ],
   "source": [
    "all_masks = []\n",
    "all_prompts = {1:[],2:[],3:[]}\n",
    "print(\"Loading batch\")\n",
    "scores={}\n",
    "for batch in tqdm(dataloader):\n",
    "    embeddings, ground_truths = batch\n",
    "    prompt_class_1 = []\n",
    "    prompt_class_2 = []\n",
    "    prompt_class_3 = []\n",
    "    for ground_truth in ground_truths:\n",
    "        prompt_class_1.append(batch_sample_from_class(50, ground_truth, 1, n_foreground = 1, n_background= 0))\n",
    "        prompt_class_2.append(batch_sample_from_class(50, ground_truth, 2, n_foreground = 1, n_background= 0))\n",
    "        prompt_class_3.append(batch_sample_from_class(50, ground_truth, 3, n_foreground = 1, n_background= 0))\n",
    "        all_prompts[1].extend(prompt_class_1)\n",
    "        all_prompts[2].extend(prompt_class_2)\n",
    "        all_prompts[3].extend(prompt_class_3)\n",
    "    ana = analyze(embeddings,ground_truths)    \n",
    "    masks= ana.generate_masks(prompt_class_1,prompt_class_2,prompt_class_3,50)\n",
    "    all_masks.append(masks)\n",
    "    for metric,f in ana.metrics.items():\n",
    "        if metric not in scores.keys():\n",
    "            scores[metric] = ana.scoring_function(f)\n",
    "        else: \n",
    "            scores[metric] = torch.cat([scores[metric],ana.scoring_function(f)],dim = 0)\n",
    "            \n",
    "results = ana.get_results(scores[\"dice_score\"],scores[\"iou\"],scores[\"accuracy\"],(1,0),(1,0),(1,0))\n",
    "re = Results(\"../ACDC\",\"pos_0100\")\n",
    "re.append_row(results)"
   ]
  },
  {
   "cell_type": "code",
   "execution_count": 3,
   "id": "47464ff9-299a-48d9-9998-18be74d95cde",
   "metadata": {},
   "outputs": [],
   "source": [
    "file_path = \"../ACDC/\"\n",
    "with open(f\"{file_path}prompts2.pickle\", 'wb') as f1:\n",
    "    pickle.dump(all_prompts, f1)"
   ]
  },
  {
   "cell_type": "code",
   "execution_count": 4,
   "id": "c609a044-acca-48e1-95d4-d05ebcc0d097",
   "metadata": {},
   "outputs": [],
   "source": [
    "torch.cuda.empty_cache()"
   ]
  },
  {
   "cell_type": "code",
   "execution_count": 5,
   "id": "2ea7c7d3-086c-413d-b963-e10bc22d33c5",
   "metadata": {},
   "outputs": [],
   "source": [
    "import os\n",
    "import gzip\n",
    "import numpy as np\n",
    "os.mkdir(\"../ACDC/masks2\")\n",
    "for i in range(57):\n",
    "    all_masks[i] = all_masks[i].numpy()\n",
    "    f = gzip.GzipFile(f\"../ACDC/masks2/batch_{i}.npy.gz\", \"w\")\n",
    "    np.save(f, all_masks[i])"
   ]
  },
  {
   "cell_type": "code",
   "execution_count": 9,
   "id": "9018ab66-78c3-45ff-b0bb-b268d4f2a19a",
   "metadata": {},
   "outputs": [
    {
     "data": {
      "text/plain": [
       "torch.Size([50, 50, 256, 216])"
      ]
     },
     "execution_count": 9,
     "metadata": {},
     "output_type": "execute_result"
    }
   ],
   "source": [
    "all_masks[9].shape"
   ]
  },
  {
   "cell_type": "code",
   "execution_count": 11,
   "id": "7a91b27a-1529-4d4d-856e-9a0f046a1773",
   "metadata": {},
   "outputs": [
    {
     "data": {
      "text/plain": [
       "tensor([0, 1, 2, 3])"
      ]
     },
     "execution_count": 11,
     "metadata": {},
     "output_type": "execute_result"
    }
   ],
   "source": [
    "all_masks[8].unique()"
   ]
  },
  {
   "cell_type": "code",
   "execution_count": 17,
   "id": "6cf98b2a-a4c5-452a-880a-0d4a4930a4c1",
   "metadata": {},
   "outputs": [],
   "source": [
    "for i in range(57):\n",
    "    all_masks[i] = all_masks[i].numpy()"
   ]
  },
  {
   "cell_type": "code",
   "execution_count": 18,
   "id": "29809344-c891-43b3-8f8d-0b89da808846",
   "metadata": {},
   "outputs": [
    {
     "data": {
      "text/plain": [
       "numpy.ndarray"
      ]
     },
     "execution_count": 18,
     "metadata": {},
     "output_type": "execute_result"
    }
   ],
   "source": [
    "type(all_masks[0])"
   ]
  },
  {
   "cell_type": "code",
   "execution_count": null,
   "id": "d3f58f6c-8634-4258-994b-cf071edb3696",
   "metadata": {},
   "outputs": [],
   "source": [
    "all_masks_array = np.vstack(all_masks)"
   ]
  },
  {
   "cell_type": "markdown",
   "id": "282b7af7-26ed-4853-8aab-e14979c9a0d9",
   "metadata": {},
   "source": [
    "## Pipeline 3\n",
    "- 5 positive points and 1 negative point\n",
    "- A batch of 50 images, 50 prompts per image"
   ]
  },
  {
   "cell_type": "code",
   "execution_count": 2,
   "id": "79335239-b3e0-4822-8033-a2afc659ef18",
   "metadata": {},
   "outputs": [],
   "source": [
    "import sys\n",
    "sys.path.append(\"..\")\n",
    "from functions.pipeline import *\n",
    "from tqdm import tqdm\n",
    "import pickle\n",
    "import os\n",
    "import gzip\n",
    "import numpy as np\n",
    "dataloader = get_batch(\"../ACDC\",50,debug = False)"
   ]
  },
  {
   "cell_type": "code",
   "execution_count": null,
   "id": "0145e552-b379-4c1e-b6a5-90c500f17b09",
   "metadata": {},
   "outputs": [
    {
     "name": "stderr",
     "output_type": "stream",
     "text": [
      "  0%|                                                                                                                                                         | 0/57 [00:00<?, ?it/s]"
     ]
    },
    {
     "name": "stdout",
     "output_type": "stream",
     "text": [
      "n_foreground was reduced to 0.\n",
      "n_foreground was reduced to 0.\n",
      "n_background was reduced to 0.\n",
      "n_foreground was reduced to 0.\n",
      "n_foreground was reduced to 0.\n",
      "n_foreground was reduced to 0.\n",
      "n_foreground was reduced to 0.\n"
     ]
    },
    {
     "name": "stderr",
     "output_type": "stream",
     "text": [
      "  2%|██▌                                                                                                                                            | 1/57 [01:07<1:03:04, 67.59s/it]"
     ]
    },
    {
     "name": "stdout",
     "output_type": "stream",
     "text": [
      "n_foreground was reduced to 0.\n",
      "n_foreground was reduced to 0.\n",
      "n_background was reduced to 0.\n",
      "n_foreground was reduced to 0.\n",
      "n_foreground was reduced to 0.\n",
      "n_foreground was reduced to 0.\n",
      "n_foreground was reduced to 0.\n",
      "n_foreground was reduced to 0.\n",
      "n_foreground was reduced to 0.\n",
      "n_foreground was reduced to 0.\n",
      "n_background was reduced to 0.\n",
      "n_foreground was reduced to 0.\n",
      "n_foreground was reduced to 0.\n",
      "n_foreground was reduced to 0.\n",
      "n_foreground was reduced to 0.\n",
      "n_foreground was reduced to 0.\n",
      "n_foreground was reduced to 0.\n",
      "n_foreground was reduced to 0.\n"
     ]
    },
    {
     "name": "stderr",
     "output_type": "stream",
     "text": [
      "  4%|█████                                                                                                                                            | 2/57 [01:36<41:19, 45.09s/it]"
     ]
    },
    {
     "name": "stdout",
     "output_type": "stream",
     "text": [
      "n_foreground was reduced to 0.\n",
      "n_foreground was reduced to 0.\n",
      "n_background was reduced to 0.\n",
      "n_foreground was reduced to 0.\n",
      "n_foreground was reduced to 0.\n",
      "n_foreground was reduced to 0.\n"
     ]
    },
    {
     "name": "stderr",
     "output_type": "stream",
     "text": [
      "  5%|███████▋                                                                                                                                         | 3/57 [02:06<34:23, 38.21s/it]"
     ]
    },
    {
     "name": "stdout",
     "output_type": "stream",
     "text": [
      "n_foreground was reduced to 0.\n",
      "n_foreground was reduced to 0.\n",
      "n_background was reduced to 0.\n",
      "n_foreground was reduced to 0.\n",
      "n_foreground was reduced to 0.\n",
      "n_foreground was reduced to 0.\n",
      "n_foreground was reduced to 0.\n",
      "n_foreground was reduced to 0.\n",
      "n_foreground was reduced to 0.\n",
      "n_foreground was reduced to 0.\n",
      "n_foreground was reduced to 0.\n",
      "n_foreground was reduced to 0.\n"
     ]
    },
    {
     "name": "stderr",
     "output_type": "stream",
     "text": [
      "  7%|██████████▏                                                                                                                                      | 4/57 [02:36<30:48, 34.88s/it]"
     ]
    },
    {
     "name": "stdout",
     "output_type": "stream",
     "text": [
      "n_foreground was reduced to 0.\n",
      "n_foreground was reduced to 0.\n",
      "n_foreground was reduced to 0.\n",
      "n_foreground was reduced to 0.\n",
      "n_foreground was reduced to 0.\n",
      "n_foreground was reduced to 0.\n",
      "n_foreground was reduced to 0.\n",
      "n_foreground was reduced to 0.\n",
      "n_foreground was reduced to 0.\n",
      "n_foreground was reduced to 0.\n",
      "n_foreground was reduced to 0.\n",
      "n_foreground was reduced to 0.\n",
      "n_foreground was reduced to 0.\n",
      "n_foreground was reduced to 0.\n",
      "n_foreground was reduced to 0.\n",
      "n_foreground was reduced to 0.\n",
      "n_foreground was reduced to 0.\n"
     ]
    },
    {
     "name": "stderr",
     "output_type": "stream",
     "text": [
      "  9%|████████████▋                                                                                                                                    | 5/57 [03:06<28:28, 32.86s/it]"
     ]
    },
    {
     "name": "stdout",
     "output_type": "stream",
     "text": [
      "n_foreground was reduced to 0.\n",
      "n_foreground was reduced to 0.\n",
      "n_foreground was reduced to 0.\n",
      "n_foreground was reduced to 0.\n",
      "n_foreground was reduced to 0.\n",
      "n_foreground was reduced to 0.\n",
      "n_foreground was reduced to 0.\n"
     ]
    },
    {
     "name": "stderr",
     "output_type": "stream",
     "text": [
      " 11%|███████████████▎                                                                                                                                 | 6/57 [03:36<27:07, 31.91s/it]"
     ]
    },
    {
     "name": "stdout",
     "output_type": "stream",
     "text": [
      "n_foreground was reduced to 0.\n",
      "n_foreground was reduced to 0.\n",
      "n_foreground was reduced to 0.\n",
      "n_background was reduced to 0.\n",
      "n_foreground was reduced to 0.\n",
      "n_foreground was reduced to 0.\n",
      "n_background was reduced to 0.\n",
      "n_foreground was reduced to 0.\n",
      "n_foreground was reduced to 0.\n"
     ]
    },
    {
     "name": "stderr",
     "output_type": "stream",
     "text": [
      " 12%|█████████████████▊                                                                                                                               | 7/57 [04:06<26:05, 31.31s/it]"
     ]
    },
    {
     "name": "stdout",
     "output_type": "stream",
     "text": [
      "n_foreground was reduced to 0.\n",
      "n_foreground was reduced to 0.\n",
      "n_foreground was reduced to 0.\n",
      "n_foreground was reduced to 0.\n",
      "n_foreground was reduced to 0.\n",
      "n_foreground was reduced to 0.\n",
      "n_foreground was reduced to 0.\n",
      "n_foreground was reduced to 0.\n",
      "n_foreground was reduced to 0.\n",
      "n_foreground was reduced to 0.\n",
      "n_foreground was reduced to 0.\n",
      "n_foreground was reduced to 0.\n"
     ]
    },
    {
     "name": "stderr",
     "output_type": "stream",
     "text": [
      " 14%|████████████████████▎                                                                                                                            | 8/57 [04:35<25:09, 30.80s/it]"
     ]
    },
    {
     "name": "stdout",
     "output_type": "stream",
     "text": [
      "n_foreground was reduced to 0.\n",
      "n_foreground was reduced to 0.\n",
      "n_foreground was reduced to 0.\n",
      "n_foreground was reduced to 0.\n"
     ]
    },
    {
     "name": "stderr",
     "output_type": "stream",
     "text": [
      " 16%|██████████████████████▉                                                                                                                          | 9/57 [05:06<24:30, 30.64s/it]"
     ]
    },
    {
     "name": "stdout",
     "output_type": "stream",
     "text": [
      "n_background was reduced to 0.\n",
      "n_foreground was reduced to 0.\n",
      "n_foreground was reduced to 0.\n",
      "n_foreground was reduced to 0.\n",
      "n_foreground was reduced to 0.\n",
      "n_foreground was reduced to 0.\n"
     ]
    },
    {
     "name": "stderr",
     "output_type": "stream",
     "text": [
      " 18%|█████████████████████████▎                                                                                                                      | 10/57 [05:36<23:53, 30.51s/it]"
     ]
    },
    {
     "name": "stdout",
     "output_type": "stream",
     "text": [
      "n_foreground was reduced to 0.\n",
      "n_foreground was reduced to 0.\n"
     ]
    },
    {
     "name": "stderr",
     "output_type": "stream",
     "text": [
      " 19%|███████████████████████████▊                                                                                                                    | 11/57 [06:06<23:22, 30.48s/it]"
     ]
    },
    {
     "name": "stdout",
     "output_type": "stream",
     "text": [
      "n_foreground was reduced to 0.\n",
      "n_foreground was reduced to 0.\n",
      "n_foreground was reduced to 0.\n",
      "n_foreground was reduced to 0.\n",
      "n_foreground was reduced to 0.\n",
      "n_foreground was reduced to 0.\n",
      "n_foreground was reduced to 0.\n",
      "n_background was reduced to 0.\n",
      "n_foreground was reduced to 0.\n"
     ]
    },
    {
     "name": "stderr",
     "output_type": "stream",
     "text": [
      " 21%|██████████████████████████████▎                                                                                                                 | 12/57 [06:36<22:45, 30.34s/it]"
     ]
    },
    {
     "name": "stdout",
     "output_type": "stream",
     "text": [
      "n_foreground was reduced to 0.\n",
      "n_foreground was reduced to 0.\n",
      "n_foreground was reduced to 0.\n",
      "n_foreground was reduced to 0.\n",
      "n_foreground was reduced to 0.\n",
      "n_foreground was reduced to 0.\n",
      "n_foreground was reduced to 0.\n"
     ]
    },
    {
     "name": "stderr",
     "output_type": "stream",
     "text": [
      " 23%|████████████████████████████████▊                                                                                                               | 13/57 [07:06<22:11, 30.26s/it]"
     ]
    },
    {
     "name": "stdout",
     "output_type": "stream",
     "text": [
      "n_foreground was reduced to 0.\n",
      "n_foreground was reduced to 0.\n",
      "n_foreground was reduced to 0.\n",
      "n_foreground was reduced to 0.\n",
      "n_foreground was reduced to 0.\n",
      "n_foreground was reduced to 0.\n"
     ]
    },
    {
     "name": "stderr",
     "output_type": "stream",
     "text": [
      " 25%|███████████████████████████████████▎                                                                                                            | 14/57 [07:37<21:40, 30.25s/it]"
     ]
    },
    {
     "name": "stdout",
     "output_type": "stream",
     "text": [
      "n_background was reduced to 0.\n",
      "n_foreground was reduced to 0.\n",
      "n_foreground was reduced to 0.\n",
      "n_foreground was reduced to 0.\n",
      "n_foreground was reduced to 0.\n",
      "n_foreground was reduced to 0.\n",
      "n_foreground was reduced to 0.\n",
      "n_foreground was reduced to 0.\n",
      "n_background was reduced to 0.\n",
      "n_foreground was reduced to 0.\n",
      "n_foreground was reduced to 0.\n"
     ]
    },
    {
     "name": "stderr",
     "output_type": "stream",
     "text": [
      " 26%|█████████████████████████████████████▉                                                                                                          | 15/57 [08:07<21:06, 30.16s/it]"
     ]
    },
    {
     "name": "stdout",
     "output_type": "stream",
     "text": [
      "n_foreground was reduced to 0.\n",
      "n_foreground was reduced to 0.\n",
      "n_foreground was reduced to 0.\n",
      "n_foreground was reduced to 0.\n",
      "n_foreground was reduced to 0.\n",
      "n_foreground was reduced to 0.\n",
      "n_foreground was reduced to 0.\n",
      "n_foreground was reduced to 0.\n"
     ]
    },
    {
     "name": "stderr",
     "output_type": "stream",
     "text": [
      " 28%|████████████████████████████████████████▍                                                                                                       | 16/57 [08:37<20:34, 30.11s/it]"
     ]
    },
    {
     "name": "stdout",
     "output_type": "stream",
     "text": [
      "n_foreground was reduced to 0.\n",
      "n_foreground was reduced to 0.\n",
      "n_background was reduced to 0.\n",
      "n_foreground was reduced to 0.\n",
      "n_foreground was reduced to 0.\n",
      "n_foreground was reduced to 0.\n",
      "n_foreground was reduced to 0.\n",
      "n_foreground was reduced to 0.\n",
      "n_foreground was reduced to 0.\n",
      "n_foreground was reduced to 0.\n",
      "n_foreground was reduced to 0.\n",
      "n_foreground was reduced to 0.\n",
      "n_foreground was reduced to 0.\n",
      "n_foreground was reduced to 0.\n",
      "n_foreground was reduced to 0.\n",
      "n_background was reduced to 0.\n",
      "n_foreground was reduced to 0.\n",
      "n_foreground was reduced to 0.\n"
     ]
    },
    {
     "name": "stderr",
     "output_type": "stream",
     "text": [
      " 30%|██████████████████████████████████████████▉                                                                                                     | 17/57 [09:06<19:56, 29.91s/it]"
     ]
    },
    {
     "name": "stdout",
     "output_type": "stream",
     "text": [
      "n_foreground was reduced to 0.\n",
      "n_foreground was reduced to 0.\n",
      "n_foreground was reduced to 0.\n",
      "n_foreground was reduced to 0.\n",
      "n_foreground was reduced to 0.\n",
      "n_foreground was reduced to 0.\n",
      "n_foreground was reduced to 0.\n",
      "n_foreground was reduced to 0.\n",
      "n_foreground was reduced to 0.\n",
      "n_foreground was reduced to 0.\n",
      "n_foreground was reduced to 0.\n",
      "n_background was reduced to 0.\n",
      "n_foreground was reduced to 0.\n",
      "n_foreground was reduced to 0.\n",
      "n_foreground was reduced to 0.\n"
     ]
    },
    {
     "name": "stderr",
     "output_type": "stream",
     "text": [
      " 32%|█████████████████████████████████████████████▍                                                                                                  | 18/57 [09:36<19:22, 29.81s/it]"
     ]
    },
    {
     "name": "stdout",
     "output_type": "stream",
     "text": [
      "n_foreground was reduced to 0.\n",
      "n_foreground was reduced to 0.\n",
      "n_foreground was reduced to 0.\n",
      "n_foreground was reduced to 0.\n"
     ]
    }
   ],
   "source": [
    "all_masks = []\n",
    "all_prompts = {1:[],2:[],3:[]}\n",
    "scores={}\n",
    "for batch in tqdm(dataloader):\n",
    "    embeddings, ground_truths = batch\n",
    "    prompt_class_1 = []\n",
    "    prompt_class_2 = []\n",
    "    prompt_class_3 = []\n",
    "    for ground_truth in ground_truths:\n",
    "        prompt_class_1.append(batch_sample_from_class(50, ground_truth, 1, n_foreground = 5, n_background= 1))\n",
    "        prompt_class_2.append(batch_sample_from_class(50, ground_truth, 2, n_foreground = 5, n_background= 1))\n",
    "        prompt_class_3.append(batch_sample_from_class(50, ground_truth, 3, n_foreground = 5, n_background= 1))\n",
    "        all_prompts[1].extend(prompt_class_1)\n",
    "        all_prompts[2].extend(prompt_class_2)\n",
    "        all_prompts[3].extend(prompt_class_3)\n",
    "    ana = analyze(embeddings,ground_truths)    \n",
    "    masks= ana.generate_masks(prompt_class_1,prompt_class_2,prompt_class_3,50)\n",
    "    all_masks.append(masks.numpy())\n",
    "    for metric,f in ana.metrics.items():\n",
    "        if metric not in scores.keys():\n",
    "            scores[metric] = ana.scoring_function(f)\n",
    "        else: \n",
    "            scores[metric] = torch.cat([scores[metric],ana.scoring_function(f)],dim = 0)\n",
    "            \n",
    "results = ana.get_results(scores[\"dice_score\"],scores[\"iou\"],scores[\"accuracy\"],(5,1),(5,1),(5,1))\n",
    "re = Results(\"../ACDC\",\"pos_and_neg_0501\")\n",
    "re.append_row(results)"
   ]
  },
  {
   "cell_type": "code",
   "execution_count": 4,
   "id": "504c383c-60ea-48ee-a55d-89d9737e02dd",
   "metadata": {},
   "outputs": [],
   "source": [
    "file_path = \"../ACDC/\"\n",
    "with open(f\"{file_path}prompts3.pickle\", 'wb') as f1:\n",
    "    pickle.dump(all_prompts, f1)"
   ]
  },
  {
   "cell_type": "code",
   "execution_count": 7,
   "id": "713f564f-bd9a-4bef-89a4-db07da600ebb",
   "metadata": {},
   "outputs": [],
   "source": [
    "#os.mkdir(\"../ACDC/masks3\")\n",
    "for i in range(57):\n",
    "    f = gzip.GzipFile(f\"../ACDC/masks3/batch_{i}.npy.gz\", \"w\")\n",
    "    np.save(f, all_masks[i])"
   ]
  },
  {
   "cell_type": "code",
   "execution_count": 8,
   "id": "3f87a591-1c36-4e69-bb3b-065294a37e7b",
   "metadata": {},
   "outputs": [],
   "source": [
    "torch.cuda.empty_cache()"
   ]
  },
  {
   "cell_type": "markdown",
   "id": "d69dfe4d-ce57-4c0c-9696-ad745339edf3",
   "metadata": {},
   "source": [
    "## Pipeline 4\n",
    "- 5 positive points, 3 negative points\n",
    "- Batch of 50 images, 50 prompts for each image"
   ]
  },
  {
   "cell_type": "code",
   "execution_count": 9,
   "id": "f0f4b23a-9b8f-4d38-a1e7-a7b405051df0",
   "metadata": {},
   "outputs": [
    {
     "name": "stderr",
     "output_type": "stream",
     "text": [
      "  0%|                                                                                                                                                         | 0/57 [00:00<?, ?it/s]"
     ]
    },
    {
     "name": "stdout",
     "output_type": "stream",
     "text": [
      "n_foreground was reduced to 0.\n",
      "n_foreground was reduced to 0.\n",
      "n_background was reduced to 0.\n",
      "n_foreground was reduced to 0.\n",
      "n_foreground was reduced to 0.\n",
      "n_foreground was reduced to 0.\n",
      "n_foreground was reduced to 0.\n"
     ]
    },
    {
     "name": "stderr",
     "output_type": "stream",
     "text": [
      "  2%|██▌                                                                                                                                              | 1/57 [00:34<31:55, 34.20s/it]"
     ]
    },
    {
     "name": "stdout",
     "output_type": "stream",
     "text": [
      "n_foreground was reduced to 0.\n",
      "n_foreground was reduced to 0.\n",
      "n_background was reduced to 0.\n",
      "n_foreground was reduced to 0.\n",
      "n_foreground was reduced to 0.\n",
      "n_foreground was reduced to 0.\n",
      "n_foreground was reduced to 0.\n",
      "n_foreground was reduced to 0.\n",
      "n_foreground was reduced to 0.\n",
      "n_foreground was reduced to 0.\n",
      "n_background was reduced to 0.\n",
      "n_foreground was reduced to 0.\n",
      "n_foreground was reduced to 0.\n",
      "n_foreground was reduced to 0.\n",
      "n_foreground was reduced to 0.\n",
      "n_foreground was reduced to 0.\n",
      "n_foreground was reduced to 0.\n",
      "n_foreground was reduced to 0.\n"
     ]
    },
    {
     "name": "stderr",
     "output_type": "stream",
     "text": [
      "  4%|█████                                                                                                                                            | 2/57 [01:04<29:17, 31.95s/it]"
     ]
    },
    {
     "name": "stdout",
     "output_type": "stream",
     "text": [
      "n_foreground was reduced to 0.\n",
      "n_foreground was reduced to 0.\n",
      "n_background was reduced to 0.\n",
      "n_foreground was reduced to 0.\n",
      "n_foreground was reduced to 0.\n",
      "n_foreground was reduced to 0.\n"
     ]
    },
    {
     "name": "stderr",
     "output_type": "stream",
     "text": [
      "  5%|███████▋                                                                                                                                         | 3/57 [01:35<28:28, 31.64s/it]"
     ]
    },
    {
     "name": "stdout",
     "output_type": "stream",
     "text": [
      "n_foreground was reduced to 0.\n",
      "n_foreground was reduced to 0.\n",
      "n_background was reduced to 0.\n",
      "n_foreground was reduced to 0.\n",
      "n_foreground was reduced to 0.\n",
      "n_foreground was reduced to 0.\n",
      "n_foreground was reduced to 0.\n",
      "n_foreground was reduced to 0.\n",
      "n_foreground was reduced to 0.\n",
      "n_foreground was reduced to 0.\n",
      "n_foreground was reduced to 0.\n",
      "n_foreground was reduced to 0.\n"
     ]
    },
    {
     "name": "stderr",
     "output_type": "stream",
     "text": [
      "  7%|██████████▏                                                                                                                                      | 4/57 [02:06<27:44, 31.41s/it]"
     ]
    },
    {
     "name": "stdout",
     "output_type": "stream",
     "text": [
      "n_foreground was reduced to 0.\n",
      "n_foreground was reduced to 0.\n",
      "n_foreground was reduced to 0.\n",
      "n_foreground was reduced to 0.\n",
      "n_foreground was reduced to 0.\n",
      "n_foreground was reduced to 0.\n",
      "n_foreground was reduced to 0.\n",
      "n_foreground was reduced to 0.\n",
      "n_foreground was reduced to 0.\n",
      "n_foreground was reduced to 0.\n",
      "n_foreground was reduced to 0.\n",
      "n_foreground was reduced to 0.\n",
      "n_foreground was reduced to 0.\n",
      "n_foreground was reduced to 0.\n",
      "n_foreground was reduced to 0.\n",
      "n_foreground was reduced to 0.\n",
      "n_foreground was reduced to 0.\n"
     ]
    },
    {
     "name": "stderr",
     "output_type": "stream",
     "text": [
      "  9%|████████████▋                                                                                                                                    | 5/57 [02:37<27:03, 31.23s/it]"
     ]
    },
    {
     "name": "stdout",
     "output_type": "stream",
     "text": [
      "n_foreground was reduced to 0.\n",
      "n_foreground was reduced to 0.\n",
      "n_foreground was reduced to 0.\n",
      "n_foreground was reduced to 0.\n",
      "n_foreground was reduced to 0.\n",
      "n_foreground was reduced to 0.\n",
      "n_foreground was reduced to 0.\n"
     ]
    },
    {
     "name": "stderr",
     "output_type": "stream",
     "text": [
      " 11%|███████████████▎                                                                                                                                 | 6/57 [03:08<26:29, 31.17s/it]"
     ]
    },
    {
     "name": "stdout",
     "output_type": "stream",
     "text": [
      "n_foreground was reduced to 0.\n",
      "n_foreground was reduced to 0.\n",
      "n_foreground was reduced to 0.\n",
      "n_background was reduced to 0.\n",
      "n_foreground was reduced to 0.\n",
      "n_foreground was reduced to 0.\n",
      "n_background was reduced to 0.\n",
      "n_foreground was reduced to 0.\n",
      "n_foreground was reduced to 0.\n"
     ]
    },
    {
     "name": "stderr",
     "output_type": "stream",
     "text": [
      " 12%|█████████████████▊                                                                                                                               | 7/57 [03:39<25:53, 31.06s/it]"
     ]
    },
    {
     "name": "stdout",
     "output_type": "stream",
     "text": [
      "n_foreground was reduced to 0.\n",
      "n_foreground was reduced to 0.\n",
      "n_foreground was reduced to 0.\n",
      "n_foreground was reduced to 0.\n",
      "n_foreground was reduced to 0.\n",
      "n_foreground was reduced to 0.\n",
      "n_foreground was reduced to 0.\n",
      "n_foreground was reduced to 0.\n",
      "n_foreground was reduced to 0.\n",
      "n_foreground was reduced to 0.\n",
      "n_foreground was reduced to 0.\n",
      "n_foreground was reduced to 0.\n"
     ]
    },
    {
     "name": "stderr",
     "output_type": "stream",
     "text": [
      " 14%|████████████████████▎                                                                                                                            | 8/57 [04:09<25:09, 30.81s/it]"
     ]
    },
    {
     "name": "stdout",
     "output_type": "stream",
     "text": [
      "n_foreground was reduced to 0.\n",
      "n_foreground was reduced to 0.\n",
      "n_foreground was reduced to 0.\n",
      "n_foreground was reduced to 0.\n"
     ]
    },
    {
     "name": "stderr",
     "output_type": "stream",
     "text": [
      " 16%|██████████████████████▉                                                                                                                          | 9/57 [04:41<24:42, 30.88s/it]"
     ]
    },
    {
     "name": "stdout",
     "output_type": "stream",
     "text": [
      "n_background was reduced to 0.\n",
      "n_foreground was reduced to 0.\n",
      "n_foreground was reduced to 0.\n",
      "n_foreground was reduced to 0.\n",
      "n_foreground was reduced to 0.\n",
      "n_foreground was reduced to 0.\n"
     ]
    },
    {
     "name": "stderr",
     "output_type": "stream",
     "text": [
      " 18%|█████████████████████████▎                                                                                                                      | 10/57 [05:11<24:11, 30.87s/it]"
     ]
    },
    {
     "name": "stdout",
     "output_type": "stream",
     "text": [
      "n_foreground was reduced to 0.\n",
      "n_foreground was reduced to 0.\n"
     ]
    },
    {
     "name": "stderr",
     "output_type": "stream",
     "text": [
      " 19%|███████████████████████████▊                                                                                                                    | 11/57 [05:43<23:51, 31.11s/it]"
     ]
    },
    {
     "name": "stdout",
     "output_type": "stream",
     "text": [
      "n_foreground was reduced to 0.\n",
      "n_foreground was reduced to 0.\n",
      "n_foreground was reduced to 0.\n",
      "n_foreground was reduced to 0.\n",
      "n_foreground was reduced to 0.\n",
      "n_foreground was reduced to 0.\n",
      "n_foreground was reduced to 0.\n",
      "n_background was reduced to 0.\n",
      "n_foreground was reduced to 0.\n"
     ]
    },
    {
     "name": "stderr",
     "output_type": "stream",
     "text": [
      " 21%|██████████████████████████████▎                                                                                                                 | 12/57 [06:14<23:14, 30.99s/it]"
     ]
    },
    {
     "name": "stdout",
     "output_type": "stream",
     "text": [
      "n_foreground was reduced to 0.\n",
      "n_foreground was reduced to 0.\n",
      "n_foreground was reduced to 0.\n",
      "n_foreground was reduced to 0.\n",
      "n_foreground was reduced to 0.\n",
      "n_foreground was reduced to 0.\n",
      "n_foreground was reduced to 0.\n"
     ]
    },
    {
     "name": "stderr",
     "output_type": "stream",
     "text": [
      " 23%|████████████████████████████████▊                                                                                                               | 13/57 [06:44<22:40, 30.91s/it]"
     ]
    },
    {
     "name": "stdout",
     "output_type": "stream",
     "text": [
      "n_foreground was reduced to 0.\n",
      "n_foreground was reduced to 0.\n",
      "n_foreground was reduced to 0.\n",
      "n_foreground was reduced to 0.\n",
      "n_foreground was reduced to 0.\n",
      "n_foreground was reduced to 0.\n"
     ]
    },
    {
     "name": "stderr",
     "output_type": "stream",
     "text": [
      " 25%|███████████████████████████████████▎                                                                                                            | 14/57 [07:15<22:07, 30.88s/it]"
     ]
    },
    {
     "name": "stdout",
     "output_type": "stream",
     "text": [
      "n_background was reduced to 0.\n",
      "n_foreground was reduced to 0.\n",
      "n_foreground was reduced to 0.\n",
      "n_foreground was reduced to 0.\n",
      "n_foreground was reduced to 0.\n",
      "n_foreground was reduced to 0.\n",
      "n_foreground was reduced to 0.\n",
      "n_foreground was reduced to 0.\n",
      "n_background was reduced to 0.\n",
      "n_foreground was reduced to 0.\n",
      "n_foreground was reduced to 0.\n"
     ]
    },
    {
     "name": "stderr",
     "output_type": "stream",
     "text": [
      " 26%|█████████████████████████████████████▉                                                                                                          | 15/57 [07:46<21:32, 30.77s/it]"
     ]
    },
    {
     "name": "stdout",
     "output_type": "stream",
     "text": [
      "n_foreground was reduced to 0.\n",
      "n_foreground was reduced to 0.\n",
      "n_foreground was reduced to 0.\n",
      "n_foreground was reduced to 0.\n",
      "n_foreground was reduced to 0.\n",
      "n_foreground was reduced to 0.\n",
      "n_foreground was reduced to 0.\n",
      "n_foreground was reduced to 0.\n"
     ]
    },
    {
     "name": "stderr",
     "output_type": "stream",
     "text": [
      " 28%|████████████████████████████████████████▍                                                                                                       | 16/57 [08:17<21:05, 30.86s/it]"
     ]
    },
    {
     "name": "stdout",
     "output_type": "stream",
     "text": [
      "n_foreground was reduced to 0.\n",
      "n_foreground was reduced to 0.\n",
      "n_background was reduced to 0.\n",
      "n_foreground was reduced to 0.\n",
      "n_foreground was reduced to 0.\n",
      "n_foreground was reduced to 0.\n",
      "n_foreground was reduced to 0.\n",
      "n_foreground was reduced to 0.\n",
      "n_foreground was reduced to 0.\n",
      "n_foreground was reduced to 0.\n",
      "n_foreground was reduced to 0.\n",
      "n_foreground was reduced to 0.\n",
      "n_foreground was reduced to 0.\n",
      "n_foreground was reduced to 0.\n",
      "n_foreground was reduced to 0.\n",
      "n_background was reduced to 0.\n",
      "n_foreground was reduced to 0.\n",
      "n_foreground was reduced to 0.\n"
     ]
    },
    {
     "name": "stderr",
     "output_type": "stream",
     "text": [
      " 30%|██████████████████████████████████████████▉                                                                                                     | 17/57 [08:47<20:30, 30.77s/it]"
     ]
    },
    {
     "name": "stdout",
     "output_type": "stream",
     "text": [
      "n_foreground was reduced to 0.\n",
      "n_foreground was reduced to 0.\n",
      "n_foreground was reduced to 0.\n",
      "n_foreground was reduced to 0.\n",
      "n_foreground was reduced to 0.\n",
      "n_foreground was reduced to 0.\n",
      "n_foreground was reduced to 0.\n",
      "n_foreground was reduced to 0.\n",
      "n_foreground was reduced to 0.\n",
      "n_foreground was reduced to 0.\n",
      "n_foreground was reduced to 0.\n",
      "n_background was reduced to 0.\n",
      "n_foreground was reduced to 0.\n",
      "n_foreground was reduced to 0.\n",
      "n_foreground was reduced to 0.\n"
     ]
    },
    {
     "name": "stderr",
     "output_type": "stream",
     "text": [
      " 32%|█████████████████████████████████████████████▍                                                                                                  | 18/57 [09:18<20:01, 30.81s/it]"
     ]
    },
    {
     "name": "stdout",
     "output_type": "stream",
     "text": [
      "n_foreground was reduced to 0.\n",
      "n_foreground was reduced to 0.\n",
      "n_foreground was reduced to 0.\n",
      "n_foreground was reduced to 0.\n"
     ]
    },
    {
     "name": "stderr",
     "output_type": "stream",
     "text": [
      " 33%|████████████████████████████████████████████████                                                                                                | 19/57 [09:50<19:43, 31.15s/it]"
     ]
    },
    {
     "name": "stdout",
     "output_type": "stream",
     "text": [
      "n_foreground was reduced to 0.\n",
      "n_foreground was reduced to 0.\n",
      "n_foreground was reduced to 0.\n",
      "n_foreground was reduced to 0.\n",
      "n_foreground was reduced to 0.\n",
      "n_foreground was reduced to 0.\n",
      "n_foreground was reduced to 0.\n"
     ]
    },
    {
     "name": "stderr",
     "output_type": "stream",
     "text": [
      " 35%|██████████████████████████████████████████████████▌                                                                                             | 20/57 [10:22<19:17, 31.28s/it]"
     ]
    },
    {
     "name": "stdout",
     "output_type": "stream",
     "text": [
      "n_foreground was reduced to 0.\n",
      "n_foreground was reduced to 0.\n",
      "n_foreground was reduced to 0.\n",
      "n_foreground was reduced to 1.\n",
      "n_foreground was reduced to 0.\n"
     ]
    },
    {
     "name": "stderr",
     "output_type": "stream",
     "text": [
      " 37%|█████████████████████████████████████████████████████                                                                                           | 21/57 [10:53<18:48, 31.35s/it]"
     ]
    },
    {
     "name": "stdout",
     "output_type": "stream",
     "text": [
      "n_foreground was reduced to 0.\n",
      "n_foreground was reduced to 0.\n",
      "n_foreground was reduced to 0.\n",
      "n_foreground was reduced to 0.\n",
      "n_foreground was reduced to 0.\n",
      "n_foreground was reduced to 0.\n",
      "n_foreground was reduced to 0.\n",
      "n_background was reduced to 0.\n",
      "n_foreground was reduced to 0.\n",
      "n_foreground was reduced to 0.\n",
      "n_foreground was reduced to 0.\n",
      "n_foreground was reduced to 0.\n"
     ]
    },
    {
     "name": "stderr",
     "output_type": "stream",
     "text": [
      " 39%|███████████████████████████████████████████████████████▌                                                                                        | 22/57 [11:24<18:13, 31.23s/it]"
     ]
    },
    {
     "name": "stdout",
     "output_type": "stream",
     "text": [
      "n_foreground was reduced to 0.\n",
      "n_foreground was reduced to 0.\n",
      "n_foreground was reduced to 0.\n",
      "n_foreground was reduced to 0.\n",
      "n_foreground was reduced to 0.\n",
      "n_foreground was reduced to 0.\n",
      "n_foreground was reduced to 0.\n",
      "n_foreground was reduced to 0.\n"
     ]
    },
    {
     "name": "stderr",
     "output_type": "stream",
     "text": [
      " 40%|██████████████████████████████████████████████████████████                                                                                      | 23/57 [11:56<17:42, 31.26s/it]"
     ]
    },
    {
     "name": "stdout",
     "output_type": "stream",
     "text": [
      "n_foreground was reduced to 0.\n",
      "n_foreground was reduced to 0.\n"
     ]
    },
    {
     "name": "stderr",
     "output_type": "stream",
     "text": [
      " 42%|████████████████████████████████████████████████████████████▋                                                                                   | 24/57 [12:27<17:15, 31.39s/it]"
     ]
    },
    {
     "name": "stdout",
     "output_type": "stream",
     "text": [
      "n_background was reduced to 0.\n",
      "n_foreground was reduced to 0.\n",
      "n_foreground was reduced to 0.\n",
      "n_background was reduced to 0.\n",
      "n_foreground was reduced to 0.\n",
      "n_foreground was reduced to 0.\n",
      "n_foreground was reduced to 0.\n",
      "n_foreground was reduced to 0.\n"
     ]
    },
    {
     "name": "stderr",
     "output_type": "stream",
     "text": [
      " 44%|███████████████████████████████████████████████████████████████▏                                                                                | 25/57 [12:59<16:47, 31.49s/it]"
     ]
    },
    {
     "name": "stdout",
     "output_type": "stream",
     "text": [
      "n_foreground was reduced to 0.\n",
      "n_foreground was reduced to 0.\n",
      "n_foreground was reduced to 0.\n",
      "n_background was reduced to 0.\n",
      "n_foreground was reduced to 0.\n",
      "n_foreground was reduced to 0.\n",
      "n_foreground was reduced to 0.\n",
      "n_foreground was reduced to 0.\n",
      "n_background was reduced to 0.\n",
      "n_foreground was reduced to 0.\n",
      "n_foreground was reduced to 0.\n",
      "n_foreground was reduced to 0.\n"
     ]
    },
    {
     "name": "stderr",
     "output_type": "stream",
     "text": [
      " 46%|█████████████████████████████████████████████████████████████████▋                                                                              | 26/57 [13:30<16:14, 31.43s/it]"
     ]
    },
    {
     "name": "stdout",
     "output_type": "stream",
     "text": [
      "n_foreground was reduced to 0.\n",
      "n_foreground was reduced to 0.\n",
      "n_foreground was reduced to 0.\n",
      "n_foreground was reduced to 0.\n",
      "n_foreground was reduced to 0.\n",
      "n_background was reduced to 0.\n",
      "n_foreground was reduced to 0.\n",
      "n_foreground was reduced to 0.\n",
      "n_foreground was reduced to 0.\n",
      "n_foreground was reduced to 0.\n",
      "n_background was reduced to 0.\n",
      "n_foreground was reduced to 0.\n",
      "n_foreground was reduced to 0.\n"
     ]
    },
    {
     "name": "stderr",
     "output_type": "stream",
     "text": [
      " 47%|████████████████████████████████████████████████████████████████████▏                                                                           | 27/57 [14:01<15:39, 31.33s/it]"
     ]
    },
    {
     "name": "stdout",
     "output_type": "stream",
     "text": [
      "n_foreground was reduced to 0.\n",
      "n_foreground was reduced to 0.\n",
      "n_foreground was reduced to 0.\n",
      "n_background was reduced to 0.\n",
      "n_foreground was reduced to 0.\n",
      "n_foreground was reduced to 0.\n",
      "n_foreground was reduced to 0.\n",
      "n_foreground was reduced to 0.\n",
      "n_foreground was reduced to 0.\n",
      "n_background was reduced to 0.\n",
      "n_foreground was reduced to 0.\n",
      "n_foreground was reduced to 0.\n",
      "n_background was reduced to 0.\n",
      "n_foreground was reduced to 0.\n"
     ]
    },
    {
     "name": "stderr",
     "output_type": "stream",
     "text": [
      " 49%|██████████████████████████████████████████████████████████████████████▋                                                                         | 28/57 [14:32<15:04, 31.18s/it]"
     ]
    },
    {
     "name": "stdout",
     "output_type": "stream",
     "text": [
      "n_foreground was reduced to 0.\n",
      "n_foreground was reduced to 0.\n",
      "n_foreground was reduced to 0.\n",
      "n_background was reduced to 0.\n",
      "n_foreground was reduced to 0.\n",
      "n_foreground was reduced to 0.\n",
      "n_foreground was reduced to 0.\n",
      "n_foreground was reduced to 0.\n",
      "n_foreground was reduced to 0.\n",
      "n_foreground was reduced to 0.\n"
     ]
    },
    {
     "name": "stderr",
     "output_type": "stream",
     "text": [
      " 51%|█████████████████████████████████████████████████████████████████████████▎                                                                      | 29/57 [15:03<14:32, 31.16s/it]"
     ]
    },
    {
     "name": "stdout",
     "output_type": "stream",
     "text": [
      "n_foreground was reduced to 0.\n",
      "n_foreground was reduced to 0.\n",
      "n_foreground was reduced to 0.\n",
      "n_foreground was reduced to 0.\n",
      "n_foreground was reduced to 0.\n",
      "n_foreground was reduced to 0.\n",
      "n_foreground was reduced to 0.\n",
      "n_foreground was reduced to 0.\n",
      "n_foreground was reduced to 0.\n",
      "n_foreground was reduced to 0.\n",
      "n_foreground was reduced to 0.\n",
      "n_foreground was reduced to 0.\n",
      "n_foreground was reduced to 0.\n",
      "n_foreground was reduced to 0.\n",
      "n_foreground was reduced to 0.\n",
      "n_foreground was reduced to 0.\n",
      "n_foreground was reduced to 0.\n",
      "n_background was reduced to 0.\n",
      "n_foreground was reduced to 0.\n"
     ]
    },
    {
     "name": "stderr",
     "output_type": "stream",
     "text": [
      " 53%|███████████████████████████████████████████████████████████████████████████▊                                                                    | 30/57 [15:34<13:57, 31.03s/it]"
     ]
    },
    {
     "name": "stdout",
     "output_type": "stream",
     "text": [
      "n_foreground was reduced to 0.\n",
      "n_foreground was reduced to 0.\n",
      "n_foreground was reduced to 0.\n",
      "n_foreground was reduced to 0.\n",
      "n_foreground was reduced to 0.\n"
     ]
    },
    {
     "name": "stderr",
     "output_type": "stream",
     "text": [
      " 54%|██████████████████████████████████████████████████████████████████████████████▎                                                                 | 31/57 [16:05<13:25, 30.99s/it]"
     ]
    },
    {
     "name": "stdout",
     "output_type": "stream",
     "text": [
      "n_background was reduced to 0.\n",
      "n_foreground was reduced to 0.\n",
      "n_foreground was reduced to 0.\n",
      "n_foreground was reduced to 0.\n",
      "n_foreground was reduced to 0.\n",
      "n_background was reduced to 0.\n",
      "n_foreground was reduced to 0.\n",
      "n_foreground was reduced to 0.\n",
      "n_foreground was reduced to 0.\n",
      "n_foreground was reduced to 0.\n"
     ]
    },
    {
     "name": "stderr",
     "output_type": "stream",
     "text": [
      " 56%|████████████████████████████████████████████████████████████████████████████████▊                                                               | 32/57 [16:36<12:55, 31.03s/it]"
     ]
    },
    {
     "name": "stdout",
     "output_type": "stream",
     "text": [
      "n_foreground was reduced to 0.\n",
      "n_foreground was reduced to 0.\n",
      "n_foreground was reduced to 0.\n",
      "n_foreground was reduced to 0.\n",
      "n_foreground was reduced to 0.\n",
      "n_foreground was reduced to 0.\n",
      "n_foreground was reduced to 0.\n",
      "n_foreground was reduced to 0.\n"
     ]
    },
    {
     "name": "stderr",
     "output_type": "stream",
     "text": [
      " 58%|███████████████████████████████████████████████████████████████████████████████████▎                                                            | 33/57 [17:08<12:30, 31.25s/it]"
     ]
    },
    {
     "name": "stdout",
     "output_type": "stream",
     "text": [
      "n_foreground was reduced to 0.\n",
      "n_foreground was reduced to 0.\n",
      "n_foreground was reduced to 0.\n",
      "n_foreground was reduced to 0.\n",
      "n_foreground was reduced to 0.\n",
      "n_foreground was reduced to 0.\n",
      "n_foreground was reduced to 0.\n",
      "n_foreground was reduced to 0.\n",
      "n_background was reduced to 0.\n",
      "n_foreground was reduced to 0.\n",
      "n_foreground was reduced to 0.\n",
      "n_foreground was reduced to 0.\n",
      "n_foreground was reduced to 0.\n",
      "n_foreground was reduced to 0.\n",
      "n_foreground was reduced to 0.\n",
      "n_foreground was reduced to 0.\n",
      "n_foreground was reduced to 0.\n"
     ]
    },
    {
     "name": "stderr",
     "output_type": "stream",
     "text": [
      " 60%|█████████████████████████████████████████████████████████████████████████████████████▉                                                          | 34/57 [17:39<11:54, 31.06s/it]"
     ]
    },
    {
     "name": "stdout",
     "output_type": "stream",
     "text": [
      "n_foreground was reduced to 0.\n",
      "n_foreground was reduced to 0.\n",
      "n_background was reduced to 0.\n",
      "n_foreground was reduced to 0.\n",
      "n_foreground was reduced to 0.\n",
      "n_foreground was reduced to 0.\n",
      "n_background was reduced to 0.\n",
      "n_foreground was reduced to 0.\n",
      "n_foreground was reduced to 0.\n",
      "n_foreground was reduced to 0.\n",
      "n_foreground was reduced to 0.\n",
      "n_foreground was reduced to 0.\n",
      "n_foreground was reduced to 0.\n"
     ]
    },
    {
     "name": "stderr",
     "output_type": "stream",
     "text": [
      " 61%|████████████████████████████████████████████████████████████████████████████████████████▍                                                       | 35/57 [18:09<11:21, 30.96s/it]"
     ]
    },
    {
     "name": "stdout",
     "output_type": "stream",
     "text": [
      "n_foreground was reduced to 0.\n",
      "n_foreground was reduced to 0.\n",
      "n_foreground was reduced to 0.\n",
      "n_foreground was reduced to 0.\n",
      "n_foreground was reduced to 0.\n",
      "n_foreground was reduced to 0.\n",
      "n_foreground was reduced to 0.\n",
      "n_foreground was reduced to 0.\n",
      "n_foreground was reduced to 0.\n",
      "n_foreground was reduced to 0.\n",
      "n_foreground was reduced to 0.\n",
      "n_foreground was reduced to 0.\n"
     ]
    },
    {
     "name": "stderr",
     "output_type": "stream",
     "text": [
      " 63%|██████████████████████████████████████████████████████████████████████████████████████████▉                                                     | 36/57 [18:40<10:46, 30.77s/it]"
     ]
    },
    {
     "name": "stdout",
     "output_type": "stream",
     "text": [
      "n_foreground was reduced to 0.\n",
      "n_foreground was reduced to 0.\n",
      "n_foreground was reduced to 4.\n",
      "n_foreground was reduced to 0.\n",
      "n_foreground was reduced to 0.\n",
      "n_foreground was reduced to 0.\n",
      "n_foreground was reduced to 0.\n",
      "n_foreground was reduced to 0.\n",
      "n_foreground was reduced to 0.\n",
      "n_foreground was reduced to 0.\n",
      "n_foreground was reduced to 0.\n",
      "n_foreground was reduced to 0.\n"
     ]
    },
    {
     "name": "stderr",
     "output_type": "stream",
     "text": [
      " 65%|█████████████████████████████████████████████████████████████████████████████████████████████▍                                                  | 37/57 [19:10<10:12, 30.62s/it]"
     ]
    },
    {
     "name": "stdout",
     "output_type": "stream",
     "text": [
      "n_foreground was reduced to 0.\n",
      "n_foreground was reduced to 0.\n",
      "n_foreground was reduced to 0.\n",
      "n_foreground was reduced to 0.\n",
      "n_foreground was reduced to 0.\n",
      "n_foreground was reduced to 0.\n",
      "n_foreground was reduced to 0.\n",
      "n_foreground was reduced to 0.\n",
      "n_foreground was reduced to 0.\n",
      "n_foreground was reduced to 0.\n",
      "n_foreground was reduced to 0.\n"
     ]
    },
    {
     "name": "stderr",
     "output_type": "stream",
     "text": [
      " 67%|████████████████████████████████████████████████████████████████████████████████████████████████                                                | 38/57 [19:40<09:40, 30.54s/it]"
     ]
    },
    {
     "name": "stdout",
     "output_type": "stream",
     "text": [
      "n_foreground was reduced to 0.\n",
      "n_foreground was reduced to 0.\n",
      "n_foreground was reduced to 0.\n",
      "n_foreground was reduced to 0.\n",
      "n_foreground was reduced to 0.\n"
     ]
    },
    {
     "name": "stderr",
     "output_type": "stream",
     "text": [
      " 68%|██████████████████████████████████████████████████████████████████████████████████████████████████▌                                             | 39/57 [20:11<09:11, 30.63s/it]"
     ]
    },
    {
     "name": "stdout",
     "output_type": "stream",
     "text": [
      "n_foreground was reduced to 0.\n",
      "n_foreground was reduced to 0.\n",
      "n_foreground was reduced to 0.\n",
      "n_foreground was reduced to 0.\n",
      "n_foreground was reduced to 0.\n",
      "n_foreground was reduced to 0.\n"
     ]
    },
    {
     "name": "stderr",
     "output_type": "stream",
     "text": [
      " 70%|█████████████████████████████████████████████████████████████████████████████████████████████████████                                           | 40/57 [20:42<08:41, 30.65s/it]"
     ]
    },
    {
     "name": "stdout",
     "output_type": "stream",
     "text": [
      "n_foreground was reduced to 0.\n",
      "n_foreground was reduced to 0.\n",
      "n_foreground was reduced to 0.\n",
      "n_foreground was reduced to 0.\n",
      "n_foreground was reduced to 0.\n",
      "n_foreground was reduced to 0.\n",
      "n_foreground was reduced to 0.\n",
      "n_background was reduced to 0.\n",
      "n_foreground was reduced to 0.\n",
      "n_foreground was reduced to 0.\n",
      "n_foreground was reduced to 0.\n",
      "n_foreground was reduced to 0.\n",
      "n_background was reduced to 0.\n",
      "n_foreground was reduced to 0.\n",
      "n_foreground was reduced to 0.\n"
     ]
    },
    {
     "name": "stderr",
     "output_type": "stream",
     "text": [
      " 72%|███████████████████████████████████████████████████████████████████████████████████████████████████████▌                                        | 41/57 [21:12<08:08, 30.54s/it]"
     ]
    },
    {
     "name": "stdout",
     "output_type": "stream",
     "text": [
      "n_foreground was reduced to 0.\n",
      "n_background was reduced to 0.\n",
      "n_foreground was reduced to 0.\n",
      "n_foreground was reduced to 0.\n",
      "n_foreground was reduced to 0.\n",
      "n_foreground was reduced to 0.\n",
      "n_foreground was reduced to 0.\n",
      "n_foreground was reduced to 0.\n",
      "n_foreground was reduced to 0.\n",
      "n_foreground was reduced to 0.\n"
     ]
    },
    {
     "name": "stderr",
     "output_type": "stream",
     "text": [
      " 74%|██████████████████████████████████████████████████████████████████████████████████████████████████████████                                      | 42/57 [21:43<07:38, 30.54s/it]"
     ]
    },
    {
     "name": "stdout",
     "output_type": "stream",
     "text": [
      "n_background was reduced to 0.\n",
      "n_foreground was reduced to 0.\n",
      "n_foreground was reduced to 0.\n",
      "n_foreground was reduced to 0.\n",
      "n_foreground was reduced to 0.\n",
      "n_foreground was reduced to 0.\n"
     ]
    },
    {
     "name": "stderr",
     "output_type": "stream",
     "text": [
      " 75%|████████████████████████████████████████████████████████████████████████████████████████████████████████████▋                                   | 43/57 [22:13<07:09, 30.64s/it]"
     ]
    },
    {
     "name": "stdout",
     "output_type": "stream",
     "text": [
      "n_foreground was reduced to 0.\n",
      "n_foreground was reduced to 0.\n",
      "n_foreground was reduced to 0.\n",
      "n_foreground was reduced to 0.\n",
      "n_foreground was reduced to 0.\n",
      "n_foreground was reduced to 0.\n",
      "n_foreground was reduced to 0.\n",
      "n_foreground was reduced to 0.\n",
      "n_foreground was reduced to 0.\n",
      "n_background was reduced to 0.\n",
      "n_foreground was reduced to 0.\n"
     ]
    },
    {
     "name": "stderr",
     "output_type": "stream",
     "text": [
      " 77%|███████████████████████████████████████████████████████████████████████████████████████████████████████████████▏                                | 44/57 [22:44<06:37, 30.60s/it]"
     ]
    },
    {
     "name": "stdout",
     "output_type": "stream",
     "text": [
      "n_foreground was reduced to 0.\n",
      "n_foreground was reduced to 0.\n",
      "n_background was reduced to 0.\n",
      "n_foreground was reduced to 0.\n",
      "n_foreground was reduced to 0.\n",
      "n_foreground was reduced to 0.\n",
      "n_foreground was reduced to 0.\n",
      "n_foreground was reduced to 0.\n"
     ]
    },
    {
     "name": "stderr",
     "output_type": "stream",
     "text": [
      " 79%|█████████████████████████████████████████████████████████████████████████████████████████████████████████████████▋                              | 45/57 [23:15<06:07, 30.62s/it]"
     ]
    },
    {
     "name": "stdout",
     "output_type": "stream",
     "text": [
      "n_background was reduced to 0.\n",
      "n_foreground was reduced to 0.\n",
      "n_foreground was reduced to 0.\n"
     ]
    },
    {
     "name": "stderr",
     "output_type": "stream",
     "text": [
      " 81%|████████████████████████████████████████████████████████████████████████████████████████████████████████████████████▏                           | 46/57 [23:46<05:38, 30.76s/it]"
     ]
    },
    {
     "name": "stdout",
     "output_type": "stream",
     "text": [
      "n_background was reduced to 0.\n",
      "n_foreground was reduced to 0.\n",
      "n_foreground was reduced to 0.\n",
      "n_foreground was reduced to 0.\n",
      "n_foreground was reduced to 0.\n",
      "n_foreground was reduced to 0.\n",
      "n_foreground was reduced to 0.\n",
      "n_foreground was reduced to 0.\n",
      "n_foreground was reduced to 0.\n"
     ]
    },
    {
     "name": "stderr",
     "output_type": "stream",
     "text": [
      " 82%|██████████████████████████████████████████████████████████████████████████████████████████████████████████████████████▋                         | 47/57 [24:16<05:06, 30.69s/it]"
     ]
    },
    {
     "name": "stdout",
     "output_type": "stream",
     "text": [
      "n_foreground was reduced to 0.\n",
      "n_foreground was reduced to 0.\n",
      "n_background was reduced to 0.\n",
      "n_foreground was reduced to 0.\n",
      "n_foreground was reduced to 0.\n",
      "n_foreground was reduced to 0.\n",
      "n_foreground was reduced to 0.\n",
      "n_foreground was reduced to 0.\n",
      "n_foreground was reduced to 0.\n",
      "n_foreground was reduced to 0.\n",
      "n_foreground was reduced to 0.\n"
     ]
    },
    {
     "name": "stderr",
     "output_type": "stream",
     "text": [
      " 84%|█████████████████████████████████████████████████████████████████████████████████████████████████████████████████████████▎                      | 48/57 [24:50<04:44, 31.64s/it]"
     ]
    },
    {
     "name": "stdout",
     "output_type": "stream",
     "text": [
      "n_foreground was reduced to 0.\n",
      "n_foreground was reduced to 0.\n",
      "n_foreground was reduced to 0.\n",
      "n_foreground was reduced to 0.\n",
      "n_foreground was reduced to 0.\n",
      "n_foreground was reduced to 0.\n",
      "n_background was reduced to 0.\n",
      "n_foreground was reduced to 0.\n",
      "n_foreground was reduced to 0.\n"
     ]
    },
    {
     "name": "stderr",
     "output_type": "stream",
     "text": [
      " 86%|███████████████████████████████████████████████████████████████████████████████████████████████████████████████████████████▊                    | 49/57 [25:24<04:17, 32.20s/it]"
     ]
    },
    {
     "name": "stdout",
     "output_type": "stream",
     "text": [
      "n_foreground was reduced to 0.\n"
     ]
    },
    {
     "name": "stderr",
     "output_type": "stream",
     "text": [
      " 88%|██████████████████████████████████████████████████████████████████████████████████████████████████████████████████████████████▎                 | 50/57 [25:57<03:48, 32.66s/it]"
     ]
    },
    {
     "name": "stdout",
     "output_type": "stream",
     "text": [
      "n_foreground was reduced to 0.\n",
      "n_foreground was reduced to 0.\n",
      "n_foreground was reduced to 0.\n"
     ]
    },
    {
     "name": "stderr",
     "output_type": "stream",
     "text": [
      " 89%|████████████████████████████████████████████████████████████████████████████████████████████████████████████████████████████████▊               | 51/57 [26:31<03:17, 32.88s/it]"
     ]
    },
    {
     "name": "stdout",
     "output_type": "stream",
     "text": [
      "n_background was reduced to 0.\n",
      "n_foreground was reduced to 0.\n",
      "n_foreground was reduced to 0.\n",
      "n_foreground was reduced to 0.\n",
      "n_foreground was reduced to 0.\n",
      "n_foreground was reduced to 0.\n",
      "n_foreground was reduced to 0.\n",
      "n_foreground was reduced to 0.\n"
     ]
    },
    {
     "name": "stderr",
     "output_type": "stream",
     "text": [
      " 91%|███████████████████████████████████████████████████████████████████████████████████████████████████████████████████████████████████▎            | 52/57 [27:04<02:45, 33.07s/it]"
     ]
    },
    {
     "name": "stdout",
     "output_type": "stream",
     "text": [
      "n_foreground was reduced to 0.\n",
      "n_foreground was reduced to 0.\n",
      "n_foreground was reduced to 0.\n",
      "n_foreground was reduced to 0.\n",
      "n_background was reduced to 0.\n",
      "n_foreground was reduced to 0.\n",
      "n_foreground was reduced to 0.\n",
      "n_background was reduced to 0.\n",
      "n_foreground was reduced to 0.\n",
      "n_foreground was reduced to 0.\n",
      "n_foreground was reduced to 0.\n",
      "n_foreground was reduced to 0.\n"
     ]
    },
    {
     "name": "stderr",
     "output_type": "stream",
     "text": [
      " 93%|█████████████████████████████████████████████████████████████████████████████████████████████████████████████████████████████████████▉          | 53/57 [27:37<02:12, 33.05s/it]"
     ]
    },
    {
     "name": "stdout",
     "output_type": "stream",
     "text": [
      "n_foreground was reduced to 0.\n",
      "n_background was reduced to 0.\n",
      "n_foreground was reduced to 0.\n",
      "n_foreground was reduced to 0.\n",
      "n_foreground was reduced to 0.\n",
      "n_foreground was reduced to 0.\n",
      "n_foreground was reduced to 0.\n",
      "n_foreground was reduced to 0.\n",
      "n_foreground was reduced to 0.\n",
      "n_foreground was reduced to 0.\n",
      "n_foreground was reduced to 0.\n",
      "n_foreground was reduced to 0.\n",
      "n_foreground was reduced to 0.\n",
      "n_foreground was reduced to 0.\n"
     ]
    },
    {
     "name": "stderr",
     "output_type": "stream",
     "text": [
      " 95%|████████████████████████████████████████████████████████████████████████████████████████████████████████████████████████████████████████▍       | 54/57 [28:10<01:38, 32.97s/it]"
     ]
    },
    {
     "name": "stdout",
     "output_type": "stream",
     "text": [
      "n_foreground was reduced to 0.\n",
      "n_foreground was reduced to 0.\n",
      "n_background was reduced to 0.\n",
      "n_foreground was reduced to 0.\n",
      "n_foreground was reduced to 0.\n",
      "n_foreground was reduced to 0.\n",
      "n_foreground was reduced to 0.\n"
     ]
    },
    {
     "name": "stderr",
     "output_type": "stream",
     "text": [
      " 96%|██████████████████████████████████████████████████████████████████████████████████████████████████████████████████████████████████████████▉     | 55/57 [28:42<01:05, 32.74s/it]"
     ]
    },
    {
     "name": "stdout",
     "output_type": "stream",
     "text": [
      "n_foreground was reduced to 0.\n",
      "n_foreground was reduced to 0.\n",
      "n_background was reduced to 0.\n",
      "n_foreground was reduced to 0.\n",
      "n_foreground was reduced to 0.\n",
      "n_foreground was reduced to 0.\n",
      "n_background was reduced to 0.\n",
      "n_foreground was reduced to 0.\n",
      "n_foreground was reduced to 0.\n",
      "n_foreground was reduced to 0.\n",
      "n_foreground was reduced to 0.\n"
     ]
    },
    {
     "name": "stderr",
     "output_type": "stream",
     "text": [
      " 98%|█████████████████████████████████████████████████████████████████████████████████████████████████████████████████████████████████████████████▍  | 56/57 [29:15<00:32, 32.76s/it]"
     ]
    },
    {
     "name": "stdout",
     "output_type": "stream",
     "text": [
      "n_foreground was reduced to 0.\n",
      "n_foreground was reduced to 0.\n",
      "n_background was reduced to 0.\n",
      "n_foreground was reduced to 0.\n",
      "n_foreground was reduced to 0.\n",
      "n_background was reduced to 0.\n",
      "n_foreground was reduced to 0.\n",
      "n_foreground was reduced to 0.\n",
      "n_background was reduced to 0.\n",
      "n_foreground was reduced to 0.\n",
      "n_foreground was reduced to 0.\n",
      "n_background was reduced to 0.\n",
      "n_foreground was reduced to 0.\n",
      "n_foreground was reduced to 0.\n"
     ]
    },
    {
     "name": "stderr",
     "output_type": "stream",
     "text": [
      "100%|████████████████████████████████████████████████████████████████████████████████████████████████████████████████████████████████████████████████| 57/57 [29:42<00:00, 31.27s/it]\n"
     ]
    }
   ],
   "source": [
    "all_masks = []\n",
    "all_prompts = {1:[],2:[],3:[]}\n",
    "scores={}\n",
    "for batch in tqdm(dataloader):\n",
    "    embeddings, ground_truths = batch\n",
    "    prompt_class_1 = []\n",
    "    prompt_class_2 = []\n",
    "    prompt_class_3 = []\n",
    "    for ground_truth in ground_truths:\n",
    "        prompt_class_1.append(batch_sample_from_class(50, ground_truth, 1, n_foreground = 5, n_background= 3))\n",
    "        prompt_class_2.append(batch_sample_from_class(50, ground_truth, 2, n_foreground = 5, n_background= 3))\n",
    "        prompt_class_3.append(batch_sample_from_class(50, ground_truth, 3, n_foreground = 5, n_background= 3))\n",
    "        all_prompts[1].extend(prompt_class_1)\n",
    "        all_prompts[2].extend(prompt_class_2)\n",
    "        all_prompts[3].extend(prompt_class_3)\n",
    "    ana = analyze(embeddings,ground_truths)    \n",
    "    masks= ana.generate_masks(prompt_class_1,prompt_class_2,prompt_class_3,50)\n",
    "    all_masks.append(masks.numpy())\n",
    "    for metric,f in ana.metrics.items():\n",
    "        if metric not in scores.keys():\n",
    "            scores[metric] = ana.scoring_function(f)\n",
    "        else: \n",
    "            scores[metric] = torch.cat([scores[metric],ana.scoring_function(f)],dim = 0)\n",
    "            \n",
    "results = ana.get_results(scores[\"dice_score\"],scores[\"iou\"],scores[\"accuracy\"],(5,3),(5,3),(5,3))\n",
    "re = Results(\"../ACDC\",\"pos_and_neg_0503\")\n",
    "re.append_row(results)"
   ]
  },
  {
   "cell_type": "code",
   "execution_count": 10,
   "id": "673540e4-f611-46da-9022-bb379338f069",
   "metadata": {},
   "outputs": [],
   "source": [
    "file_path = \"../ACDC/\"\n",
    "with open(f\"{file_path}prompts4.pickle\", 'wb') as f1:\n",
    "    pickle.dump(all_prompts, f1)\n"
   ]
  },
  {
   "cell_type": "code",
   "execution_count": 11,
   "id": "ae616121-3378-4043-9120-ac94bde7301c",
   "metadata": {},
   "outputs": [],
   "source": [
    "os.mkdir(\"../ACDC/masks4\")\n",
    "for i in range(57):\n",
    "    f = gzip.GzipFile(f\"../ACDC/masks4/batch_{i}.npy.gz\", \"w\")\n",
    "    np.save(f, all_masks[i])"
   ]
  },
  {
   "cell_type": "code",
   "execution_count": 12,
   "id": "6b820021-c6a8-4319-824d-d267d5c81128",
   "metadata": {},
   "outputs": [],
   "source": [
    "torch.cuda.empty_cache()"
   ]
  },
  {
   "cell_type": "markdown",
   "id": "41d0586a-9cbc-49f1-874a-2e556358f2f5",
   "metadata": {},
   "source": [
    "## Pipeline 5\n",
    "- Only 5 positive prompts, no negative prompts"
   ]
  },
  {
   "cell_type": "code",
   "execution_count": 13,
   "id": "dbc84e6b-ee47-4606-94b5-f0f37900a08a",
   "metadata": {},
   "outputs": [
    {
     "name": "stderr",
     "output_type": "stream",
     "text": [
      "  0%|                                                                                                                                                         | 0/57 [00:00<?, ?it/s]"
     ]
    },
    {
     "name": "stdout",
     "output_type": "stream",
     "text": [
      "n_foreground was reduced to 0.\n",
      "n_foreground was reduced to 0.\n",
      "n_foreground was reduced to 0.\n",
      "n_foreground was reduced to 0.\n",
      "n_foreground was reduced to 0.\n",
      "n_foreground was reduced to 0.\n"
     ]
    },
    {
     "name": "stderr",
     "output_type": "stream",
     "text": [
      "  2%|██▌                                                                                                                                              | 1/57 [00:31<29:31, 31.64s/it]"
     ]
    },
    {
     "name": "stdout",
     "output_type": "stream",
     "text": [
      "n_foreground was reduced to 0.\n",
      "n_foreground was reduced to 0.\n",
      "n_foreground was reduced to 0.\n",
      "n_foreground was reduced to 0.\n",
      "n_foreground was reduced to 0.\n",
      "n_foreground was reduced to 0.\n",
      "n_foreground was reduced to 0.\n",
      "n_foreground was reduced to 0.\n",
      "n_foreground was reduced to 0.\n",
      "n_foreground was reduced to 0.\n",
      "n_foreground was reduced to 0.\n",
      "n_foreground was reduced to 0.\n",
      "n_foreground was reduced to 0.\n",
      "n_foreground was reduced to 0.\n",
      "n_foreground was reduced to 0.\n",
      "n_foreground was reduced to 0.\n"
     ]
    },
    {
     "name": "stderr",
     "output_type": "stream",
     "text": [
      "  4%|█████                                                                                                                                            | 2/57 [01:02<28:21, 30.94s/it]"
     ]
    },
    {
     "name": "stdout",
     "output_type": "stream",
     "text": [
      "n_foreground was reduced to 0.\n",
      "n_foreground was reduced to 0.\n",
      "n_foreground was reduced to 0.\n",
      "n_foreground was reduced to 0.\n",
      "n_foreground was reduced to 0.\n"
     ]
    },
    {
     "name": "stderr",
     "output_type": "stream",
     "text": [
      "  5%|███████▋                                                                                                                                         | 3/57 [01:32<27:34, 30.64s/it]"
     ]
    },
    {
     "name": "stdout",
     "output_type": "stream",
     "text": [
      "n_foreground was reduced to 0.\n",
      "n_foreground was reduced to 0.\n",
      "n_foreground was reduced to 0.\n",
      "n_foreground was reduced to 0.\n",
      "n_foreground was reduced to 0.\n",
      "n_foreground was reduced to 0.\n",
      "n_foreground was reduced to 0.\n",
      "n_foreground was reduced to 0.\n",
      "n_foreground was reduced to 0.\n",
      "n_foreground was reduced to 0.\n",
      "n_foreground was reduced to 0.\n"
     ]
    },
    {
     "name": "stderr",
     "output_type": "stream",
     "text": [
      "  7%|██████████▏                                                                                                                                      | 4/57 [02:02<26:58, 30.54s/it]"
     ]
    },
    {
     "name": "stdout",
     "output_type": "stream",
     "text": [
      "n_foreground was reduced to 0.\n",
      "n_foreground was reduced to 0.\n",
      "n_foreground was reduced to 0.\n",
      "n_foreground was reduced to 0.\n",
      "n_foreground was reduced to 0.\n",
      "n_foreground was reduced to 0.\n",
      "n_foreground was reduced to 0.\n",
      "n_foreground was reduced to 0.\n",
      "n_foreground was reduced to 0.\n",
      "n_foreground was reduced to 0.\n",
      "n_foreground was reduced to 0.\n",
      "n_foreground was reduced to 0.\n",
      "n_foreground was reduced to 0.\n",
      "n_foreground was reduced to 0.\n",
      "n_foreground was reduced to 0.\n",
      "n_foreground was reduced to 0.\n",
      "n_foreground was reduced to 0.\n"
     ]
    },
    {
     "name": "stderr",
     "output_type": "stream",
     "text": [
      "  9%|████████████▋                                                                                                                                    | 5/57 [02:33<26:25, 30.49s/it]"
     ]
    },
    {
     "name": "stdout",
     "output_type": "stream",
     "text": [
      "n_foreground was reduced to 0.\n",
      "n_foreground was reduced to 0.\n",
      "n_foreground was reduced to 0.\n",
      "n_foreground was reduced to 0.\n",
      "n_foreground was reduced to 0.\n",
      "n_foreground was reduced to 0.\n",
      "n_foreground was reduced to 0.\n"
     ]
    },
    {
     "name": "stderr",
     "output_type": "stream",
     "text": [
      " 11%|███████████████▎                                                                                                                                 | 6/57 [03:03<25:54, 30.47s/it]"
     ]
    },
    {
     "name": "stdout",
     "output_type": "stream",
     "text": [
      "n_foreground was reduced to 0.\n",
      "n_foreground was reduced to 0.\n",
      "n_foreground was reduced to 0.\n",
      "n_foreground was reduced to 0.\n",
      "n_foreground was reduced to 0.\n",
      "n_foreground was reduced to 0.\n",
      "n_foreground was reduced to 0.\n"
     ]
    },
    {
     "name": "stderr",
     "output_type": "stream",
     "text": [
      " 12%|█████████████████▊                                                                                                                               | 7/57 [03:34<25:24, 30.50s/it]"
     ]
    },
    {
     "name": "stdout",
     "output_type": "stream",
     "text": [
      "n_foreground was reduced to 0.\n",
      "n_foreground was reduced to 0.\n",
      "n_foreground was reduced to 0.\n",
      "n_foreground was reduced to 0.\n",
      "n_foreground was reduced to 0.\n",
      "n_foreground was reduced to 0.\n",
      "n_foreground was reduced to 0.\n",
      "n_foreground was reduced to 0.\n",
      "n_foreground was reduced to 0.\n",
      "n_foreground was reduced to 0.\n",
      "n_foreground was reduced to 0.\n",
      "n_foreground was reduced to 0.\n"
     ]
    },
    {
     "name": "stderr",
     "output_type": "stream",
     "text": [
      " 14%|████████████████████▎                                                                                                                            | 8/57 [04:04<24:54, 30.51s/it]"
     ]
    },
    {
     "name": "stdout",
     "output_type": "stream",
     "text": [
      "n_foreground was reduced to 0.\n",
      "n_foreground was reduced to 0.\n",
      "n_foreground was reduced to 0.\n",
      "n_foreground was reduced to 0.\n"
     ]
    },
    {
     "name": "stderr",
     "output_type": "stream",
     "text": [
      " 16%|██████████████████████▉                                                                                                                          | 9/57 [04:35<24:24, 30.52s/it]"
     ]
    },
    {
     "name": "stdout",
     "output_type": "stream",
     "text": [
      "n_foreground was reduced to 0.\n",
      "n_foreground was reduced to 0.\n",
      "n_foreground was reduced to 0.\n",
      "n_foreground was reduced to 0.\n",
      "n_foreground was reduced to 0.\n"
     ]
    },
    {
     "name": "stderr",
     "output_type": "stream",
     "text": [
      " 18%|█████████████████████████▎                                                                                                                      | 10/57 [05:05<23:54, 30.52s/it]"
     ]
    },
    {
     "name": "stdout",
     "output_type": "stream",
     "text": [
      "n_foreground was reduced to 0.\n",
      "n_foreground was reduced to 0.\n"
     ]
    },
    {
     "name": "stderr",
     "output_type": "stream",
     "text": [
      " 19%|███████████████████████████▊                                                                                                                    | 11/57 [05:36<23:23, 30.50s/it]"
     ]
    },
    {
     "name": "stdout",
     "output_type": "stream",
     "text": [
      "n_foreground was reduced to 0.\n",
      "n_foreground was reduced to 0.\n",
      "n_foreground was reduced to 0.\n",
      "n_foreground was reduced to 0.\n",
      "n_foreground was reduced to 0.\n",
      "n_foreground was reduced to 0.\n",
      "n_foreground was reduced to 0.\n",
      "n_foreground was reduced to 0.\n"
     ]
    },
    {
     "name": "stderr",
     "output_type": "stream",
     "text": [
      " 21%|██████████████████████████████▎                                                                                                                 | 12/57 [06:06<22:52, 30.50s/it]"
     ]
    },
    {
     "name": "stdout",
     "output_type": "stream",
     "text": [
      "n_foreground was reduced to 0.\n",
      "n_foreground was reduced to 0.\n",
      "n_foreground was reduced to 0.\n",
      "n_foreground was reduced to 0.\n",
      "n_foreground was reduced to 0.\n",
      "n_foreground was reduced to 0.\n",
      "n_foreground was reduced to 0.\n"
     ]
    },
    {
     "name": "stderr",
     "output_type": "stream",
     "text": [
      " 23%|████████████████████████████████▊                                                                                                               | 13/57 [06:37<22:21, 30.49s/it]"
     ]
    },
    {
     "name": "stdout",
     "output_type": "stream",
     "text": [
      "n_foreground was reduced to 0.\n",
      "n_foreground was reduced to 0.\n",
      "n_foreground was reduced to 0.\n",
      "n_foreground was reduced to 0.\n",
      "n_foreground was reduced to 0.\n",
      "n_foreground was reduced to 0.\n"
     ]
    },
    {
     "name": "stderr",
     "output_type": "stream",
     "text": [
      " 25%|███████████████████████████████████▎                                                                                                            | 14/57 [07:07<21:51, 30.49s/it]"
     ]
    },
    {
     "name": "stdout",
     "output_type": "stream",
     "text": [
      "n_foreground was reduced to 0.\n",
      "n_foreground was reduced to 0.\n",
      "n_foreground was reduced to 0.\n",
      "n_foreground was reduced to 0.\n",
      "n_foreground was reduced to 0.\n",
      "n_foreground was reduced to 0.\n",
      "n_foreground was reduced to 0.\n",
      "n_foreground was reduced to 0.\n",
      "n_foreground was reduced to 0.\n"
     ]
    },
    {
     "name": "stderr",
     "output_type": "stream",
     "text": [
      " 26%|█████████████████████████████████████▉                                                                                                          | 15/57 [07:38<21:19, 30.47s/it]"
     ]
    },
    {
     "name": "stdout",
     "output_type": "stream",
     "text": [
      "n_foreground was reduced to 0.\n",
      "n_foreground was reduced to 0.\n",
      "n_foreground was reduced to 0.\n",
      "n_foreground was reduced to 0.\n",
      "n_foreground was reduced to 0.\n",
      "n_foreground was reduced to 0.\n",
      "n_foreground was reduced to 0.\n",
      "n_foreground was reduced to 0.\n"
     ]
    },
    {
     "name": "stderr",
     "output_type": "stream",
     "text": [
      " 28%|████████████████████████████████████████▍                                                                                                       | 16/57 [08:08<20:50, 30.50s/it]"
     ]
    },
    {
     "name": "stdout",
     "output_type": "stream",
     "text": [
      "n_foreground was reduced to 0.\n",
      "n_foreground was reduced to 0.\n",
      "n_foreground was reduced to 0.\n",
      "n_foreground was reduced to 0.\n",
      "n_foreground was reduced to 0.\n",
      "n_foreground was reduced to 0.\n",
      "n_foreground was reduced to 0.\n",
      "n_foreground was reduced to 0.\n",
      "n_foreground was reduced to 0.\n",
      "n_foreground was reduced to 0.\n",
      "n_foreground was reduced to 0.\n",
      "n_foreground was reduced to 0.\n",
      "n_foreground was reduced to 0.\n",
      "n_foreground was reduced to 0.\n",
      "n_foreground was reduced to 0.\n",
      "n_foreground was reduced to 0.\n"
     ]
    },
    {
     "name": "stderr",
     "output_type": "stream",
     "text": [
      " 30%|██████████████████████████████████████████▉                                                                                                     | 17/57 [08:39<20:19, 30.48s/it]"
     ]
    },
    {
     "name": "stdout",
     "output_type": "stream",
     "text": [
      "n_foreground was reduced to 0.\n",
      "n_foreground was reduced to 0.\n",
      "n_foreground was reduced to 0.\n",
      "n_foreground was reduced to 0.\n",
      "n_foreground was reduced to 0.\n",
      "n_foreground was reduced to 0.\n",
      "n_foreground was reduced to 0.\n",
      "n_foreground was reduced to 0.\n",
      "n_foreground was reduced to 0.\n",
      "n_foreground was reduced to 0.\n",
      "n_foreground was reduced to 0.\n",
      "n_foreground was reduced to 0.\n",
      "n_foreground was reduced to 0.\n",
      "n_foreground was reduced to 0.\n"
     ]
    },
    {
     "name": "stderr",
     "output_type": "stream",
     "text": [
      " 32%|█████████████████████████████████████████████▍                                                                                                  | 18/57 [09:09<19:48, 30.48s/it]"
     ]
    },
    {
     "name": "stdout",
     "output_type": "stream",
     "text": [
      "n_foreground was reduced to 0.\n",
      "n_foreground was reduced to 0.\n",
      "n_foreground was reduced to 0.\n",
      "n_foreground was reduced to 0.\n"
     ]
    },
    {
     "name": "stderr",
     "output_type": "stream",
     "text": [
      " 33%|████████████████████████████████████████████████                                                                                                | 19/57 [09:40<19:19, 30.52s/it]"
     ]
    },
    {
     "name": "stdout",
     "output_type": "stream",
     "text": [
      "n_foreground was reduced to 0.\n",
      "n_foreground was reduced to 0.\n",
      "n_foreground was reduced to 0.\n",
      "n_foreground was reduced to 0.\n",
      "n_foreground was reduced to 0.\n",
      "n_foreground was reduced to 0.\n",
      "n_foreground was reduced to 0.\n"
     ]
    },
    {
     "name": "stderr",
     "output_type": "stream",
     "text": [
      " 35%|██████████████████████████████████████████████████▌                                                                                             | 20/57 [10:10<18:51, 30.58s/it]"
     ]
    },
    {
     "name": "stdout",
     "output_type": "stream",
     "text": [
      "n_foreground was reduced to 0.\n",
      "n_foreground was reduced to 0.\n",
      "n_foreground was reduced to 0.\n",
      "n_foreground was reduced to 1.\n",
      "n_foreground was reduced to 0.\n"
     ]
    },
    {
     "name": "stderr",
     "output_type": "stream",
     "text": [
      " 37%|█████████████████████████████████████████████████████                                                                                           | 21/57 [10:41<18:24, 30.67s/it]"
     ]
    },
    {
     "name": "stdout",
     "output_type": "stream",
     "text": [
      "n_foreground was reduced to 0.\n",
      "n_foreground was reduced to 0.\n",
      "n_foreground was reduced to 0.\n",
      "n_foreground was reduced to 0.\n",
      "n_foreground was reduced to 0.\n",
      "n_foreground was reduced to 0.\n",
      "n_foreground was reduced to 0.\n",
      "n_foreground was reduced to 0.\n",
      "n_foreground was reduced to 0.\n",
      "n_foreground was reduced to 0.\n",
      "n_foreground was reduced to 0.\n"
     ]
    },
    {
     "name": "stderr",
     "output_type": "stream",
     "text": [
      " 39%|███████████████████████████████████████████████████████▌                                                                                        | 22/57 [11:12<17:52, 30.65s/it]"
     ]
    },
    {
     "name": "stdout",
     "output_type": "stream",
     "text": [
      "n_foreground was reduced to 0.\n",
      "n_foreground was reduced to 0.\n",
      "n_foreground was reduced to 0.\n",
      "n_foreground was reduced to 0.\n",
      "n_foreground was reduced to 0.\n",
      "n_foreground was reduced to 0.\n",
      "n_foreground was reduced to 0.\n",
      "n_foreground was reduced to 0.\n"
     ]
    },
    {
     "name": "stderr",
     "output_type": "stream",
     "text": [
      " 40%|██████████████████████████████████████████████████████████                                                                                      | 23/57 [11:43<17:23, 30.69s/it]"
     ]
    },
    {
     "name": "stdout",
     "output_type": "stream",
     "text": [
      "n_foreground was reduced to 0.\n",
      "n_foreground was reduced to 0.\n"
     ]
    },
    {
     "name": "stderr",
     "output_type": "stream",
     "text": [
      " 42%|████████████████████████████████████████████████████████████▋                                                                                   | 24/57 [12:13<16:51, 30.64s/it]"
     ]
    },
    {
     "name": "stdout",
     "output_type": "stream",
     "text": [
      "n_foreground was reduced to 0.\n",
      "n_foreground was reduced to 0.\n",
      "n_foreground was reduced to 0.\n",
      "n_foreground was reduced to 0.\n",
      "n_foreground was reduced to 0.\n",
      "n_foreground was reduced to 0.\n"
     ]
    },
    {
     "name": "stderr",
     "output_type": "stream",
     "text": [
      " 44%|███████████████████████████████████████████████████████████████▏                                                                                | 25/57 [12:44<16:20, 30.64s/it]"
     ]
    },
    {
     "name": "stdout",
     "output_type": "stream",
     "text": [
      "n_foreground was reduced to 0.\n",
      "n_foreground was reduced to 0.\n",
      "n_foreground was reduced to 0.\n",
      "n_foreground was reduced to 0.\n",
      "n_foreground was reduced to 0.\n",
      "n_foreground was reduced to 0.\n",
      "n_foreground was reduced to 0.\n",
      "n_foreground was reduced to 0.\n",
      "n_foreground was reduced to 0.\n",
      "n_foreground was reduced to 0.\n"
     ]
    },
    {
     "name": "stderr",
     "output_type": "stream",
     "text": [
      " 46%|█████████████████████████████████████████████████████████████████▋                                                                              | 26/57 [13:14<15:46, 30.53s/it]"
     ]
    },
    {
     "name": "stdout",
     "output_type": "stream",
     "text": [
      "n_foreground was reduced to 0.\n",
      "n_foreground was reduced to 0.\n",
      "n_foreground was reduced to 0.\n",
      "n_foreground was reduced to 0.\n",
      "n_foreground was reduced to 0.\n",
      "n_foreground was reduced to 0.\n",
      "n_foreground was reduced to 0.\n",
      "n_foreground was reduced to 0.\n",
      "n_foreground was reduced to 0.\n",
      "n_foreground was reduced to 0.\n",
      "n_foreground was reduced to 0.\n"
     ]
    },
    {
     "name": "stderr",
     "output_type": "stream",
     "text": [
      " 47%|████████████████████████████████████████████████████████████████████▏                                                                           | 27/57 [13:44<15:13, 30.45s/it]"
     ]
    },
    {
     "name": "stdout",
     "output_type": "stream",
     "text": [
      "n_foreground was reduced to 0.\n",
      "n_foreground was reduced to 0.\n",
      "n_foreground was reduced to 0.\n",
      "n_foreground was reduced to 0.\n",
      "n_foreground was reduced to 0.\n",
      "n_foreground was reduced to 0.\n",
      "n_foreground was reduced to 0.\n",
      "n_foreground was reduced to 0.\n",
      "n_foreground was reduced to 0.\n",
      "n_foreground was reduced to 0.\n",
      "n_foreground was reduced to 0.\n"
     ]
    },
    {
     "name": "stderr",
     "output_type": "stream",
     "text": [
      " 49%|██████████████████████████████████████████████████████████████████████▋                                                                         | 28/57 [14:15<14:41, 30.39s/it]"
     ]
    },
    {
     "name": "stdout",
     "output_type": "stream",
     "text": [
      "n_foreground was reduced to 0.\n",
      "n_foreground was reduced to 0.\n",
      "n_foreground was reduced to 0.\n",
      "n_foreground was reduced to 0.\n",
      "n_foreground was reduced to 0.\n",
      "n_foreground was reduced to 0.\n",
      "n_foreground was reduced to 0.\n",
      "n_foreground was reduced to 0.\n",
      "n_foreground was reduced to 0.\n"
     ]
    },
    {
     "name": "stderr",
     "output_type": "stream",
     "text": [
      " 51%|█████████████████████████████████████████████████████████████████████████▎                                                                      | 29/57 [14:45<14:10, 30.37s/it]"
     ]
    },
    {
     "name": "stdout",
     "output_type": "stream",
     "text": [
      "n_foreground was reduced to 0.\n",
      "n_foreground was reduced to 0.\n",
      "n_foreground was reduced to 0.\n",
      "n_foreground was reduced to 0.\n",
      "n_foreground was reduced to 0.\n",
      "n_foreground was reduced to 0.\n",
      "n_foreground was reduced to 0.\n",
      "n_foreground was reduced to 0.\n",
      "n_foreground was reduced to 0.\n",
      "n_foreground was reduced to 0.\n",
      "n_foreground was reduced to 0.\n",
      "n_foreground was reduced to 0.\n",
      "n_foreground was reduced to 0.\n",
      "n_foreground was reduced to 0.\n",
      "n_foreground was reduced to 0.\n",
      "n_foreground was reduced to 0.\n",
      "n_foreground was reduced to 0.\n",
      "n_foreground was reduced to 0.\n"
     ]
    },
    {
     "name": "stderr",
     "output_type": "stream",
     "text": [
      " 53%|███████████████████████████████████████████████████████████████████████████▊                                                                    | 30/57 [15:15<13:39, 30.35s/it]"
     ]
    },
    {
     "name": "stdout",
     "output_type": "stream",
     "text": [
      "n_foreground was reduced to 0.\n",
      "n_foreground was reduced to 0.\n",
      "n_foreground was reduced to 0.\n",
      "n_foreground was reduced to 0.\n",
      "n_foreground was reduced to 0.\n"
     ]
    },
    {
     "name": "stderr",
     "output_type": "stream",
     "text": [
      " 54%|██████████████████████████████████████████████████████████████████████████████▎                                                                 | 31/57 [15:46<13:09, 30.38s/it]"
     ]
    },
    {
     "name": "stdout",
     "output_type": "stream",
     "text": [
      "n_foreground was reduced to 0.\n",
      "n_foreground was reduced to 0.\n",
      "n_foreground was reduced to 0.\n",
      "n_foreground was reduced to 0.\n",
      "n_foreground was reduced to 0.\n",
      "n_foreground was reduced to 0.\n",
      "n_foreground was reduced to 0.\n",
      "n_foreground was reduced to 0.\n"
     ]
    },
    {
     "name": "stderr",
     "output_type": "stream",
     "text": [
      " 56%|████████████████████████████████████████████████████████████████████████████████▊                                                               | 32/57 [16:16<12:38, 30.35s/it]"
     ]
    },
    {
     "name": "stdout",
     "output_type": "stream",
     "text": [
      "n_foreground was reduced to 0.\n",
      "n_foreground was reduced to 0.\n",
      "n_foreground was reduced to 0.\n",
      "n_foreground was reduced to 0.\n",
      "n_foreground was reduced to 0.\n",
      "n_foreground was reduced to 0.\n",
      "n_foreground was reduced to 0.\n",
      "n_foreground was reduced to 0.\n"
     ]
    },
    {
     "name": "stderr",
     "output_type": "stream",
     "text": [
      " 58%|███████████████████████████████████████████████████████████████████████████████████▎                                                            | 33/57 [16:47<12:11, 30.47s/it]"
     ]
    },
    {
     "name": "stdout",
     "output_type": "stream",
     "text": [
      "n_foreground was reduced to 0.\n",
      "n_foreground was reduced to 0.\n",
      "n_foreground was reduced to 0.\n",
      "n_foreground was reduced to 0.\n",
      "n_foreground was reduced to 0.\n",
      "n_foreground was reduced to 0.\n",
      "n_foreground was reduced to 0.\n",
      "n_foreground was reduced to 0.\n",
      "n_foreground was reduced to 0.\n",
      "n_foreground was reduced to 0.\n",
      "n_foreground was reduced to 0.\n",
      "n_foreground was reduced to 0.\n",
      "n_foreground was reduced to 0.\n",
      "n_foreground was reduced to 0.\n",
      "n_foreground was reduced to 0.\n",
      "n_foreground was reduced to 0.\n"
     ]
    },
    {
     "name": "stderr",
     "output_type": "stream",
     "text": [
      " 60%|█████████████████████████████████████████████████████████████████████████████████████▉                                                          | 34/57 [17:17<11:41, 30.50s/it]"
     ]
    },
    {
     "name": "stdout",
     "output_type": "stream",
     "text": [
      "n_foreground was reduced to 0.\n",
      "n_foreground was reduced to 0.\n",
      "n_foreground was reduced to 0.\n",
      "n_foreground was reduced to 0.\n",
      "n_foreground was reduced to 0.\n",
      "n_foreground was reduced to 0.\n",
      "n_foreground was reduced to 0.\n",
      "n_foreground was reduced to 0.\n",
      "n_foreground was reduced to 0.\n",
      "n_foreground was reduced to 0.\n",
      "n_foreground was reduced to 0.\n"
     ]
    },
    {
     "name": "stderr",
     "output_type": "stream",
     "text": [
      " 61%|████████████████████████████████████████████████████████████████████████████████████████▍                                                       | 35/57 [17:48<11:12, 30.56s/it]"
     ]
    },
    {
     "name": "stdout",
     "output_type": "stream",
     "text": [
      "n_foreground was reduced to 0.\n",
      "n_foreground was reduced to 0.\n",
      "n_foreground was reduced to 0.\n",
      "n_foreground was reduced to 0.\n",
      "n_foreground was reduced to 0.\n",
      "n_foreground was reduced to 0.\n",
      "n_foreground was reduced to 0.\n",
      "n_foreground was reduced to 0.\n",
      "n_foreground was reduced to 0.\n",
      "n_foreground was reduced to 0.\n",
      "n_foreground was reduced to 0.\n",
      "n_foreground was reduced to 0.\n"
     ]
    },
    {
     "name": "stderr",
     "output_type": "stream",
     "text": [
      " 63%|██████████████████████████████████████████████████████████████████████████████████████████▉                                                     | 36/57 [18:19<10:44, 30.71s/it]"
     ]
    },
    {
     "name": "stdout",
     "output_type": "stream",
     "text": [
      "n_foreground was reduced to 0.\n",
      "n_foreground was reduced to 0.\n",
      "n_foreground was reduced to 4.\n",
      "n_foreground was reduced to 0.\n",
      "n_foreground was reduced to 0.\n",
      "n_foreground was reduced to 0.\n",
      "n_foreground was reduced to 0.\n",
      "n_foreground was reduced to 0.\n",
      "n_foreground was reduced to 0.\n",
      "n_foreground was reduced to 0.\n",
      "n_foreground was reduced to 0.\n",
      "n_foreground was reduced to 0.\n"
     ]
    },
    {
     "name": "stderr",
     "output_type": "stream",
     "text": [
      " 65%|█████████████████████████████████████████████████████████████████████████████████████████████▍                                                  | 37/57 [18:49<10:12, 30.62s/it]"
     ]
    },
    {
     "name": "stdout",
     "output_type": "stream",
     "text": [
      "n_foreground was reduced to 0.\n",
      "n_foreground was reduced to 0.\n",
      "n_foreground was reduced to 0.\n",
      "n_foreground was reduced to 0.\n",
      "n_foreground was reduced to 0.\n",
      "n_foreground was reduced to 0.\n",
      "n_foreground was reduced to 0.\n",
      "n_foreground was reduced to 0.\n",
      "n_foreground was reduced to 0.\n",
      "n_foreground was reduced to 0.\n",
      "n_foreground was reduced to 0.\n"
     ]
    },
    {
     "name": "stderr",
     "output_type": "stream",
     "text": [
      " 67%|████████████████████████████████████████████████████████████████████████████████████████████████                                                | 38/57 [19:20<09:40, 30.56s/it]"
     ]
    },
    {
     "name": "stdout",
     "output_type": "stream",
     "text": [
      "n_foreground was reduced to 0.\n",
      "n_foreground was reduced to 0.\n",
      "n_foreground was reduced to 0.\n",
      "n_foreground was reduced to 0.\n",
      "n_foreground was reduced to 0.\n"
     ]
    },
    {
     "name": "stderr",
     "output_type": "stream",
     "text": [
      " 68%|██████████████████████████████████████████████████████████████████████████████████████████████████▌                                             | 39/57 [19:50<09:09, 30.54s/it]"
     ]
    },
    {
     "name": "stdout",
     "output_type": "stream",
     "text": [
      "n_foreground was reduced to 0.\n",
      "n_foreground was reduced to 0.\n",
      "n_foreground was reduced to 0.\n",
      "n_foreground was reduced to 0.\n",
      "n_foreground was reduced to 0.\n",
      "n_foreground was reduced to 0.\n"
     ]
    },
    {
     "name": "stderr",
     "output_type": "stream",
     "text": [
      " 70%|█████████████████████████████████████████████████████████████████████████████████████████████████████                                           | 40/57 [20:21<08:38, 30.51s/it]"
     ]
    },
    {
     "name": "stdout",
     "output_type": "stream",
     "text": [
      "n_foreground was reduced to 0.\n",
      "n_foreground was reduced to 0.\n",
      "n_foreground was reduced to 0.\n",
      "n_foreground was reduced to 0.\n",
      "n_foreground was reduced to 0.\n",
      "n_foreground was reduced to 0.\n",
      "n_foreground was reduced to 0.\n",
      "n_foreground was reduced to 0.\n",
      "n_foreground was reduced to 0.\n",
      "n_foreground was reduced to 0.\n",
      "n_foreground was reduced to 0.\n",
      "n_foreground was reduced to 0.\n",
      "n_foreground was reduced to 0.\n"
     ]
    },
    {
     "name": "stderr",
     "output_type": "stream",
     "text": [
      " 72%|███████████████████████████████████████████████████████████████████████████████████████████████████████▌                                        | 41/57 [20:51<08:08, 30.51s/it]"
     ]
    },
    {
     "name": "stdout",
     "output_type": "stream",
     "text": [
      "n_foreground was reduced to 0.\n",
      "n_foreground was reduced to 0.\n",
      "n_foreground was reduced to 0.\n",
      "n_foreground was reduced to 0.\n",
      "n_foreground was reduced to 0.\n",
      "n_foreground was reduced to 0.\n",
      "n_foreground was reduced to 0.\n",
      "n_foreground was reduced to 0.\n",
      "n_foreground was reduced to 0.\n"
     ]
    },
    {
     "name": "stderr",
     "output_type": "stream",
     "text": [
      " 74%|██████████████████████████████████████████████████████████████████████████████████████████████████████████                                      | 42/57 [21:22<07:37, 30.50s/it]"
     ]
    },
    {
     "name": "stdout",
     "output_type": "stream",
     "text": [
      "n_foreground was reduced to 0.\n",
      "n_foreground was reduced to 0.\n",
      "n_foreground was reduced to 0.\n",
      "n_foreground was reduced to 0.\n",
      "n_foreground was reduced to 0.\n"
     ]
    },
    {
     "name": "stderr",
     "output_type": "stream",
     "text": [
      " 75%|████████████████████████████████████████████████████████████████████████████████████████████████████████████▋                                   | 43/57 [21:52<07:06, 30.50s/it]"
     ]
    },
    {
     "name": "stdout",
     "output_type": "stream",
     "text": [
      "n_foreground was reduced to 0.\n",
      "n_foreground was reduced to 0.\n",
      "n_foreground was reduced to 0.\n",
      "n_foreground was reduced to 0.\n",
      "n_foreground was reduced to 0.\n",
      "n_foreground was reduced to 0.\n",
      "n_foreground was reduced to 0.\n",
      "n_foreground was reduced to 0.\n",
      "n_foreground was reduced to 0.\n",
      "n_foreground was reduced to 0.\n"
     ]
    },
    {
     "name": "stderr",
     "output_type": "stream",
     "text": [
      " 77%|███████████████████████████████████████████████████████████████████████████████████████████████████████████████▏                                | 44/57 [22:23<06:36, 30.49s/it]"
     ]
    },
    {
     "name": "stdout",
     "output_type": "stream",
     "text": [
      "n_foreground was reduced to 0.\n",
      "n_foreground was reduced to 0.\n",
      "n_foreground was reduced to 0.\n",
      "n_foreground was reduced to 0.\n",
      "n_foreground was reduced to 0.\n",
      "n_foreground was reduced to 0.\n",
      "n_foreground was reduced to 0.\n"
     ]
    },
    {
     "name": "stderr",
     "output_type": "stream",
     "text": [
      " 79%|█████████████████████████████████████████████████████████████████████████████████████████████████████████████████▋                              | 45/57 [22:53<06:05, 30.49s/it]"
     ]
    },
    {
     "name": "stdout",
     "output_type": "stream",
     "text": [
      "n_foreground was reduced to 0.\n",
      "n_foreground was reduced to 0.\n"
     ]
    },
    {
     "name": "stderr",
     "output_type": "stream",
     "text": [
      " 81%|████████████████████████████████████████████████████████████████████████████████████████████████████████████████████▏                           | 46/57 [23:24<05:35, 30.49s/it]"
     ]
    },
    {
     "name": "stdout",
     "output_type": "stream",
     "text": [
      "n_foreground was reduced to 0.\n",
      "n_foreground was reduced to 0.\n",
      "n_foreground was reduced to 0.\n",
      "n_foreground was reduced to 0.\n",
      "n_foreground was reduced to 0.\n",
      "n_foreground was reduced to 0.\n",
      "n_foreground was reduced to 0.\n",
      "n_foreground was reduced to 0.\n"
     ]
    },
    {
     "name": "stderr",
     "output_type": "stream",
     "text": [
      " 82%|██████████████████████████████████████████████████████████████████████████████████████████████████████████████████████▋                         | 47/57 [23:54<05:04, 30.46s/it]"
     ]
    },
    {
     "name": "stdout",
     "output_type": "stream",
     "text": [
      "n_foreground was reduced to 0.\n",
      "n_foreground was reduced to 0.\n",
      "n_foreground was reduced to 0.\n",
      "n_foreground was reduced to 0.\n",
      "n_foreground was reduced to 0.\n",
      "n_foreground was reduced to 0.\n",
      "n_foreground was reduced to 0.\n",
      "n_foreground was reduced to 0.\n",
      "n_foreground was reduced to 0.\n",
      "n_foreground was reduced to 0.\n"
     ]
    },
    {
     "name": "stderr",
     "output_type": "stream",
     "text": [
      " 84%|█████████████████████████████████████████████████████████████████████████████████████████████████████████████████████████▎                      | 48/57 [24:29<04:44, 31.65s/it]"
     ]
    },
    {
     "name": "stdout",
     "output_type": "stream",
     "text": [
      "n_foreground was reduced to 0.\n",
      "n_foreground was reduced to 0.\n",
      "n_foreground was reduced to 0.\n",
      "n_foreground was reduced to 0.\n",
      "n_foreground was reduced to 0.\n",
      "n_foreground was reduced to 0.\n",
      "n_foreground was reduced to 0.\n",
      "n_foreground was reduced to 0.\n"
     ]
    },
    {
     "name": "stderr",
     "output_type": "stream",
     "text": [
      " 86%|███████████████████████████████████████████████████████████████████████████████████████████████████████████████████████████▊                    | 49/57 [25:01<04:15, 31.96s/it]"
     ]
    },
    {
     "name": "stdout",
     "output_type": "stream",
     "text": [
      "n_foreground was reduced to 0.\n"
     ]
    },
    {
     "name": "stderr",
     "output_type": "stream",
     "text": [
      " 88%|██████████████████████████████████████████████████████████████████████████████████████████████████████████████████████████████▎                 | 50/57 [25:34<03:45, 32.19s/it]"
     ]
    },
    {
     "name": "stdout",
     "output_type": "stream",
     "text": [
      "n_foreground was reduced to 0.\n",
      "n_foreground was reduced to 0.\n",
      "n_foreground was reduced to 0.\n"
     ]
    },
    {
     "name": "stderr",
     "output_type": "stream",
     "text": [
      " 89%|████████████████████████████████████████████████████████████████████████████████████████████████████████████████████████████████▊               | 51/57 [26:07<03:14, 32.36s/it]"
     ]
    },
    {
     "name": "stdout",
     "output_type": "stream",
     "text": [
      "n_foreground was reduced to 0.\n",
      "n_foreground was reduced to 0.\n",
      "n_foreground was reduced to 0.\n",
      "n_foreground was reduced to 0.\n",
      "n_foreground was reduced to 0.\n",
      "n_foreground was reduced to 0.\n",
      "n_foreground was reduced to 0.\n"
     ]
    },
    {
     "name": "stderr",
     "output_type": "stream",
     "text": [
      " 91%|███████████████████████████████████████████████████████████████████████████████████████████████████████████████████████████████████▎            | 52/57 [26:40<02:43, 32.61s/it]"
     ]
    },
    {
     "name": "stdout",
     "output_type": "stream",
     "text": [
      "n_foreground was reduced to 0.\n",
      "n_foreground was reduced to 0.\n",
      "n_foreground was reduced to 0.\n",
      "n_foreground was reduced to 0.\n",
      "n_foreground was reduced to 0.\n",
      "n_foreground was reduced to 0.\n",
      "n_foreground was reduced to 0.\n",
      "n_foreground was reduced to 0.\n",
      "n_foreground was reduced to 0.\n",
      "n_foreground was reduced to 0.\n"
     ]
    },
    {
     "name": "stderr",
     "output_type": "stream",
     "text": [
      " 93%|█████████████████████████████████████████████████████████████████████████████████████████████████████████████████████████████████████▉          | 53/57 [27:14<02:12, 33.06s/it]"
     ]
    },
    {
     "name": "stdout",
     "output_type": "stream",
     "text": [
      "n_foreground was reduced to 0.\n",
      "n_foreground was reduced to 0.\n",
      "n_foreground was reduced to 0.\n",
      "n_foreground was reduced to 0.\n",
      "n_foreground was reduced to 0.\n",
      "n_foreground was reduced to 0.\n",
      "n_foreground was reduced to 0.\n",
      "n_foreground was reduced to 0.\n",
      "n_foreground was reduced to 0.\n",
      "n_foreground was reduced to 0.\n",
      "n_foreground was reduced to 0.\n",
      "n_foreground was reduced to 0.\n",
      "n_foreground was reduced to 0.\n"
     ]
    },
    {
     "name": "stderr",
     "output_type": "stream",
     "text": [
      " 95%|████████████████████████████████████████████████████████████████████████████████████████████████████████████████████████████████████████▍       | 54/57 [27:47<01:39, 33.03s/it]"
     ]
    },
    {
     "name": "stdout",
     "output_type": "stream",
     "text": [
      "n_foreground was reduced to 0.\n",
      "n_foreground was reduced to 0.\n",
      "n_foreground was reduced to 0.\n",
      "n_foreground was reduced to 0.\n",
      "n_foreground was reduced to 0.\n",
      "n_foreground was reduced to 0.\n"
     ]
    },
    {
     "name": "stderr",
     "output_type": "stream",
     "text": [
      " 96%|██████████████████████████████████████████████████████████████████████████████████████████████████████████████████████████████████████████▉     | 55/57 [28:21<01:06, 33.20s/it]"
     ]
    },
    {
     "name": "stdout",
     "output_type": "stream",
     "text": [
      "n_foreground was reduced to 0.\n",
      "n_foreground was reduced to 0.\n",
      "n_foreground was reduced to 0.\n",
      "n_foreground was reduced to 0.\n",
      "n_foreground was reduced to 0.\n",
      "n_foreground was reduced to 0.\n",
      "n_foreground was reduced to 0.\n",
      "n_foreground was reduced to 0.\n",
      "n_foreground was reduced to 0.\n"
     ]
    },
    {
     "name": "stderr",
     "output_type": "stream",
     "text": [
      " 98%|█████████████████████████████████████████████████████████████████████████████████████████████████████████████████████████████████████████████▍  | 56/57 [28:55<00:33, 33.48s/it]"
     ]
    },
    {
     "name": "stdout",
     "output_type": "stream",
     "text": [
      "n_foreground was reduced to 0.\n",
      "n_foreground was reduced to 0.\n",
      "n_foreground was reduced to 0.\n",
      "n_foreground was reduced to 0.\n",
      "n_foreground was reduced to 0.\n",
      "n_foreground was reduced to 0.\n",
      "n_foreground was reduced to 0.\n",
      "n_foreground was reduced to 0.\n",
      "n_foreground was reduced to 0.\n",
      "n_foreground was reduced to 0.\n"
     ]
    },
    {
     "name": "stderr",
     "output_type": "stream",
     "text": [
      "100%|████████████████████████████████████████████████████████████████████████████████████████████████████████████████████████████████████████████████| 57/57 [29:23<00:00, 30.94s/it]\n"
     ]
    }
   ],
   "source": [
    "all_masks = []\n",
    "all_prompts = {1:[],2:[],3:[]}\n",
    "scores={}\n",
    "for batch in tqdm(dataloader):\n",
    "    embeddings, ground_truths = batch\n",
    "    prompt_class_1 = []\n",
    "    prompt_class_2 = []\n",
    "    prompt_class_3 = []\n",
    "    for ground_truth in ground_truths:\n",
    "        prompt_class_1.append(batch_sample_from_class(50, ground_truth, 1, n_foreground = 5, n_background= 0))\n",
    "        prompt_class_2.append(batch_sample_from_class(50, ground_truth, 2, n_foreground = 5, n_background= 0))\n",
    "        prompt_class_3.append(batch_sample_from_class(50, ground_truth, 3, n_foreground = 5, n_background= 0))\n",
    "        all_prompts[1].extend(prompt_class_1)\n",
    "        all_prompts[2].extend(prompt_class_2)\n",
    "        all_prompts[3].extend(prompt_class_3)\n",
    "    ana = analyze(embeddings,ground_truths)    \n",
    "    masks= ana.generate_masks(prompt_class_1,prompt_class_2,prompt_class_3,50)\n",
    "    all_masks.append(masks.numpy())\n",
    "    for metric,f in ana.metrics.items():\n",
    "        if metric not in scores.keys():\n",
    "            scores[metric] = ana.scoring_function(f)\n",
    "        else: \n",
    "            scores[metric] = torch.cat([scores[metric],ana.scoring_function(f)],dim = 0)\n",
    "            \n",
    "results = ana.get_results(scores[\"dice_score\"],scores[\"iou\"],scores[\"accuracy\"],(5,0),(5,0),(5,0))\n",
    "re = Results(\"../ACDC\",\"pos_0500\")\n",
    "re.append_row(results)"
   ]
  },
  {
   "cell_type": "code",
   "execution_count": 14,
   "id": "9de9b633-69e1-4b6c-bb05-1a4814a68339",
   "metadata": {},
   "outputs": [],
   "source": [
    "file_path = \"../ACDC/\"\n",
    "with open(f\"{file_path}prompts5.pickle\", 'wb') as f1:\n",
    "    pickle.dump(all_prompts, f1)\n"
   ]
  },
  {
   "cell_type": "code",
   "execution_count": 15,
   "id": "1c36608f-e7ad-46b8-afa7-e6bd0569f4b1",
   "metadata": {},
   "outputs": [],
   "source": [
    "os.mkdir(\"../ACDC/masks5\")\n",
    "for i in range(57):\n",
    "    f = gzip.GzipFile(f\"../ACDC/masks5/batch_{i}.npy.gz\", \"w\")\n",
    "    np.save(f, all_masks[i])"
   ]
  },
  {
   "cell_type": "markdown",
   "id": "16ca3c9e-096d-470d-b18f-cd9b6d56a718",
   "metadata": {},
   "source": [
    "## Pipeline 6\n",
    "- 10 positive points, 5 negative points per prompts\n",
    "- A batch containing 50 images, each image contains 50 prompts"
   ]
  },
  {
   "cell_type": "code",
   "execution_count": 1,
   "id": "ce403c51-bebc-455d-9728-a678d075fde1",
   "metadata": {},
   "outputs": [],
   "source": [
    "import sys\n",
    "sys.path.append(\"..\")\n",
    "from functions.pipeline import *\n",
    "from tqdm import tqdm\n",
    "import pickle\n",
    "dataloader = get_batch(\"../ACDC\",50,debug = False)"
   ]
  },
  {
   "cell_type": "code",
   "execution_count": 2,
   "id": "54c460e6-8029-40de-bc47-e78819118416",
   "metadata": {},
   "outputs": [
    {
     "name": "stderr",
     "output_type": "stream",
     "text": [
      "  0%|            | 0/57 [00:00<?, ?it/s]"
     ]
    },
    {
     "name": "stdout",
     "output_type": "stream",
     "text": [
      "n_foreground was reduced to 0.\n",
      "n_foreground was reduced to 0.\n",
      "n_background was reduced to 0.\n",
      "n_foreground was reduced to 0.\n",
      "n_foreground was reduced to 0.\n",
      "n_foreground was reduced to 0.\n",
      "n_foreground was reduced to 0.\n"
     ]
    },
    {
     "name": "stderr",
     "output_type": "stream",
     "text": [
      "  2%|    | 1/57 [01:00<56:54, 60.98s/it]"
     ]
    },
    {
     "name": "stdout",
     "output_type": "stream",
     "text": [
      "n_foreground was reduced to 0.\n",
      "n_foreground was reduced to 0.\n",
      "n_background was reduced to 0.\n",
      "n_foreground was reduced to 0.\n",
      "n_foreground was reduced to 0.\n",
      "n_foreground was reduced to 0.\n",
      "n_foreground was reduced to 0.\n",
      "n_foreground was reduced to 0.\n",
      "n_foreground was reduced to 0.\n",
      "n_foreground was reduced to 0.\n",
      "n_background was reduced to 0.\n",
      "n_foreground was reduced to 0.\n",
      "n_foreground was reduced to 0.\n",
      "n_foreground was reduced to 0.\n",
      "n_foreground was reduced to 0.\n",
      "n_foreground was reduced to 0.\n",
      "n_foreground was reduced to 0.\n",
      "n_foreground was reduced to 0.\n"
     ]
    },
    {
     "name": "stderr",
     "output_type": "stream",
     "text": [
      "  4%|▏   | 2/57 [01:30<38:53, 42.43s/it]"
     ]
    },
    {
     "name": "stdout",
     "output_type": "stream",
     "text": [
      "n_foreground was reduced to 0.\n",
      "n_foreground was reduced to 0.\n",
      "n_foreground was reduced to 8.\n",
      "n_background was reduced to 0.\n",
      "n_foreground was reduced to 0.\n",
      "n_foreground was reduced to 0.\n",
      "n_foreground was reduced to 0.\n"
     ]
    },
    {
     "name": "stderr",
     "output_type": "stream",
     "text": [
      "  5%|▏   | 3/57 [02:00<33:12, 36.89s/it]"
     ]
    },
    {
     "name": "stdout",
     "output_type": "stream",
     "text": [
      "n_foreground was reduced to 0.\n",
      "n_foreground was reduced to 0.\n",
      "n_background was reduced to 0.\n",
      "n_foreground was reduced to 0.\n",
      "n_foreground was reduced to 0.\n",
      "n_foreground was reduced to 0.\n",
      "n_foreground was reduced to 0.\n",
      "n_foreground was reduced to 0.\n",
      "n_foreground was reduced to 0.\n",
      "n_foreground was reduced to 0.\n",
      "n_foreground was reduced to 0.\n",
      "n_foreground was reduced to 0.\n"
     ]
    },
    {
     "name": "stderr",
     "output_type": "stream",
     "text": [
      "  7%|▎   | 4/57 [02:30<30:07, 34.11s/it]"
     ]
    },
    {
     "name": "stdout",
     "output_type": "stream",
     "text": [
      "n_foreground was reduced to 0.\n",
      "n_foreground was reduced to 0.\n",
      "n_foreground was reduced to 0.\n",
      "n_foreground was reduced to 0.\n",
      "n_foreground was reduced to 0.\n",
      "n_foreground was reduced to 0.\n",
      "n_foreground was reduced to 0.\n",
      "n_foreground was reduced to 0.\n",
      "n_foreground was reduced to 0.\n",
      "n_foreground was reduced to 0.\n",
      "n_foreground was reduced to 0.\n",
      "n_foreground was reduced to 0.\n",
      "n_foreground was reduced to 0.\n",
      "n_foreground was reduced to 0.\n",
      "n_foreground was reduced to 0.\n",
      "n_foreground was reduced to 0.\n",
      "n_foreground was reduced to 0.\n"
     ]
    },
    {
     "name": "stderr",
     "output_type": "stream",
     "text": [
      "  9%|▎   | 5/57 [03:00<28:06, 32.44s/it]"
     ]
    },
    {
     "name": "stdout",
     "output_type": "stream",
     "text": [
      "n_foreground was reduced to 0.\n",
      "n_foreground was reduced to 0.\n",
      "n_foreground was reduced to 0.\n",
      "n_foreground was reduced to 0.\n",
      "n_foreground was reduced to 0.\n",
      "n_foreground was reduced to 0.\n",
      "n_foreground was reduced to 0.\n"
     ]
    },
    {
     "name": "stderr",
     "output_type": "stream",
     "text": [
      " 11%|▍   | 6/57 [03:30<26:56, 31.69s/it]"
     ]
    },
    {
     "name": "stdout",
     "output_type": "stream",
     "text": [
      "n_foreground was reduced to 0.\n",
      "n_foreground was reduced to 0.\n",
      "n_foreground was reduced to 0.\n",
      "n_background was reduced to 0.\n",
      "n_foreground was reduced to 0.\n",
      "n_foreground was reduced to 0.\n",
      "n_background was reduced to 0.\n",
      "n_foreground was reduced to 0.\n",
      "n_foreground was reduced to 0.\n"
     ]
    },
    {
     "name": "stderr",
     "output_type": "stream",
     "text": [
      " 12%|▍   | 7/57 [04:00<26:00, 31.21s/it]"
     ]
    },
    {
     "name": "stdout",
     "output_type": "stream",
     "text": [
      "n_foreground was reduced to 0.\n",
      "n_foreground was reduced to 0.\n",
      "n_foreground was reduced to 0.\n",
      "n_foreground was reduced to 0.\n",
      "n_foreground was reduced to 0.\n",
      "n_foreground was reduced to 0.\n",
      "n_foreground was reduced to 0.\n",
      "n_foreground was reduced to 0.\n",
      "n_foreground was reduced to 0.\n",
      "n_foreground was reduced to 0.\n",
      "n_foreground was reduced to 0.\n",
      "n_foreground was reduced to 0.\n"
     ]
    },
    {
     "name": "stderr",
     "output_type": "stream",
     "text": [
      " 14%|▌   | 8/57 [04:30<25:07, 30.77s/it]"
     ]
    },
    {
     "name": "stdout",
     "output_type": "stream",
     "text": [
      "n_foreground was reduced to 0.\n",
      "n_foreground was reduced to 0.\n",
      "n_foreground was reduced to 0.\n",
      "n_foreground was reduced to 0.\n"
     ]
    },
    {
     "name": "stderr",
     "output_type": "stream",
     "text": [
      " 16%|▋   | 9/57 [05:00<24:32, 30.67s/it]"
     ]
    },
    {
     "name": "stdout",
     "output_type": "stream",
     "text": [
      "n_background was reduced to 0.\n",
      "n_foreground was reduced to 0.\n",
      "n_foreground was reduced to 0.\n",
      "n_foreground was reduced to 0.\n",
      "n_foreground was reduced to 0.\n",
      "n_foreground was reduced to 0.\n"
     ]
    },
    {
     "name": "stderr",
     "output_type": "stream",
     "text": [
      " 18%|▌  | 10/57 [05:31<23:57, 30.58s/it]"
     ]
    },
    {
     "name": "stdout",
     "output_type": "stream",
     "text": [
      "n_foreground was reduced to 0.\n",
      "n_foreground was reduced to 0.\n"
     ]
    },
    {
     "name": "stderr",
     "output_type": "stream",
     "text": [
      " 19%|▌  | 11/57 [06:01<23:28, 30.61s/it]"
     ]
    },
    {
     "name": "stdout",
     "output_type": "stream",
     "text": [
      "n_foreground was reduced to 0.\n",
      "n_foreground was reduced to 0.\n",
      "n_foreground was reduced to 0.\n",
      "n_foreground was reduced to 0.\n",
      "n_foreground was reduced to 0.\n",
      "n_foreground was reduced to 0.\n",
      "n_foreground was reduced to 0.\n",
      "n_background was reduced to 0.\n",
      "n_foreground was reduced to 0.\n"
     ]
    },
    {
     "name": "stderr",
     "output_type": "stream",
     "text": [
      " 21%|▋  | 12/57 [06:32<22:51, 30.48s/it]"
     ]
    },
    {
     "name": "stdout",
     "output_type": "stream",
     "text": [
      "n_foreground was reduced to 9.\n",
      "n_foreground was reduced to 0.\n",
      "n_foreground was reduced to 0.\n",
      "n_foreground was reduced to 0.\n",
      "n_foreground was reduced to 0.\n",
      "n_foreground was reduced to 0.\n",
      "n_foreground was reduced to 0.\n",
      "n_foreground was reduced to 0.\n"
     ]
    },
    {
     "name": "stderr",
     "output_type": "stream",
     "text": [
      " 23%|▋  | 13/57 [07:02<22:18, 30.42s/it]"
     ]
    },
    {
     "name": "stdout",
     "output_type": "stream",
     "text": [
      "n_foreground was reduced to 0.\n",
      "n_foreground was reduced to 0.\n",
      "n_foreground was reduced to 0.\n",
      "n_foreground was reduced to 0.\n",
      "n_foreground was reduced to 0.\n",
      "n_foreground was reduced to 0.\n"
     ]
    },
    {
     "name": "stderr",
     "output_type": "stream",
     "text": [
      " 25%|▋  | 14/57 [07:32<21:46, 30.37s/it]"
     ]
    },
    {
     "name": "stdout",
     "output_type": "stream",
     "text": [
      "n_background was reduced to 0.\n",
      "n_foreground was reduced to 0.\n",
      "n_foreground was reduced to 0.\n",
      "n_foreground was reduced to 0.\n",
      "n_foreground was reduced to 0.\n",
      "n_foreground was reduced to 0.\n",
      "n_foreground was reduced to 0.\n",
      "n_foreground was reduced to 0.\n",
      "n_background was reduced to 0.\n",
      "n_foreground was reduced to 0.\n",
      "n_foreground was reduced to 0.\n"
     ]
    },
    {
     "name": "stderr",
     "output_type": "stream",
     "text": [
      " 26%|▊  | 15/57 [08:02<21:12, 30.29s/it]"
     ]
    },
    {
     "name": "stdout",
     "output_type": "stream",
     "text": [
      "n_foreground was reduced to 0.\n",
      "n_foreground was reduced to 0.\n",
      "n_foreground was reduced to 0.\n",
      "n_foreground was reduced to 0.\n",
      "n_foreground was reduced to 0.\n",
      "n_foreground was reduced to 0.\n",
      "n_foreground was reduced to 0.\n",
      "n_foreground was reduced to 0.\n"
     ]
    },
    {
     "name": "stderr",
     "output_type": "stream",
     "text": [
      " 28%|▊  | 16/57 [08:32<20:40, 30.26s/it]"
     ]
    },
    {
     "name": "stdout",
     "output_type": "stream",
     "text": [
      "n_foreground was reduced to 0.\n",
      "n_foreground was reduced to 0.\n",
      "n_background was reduced to 0.\n",
      "n_foreground was reduced to 0.\n",
      "n_foreground was reduced to 0.\n",
      "n_foreground was reduced to 0.\n",
      "n_foreground was reduced to 0.\n",
      "n_foreground was reduced to 0.\n",
      "n_foreground was reduced to 0.\n",
      "n_foreground was reduced to 0.\n",
      "n_foreground was reduced to 0.\n",
      "n_foreground was reduced to 0.\n",
      "n_foreground was reduced to 0.\n",
      "n_foreground was reduced to 0.\n",
      "n_foreground was reduced to 0.\n",
      "n_background was reduced to 0.\n",
      "n_foreground was reduced to 0.\n",
      "n_foreground was reduced to 0.\n"
     ]
    },
    {
     "name": "stderr",
     "output_type": "stream",
     "text": [
      " 30%|▉  | 17/57 [09:02<20:02, 30.05s/it]"
     ]
    },
    {
     "name": "stdout",
     "output_type": "stream",
     "text": [
      "n_foreground was reduced to 0.\n",
      "n_foreground was reduced to 0.\n",
      "n_foreground was reduced to 0.\n",
      "n_foreground was reduced to 0.\n",
      "n_foreground was reduced to 0.\n",
      "n_foreground was reduced to 0.\n",
      "n_foreground was reduced to 0.\n",
      "n_foreground was reduced to 0.\n",
      "n_foreground was reduced to 0.\n",
      "n_foreground was reduced to 0.\n",
      "n_foreground was reduced to 0.\n",
      "n_background was reduced to 0.\n",
      "n_foreground was reduced to 0.\n",
      "n_foreground was reduced to 0.\n",
      "n_foreground was reduced to 0.\n"
     ]
    },
    {
     "name": "stderr",
     "output_type": "stream",
     "text": [
      " 32%|▉  | 18/57 [09:32<19:27, 29.95s/it]"
     ]
    },
    {
     "name": "stdout",
     "output_type": "stream",
     "text": [
      "n_foreground was reduced to 0.\n",
      "n_foreground was reduced to 0.\n",
      "n_foreground was reduced to 0.\n",
      "n_foreground was reduced to 0.\n"
     ]
    },
    {
     "name": "stderr",
     "output_type": "stream",
     "text": [
      " 33%|█  | 19/57 [10:02<19:03, 30.09s/it]"
     ]
    },
    {
     "name": "stdout",
     "output_type": "stream",
     "text": [
      "n_foreground was reduced to 0.\n",
      "n_foreground was reduced to 0.\n",
      "n_foreground was reduced to 0.\n",
      "n_foreground was reduced to 0.\n",
      "n_foreground was reduced to 0.\n",
      "n_foreground was reduced to 0.\n",
      "n_foreground was reduced to 0.\n"
     ]
    },
    {
     "name": "stderr",
     "output_type": "stream",
     "text": [
      " 35%|█  | 20/57 [10:32<18:35, 30.14s/it]"
     ]
    },
    {
     "name": "stdout",
     "output_type": "stream",
     "text": [
      "n_foreground was reduced to 0.\n",
      "n_foreground was reduced to 0.\n",
      "n_foreground was reduced to 0.\n",
      "n_foreground was reduced to 1.\n",
      "n_foreground was reduced to 0.\n"
     ]
    },
    {
     "name": "stderr",
     "output_type": "stream",
     "text": [
      " 37%|█  | 21/57 [11:03<18:09, 30.27s/it]"
     ]
    },
    {
     "name": "stdout",
     "output_type": "stream",
     "text": [
      "n_foreground was reduced to 0.\n",
      "n_foreground was reduced to 0.\n",
      "n_foreground was reduced to 0.\n",
      "n_foreground was reduced to 0.\n",
      "n_foreground was reduced to 0.\n",
      "n_foreground was reduced to 0.\n",
      "n_foreground was reduced to 0.\n",
      "n_background was reduced to 0.\n",
      "n_foreground was reduced to 0.\n",
      "n_foreground was reduced to 0.\n",
      "n_foreground was reduced to 0.\n",
      "n_foreground was reduced to 0.\n"
     ]
    },
    {
     "name": "stderr",
     "output_type": "stream",
     "text": [
      " 39%|█▏ | 22/57 [11:33<17:36, 30.18s/it]"
     ]
    },
    {
     "name": "stdout",
     "output_type": "stream",
     "text": [
      "n_foreground was reduced to 0.\n",
      "n_foreground was reduced to 0.\n",
      "n_foreground was reduced to 0.\n",
      "n_foreground was reduced to 0.\n",
      "n_foreground was reduced to 0.\n",
      "n_foreground was reduced to 0.\n",
      "n_foreground was reduced to 0.\n",
      "n_foreground was reduced to 0.\n"
     ]
    },
    {
     "name": "stderr",
     "output_type": "stream",
     "text": [
      " 40%|█▏ | 23/57 [12:03<17:06, 30.18s/it]"
     ]
    },
    {
     "name": "stdout",
     "output_type": "stream",
     "text": [
      "n_foreground was reduced to 0.\n",
      "n_foreground was reduced to 0.\n"
     ]
    },
    {
     "name": "stderr",
     "output_type": "stream",
     "text": [
      " 42%|█▎ | 24/57 [12:34<16:40, 30.32s/it]"
     ]
    },
    {
     "name": "stdout",
     "output_type": "stream",
     "text": [
      "n_background was reduced to 0.\n",
      "n_foreground was reduced to 0.\n",
      "n_foreground was reduced to 0.\n",
      "n_background was reduced to 0.\n",
      "n_foreground was reduced to 0.\n",
      "n_foreground was reduced to 0.\n",
      "n_foreground was reduced to 0.\n",
      "n_foreground was reduced to 0.\n"
     ]
    },
    {
     "name": "stderr",
     "output_type": "stream",
     "text": [
      " 44%|█▎ | 25/57 [13:04<16:10, 30.33s/it]"
     ]
    },
    {
     "name": "stdout",
     "output_type": "stream",
     "text": [
      "n_foreground was reduced to 0.\n",
      "n_foreground was reduced to 0.\n",
      "n_foreground was reduced to 0.\n",
      "n_background was reduced to 0.\n",
      "n_foreground was reduced to 0.\n",
      "n_foreground was reduced to 0.\n",
      "n_foreground was reduced to 0.\n",
      "n_foreground was reduced to 0.\n",
      "n_background was reduced to 0.\n",
      "n_foreground was reduced to 0.\n",
      "n_foreground was reduced to 0.\n",
      "n_foreground was reduced to 6.\n",
      "n_foreground was reduced to 0.\n"
     ]
    },
    {
     "name": "stderr",
     "output_type": "stream",
     "text": [
      " 46%|█▎ | 26/57 [13:34<15:39, 30.31s/it]"
     ]
    },
    {
     "name": "stdout",
     "output_type": "stream",
     "text": [
      "n_foreground was reduced to 0.\n",
      "n_foreground was reduced to 0.\n",
      "n_foreground was reduced to 0.\n",
      "n_foreground was reduced to 0.\n",
      "n_foreground was reduced to 0.\n",
      "n_background was reduced to 0.\n",
      "n_foreground was reduced to 0.\n",
      "n_foreground was reduced to 0.\n",
      "n_foreground was reduced to 0.\n",
      "n_foreground was reduced to 0.\n",
      "n_background was reduced to 0.\n",
      "n_foreground was reduced to 0.\n",
      "n_foreground was reduced to 0.\n"
     ]
    },
    {
     "name": "stderr",
     "output_type": "stream",
     "text": [
      " 47%|█▍ | 27/57 [14:04<15:07, 30.26s/it]"
     ]
    },
    {
     "name": "stdout",
     "output_type": "stream",
     "text": [
      "n_foreground was reduced to 0.\n",
      "n_foreground was reduced to 0.\n",
      "n_foreground was reduced to 0.\n",
      "n_background was reduced to 0.\n",
      "n_foreground was reduced to 0.\n",
      "n_foreground was reduced to 0.\n",
      "n_foreground was reduced to 0.\n",
      "n_foreground was reduced to 0.\n",
      "n_foreground was reduced to 0.\n",
      "n_background was reduced to 0.\n",
      "n_foreground was reduced to 0.\n",
      "n_foreground was reduced to 0.\n",
      "n_background was reduced to 0.\n",
      "n_foreground was reduced to 0.\n"
     ]
    },
    {
     "name": "stderr",
     "output_type": "stream",
     "text": [
      " 49%|█▍ | 28/57 [14:35<14:36, 30.23s/it]"
     ]
    },
    {
     "name": "stdout",
     "output_type": "stream",
     "text": [
      "n_foreground was reduced to 0.\n",
      "n_foreground was reduced to 0.\n",
      "n_foreground was reduced to 0.\n",
      "n_background was reduced to 0.\n",
      "n_foreground was reduced to 0.\n",
      "n_foreground was reduced to 0.\n",
      "n_foreground was reduced to 0.\n",
      "n_foreground was reduced to 0.\n",
      "n_foreground was reduced to 0.\n",
      "n_foreground was reduced to 0.\n"
     ]
    },
    {
     "name": "stderr",
     "output_type": "stream",
     "text": [
      " 51%|█▌ | 29/57 [15:05<14:07, 30.27s/it]"
     ]
    },
    {
     "name": "stdout",
     "output_type": "stream",
     "text": [
      "n_foreground was reduced to 0.\n",
      "n_foreground was reduced to 0.\n",
      "n_foreground was reduced to 0.\n",
      "n_foreground was reduced to 0.\n",
      "n_foreground was reduced to 0.\n",
      "n_foreground was reduced to 0.\n",
      "n_foreground was reduced to 0.\n",
      "n_foreground was reduced to 0.\n",
      "n_foreground was reduced to 0.\n",
      "n_foreground was reduced to 0.\n",
      "n_foreground was reduced to 0.\n",
      "n_foreground was reduced to 0.\n",
      "n_foreground was reduced to 0.\n",
      "n_foreground was reduced to 0.\n",
      "n_foreground was reduced to 0.\n",
      "n_foreground was reduced to 0.\n",
      "n_foreground was reduced to 0.\n",
      "n_background was reduced to 0.\n",
      "n_foreground was reduced to 0.\n"
     ]
    },
    {
     "name": "stderr",
     "output_type": "stream",
     "text": [
      " 53%|█▌ | 30/57 [15:35<13:32, 30.09s/it]"
     ]
    },
    {
     "name": "stdout",
     "output_type": "stream",
     "text": [
      "n_foreground was reduced to 0.\n",
      "n_foreground was reduced to 0.\n",
      "n_foreground was reduced to 0.\n",
      "n_foreground was reduced to 0.\n",
      "n_foreground was reduced to 0.\n"
     ]
    },
    {
     "name": "stderr",
     "output_type": "stream",
     "text": [
      " 54%|█▋ | 31/57 [16:05<13:06, 30.25s/it]"
     ]
    },
    {
     "name": "stdout",
     "output_type": "stream",
     "text": [
      "n_background was reduced to 0.\n",
      "n_foreground was reduced to 0.\n",
      "n_foreground was reduced to 0.\n",
      "n_foreground was reduced to 0.\n",
      "n_foreground was reduced to 0.\n",
      "n_background was reduced to 0.\n",
      "n_foreground was reduced to 0.\n",
      "n_foreground was reduced to 0.\n",
      "n_foreground was reduced to 0.\n",
      "n_foreground was reduced to 7.\n",
      "n_foreground was reduced to 0.\n"
     ]
    },
    {
     "name": "stderr",
     "output_type": "stream",
     "text": [
      " 56%|█▋ | 32/57 [16:36<12:37, 30.29s/it]"
     ]
    },
    {
     "name": "stdout",
     "output_type": "stream",
     "text": [
      "n_foreground was reduced to 0.\n",
      "n_foreground was reduced to 0.\n",
      "n_foreground was reduced to 0.\n",
      "n_foreground was reduced to 0.\n",
      "n_foreground was reduced to 0.\n",
      "n_foreground was reduced to 0.\n",
      "n_foreground was reduced to 0.\n",
      "n_foreground was reduced to 0.\n"
     ]
    },
    {
     "name": "stderr",
     "output_type": "stream",
     "text": [
      " 58%|█▋ | 33/57 [17:06<12:08, 30.35s/it]"
     ]
    },
    {
     "name": "stdout",
     "output_type": "stream",
     "text": [
      "n_foreground was reduced to 0.\n",
      "n_foreground was reduced to 0.\n",
      "n_foreground was reduced to 0.\n",
      "n_foreground was reduced to 0.\n",
      "n_foreground was reduced to 0.\n",
      "n_foreground was reduced to 0.\n",
      "n_foreground was reduced to 0.\n",
      "n_foreground was reduced to 0.\n",
      "n_background was reduced to 0.\n",
      "n_foreground was reduced to 0.\n",
      "n_foreground was reduced to 0.\n",
      "n_foreground was reduced to 0.\n",
      "n_foreground was reduced to 0.\n",
      "n_foreground was reduced to 0.\n",
      "n_foreground was reduced to 0.\n",
      "n_foreground was reduced to 0.\n",
      "n_foreground was reduced to 0.\n"
     ]
    },
    {
     "name": "stderr",
     "output_type": "stream",
     "text": [
      " 60%|█▊ | 34/57 [17:36<11:32, 30.12s/it]"
     ]
    },
    {
     "name": "stdout",
     "output_type": "stream",
     "text": [
      "n_foreground was reduced to 0.\n",
      "n_foreground was reduced to 0.\n",
      "n_background was reduced to 0.\n",
      "n_foreground was reduced to 0.\n",
      "n_foreground was reduced to 0.\n",
      "n_foreground was reduced to 0.\n",
      "n_background was reduced to 0.\n",
      "n_foreground was reduced to 0.\n",
      "n_foreground was reduced to 0.\n",
      "n_foreground was reduced to 0.\n",
      "n_foreground was reduced to 0.\n",
      "n_foreground was reduced to 0.\n",
      "n_foreground was reduced to 0.\n"
     ]
    },
    {
     "name": "stderr",
     "output_type": "stream",
     "text": [
      " 61%|█▊ | 35/57 [18:06<11:02, 30.10s/it]"
     ]
    },
    {
     "name": "stdout",
     "output_type": "stream",
     "text": [
      "n_foreground was reduced to 0.\n",
      "n_foreground was reduced to 0.\n",
      "n_foreground was reduced to 0.\n",
      "n_foreground was reduced to 0.\n",
      "n_foreground was reduced to 0.\n",
      "n_foreground was reduced to 0.\n",
      "n_foreground was reduced to 0.\n",
      "n_foreground was reduced to 0.\n",
      "n_foreground was reduced to 0.\n",
      "n_foreground was reduced to 0.\n",
      "n_foreground was reduced to 0.\n",
      "n_foreground was reduced to 0.\n"
     ]
    },
    {
     "name": "stderr",
     "output_type": "stream",
     "text": [
      " 63%|█▉ | 36/57 [18:36<10:30, 30.03s/it]"
     ]
    },
    {
     "name": "stdout",
     "output_type": "stream",
     "text": [
      "n_foreground was reduced to 0.\n",
      "n_foreground was reduced to 0.\n",
      "n_foreground was reduced to 4.\n",
      "n_foreground was reduced to 0.\n",
      "n_foreground was reduced to 0.\n",
      "n_foreground was reduced to 0.\n",
      "n_foreground was reduced to 0.\n",
      "n_foreground was reduced to 0.\n",
      "n_foreground was reduced to 0.\n",
      "n_foreground was reduced to 0.\n",
      "n_foreground was reduced to 0.\n",
      "n_foreground was reduced to 0.\n"
     ]
    },
    {
     "name": "stderr",
     "output_type": "stream",
     "text": [
      " 65%|█▉ | 37/57 [19:06<10:00, 30.01s/it]"
     ]
    },
    {
     "name": "stdout",
     "output_type": "stream",
     "text": [
      "n_foreground was reduced to 0.\n",
      "n_foreground was reduced to 0.\n",
      "n_foreground was reduced to 0.\n",
      "n_foreground was reduced to 0.\n",
      "n_foreground was reduced to 0.\n",
      "n_foreground was reduced to 0.\n",
      "n_foreground was reduced to 0.\n",
      "n_foreground was reduced to 0.\n",
      "n_foreground was reduced to 0.\n",
      "n_foreground was reduced to 0.\n",
      "n_foreground was reduced to 0.\n"
     ]
    },
    {
     "name": "stderr",
     "output_type": "stream",
     "text": [
      " 67%|██ | 38/57 [19:36<09:30, 30.01s/it]"
     ]
    },
    {
     "name": "stdout",
     "output_type": "stream",
     "text": [
      "n_foreground was reduced to 0.\n",
      "n_foreground was reduced to 0.\n",
      "n_foreground was reduced to 0.\n",
      "n_foreground was reduced to 0.\n",
      "n_foreground was reduced to 0.\n"
     ]
    },
    {
     "name": "stderr",
     "output_type": "stream",
     "text": [
      " 68%|██ | 39/57 [20:06<09:02, 30.15s/it]"
     ]
    },
    {
     "name": "stdout",
     "output_type": "stream",
     "text": [
      "n_foreground was reduced to 0.\n",
      "n_foreground was reduced to 0.\n",
      "n_foreground was reduced to 0.\n",
      "n_foreground was reduced to 0.\n",
      "n_foreground was reduced to 0.\n",
      "n_foreground was reduced to 0.\n"
     ]
    },
    {
     "name": "stderr",
     "output_type": "stream",
     "text": [
      " 70%|██ | 40/57 [20:36<08:33, 30.22s/it]"
     ]
    },
    {
     "name": "stdout",
     "output_type": "stream",
     "text": [
      "n_foreground was reduced to 0.\n",
      "n_foreground was reduced to 0.\n",
      "n_foreground was reduced to 0.\n",
      "n_foreground was reduced to 0.\n",
      "n_foreground was reduced to 0.\n",
      "n_foreground was reduced to 0.\n",
      "n_foreground was reduced to 0.\n",
      "n_background was reduced to 0.\n",
      "n_foreground was reduced to 0.\n",
      "n_foreground was reduced to 0.\n",
      "n_foreground was reduced to 0.\n",
      "n_foreground was reduced to 0.\n",
      "n_background was reduced to 0.\n",
      "n_foreground was reduced to 0.\n",
      "n_foreground was reduced to 0.\n"
     ]
    },
    {
     "name": "stderr",
     "output_type": "stream",
     "text": [
      " 72%|██▏| 41/57 [21:07<08:04, 30.26s/it]"
     ]
    },
    {
     "name": "stdout",
     "output_type": "stream",
     "text": [
      "n_foreground was reduced to 0.\n",
      "n_background was reduced to 0.\n",
      "n_foreground was reduced to 0.\n",
      "n_foreground was reduced to 0.\n",
      "n_foreground was reduced to 0.\n",
      "n_foreground was reduced to 0.\n",
      "n_foreground was reduced to 0.\n",
      "n_foreground was reduced to 0.\n",
      "n_foreground was reduced to 5.\n",
      "n_foreground was reduced to 0.\n",
      "n_foreground was reduced to 0.\n"
     ]
    },
    {
     "name": "stderr",
     "output_type": "stream",
     "text": [
      " 74%|██▏| 42/57 [21:38<07:36, 30.47s/it]"
     ]
    },
    {
     "name": "stdout",
     "output_type": "stream",
     "text": [
      "n_background was reduced to 0.\n",
      "n_foreground was reduced to 0.\n",
      "n_foreground was reduced to 0.\n",
      "n_foreground was reduced to 0.\n",
      "n_foreground was reduced to 0.\n",
      "n_foreground was reduced to 0.\n"
     ]
    },
    {
     "name": "stderr",
     "output_type": "stream",
     "text": [
      " 75%|██▎| 43/57 [22:10<07:12, 30.89s/it]"
     ]
    },
    {
     "name": "stdout",
     "output_type": "stream",
     "text": [
      "n_foreground was reduced to 0.\n",
      "n_foreground was reduced to 0.\n",
      "n_foreground was reduced to 0.\n",
      "n_foreground was reduced to 0.\n",
      "n_foreground was reduced to 0.\n",
      "n_foreground was reduced to 0.\n",
      "n_foreground was reduced to 0.\n",
      "n_foreground was reduced to 0.\n",
      "n_foreground was reduced to 0.\n",
      "n_background was reduced to 0.\n",
      "n_foreground was reduced to 0.\n"
     ]
    },
    {
     "name": "stderr",
     "output_type": "stream",
     "text": [
      " 77%|██▎| 44/57 [22:41<06:43, 31.07s/it]"
     ]
    },
    {
     "name": "stdout",
     "output_type": "stream",
     "text": [
      "n_foreground was reduced to 0.\n",
      "n_foreground was reduced to 0.\n",
      "n_background was reduced to 0.\n",
      "n_foreground was reduced to 0.\n",
      "n_foreground was reduced to 0.\n",
      "n_foreground was reduced to 0.\n",
      "n_foreground was reduced to 0.\n",
      "n_foreground was reduced to 0.\n"
     ]
    },
    {
     "name": "stderr",
     "output_type": "stream",
     "text": [
      " 79%|██▎| 45/57 [23:13<06:15, 31.28s/it]"
     ]
    },
    {
     "name": "stdout",
     "output_type": "stream",
     "text": [
      "n_background was reduced to 0.\n",
      "n_foreground was reduced to 0.\n",
      "n_foreground was reduced to 0.\n"
     ]
    },
    {
     "name": "stderr",
     "output_type": "stream",
     "text": [
      " 81%|██▍| 46/57 [23:45<05:46, 31.54s/it]"
     ]
    },
    {
     "name": "stdout",
     "output_type": "stream",
     "text": [
      "n_background was reduced to 0.\n",
      "n_foreground was reduced to 0.\n",
      "n_foreground was reduced to 0.\n",
      "n_foreground was reduced to 0.\n",
      "n_foreground was reduced to 6.\n",
      "n_foreground was reduced to 0.\n",
      "n_foreground was reduced to 0.\n",
      "n_foreground was reduced to 0.\n",
      "n_foreground was reduced to 0.\n",
      "n_foreground was reduced to 0.\n"
     ]
    },
    {
     "name": "stderr",
     "output_type": "stream",
     "text": [
      " 82%|██▍| 47/57 [24:17<05:17, 31.71s/it]"
     ]
    },
    {
     "name": "stdout",
     "output_type": "stream",
     "text": [
      "n_foreground was reduced to 0.\n",
      "n_foreground was reduced to 0.\n",
      "n_background was reduced to 0.\n",
      "n_foreground was reduced to 0.\n",
      "n_foreground was reduced to 0.\n",
      "n_foreground was reduced to 0.\n",
      "n_foreground was reduced to 0.\n",
      "n_foreground was reduced to 0.\n",
      "n_foreground was reduced to 0.\n",
      "n_foreground was reduced to 0.\n",
      "n_foreground was reduced to 0.\n"
     ]
    },
    {
     "name": "stderr",
     "output_type": "stream",
     "text": [
      " 84%|██▌| 48/57 [24:49<04:45, 31.76s/it]"
     ]
    },
    {
     "name": "stdout",
     "output_type": "stream",
     "text": [
      "n_foreground was reduced to 0.\n",
      "n_foreground was reduced to 0.\n",
      "n_foreground was reduced to 0.\n",
      "n_foreground was reduced to 0.\n",
      "n_foreground was reduced to 0.\n",
      "n_foreground was reduced to 0.\n",
      "n_background was reduced to 0.\n",
      "n_foreground was reduced to 0.\n",
      "n_foreground was reduced to 0.\n"
     ]
    },
    {
     "name": "stderr",
     "output_type": "stream",
     "text": [
      " 86%|██▌| 49/57 [25:22<04:16, 32.06s/it]"
     ]
    },
    {
     "name": "stdout",
     "output_type": "stream",
     "text": [
      "n_foreground was reduced to 0.\n"
     ]
    },
    {
     "name": "stderr",
     "output_type": "stream",
     "text": [
      " 88%|██▋| 50/57 [25:55<03:46, 32.40s/it]"
     ]
    },
    {
     "name": "stdout",
     "output_type": "stream",
     "text": [
      "n_foreground was reduced to 0.\n",
      "n_foreground was reduced to 0.\n",
      "n_foreground was reduced to 0.\n"
     ]
    },
    {
     "name": "stderr",
     "output_type": "stream",
     "text": [
      " 89%|██▋| 51/57 [26:28<03:16, 32.71s/it]"
     ]
    },
    {
     "name": "stdout",
     "output_type": "stream",
     "text": [
      "n_background was reduced to 0.\n",
      "n_foreground was reduced to 0.\n",
      "n_foreground was reduced to 0.\n",
      "n_foreground was reduced to 0.\n",
      "n_foreground was reduced to 0.\n",
      "n_foreground was reduced to 0.\n",
      "n_foreground was reduced to 0.\n",
      "n_foreground was reduced to 0.\n"
     ]
    },
    {
     "name": "stderr",
     "output_type": "stream",
     "text": [
      " 91%|██▋| 52/57 [27:01<02:43, 32.77s/it]"
     ]
    },
    {
     "name": "stdout",
     "output_type": "stream",
     "text": [
      "n_foreground was reduced to 0.\n",
      "n_foreground was reduced to 0.\n",
      "n_foreground was reduced to 0.\n",
      "n_foreground was reduced to 0.\n",
      "n_background was reduced to 0.\n",
      "n_foreground was reduced to 0.\n",
      "n_foreground was reduced to 0.\n",
      "n_background was reduced to 0.\n",
      "n_foreground was reduced to 0.\n",
      "n_foreground was reduced to 0.\n",
      "n_foreground was reduced to 0.\n",
      "n_foreground was reduced to 0.\n"
     ]
    },
    {
     "name": "stderr",
     "output_type": "stream",
     "text": [
      " 93%|██▊| 53/57 [27:33<02:10, 32.51s/it]"
     ]
    },
    {
     "name": "stdout",
     "output_type": "stream",
     "text": [
      "n_foreground was reduced to 0.\n",
      "n_background was reduced to 0.\n",
      "n_foreground was reduced to 0.\n",
      "n_foreground was reduced to 0.\n",
      "n_foreground was reduced to 0.\n",
      "n_foreground was reduced to 0.\n",
      "n_foreground was reduced to 0.\n",
      "n_foreground was reduced to 0.\n",
      "n_foreground was reduced to 0.\n",
      "n_foreground was reduced to 0.\n",
      "n_foreground was reduced to 0.\n",
      "n_foreground was reduced to 0.\n",
      "n_foreground was reduced to 0.\n",
      "n_foreground was reduced to 0.\n"
     ]
    },
    {
     "name": "stderr",
     "output_type": "stream",
     "text": [
      " 95%|██▊| 54/57 [28:07<01:38, 32.77s/it]"
     ]
    },
    {
     "name": "stdout",
     "output_type": "stream",
     "text": [
      "n_foreground was reduced to 0.\n",
      "n_foreground was reduced to 0.\n",
      "n_background was reduced to 0.\n",
      "n_foreground was reduced to 0.\n",
      "n_foreground was reduced to 0.\n",
      "n_foreground was reduced to 0.\n",
      "n_foreground was reduced to 0.\n"
     ]
    },
    {
     "name": "stderr",
     "output_type": "stream",
     "text": [
      " 96%|██▉| 55/57 [28:41<01:06, 33.39s/it]"
     ]
    },
    {
     "name": "stdout",
     "output_type": "stream",
     "text": [
      "n_foreground was reduced to 0.\n",
      "n_foreground was reduced to 0.\n",
      "n_background was reduced to 0.\n",
      "n_foreground was reduced to 0.\n",
      "n_foreground was reduced to 0.\n",
      "n_foreground was reduced to 0.\n",
      "n_background was reduced to 0.\n",
      "n_foreground was reduced to 0.\n",
      "n_foreground was reduced to 0.\n",
      "n_foreground was reduced to 0.\n",
      "n_foreground was reduced to 0.\n"
     ]
    },
    {
     "name": "stderr",
     "output_type": "stream",
     "text": [
      " 98%|██▉| 56/57 [29:16<00:33, 33.64s/it]"
     ]
    },
    {
     "name": "stdout",
     "output_type": "stream",
     "text": [
      "n_foreground was reduced to 0.\n",
      "n_foreground was reduced to 0.\n",
      "n_background was reduced to 0.\n",
      "n_foreground was reduced to 0.\n",
      "n_foreground was reduced to 0.\n",
      "n_background was reduced to 0.\n",
      "n_foreground was reduced to 0.\n",
      "n_foreground was reduced to 0.\n",
      "n_background was reduced to 0.\n",
      "n_foreground was reduced to 0.\n",
      "n_foreground was reduced to 0.\n",
      "n_foreground was reduced to 8.\n",
      "n_background was reduced to 0.\n",
      "n_foreground was reduced to 0.\n",
      "n_foreground was reduced to 0.\n"
     ]
    },
    {
     "name": "stderr",
     "output_type": "stream",
     "text": [
      "100%|███| 57/57 [29:45<00:00, 31.32s/it]\n"
     ]
    }
   ],
   "source": [
    "all_masks = []\n",
    "all_prompts = {1:[],2:[],3:[]}\n",
    "scores={}\n",
    "for batch in tqdm(dataloader):\n",
    "    embeddings, ground_truths = batch\n",
    "    prompt_class_1 = []\n",
    "    prompt_class_2 = []\n",
    "    prompt_class_3 = []\n",
    "    for ground_truth in ground_truths:\n",
    "        prompt_class_1.append(batch_sample_from_class(50, ground_truth, 1, n_foreground = 10, n_background= 5))\n",
    "        prompt_class_2.append(batch_sample_from_class(50, ground_truth, 2, n_foreground = 10, n_background= 5))\n",
    "        prompt_class_3.append(batch_sample_from_class(50, ground_truth, 3, n_foreground = 10, n_background= 5))\n",
    "        all_prompts[1].extend(prompt_class_1)\n",
    "        all_prompts[2].extend(prompt_class_2)\n",
    "        all_prompts[3].extend(prompt_class_3)\n",
    "    ana = analyze(embeddings,ground_truths)    \n",
    "    masks= ana.generate_masks(prompt_class_1,prompt_class_2,prompt_class_3,50)\n",
    "    all_masks.append(masks.numpy())\n",
    "    for metric,f in ana.metrics.items():\n",
    "        if metric not in scores.keys():\n",
    "            scores[metric] = ana.scoring_function(f)\n",
    "        else: \n",
    "            scores[metric] = torch.cat([scores[metric],ana.scoring_function(f)],dim = 0)\n",
    "            \n",
    "results = ana.get_results(scores[\"dice_score\"],scores[\"iou\"],scores[\"accuracy\"],(10,5),(10,5),(10,5))\n",
    "re = Results(\"../ACDC\",\"pos_1005\")\n",
    "re.append_row(results)"
   ]
  },
  {
   "cell_type": "code",
   "execution_count": 3,
   "id": "31a52c11-0fd0-47b5-b75c-a67711b596db",
   "metadata": {},
   "outputs": [],
   "source": [
    "file_path = \"../ACDC/\"\n",
    "with open(f\"{file_path}prompts6.pickle\", 'wb') as f1:\n",
    "    pickle.dump(all_prompts, f1)"
   ]
  },
  {
   "cell_type": "code",
   "execution_count": 4,
   "id": "0761820f-faa1-4aa4-b4fa-b4d9341db119",
   "metadata": {},
   "outputs": [],
   "source": [
    "os.mkdir(\"../ACDC/masks6\")\n",
    "for i in range(57):\n",
    "    f = gzip.GzipFile(f\"../ACDC/masks6/batch_{i}.npy.gz\", \"w\")\n",
    "    np.save(f, all_masks[i])"
   ]
  },
  {
   "cell_type": "code",
   "execution_count": 5,
   "id": "b00c0f6e-02af-4cab-ab7a-b84738a2eacc",
   "metadata": {},
   "outputs": [],
   "source": [
    "torch.cuda.empty_cache()"
   ]
  },
  {
   "cell_type": "markdown",
   "id": "391826e2-18f3-46ce-ad45-221d43fb4338",
   "metadata": {},
   "source": [
    "## Pipeline 7\n",
    "- 10 positive points, 3 negative points per prompts\n",
    "- Batch of 50 images, 50 prompts per image"
   ]
  },
  {
   "cell_type": "code",
   "execution_count": 6,
   "id": "39a6ef99-c712-4b47-a724-3eb7a12062be",
   "metadata": {},
   "outputs": [
    {
     "name": "stderr",
     "output_type": "stream",
     "text": [
      "  0%|                                                                                                                                                         | 0/57 [00:00<?, ?it/s]"
     ]
    },
    {
     "name": "stdout",
     "output_type": "stream",
     "text": [
      "n_foreground was reduced to 0.\n",
      "n_foreground was reduced to 0.\n",
      "n_background was reduced to 0.\n",
      "n_foreground was reduced to 0.\n",
      "n_foreground was reduced to 0.\n",
      "n_foreground was reduced to 0.\n",
      "n_foreground was reduced to 0.\n"
     ]
    },
    {
     "name": "stderr",
     "output_type": "stream",
     "text": [
      "  2%|██▌                                                                                                                                              | 1/57 [00:36<33:56, 36.36s/it]"
     ]
    },
    {
     "name": "stdout",
     "output_type": "stream",
     "text": [
      "n_foreground was reduced to 0.\n",
      "n_foreground was reduced to 0.\n",
      "n_background was reduced to 0.\n",
      "n_foreground was reduced to 0.\n",
      "n_foreground was reduced to 0.\n",
      "n_foreground was reduced to 0.\n",
      "n_foreground was reduced to 0.\n",
      "n_foreground was reduced to 0.\n",
      "n_foreground was reduced to 0.\n",
      "n_foreground was reduced to 0.\n",
      "n_background was reduced to 0.\n",
      "n_foreground was reduced to 0.\n",
      "n_foreground was reduced to 0.\n",
      "n_foreground was reduced to 0.\n",
      "n_foreground was reduced to 0.\n",
      "n_foreground was reduced to 0.\n",
      "n_foreground was reduced to 0.\n",
      "n_foreground was reduced to 0.\n"
     ]
    },
    {
     "name": "stderr",
     "output_type": "stream",
     "text": [
      "  4%|█████                                                                                                                                            | 2/57 [01:06<30:05, 32.82s/it]"
     ]
    },
    {
     "name": "stdout",
     "output_type": "stream",
     "text": [
      "n_foreground was reduced to 0.\n",
      "n_foreground was reduced to 0.\n",
      "n_foreground was reduced to 8.\n",
      "n_background was reduced to 0.\n",
      "n_foreground was reduced to 0.\n",
      "n_foreground was reduced to 0.\n",
      "n_foreground was reduced to 0.\n"
     ]
    },
    {
     "name": "stderr",
     "output_type": "stream",
     "text": [
      "  5%|███████▋                                                                                                                                         | 3/57 [01:38<28:56, 32.15s/it]"
     ]
    },
    {
     "name": "stdout",
     "output_type": "stream",
     "text": [
      "n_foreground was reduced to 0.\n",
      "n_foreground was reduced to 0.\n",
      "n_background was reduced to 0.\n",
      "n_foreground was reduced to 0.\n",
      "n_foreground was reduced to 0.\n",
      "n_foreground was reduced to 0.\n",
      "n_foreground was reduced to 0.\n",
      "n_foreground was reduced to 0.\n",
      "n_foreground was reduced to 0.\n",
      "n_foreground was reduced to 0.\n",
      "n_foreground was reduced to 0.\n",
      "n_foreground was reduced to 0.\n"
     ]
    },
    {
     "name": "stderr",
     "output_type": "stream",
     "text": [
      "  7%|██████████▏                                                                                                                                      | 4/57 [02:09<28:01, 31.74s/it]"
     ]
    },
    {
     "name": "stdout",
     "output_type": "stream",
     "text": [
      "n_foreground was reduced to 0.\n",
      "n_foreground was reduced to 0.\n",
      "n_foreground was reduced to 0.\n",
      "n_foreground was reduced to 0.\n",
      "n_foreground was reduced to 0.\n",
      "n_foreground was reduced to 0.\n",
      "n_foreground was reduced to 0.\n",
      "n_foreground was reduced to 0.\n",
      "n_foreground was reduced to 0.\n",
      "n_foreground was reduced to 0.\n",
      "n_foreground was reduced to 0.\n",
      "n_foreground was reduced to 0.\n",
      "n_foreground was reduced to 0.\n",
      "n_foreground was reduced to 0.\n",
      "n_foreground was reduced to 0.\n",
      "n_foreground was reduced to 0.\n",
      "n_foreground was reduced to 0.\n"
     ]
    },
    {
     "name": "stderr",
     "output_type": "stream",
     "text": [
      "  9%|████████████▋                                                                                                                                    | 5/57 [02:39<27:11, 31.37s/it]"
     ]
    },
    {
     "name": "stdout",
     "output_type": "stream",
     "text": [
      "n_foreground was reduced to 0.\n",
      "n_foreground was reduced to 0.\n",
      "n_foreground was reduced to 0.\n",
      "n_foreground was reduced to 0.\n",
      "n_foreground was reduced to 0.\n",
      "n_foreground was reduced to 0.\n",
      "n_foreground was reduced to 0.\n"
     ]
    },
    {
     "name": "stderr",
     "output_type": "stream",
     "text": [
      " 11%|███████████████▎                                                                                                                                 | 6/57 [03:11<26:39, 31.36s/it]"
     ]
    },
    {
     "name": "stdout",
     "output_type": "stream",
     "text": [
      "n_foreground was reduced to 0.\n",
      "n_foreground was reduced to 0.\n",
      "n_foreground was reduced to 0.\n",
      "n_background was reduced to 0.\n",
      "n_foreground was reduced to 0.\n",
      "n_foreground was reduced to 0.\n",
      "n_background was reduced to 0.\n",
      "n_foreground was reduced to 0.\n",
      "n_foreground was reduced to 0.\n"
     ]
    },
    {
     "name": "stderr",
     "output_type": "stream",
     "text": [
      " 12%|█████████████████▊                                                                                                                               | 7/57 [03:42<26:14, 31.49s/it]"
     ]
    },
    {
     "name": "stdout",
     "output_type": "stream",
     "text": [
      "n_foreground was reduced to 0.\n",
      "n_foreground was reduced to 0.\n",
      "n_foreground was reduced to 0.\n",
      "n_foreground was reduced to 0.\n",
      "n_foreground was reduced to 0.\n",
      "n_foreground was reduced to 0.\n",
      "n_foreground was reduced to 0.\n",
      "n_foreground was reduced to 0.\n",
      "n_foreground was reduced to 0.\n",
      "n_foreground was reduced to 0.\n",
      "n_foreground was reduced to 0.\n",
      "n_foreground was reduced to 0.\n"
     ]
    },
    {
     "name": "stderr",
     "output_type": "stream",
     "text": [
      " 14%|████████████████████▎                                                                                                                            | 8/57 [04:13<25:34, 31.31s/it]"
     ]
    },
    {
     "name": "stdout",
     "output_type": "stream",
     "text": [
      "n_foreground was reduced to 0.\n",
      "n_foreground was reduced to 0.\n",
      "n_foreground was reduced to 0.\n",
      "n_foreground was reduced to 0.\n"
     ]
    },
    {
     "name": "stderr",
     "output_type": "stream",
     "text": [
      " 16%|██████████████████████▉                                                                                                                          | 9/57 [04:45<25:04, 31.34s/it]"
     ]
    },
    {
     "name": "stdout",
     "output_type": "stream",
     "text": [
      "n_background was reduced to 0.\n",
      "n_foreground was reduced to 0.\n",
      "n_foreground was reduced to 0.\n",
      "n_foreground was reduced to 0.\n",
      "n_foreground was reduced to 0.\n",
      "n_foreground was reduced to 0.\n"
     ]
    },
    {
     "name": "stderr",
     "output_type": "stream",
     "text": [
      " 18%|█████████████████████████▎                                                                                                                      | 10/57 [05:16<24:37, 31.44s/it]"
     ]
    },
    {
     "name": "stdout",
     "output_type": "stream",
     "text": [
      "n_foreground was reduced to 0.\n",
      "n_foreground was reduced to 0.\n"
     ]
    },
    {
     "name": "stderr",
     "output_type": "stream",
     "text": [
      " 19%|███████████████████████████▊                                                                                                                    | 11/57 [05:48<24:14, 31.61s/it]"
     ]
    },
    {
     "name": "stdout",
     "output_type": "stream",
     "text": [
      "n_foreground was reduced to 0.\n",
      "n_foreground was reduced to 0.\n",
      "n_foreground was reduced to 0.\n",
      "n_foreground was reduced to 0.\n",
      "n_foreground was reduced to 0.\n",
      "n_foreground was reduced to 0.\n",
      "n_foreground was reduced to 0.\n",
      "n_background was reduced to 0.\n",
      "n_foreground was reduced to 0.\n"
     ]
    },
    {
     "name": "stderr",
     "output_type": "stream",
     "text": [
      " 21%|██████████████████████████████▎                                                                                                                 | 12/57 [06:20<23:44, 31.65s/it]"
     ]
    },
    {
     "name": "stdout",
     "output_type": "stream",
     "text": [
      "n_foreground was reduced to 9.\n",
      "n_foreground was reduced to 0.\n",
      "n_foreground was reduced to 0.\n",
      "n_foreground was reduced to 0.\n",
      "n_foreground was reduced to 0.\n",
      "n_foreground was reduced to 0.\n",
      "n_foreground was reduced to 0.\n",
      "n_foreground was reduced to 0.\n"
     ]
    },
    {
     "name": "stderr",
     "output_type": "stream",
     "text": [
      " 23%|████████████████████████████████▊                                                                                                               | 13/57 [06:52<23:12, 31.65s/it]"
     ]
    },
    {
     "name": "stdout",
     "output_type": "stream",
     "text": [
      "n_foreground was reduced to 0.\n",
      "n_foreground was reduced to 0.\n",
      "n_foreground was reduced to 0.\n",
      "n_foreground was reduced to 0.\n",
      "n_foreground was reduced to 0.\n",
      "n_foreground was reduced to 0.\n"
     ]
    },
    {
     "name": "stderr",
     "output_type": "stream",
     "text": [
      " 25%|███████████████████████████████████▎                                                                                                            | 14/57 [07:23<22:40, 31.65s/it]"
     ]
    },
    {
     "name": "stdout",
     "output_type": "stream",
     "text": [
      "n_background was reduced to 0.\n",
      "n_foreground was reduced to 0.\n",
      "n_foreground was reduced to 0.\n",
      "n_foreground was reduced to 0.\n",
      "n_foreground was reduced to 0.\n",
      "n_foreground was reduced to 0.\n",
      "n_foreground was reduced to 0.\n",
      "n_foreground was reduced to 0.\n",
      "n_background was reduced to 0.\n",
      "n_foreground was reduced to 0.\n",
      "n_foreground was reduced to 0.\n"
     ]
    },
    {
     "name": "stderr",
     "output_type": "stream",
     "text": [
      " 26%|█████████████████████████████████████▉                                                                                                          | 15/57 [07:55<22:09, 31.64s/it]"
     ]
    },
    {
     "name": "stdout",
     "output_type": "stream",
     "text": [
      "n_foreground was reduced to 0.\n",
      "n_foreground was reduced to 0.\n",
      "n_foreground was reduced to 0.\n",
      "n_foreground was reduced to 0.\n",
      "n_foreground was reduced to 0.\n",
      "n_foreground was reduced to 0.\n",
      "n_foreground was reduced to 0.\n",
      "n_foreground was reduced to 0.\n"
     ]
    },
    {
     "name": "stderr",
     "output_type": "stream",
     "text": [
      " 28%|████████████████████████████████████████▍                                                                                                       | 16/57 [08:26<21:32, 31.52s/it]"
     ]
    },
    {
     "name": "stdout",
     "output_type": "stream",
     "text": [
      "n_foreground was reduced to 0.\n",
      "n_foreground was reduced to 0.\n",
      "n_background was reduced to 0.\n",
      "n_foreground was reduced to 0.\n",
      "n_foreground was reduced to 0.\n",
      "n_foreground was reduced to 0.\n",
      "n_foreground was reduced to 0.\n",
      "n_foreground was reduced to 0.\n",
      "n_foreground was reduced to 0.\n",
      "n_foreground was reduced to 0.\n",
      "n_foreground was reduced to 0.\n",
      "n_foreground was reduced to 0.\n",
      "n_foreground was reduced to 0.\n",
      "n_foreground was reduced to 0.\n",
      "n_foreground was reduced to 0.\n",
      "n_background was reduced to 0.\n",
      "n_foreground was reduced to 0.\n",
      "n_foreground was reduced to 0.\n"
     ]
    },
    {
     "name": "stderr",
     "output_type": "stream",
     "text": [
      " 30%|██████████████████████████████████████████▉                                                                                                     | 17/57 [08:57<20:48, 31.22s/it]"
     ]
    },
    {
     "name": "stdout",
     "output_type": "stream",
     "text": [
      "n_foreground was reduced to 0.\n",
      "n_foreground was reduced to 0.\n",
      "n_foreground was reduced to 0.\n",
      "n_foreground was reduced to 0.\n",
      "n_foreground was reduced to 0.\n",
      "n_foreground was reduced to 0.\n",
      "n_foreground was reduced to 0.\n",
      "n_foreground was reduced to 0.\n",
      "n_foreground was reduced to 0.\n",
      "n_foreground was reduced to 0.\n",
      "n_foreground was reduced to 0.\n",
      "n_background was reduced to 0.\n",
      "n_foreground was reduced to 0.\n",
      "n_foreground was reduced to 0.\n",
      "n_foreground was reduced to 0.\n"
     ]
    },
    {
     "name": "stderr",
     "output_type": "stream",
     "text": [
      " 32%|█████████████████████████████████████████████▍                                                                                                  | 18/57 [09:28<20:11, 31.08s/it]"
     ]
    },
    {
     "name": "stdout",
     "output_type": "stream",
     "text": [
      "n_foreground was reduced to 0.\n",
      "n_foreground was reduced to 0.\n",
      "n_foreground was reduced to 0.\n",
      "n_foreground was reduced to 0.\n"
     ]
    },
    {
     "name": "stderr",
     "output_type": "stream",
     "text": [
      " 33%|████████████████████████████████████████████████                                                                                                | 19/57 [09:59<19:44, 31.18s/it]"
     ]
    },
    {
     "name": "stdout",
     "output_type": "stream",
     "text": [
      "n_foreground was reduced to 0.\n",
      "n_foreground was reduced to 0.\n",
      "n_foreground was reduced to 0.\n",
      "n_foreground was reduced to 0.\n",
      "n_foreground was reduced to 0.\n",
      "n_foreground was reduced to 0.\n",
      "n_foreground was reduced to 0.\n"
     ]
    },
    {
     "name": "stderr",
     "output_type": "stream",
     "text": [
      " 35%|██████████████████████████████████████████████████▌                                                                                             | 20/57 [10:30<19:14, 31.21s/it]"
     ]
    },
    {
     "name": "stdout",
     "output_type": "stream",
     "text": [
      "n_foreground was reduced to 0.\n",
      "n_foreground was reduced to 0.\n",
      "n_foreground was reduced to 0.\n",
      "n_foreground was reduced to 1.\n",
      "n_foreground was reduced to 0.\n"
     ]
    },
    {
     "name": "stderr",
     "output_type": "stream",
     "text": [
      " 37%|█████████████████████████████████████████████████████                                                                                           | 21/57 [11:02<18:46, 31.30s/it]"
     ]
    },
    {
     "name": "stdout",
     "output_type": "stream",
     "text": [
      "n_foreground was reduced to 0.\n",
      "n_foreground was reduced to 0.\n",
      "n_foreground was reduced to 0.\n",
      "n_foreground was reduced to 0.\n",
      "n_foreground was reduced to 0.\n",
      "n_foreground was reduced to 0.\n",
      "n_foreground was reduced to 0.\n",
      "n_background was reduced to 0.\n",
      "n_foreground was reduced to 0.\n",
      "n_foreground was reduced to 0.\n",
      "n_foreground was reduced to 0.\n",
      "n_foreground was reduced to 0.\n"
     ]
    },
    {
     "name": "stderr",
     "output_type": "stream",
     "text": [
      " 39%|███████████████████████████████████████████████████████▌                                                                                        | 22/57 [11:33<18:10, 31.16s/it]"
     ]
    },
    {
     "name": "stdout",
     "output_type": "stream",
     "text": [
      "n_foreground was reduced to 0.\n",
      "n_foreground was reduced to 0.\n",
      "n_foreground was reduced to 0.\n",
      "n_foreground was reduced to 0.\n",
      "n_foreground was reduced to 0.\n",
      "n_foreground was reduced to 0.\n",
      "n_foreground was reduced to 0.\n",
      "n_foreground was reduced to 0.\n"
     ]
    },
    {
     "name": "stderr",
     "output_type": "stream",
     "text": [
      " 40%|██████████████████████████████████████████████████████████                                                                                      | 23/57 [12:04<17:39, 31.17s/it]"
     ]
    },
    {
     "name": "stdout",
     "output_type": "stream",
     "text": [
      "n_foreground was reduced to 0.\n",
      "n_foreground was reduced to 0.\n"
     ]
    },
    {
     "name": "stderr",
     "output_type": "stream",
     "text": [
      " 44%|███████████████████████████████████████████████████████████████▏                                                                                | 25/57 [13:07<16:46, 31.45s/it]"
     ]
    },
    {
     "name": "stdout",
     "output_type": "stream",
     "text": [
      "n_foreground was reduced to 0.\n",
      "n_foreground was reduced to 0.\n",
      "n_foreground was reduced to 0.\n",
      "n_background was reduced to 0.\n",
      "n_foreground was reduced to 0.\n",
      "n_foreground was reduced to 0.\n",
      "n_foreground was reduced to 0.\n",
      "n_foreground was reduced to 0.\n",
      "n_background was reduced to 0.\n",
      "n_foreground was reduced to 0.\n",
      "n_foreground was reduced to 0.\n",
      "n_foreground was reduced to 6.\n",
      "n_foreground was reduced to 0.\n"
     ]
    },
    {
     "name": "stderr",
     "output_type": "stream",
     "text": [
      " 46%|█████████████████████████████████████████████████████████████████▋                                                                              | 26/57 [13:38<16:10, 31.31s/it]"
     ]
    },
    {
     "name": "stdout",
     "output_type": "stream",
     "text": [
      "n_foreground was reduced to 0.\n",
      "n_foreground was reduced to 0.\n",
      "n_foreground was reduced to 0.\n",
      "n_foreground was reduced to 0.\n",
      "n_foreground was reduced to 0.\n",
      "n_background was reduced to 0.\n",
      "n_foreground was reduced to 0.\n",
      "n_foreground was reduced to 0.\n",
      "n_foreground was reduced to 0.\n",
      "n_foreground was reduced to 0.\n",
      "n_background was reduced to 0.\n",
      "n_foreground was reduced to 0.\n",
      "n_foreground was reduced to 0.\n"
     ]
    },
    {
     "name": "stderr",
     "output_type": "stream",
     "text": [
      " 47%|████████████████████████████████████████████████████████████████████▏                                                                           | 27/57 [14:09<15:35, 31.17s/it]"
     ]
    },
    {
     "name": "stdout",
     "output_type": "stream",
     "text": [
      "n_foreground was reduced to 0.\n",
      "n_foreground was reduced to 0.\n",
      "n_foreground was reduced to 0.\n",
      "n_background was reduced to 0.\n",
      "n_foreground was reduced to 0.\n",
      "n_foreground was reduced to 0.\n",
      "n_foreground was reduced to 0.\n",
      "n_foreground was reduced to 0.\n",
      "n_foreground was reduced to 0.\n",
      "n_background was reduced to 0.\n",
      "n_foreground was reduced to 0.\n",
      "n_foreground was reduced to 0.\n",
      "n_background was reduced to 0.\n",
      "n_foreground was reduced to 0.\n"
     ]
    },
    {
     "name": "stderr",
     "output_type": "stream",
     "text": [
      " 49%|██████████████████████████████████████████████████████████████████████▋                                                                         | 28/57 [14:40<15:02, 31.11s/it]"
     ]
    },
    {
     "name": "stdout",
     "output_type": "stream",
     "text": [
      "n_foreground was reduced to 0.\n",
      "n_foreground was reduced to 0.\n",
      "n_foreground was reduced to 0.\n",
      "n_background was reduced to 0.\n",
      "n_foreground was reduced to 0.\n",
      "n_foreground was reduced to 0.\n",
      "n_foreground was reduced to 0.\n",
      "n_foreground was reduced to 0.\n",
      "n_foreground was reduced to 0.\n",
      "n_foreground was reduced to 0.\n"
     ]
    },
    {
     "name": "stderr",
     "output_type": "stream",
     "text": [
      " 51%|█████████████████████████████████████████████████████████████████████████▎                                                                      | 29/57 [15:11<14:31, 31.14s/it]"
     ]
    },
    {
     "name": "stdout",
     "output_type": "stream",
     "text": [
      "n_foreground was reduced to 0.\n",
      "n_foreground was reduced to 0.\n",
      "n_foreground was reduced to 0.\n",
      "n_foreground was reduced to 0.\n",
      "n_foreground was reduced to 0.\n",
      "n_foreground was reduced to 0.\n",
      "n_foreground was reduced to 0.\n",
      "n_foreground was reduced to 0.\n",
      "n_foreground was reduced to 0.\n",
      "n_foreground was reduced to 0.\n",
      "n_foreground was reduced to 0.\n",
      "n_foreground was reduced to 0.\n",
      "n_foreground was reduced to 0.\n",
      "n_foreground was reduced to 0.\n",
      "n_foreground was reduced to 0.\n",
      "n_foreground was reduced to 0.\n",
      "n_foreground was reduced to 0.\n",
      "n_background was reduced to 0.\n",
      "n_foreground was reduced to 0.\n"
     ]
    },
    {
     "name": "stderr",
     "output_type": "stream",
     "text": [
      " 53%|███████████████████████████████████████████████████████████████████████████▊                                                                    | 30/57 [15:42<13:57, 31.02s/it]"
     ]
    },
    {
     "name": "stdout",
     "output_type": "stream",
     "text": [
      "n_foreground was reduced to 0.\n",
      "n_foreground was reduced to 0.\n",
      "n_foreground was reduced to 0.\n",
      "n_foreground was reduced to 0.\n",
      "n_foreground was reduced to 0.\n"
     ]
    },
    {
     "name": "stderr",
     "output_type": "stream",
     "text": [
      " 54%|██████████████████████████████████████████████████████████████████████████████▎                                                                 | 31/57 [16:14<13:30, 31.17s/it]"
     ]
    },
    {
     "name": "stdout",
     "output_type": "stream",
     "text": [
      "n_background was reduced to 0.\n",
      "n_foreground was reduced to 0.\n",
      "n_foreground was reduced to 0.\n",
      "n_foreground was reduced to 0.\n",
      "n_foreground was reduced to 0.\n",
      "n_background was reduced to 0.\n",
      "n_foreground was reduced to 0.\n",
      "n_foreground was reduced to 0.\n",
      "n_foreground was reduced to 0.\n",
      "n_foreground was reduced to 7.\n",
      "n_foreground was reduced to 0.\n"
     ]
    },
    {
     "name": "stderr",
     "output_type": "stream",
     "text": [
      " 56%|████████████████████████████████████████████████████████████████████████████████▊                                                               | 32/57 [16:45<13:00, 31.23s/it]"
     ]
    },
    {
     "name": "stdout",
     "output_type": "stream",
     "text": [
      "n_foreground was reduced to 0.\n",
      "n_foreground was reduced to 0.\n",
      "n_foreground was reduced to 0.\n",
      "n_foreground was reduced to 0.\n",
      "n_foreground was reduced to 0.\n",
      "n_foreground was reduced to 0.\n",
      "n_foreground was reduced to 0.\n",
      "n_foreground was reduced to 0.\n"
     ]
    },
    {
     "name": "stderr",
     "output_type": "stream",
     "text": [
      " 58%|███████████████████████████████████████████████████████████████████████████████████▎                                                            | 33/57 [17:16<12:28, 31.18s/it]"
     ]
    },
    {
     "name": "stdout",
     "output_type": "stream",
     "text": [
      "n_foreground was reduced to 0.\n",
      "n_foreground was reduced to 0.\n",
      "n_foreground was reduced to 0.\n",
      "n_foreground was reduced to 0.\n",
      "n_foreground was reduced to 0.\n",
      "n_foreground was reduced to 0.\n",
      "n_foreground was reduced to 0.\n",
      "n_foreground was reduced to 0.\n",
      "n_background was reduced to 0.\n",
      "n_foreground was reduced to 0.\n",
      "n_foreground was reduced to 0.\n",
      "n_foreground was reduced to 0.\n",
      "n_foreground was reduced to 0.\n",
      "n_foreground was reduced to 0.\n",
      "n_foreground was reduced to 0.\n",
      "n_foreground was reduced to 0.\n",
      "n_foreground was reduced to 0.\n"
     ]
    },
    {
     "name": "stderr",
     "output_type": "stream",
     "text": [
      " 60%|█████████████████████████████████████████████████████████████████████████████████████▉                                                          | 34/57 [17:46<11:52, 30.99s/it]"
     ]
    },
    {
     "name": "stdout",
     "output_type": "stream",
     "text": [
      "n_foreground was reduced to 0.\n",
      "n_foreground was reduced to 0.\n",
      "n_background was reduced to 0.\n",
      "n_foreground was reduced to 0.\n",
      "n_foreground was reduced to 0.\n",
      "n_foreground was reduced to 0.\n",
      "n_background was reduced to 0.\n",
      "n_foreground was reduced to 0.\n",
      "n_foreground was reduced to 0.\n",
      "n_foreground was reduced to 0.\n",
      "n_foreground was reduced to 0.\n",
      "n_foreground was reduced to 0.\n",
      "n_foreground was reduced to 0.\n"
     ]
    },
    {
     "name": "stderr",
     "output_type": "stream",
     "text": [
      " 61%|████████████████████████████████████████████████████████████████████████████████████████▍                                                       | 35/57 [18:17<11:21, 30.97s/it]"
     ]
    },
    {
     "name": "stdout",
     "output_type": "stream",
     "text": [
      "n_foreground was reduced to 0.\n",
      "n_foreground was reduced to 0.\n",
      "n_foreground was reduced to 0.\n",
      "n_foreground was reduced to 0.\n",
      "n_foreground was reduced to 0.\n",
      "n_foreground was reduced to 0.\n",
      "n_foreground was reduced to 0.\n",
      "n_foreground was reduced to 0.\n",
      "n_foreground was reduced to 0.\n",
      "n_foreground was reduced to 0.\n",
      "n_foreground was reduced to 0.\n",
      "n_foreground was reduced to 0.\n"
     ]
    },
    {
     "name": "stderr",
     "output_type": "stream",
     "text": [
      " 63%|██████████████████████████████████████████████████████████████████████████████████████████▉                                                     | 36/57 [18:49<10:51, 31.04s/it]"
     ]
    },
    {
     "name": "stdout",
     "output_type": "stream",
     "text": [
      "n_foreground was reduced to 0.\n",
      "n_foreground was reduced to 0.\n",
      "n_foreground was reduced to 4.\n",
      "n_foreground was reduced to 0.\n",
      "n_foreground was reduced to 0.\n",
      "n_foreground was reduced to 0.\n",
      "n_foreground was reduced to 0.\n",
      "n_foreground was reduced to 0.\n",
      "n_foreground was reduced to 0.\n",
      "n_foreground was reduced to 0.\n",
      "n_foreground was reduced to 0.\n",
      "n_foreground was reduced to 0.\n"
     ]
    },
    {
     "name": "stderr",
     "output_type": "stream",
     "text": [
      " 65%|█████████████████████████████████████████████████████████████████████████████████████████████▍                                                  | 37/57 [19:20<10:23, 31.18s/it]"
     ]
    },
    {
     "name": "stdout",
     "output_type": "stream",
     "text": [
      "n_foreground was reduced to 0.\n",
      "n_foreground was reduced to 0.\n",
      "n_foreground was reduced to 0.\n",
      "n_foreground was reduced to 0.\n",
      "n_foreground was reduced to 0.\n",
      "n_foreground was reduced to 0.\n",
      "n_foreground was reduced to 0.\n",
      "n_foreground was reduced to 0.\n",
      "n_foreground was reduced to 0.\n",
      "n_foreground was reduced to 0.\n",
      "n_foreground was reduced to 0.\n"
     ]
    },
    {
     "name": "stderr",
     "output_type": "stream",
     "text": [
      " 67%|████████████████████████████████████████████████████████████████████████████████████████████████                                                | 38/57 [19:51<09:53, 31.22s/it]"
     ]
    },
    {
     "name": "stdout",
     "output_type": "stream",
     "text": [
      "n_foreground was reduced to 0.\n",
      "n_foreground was reduced to 0.\n",
      "n_foreground was reduced to 0.\n",
      "n_foreground was reduced to 0.\n",
      "n_foreground was reduced to 0.\n"
     ]
    },
    {
     "name": "stderr",
     "output_type": "stream",
     "text": [
      " 68%|██████████████████████████████████████████████████████████████████████████████████████████████████▌                                             | 39/57 [20:23<09:23, 31.28s/it]"
     ]
    },
    {
     "name": "stdout",
     "output_type": "stream",
     "text": [
      "n_foreground was reduced to 0.\n",
      "n_foreground was reduced to 0.\n",
      "n_foreground was reduced to 0.\n",
      "n_foreground was reduced to 0.\n",
      "n_foreground was reduced to 0.\n",
      "n_foreground was reduced to 0.\n"
     ]
    },
    {
     "name": "stderr",
     "output_type": "stream",
     "text": [
      " 70%|█████████████████████████████████████████████████████████████████████████████████████████████████████                                           | 40/57 [20:54<08:52, 31.35s/it]"
     ]
    },
    {
     "name": "stdout",
     "output_type": "stream",
     "text": [
      "n_foreground was reduced to 0.\n",
      "n_foreground was reduced to 0.\n",
      "n_foreground was reduced to 0.\n",
      "n_foreground was reduced to 0.\n",
      "n_foreground was reduced to 0.\n",
      "n_foreground was reduced to 0.\n",
      "n_foreground was reduced to 0.\n",
      "n_background was reduced to 0.\n",
      "n_foreground was reduced to 0.\n",
      "n_foreground was reduced to 0.\n",
      "n_foreground was reduced to 0.\n",
      "n_foreground was reduced to 0.\n",
      "n_background was reduced to 0.\n",
      "n_foreground was reduced to 0.\n",
      "n_foreground was reduced to 0.\n"
     ]
    },
    {
     "name": "stderr",
     "output_type": "stream",
     "text": [
      " 72%|███████████████████████████████████████████████████████████████████████████████████████████████████████▌                                        | 41/57 [21:25<08:18, 31.15s/it]"
     ]
    },
    {
     "name": "stdout",
     "output_type": "stream",
     "text": [
      "n_foreground was reduced to 0.\n",
      "n_background was reduced to 0.\n",
      "n_foreground was reduced to 0.\n",
      "n_foreground was reduced to 0.\n",
      "n_foreground was reduced to 0.\n",
      "n_foreground was reduced to 0.\n",
      "n_foreground was reduced to 0.\n",
      "n_foreground was reduced to 0.\n",
      "n_foreground was reduced to 5.\n",
      "n_foreground was reduced to 0.\n",
      "n_foreground was reduced to 0.\n"
     ]
    },
    {
     "name": "stderr",
     "output_type": "stream",
     "text": [
      " 74%|██████████████████████████████████████████████████████████████████████████████████████████████████████████                                      | 42/57 [21:55<07:43, 30.88s/it]"
     ]
    },
    {
     "name": "stdout",
     "output_type": "stream",
     "text": [
      "n_background was reduced to 0.\n",
      "n_foreground was reduced to 0.\n",
      "n_foreground was reduced to 0.\n",
      "n_foreground was reduced to 0.\n",
      "n_foreground was reduced to 0.\n",
      "n_foreground was reduced to 0.\n"
     ]
    },
    {
     "name": "stderr",
     "output_type": "stream",
     "text": [
      " 75%|████████████████████████████████████████████████████████████████████████████████████████████████████████████▋                                   | 43/57 [22:26<07:10, 30.77s/it]"
     ]
    },
    {
     "name": "stdout",
     "output_type": "stream",
     "text": [
      "n_foreground was reduced to 0.\n",
      "n_foreground was reduced to 0.\n",
      "n_foreground was reduced to 0.\n",
      "n_foreground was reduced to 0.\n",
      "n_foreground was reduced to 0.\n",
      "n_foreground was reduced to 0.\n",
      "n_foreground was reduced to 0.\n",
      "n_foreground was reduced to 0.\n",
      "n_foreground was reduced to 0.\n",
      "n_background was reduced to 0.\n",
      "n_foreground was reduced to 0.\n"
     ]
    },
    {
     "name": "stderr",
     "output_type": "stream",
     "text": [
      " 77%|███████████████████████████████████████████████████████████████████████████████████████████████████████████████▏                                | 44/57 [22:56<06:37, 30.58s/it]"
     ]
    },
    {
     "name": "stdout",
     "output_type": "stream",
     "text": [
      "n_foreground was reduced to 0.\n",
      "n_foreground was reduced to 0.\n",
      "n_background was reduced to 0.\n",
      "n_foreground was reduced to 0.\n",
      "n_foreground was reduced to 0.\n",
      "n_foreground was reduced to 0.\n",
      "n_foreground was reduced to 0.\n",
      "n_foreground was reduced to 0.\n"
     ]
    },
    {
     "name": "stderr",
     "output_type": "stream",
     "text": [
      " 79%|█████████████████████████████████████████████████████████████████████████████████████████████████████████████████▋                              | 45/57 [23:26<06:06, 30.53s/it]"
     ]
    },
    {
     "name": "stdout",
     "output_type": "stream",
     "text": [
      "n_background was reduced to 0.\n",
      "n_foreground was reduced to 0.\n",
      "n_foreground was reduced to 0.\n"
     ]
    },
    {
     "name": "stderr",
     "output_type": "stream",
     "text": [
      " 81%|████████████████████████████████████████████████████████████████████████████████████████████████████████████████████▏                           | 46/57 [23:57<05:36, 30.61s/it]"
     ]
    },
    {
     "name": "stdout",
     "output_type": "stream",
     "text": [
      "n_background was reduced to 0.\n",
      "n_foreground was reduced to 0.\n",
      "n_foreground was reduced to 0.\n",
      "n_foreground was reduced to 0.\n",
      "n_foreground was reduced to 6.\n",
      "n_foreground was reduced to 0.\n",
      "n_foreground was reduced to 0.\n",
      "n_foreground was reduced to 0.\n",
      "n_foreground was reduced to 0.\n",
      "n_foreground was reduced to 0.\n"
     ]
    },
    {
     "name": "stderr",
     "output_type": "stream",
     "text": [
      " 82%|██████████████████████████████████████████████████████████████████████████████████████████████████████████████████████▋                         | 47/57 [24:29<05:09, 30.91s/it]"
     ]
    },
    {
     "name": "stdout",
     "output_type": "stream",
     "text": [
      "n_foreground was reduced to 0.\n",
      "n_foreground was reduced to 0.\n",
      "n_background was reduced to 0.\n",
      "n_foreground was reduced to 0.\n",
      "n_foreground was reduced to 0.\n",
      "n_foreground was reduced to 0.\n",
      "n_foreground was reduced to 0.\n",
      "n_foreground was reduced to 0.\n",
      "n_foreground was reduced to 0.\n",
      "n_foreground was reduced to 0.\n",
      "n_foreground was reduced to 0.\n"
     ]
    },
    {
     "name": "stderr",
     "output_type": "stream",
     "text": [
      " 84%|█████████████████████████████████████████████████████████████████████████████████████████████████████████████████████████▎                      | 48/57 [25:04<04:49, 32.20s/it]"
     ]
    },
    {
     "name": "stdout",
     "output_type": "stream",
     "text": [
      "n_foreground was reduced to 0.\n",
      "n_foreground was reduced to 0.\n",
      "n_foreground was reduced to 0.\n",
      "n_foreground was reduced to 0.\n",
      "n_foreground was reduced to 0.\n",
      "n_foreground was reduced to 0.\n",
      "n_background was reduced to 0.\n",
      "n_foreground was reduced to 0.\n",
      "n_foreground was reduced to 0.\n"
     ]
    },
    {
     "name": "stderr",
     "output_type": "stream",
     "text": [
      " 86%|███████████████████████████████████████████████████████████████████████████████████████████████████████████████████████████▊                    | 49/57 [25:37<04:20, 32.55s/it]"
     ]
    },
    {
     "name": "stdout",
     "output_type": "stream",
     "text": [
      "n_foreground was reduced to 0.\n"
     ]
    },
    {
     "name": "stderr",
     "output_type": "stream",
     "text": [
      " 88%|██████████████████████████████████████████████████████████████████████████████████████████████████████████████████████████████▎                 | 50/57 [26:11<03:49, 32.85s/it]"
     ]
    },
    {
     "name": "stdout",
     "output_type": "stream",
     "text": [
      "n_foreground was reduced to 0.\n",
      "n_foreground was reduced to 0.\n",
      "n_foreground was reduced to 0.\n"
     ]
    },
    {
     "name": "stderr",
     "output_type": "stream",
     "text": [
      " 89%|████████████████████████████████████████████████████████████████████████████████████████████████████████████████████████████████▊               | 51/57 [26:44<03:18, 33.05s/it]"
     ]
    },
    {
     "name": "stdout",
     "output_type": "stream",
     "text": [
      "n_background was reduced to 0.\n",
      "n_foreground was reduced to 0.\n",
      "n_foreground was reduced to 0.\n",
      "n_foreground was reduced to 0.\n",
      "n_foreground was reduced to 0.\n",
      "n_foreground was reduced to 0.\n",
      "n_foreground was reduced to 0.\n",
      "n_foreground was reduced to 0.\n"
     ]
    },
    {
     "name": "stderr",
     "output_type": "stream",
     "text": [
      " 91%|███████████████████████████████████████████████████████████████████████████████████████████████████████████████████████████████████▎            | 52/57 [27:18<02:46, 33.25s/it]"
     ]
    },
    {
     "name": "stdout",
     "output_type": "stream",
     "text": [
      "n_foreground was reduced to 0.\n",
      "n_foreground was reduced to 0.\n",
      "n_foreground was reduced to 0.\n",
      "n_foreground was reduced to 0.\n",
      "n_background was reduced to 0.\n",
      "n_foreground was reduced to 0.\n",
      "n_foreground was reduced to 0.\n",
      "n_background was reduced to 0.\n",
      "n_foreground was reduced to 0.\n",
      "n_foreground was reduced to 0.\n",
      "n_foreground was reduced to 0.\n",
      "n_foreground was reduced to 0.\n"
     ]
    },
    {
     "name": "stderr",
     "output_type": "stream",
     "text": [
      " 93%|█████████████████████████████████████████████████████████████████████████████████████████████████████████████████████████████████████▉          | 53/57 [27:53<02:14, 33.59s/it]"
     ]
    },
    {
     "name": "stdout",
     "output_type": "stream",
     "text": [
      "n_foreground was reduced to 0.\n",
      "n_background was reduced to 0.\n",
      "n_foreground was reduced to 0.\n",
      "n_foreground was reduced to 0.\n",
      "n_foreground was reduced to 0.\n",
      "n_foreground was reduced to 0.\n",
      "n_foreground was reduced to 0.\n",
      "n_foreground was reduced to 0.\n",
      "n_foreground was reduced to 0.\n",
      "n_foreground was reduced to 0.\n",
      "n_foreground was reduced to 0.\n",
      "n_foreground was reduced to 0.\n",
      "n_foreground was reduced to 0.\n",
      "n_foreground was reduced to 0.\n"
     ]
    },
    {
     "name": "stderr",
     "output_type": "stream",
     "text": [
      " 95%|████████████████████████████████████████████████████████████████████████████████████████████████████████████████████████████████████████▍       | 54/57 [28:26<01:40, 33.51s/it]"
     ]
    },
    {
     "name": "stdout",
     "output_type": "stream",
     "text": [
      "n_foreground was reduced to 0.\n",
      "n_foreground was reduced to 0.\n",
      "n_background was reduced to 0.\n",
      "n_foreground was reduced to 0.\n",
      "n_foreground was reduced to 0.\n",
      "n_foreground was reduced to 0.\n",
      "n_foreground was reduced to 0.\n"
     ]
    },
    {
     "name": "stderr",
     "output_type": "stream",
     "text": [
      " 96%|██████████████████████████████████████████████████████████████████████████████████████████████████████████████████████████████████████████▉     | 55/57 [29:01<01:07, 33.89s/it]"
     ]
    },
    {
     "name": "stdout",
     "output_type": "stream",
     "text": [
      "n_foreground was reduced to 0.\n",
      "n_foreground was reduced to 0.\n",
      "n_background was reduced to 0.\n",
      "n_foreground was reduced to 0.\n",
      "n_foreground was reduced to 0.\n",
      "n_foreground was reduced to 0.\n",
      "n_background was reduced to 0.\n",
      "n_foreground was reduced to 0.\n",
      "n_foreground was reduced to 0.\n",
      "n_foreground was reduced to 0.\n",
      "n_foreground was reduced to 0.\n"
     ]
    },
    {
     "name": "stderr",
     "output_type": "stream",
     "text": [
      " 98%|█████████████████████████████████████████████████████████████████████████████████████████████████████████████████████████████████████████████▍  | 56/57 [29:35<00:34, 34.13s/it]"
     ]
    },
    {
     "name": "stdout",
     "output_type": "stream",
     "text": [
      "n_foreground was reduced to 0.\n",
      "n_foreground was reduced to 0.\n",
      "n_background was reduced to 0.\n",
      "n_foreground was reduced to 0.\n",
      "n_foreground was reduced to 0.\n",
      "n_background was reduced to 0.\n",
      "n_foreground was reduced to 0.\n",
      "n_foreground was reduced to 0.\n",
      "n_background was reduced to 0.\n",
      "n_foreground was reduced to 0.\n",
      "n_foreground was reduced to 0.\n",
      "n_foreground was reduced to 8.\n",
      "n_background was reduced to 0.\n",
      "n_foreground was reduced to 0.\n",
      "n_foreground was reduced to 0.\n"
     ]
    },
    {
     "name": "stderr",
     "output_type": "stream",
     "text": [
      "100%|████████████████████████████████████████████████████████████████████████████████████████████████████████████████████████████████████████████████| 57/57 [30:04<00:00, 31.66s/it]\n"
     ]
    }
   ],
   "source": [
    "all_masks = []\n",
    "all_prompts = {1:[],2:[],3:[]}\n",
    "scores={}\n",
    "for batch in tqdm(dataloader):\n",
    "    embeddings, ground_truths = batch\n",
    "    prompt_class_1 = []\n",
    "    prompt_class_2 = []\n",
    "    prompt_class_3 = []\n",
    "    for ground_truth in ground_truths:\n",
    "        prompt_class_1.append(batch_sample_from_class(50, ground_truth, 1, n_foreground = 10, n_background= 3))\n",
    "        prompt_class_2.append(batch_sample_from_class(50, ground_truth, 2, n_foreground = 10, n_background= 3))\n",
    "        prompt_class_3.append(batch_sample_from_class(50, ground_truth, 3, n_foreground = 10, n_background= 3))\n",
    "        all_prompts[1].extend(prompt_class_1)\n",
    "        all_prompts[2].extend(prompt_class_2)\n",
    "        all_prompts[3].extend(prompt_class_3)\n",
    "    ana = analyze(embeddings,ground_truths)    \n",
    "    masks= ana.generate_masks(prompt_class_1,prompt_class_2,prompt_class_3,50)\n",
    "    all_masks.append(masks.numpy())\n",
    "    for metric,f in ana.metrics.items():\n",
    "        if metric not in scores.keys():\n",
    "            scores[metric] = ana.scoring_function(f)\n",
    "        else: \n",
    "            scores[metric] = torch.cat([scores[metric],ana.scoring_function(f)],dim = 0)\n",
    "            \n",
    "results = ana.get_results(scores[\"dice_score\"],scores[\"iou\"],scores[\"accuracy\"],(10,3),(10,3),(10,3))\n",
    "re = Results(\"../ACDC\",\"pos_1003\")\n",
    "re.append_row(results)"
   ]
  },
  {
   "cell_type": "code",
   "execution_count": 7,
   "id": "cf66419e-d852-4270-9cb8-c021801d245b",
   "metadata": {},
   "outputs": [],
   "source": [
    "file_path = \"../ACDC/\"\n",
    "with open(f\"{file_path}prompts7.pickle\", 'wb') as f1:\n",
    "    pickle.dump(all_prompts, f1)"
   ]
  },
  {
   "cell_type": "code",
   "execution_count": 8,
   "id": "f6d1edfa-ce68-4f5b-a71c-e6e04c600c35",
   "metadata": {},
   "outputs": [],
   "source": [
    "os.mkdir(\"../ACDC/masks7\")\n",
    "for i in range(57):\n",
    "    f = gzip.GzipFile(f\"../ACDC/masks7/batch_{i}.npy.gz\", \"w\")\n",
    "    np.save(f, all_masks[i])"
   ]
  },
  {
   "cell_type": "markdown",
   "id": "54e54783-ae5e-461f-9d58-1c6d6d769cbf",
   "metadata": {},
   "source": [
    "## Pipeline 8\n",
    "- 10 positive points, 0 negative points per prompt\n",
    "- Batch of 50 images, 50 prompts per image"
   ]
  },
  {
   "cell_type": "code",
   "execution_count": 2,
   "id": "223b788c-c0b9-42a0-af66-6146b8e26029",
   "metadata": {},
   "outputs": [
    {
     "name": "stderr",
     "output_type": "stream",
     "text": [
      "  0%|                                                                                                                                                         | 0/57 [00:00<?, ?it/s]"
     ]
    },
    {
     "name": "stdout",
     "output_type": "stream",
     "text": [
      "n_foreground was reduced to 0.\n",
      "n_foreground was reduced to 0.\n",
      "n_foreground was reduced to 0.\n",
      "n_foreground was reduced to 0.\n",
      "n_foreground was reduced to 0.\n",
      "n_foreground was reduced to 0.\n"
     ]
    },
    {
     "name": "stderr",
     "output_type": "stream",
     "text": [
      "  2%|██▌                                                                                                                                              | 1/57 [00:55<51:30, 55.18s/it]"
     ]
    },
    {
     "name": "stdout",
     "output_type": "stream",
     "text": [
      "n_foreground was reduced to 0.\n",
      "n_foreground was reduced to 0.\n",
      "n_foreground was reduced to 0.\n",
      "n_foreground was reduced to 0.\n",
      "n_foreground was reduced to 0.\n",
      "n_foreground was reduced to 0.\n",
      "n_foreground was reduced to 0.\n",
      "n_foreground was reduced to 0.\n",
      "n_foreground was reduced to 0.\n",
      "n_foreground was reduced to 0.\n",
      "n_foreground was reduced to 0.\n",
      "n_foreground was reduced to 0.\n",
      "n_foreground was reduced to 0.\n",
      "n_foreground was reduced to 0.\n",
      "n_foreground was reduced to 0.\n",
      "n_foreground was reduced to 0.\n"
     ]
    },
    {
     "name": "stderr",
     "output_type": "stream",
     "text": [
      "  4%|█████                                                                                                                                            | 2/57 [01:24<36:50, 40.19s/it]"
     ]
    },
    {
     "name": "stdout",
     "output_type": "stream",
     "text": [
      "n_foreground was reduced to 0.\n",
      "n_foreground was reduced to 0.\n",
      "n_foreground was reduced to 8.\n",
      "n_foreground was reduced to 0.\n",
      "n_foreground was reduced to 0.\n",
      "n_foreground was reduced to 0.\n"
     ]
    },
    {
     "name": "stderr",
     "output_type": "stream",
     "text": [
      "  5%|███████▋                                                                                                                                         | 3/57 [01:54<31:53, 35.44s/it]"
     ]
    },
    {
     "name": "stdout",
     "output_type": "stream",
     "text": [
      "n_foreground was reduced to 0.\n",
      "n_foreground was reduced to 0.\n",
      "n_foreground was reduced to 0.\n",
      "n_foreground was reduced to 0.\n",
      "n_foreground was reduced to 0.\n",
      "n_foreground was reduced to 0.\n",
      "n_foreground was reduced to 0.\n",
      "n_foreground was reduced to 0.\n",
      "n_foreground was reduced to 0.\n",
      "n_foreground was reduced to 0.\n",
      "n_foreground was reduced to 0.\n"
     ]
    },
    {
     "name": "stderr",
     "output_type": "stream",
     "text": [
      "  7%|██████████▏                                                                                                                                      | 4/57 [02:24<29:20, 33.22s/it]"
     ]
    },
    {
     "name": "stdout",
     "output_type": "stream",
     "text": [
      "n_foreground was reduced to 0.\n",
      "n_foreground was reduced to 0.\n",
      "n_foreground was reduced to 0.\n",
      "n_foreground was reduced to 0.\n",
      "n_foreground was reduced to 0.\n",
      "n_foreground was reduced to 0.\n",
      "n_foreground was reduced to 0.\n",
      "n_foreground was reduced to 0.\n",
      "n_foreground was reduced to 0.\n",
      "n_foreground was reduced to 0.\n",
      "n_foreground was reduced to 0.\n",
      "n_foreground was reduced to 0.\n",
      "n_foreground was reduced to 0.\n",
      "n_foreground was reduced to 0.\n",
      "n_foreground was reduced to 0.\n",
      "n_foreground was reduced to 0.\n",
      "n_foreground was reduced to 0.\n"
     ]
    },
    {
     "name": "stderr",
     "output_type": "stream",
     "text": [
      "  9%|████████████▋                                                                                                                                    | 5/57 [02:54<27:43, 31.99s/it]"
     ]
    },
    {
     "name": "stdout",
     "output_type": "stream",
     "text": [
      "n_foreground was reduced to 0.\n",
      "n_foreground was reduced to 0.\n",
      "n_foreground was reduced to 0.\n",
      "n_foreground was reduced to 0.\n",
      "n_foreground was reduced to 0.\n",
      "n_foreground was reduced to 0.\n",
      "n_foreground was reduced to 0.\n"
     ]
    },
    {
     "name": "stderr",
     "output_type": "stream",
     "text": [
      " 11%|███████████████▎                                                                                                                                 | 6/57 [03:24<26:34, 31.27s/it]"
     ]
    },
    {
     "name": "stdout",
     "output_type": "stream",
     "text": [
      "n_foreground was reduced to 0.\n",
      "n_foreground was reduced to 0.\n",
      "n_foreground was reduced to 0.\n",
      "n_foreground was reduced to 0.\n",
      "n_foreground was reduced to 0.\n",
      "n_foreground was reduced to 0.\n",
      "n_foreground was reduced to 0.\n"
     ]
    },
    {
     "name": "stderr",
     "output_type": "stream",
     "text": [
      " 12%|█████████████████▊                                                                                                                               | 7/57 [03:54<25:41, 30.82s/it]"
     ]
    },
    {
     "name": "stdout",
     "output_type": "stream",
     "text": [
      "n_foreground was reduced to 0.\n",
      "n_foreground was reduced to 0.\n",
      "n_foreground was reduced to 0.\n",
      "n_foreground was reduced to 0.\n",
      "n_foreground was reduced to 0.\n",
      "n_foreground was reduced to 0.\n",
      "n_foreground was reduced to 0.\n",
      "n_foreground was reduced to 0.\n",
      "n_foreground was reduced to 0.\n",
      "n_foreground was reduced to 0.\n",
      "n_foreground was reduced to 0.\n",
      "n_foreground was reduced to 0.\n"
     ]
    },
    {
     "name": "stderr",
     "output_type": "stream",
     "text": [
      " 14%|████████████████████▎                                                                                                                            | 8/57 [04:23<24:54, 30.51s/it]"
     ]
    },
    {
     "name": "stdout",
     "output_type": "stream",
     "text": [
      "n_foreground was reduced to 0.\n",
      "n_foreground was reduced to 0.\n",
      "n_foreground was reduced to 0.\n",
      "n_foreground was reduced to 0.\n"
     ]
    },
    {
     "name": "stderr",
     "output_type": "stream",
     "text": [
      " 16%|██████████████████████▉                                                                                                                          | 9/57 [04:53<24:15, 30.32s/it]"
     ]
    },
    {
     "name": "stdout",
     "output_type": "stream",
     "text": [
      "n_foreground was reduced to 0.\n",
      "n_foreground was reduced to 0.\n",
      "n_foreground was reduced to 0.\n",
      "n_foreground was reduced to 0.\n",
      "n_foreground was reduced to 0.\n"
     ]
    },
    {
     "name": "stderr",
     "output_type": "stream",
     "text": [
      " 18%|█████████████████████████▎                                                                                                                      | 10/57 [05:23<23:39, 30.20s/it]"
     ]
    },
    {
     "name": "stdout",
     "output_type": "stream",
     "text": [
      "n_foreground was reduced to 0.\n",
      "n_foreground was reduced to 0.\n"
     ]
    },
    {
     "name": "stderr",
     "output_type": "stream",
     "text": [
      " 19%|███████████████████████████▊                                                                                                                    | 11/57 [05:53<23:05, 30.13s/it]"
     ]
    },
    {
     "name": "stdout",
     "output_type": "stream",
     "text": [
      "n_foreground was reduced to 0.\n",
      "n_foreground was reduced to 0.\n",
      "n_foreground was reduced to 0.\n",
      "n_foreground was reduced to 0.\n",
      "n_foreground was reduced to 0.\n",
      "n_foreground was reduced to 0.\n",
      "n_foreground was reduced to 0.\n",
      "n_foreground was reduced to 0.\n"
     ]
    },
    {
     "name": "stderr",
     "output_type": "stream",
     "text": [
      " 21%|██████████████████████████████▎                                                                                                                 | 12/57 [06:23<22:32, 30.05s/it]"
     ]
    },
    {
     "name": "stdout",
     "output_type": "stream",
     "text": [
      "n_foreground was reduced to 9.\n",
      "n_foreground was reduced to 0.\n",
      "n_foreground was reduced to 0.\n",
      "n_foreground was reduced to 0.\n",
      "n_foreground was reduced to 0.\n",
      "n_foreground was reduced to 0.\n",
      "n_foreground was reduced to 0.\n",
      "n_foreground was reduced to 0.\n"
     ]
    },
    {
     "name": "stderr",
     "output_type": "stream",
     "text": [
      " 23%|████████████████████████████████▊                                                                                                               | 13/57 [06:53<22:00, 30.01s/it]"
     ]
    },
    {
     "name": "stdout",
     "output_type": "stream",
     "text": [
      "n_foreground was reduced to 0.\n",
      "n_foreground was reduced to 0.\n",
      "n_foreground was reduced to 0.\n",
      "n_foreground was reduced to 0.\n",
      "n_foreground was reduced to 0.\n",
      "n_foreground was reduced to 0.\n"
     ]
    },
    {
     "name": "stderr",
     "output_type": "stream",
     "text": [
      " 25%|███████████████████████████████████▎                                                                                                            | 14/57 [07:23<21:29, 29.99s/it]"
     ]
    },
    {
     "name": "stdout",
     "output_type": "stream",
     "text": [
      "n_foreground was reduced to 0.\n",
      "n_foreground was reduced to 0.\n",
      "n_foreground was reduced to 0.\n",
      "n_foreground was reduced to 0.\n",
      "n_foreground was reduced to 0.\n",
      "n_foreground was reduced to 0.\n",
      "n_foreground was reduced to 0.\n",
      "n_foreground was reduced to 0.\n",
      "n_foreground was reduced to 0.\n"
     ]
    },
    {
     "name": "stderr",
     "output_type": "stream",
     "text": [
      " 26%|█████████████████████████████████████▉                                                                                                          | 15/57 [07:53<20:58, 29.95s/it]"
     ]
    },
    {
     "name": "stdout",
     "output_type": "stream",
     "text": [
      "n_foreground was reduced to 0.\n",
      "n_foreground was reduced to 0.\n",
      "n_foreground was reduced to 0.\n",
      "n_foreground was reduced to 0.\n",
      "n_foreground was reduced to 0.\n",
      "n_foreground was reduced to 0.\n",
      "n_foreground was reduced to 0.\n",
      "n_foreground was reduced to 0.\n"
     ]
    },
    {
     "name": "stderr",
     "output_type": "stream",
     "text": [
      " 28%|████████████████████████████████████████▍                                                                                                       | 16/57 [08:23<20:26, 29.93s/it]"
     ]
    },
    {
     "name": "stdout",
     "output_type": "stream",
     "text": [
      "n_foreground was reduced to 0.\n",
      "n_foreground was reduced to 0.\n",
      "n_foreground was reduced to 0.\n",
      "n_foreground was reduced to 0.\n",
      "n_foreground was reduced to 0.\n",
      "n_foreground was reduced to 0.\n",
      "n_foreground was reduced to 0.\n",
      "n_foreground was reduced to 0.\n",
      "n_foreground was reduced to 0.\n",
      "n_foreground was reduced to 0.\n",
      "n_foreground was reduced to 0.\n",
      "n_foreground was reduced to 0.\n",
      "n_foreground was reduced to 0.\n",
      "n_foreground was reduced to 0.\n",
      "n_foreground was reduced to 0.\n",
      "n_foreground was reduced to 0.\n"
     ]
    },
    {
     "name": "stderr",
     "output_type": "stream",
     "text": [
      " 30%|██████████████████████████████████████████▉                                                                                                     | 17/57 [08:53<19:56, 29.91s/it]"
     ]
    },
    {
     "name": "stdout",
     "output_type": "stream",
     "text": [
      "n_foreground was reduced to 0.\n",
      "n_foreground was reduced to 0.\n",
      "n_foreground was reduced to 0.\n",
      "n_foreground was reduced to 0.\n",
      "n_foreground was reduced to 0.\n",
      "n_foreground was reduced to 0.\n",
      "n_foreground was reduced to 0.\n",
      "n_foreground was reduced to 0.\n",
      "n_foreground was reduced to 0.\n",
      "n_foreground was reduced to 0.\n",
      "n_foreground was reduced to 0.\n",
      "n_foreground was reduced to 0.\n",
      "n_foreground was reduced to 0.\n",
      "n_foreground was reduced to 0.\n"
     ]
    },
    {
     "name": "stderr",
     "output_type": "stream",
     "text": [
      " 32%|█████████████████████████████████████████████▍                                                                                                  | 18/57 [09:22<19:25, 29.89s/it]"
     ]
    },
    {
     "name": "stdout",
     "output_type": "stream",
     "text": [
      "n_foreground was reduced to 0.\n",
      "n_foreground was reduced to 0.\n",
      "n_foreground was reduced to 0.\n",
      "n_foreground was reduced to 0.\n"
     ]
    },
    {
     "name": "stderr",
     "output_type": "stream",
     "text": [
      " 33%|████████████████████████████████████████████████                                                                                                | 19/57 [09:52<18:55, 29.88s/it]"
     ]
    },
    {
     "name": "stdout",
     "output_type": "stream",
     "text": [
      "n_foreground was reduced to 0.\n",
      "n_foreground was reduced to 0.\n",
      "n_foreground was reduced to 0.\n",
      "n_foreground was reduced to 0.\n",
      "n_foreground was reduced to 0.\n",
      "n_foreground was reduced to 0.\n",
      "n_foreground was reduced to 0.\n"
     ]
    },
    {
     "name": "stderr",
     "output_type": "stream",
     "text": [
      " 35%|██████████████████████████████████████████████████▌                                                                                             | 20/57 [10:22<18:25, 29.88s/it]"
     ]
    },
    {
     "name": "stdout",
     "output_type": "stream",
     "text": [
      "n_foreground was reduced to 0.\n",
      "n_foreground was reduced to 0.\n",
      "n_foreground was reduced to 0.\n",
      "n_foreground was reduced to 1.\n",
      "n_foreground was reduced to 0.\n"
     ]
    },
    {
     "name": "stderr",
     "output_type": "stream",
     "text": [
      " 37%|█████████████████████████████████████████████████████                                                                                           | 21/57 [10:52<17:56, 29.90s/it]"
     ]
    },
    {
     "name": "stdout",
     "output_type": "stream",
     "text": [
      "n_foreground was reduced to 0.\n",
      "n_foreground was reduced to 0.\n",
      "n_foreground was reduced to 0.\n",
      "n_foreground was reduced to 0.\n",
      "n_foreground was reduced to 0.\n",
      "n_foreground was reduced to 0.\n",
      "n_foreground was reduced to 0.\n",
      "n_foreground was reduced to 0.\n",
      "n_foreground was reduced to 0.\n",
      "n_foreground was reduced to 0.\n",
      "n_foreground was reduced to 0.\n"
     ]
    },
    {
     "name": "stderr",
     "output_type": "stream",
     "text": [
      " 39%|███████████████████████████████████████████████████████▌                                                                                        | 22/57 [11:22<17:26, 29.89s/it]"
     ]
    },
    {
     "name": "stdout",
     "output_type": "stream",
     "text": [
      "n_foreground was reduced to 0.\n",
      "n_foreground was reduced to 0.\n",
      "n_foreground was reduced to 0.\n",
      "n_foreground was reduced to 0.\n",
      "n_foreground was reduced to 0.\n",
      "n_foreground was reduced to 0.\n",
      "n_foreground was reduced to 0.\n",
      "n_foreground was reduced to 0.\n"
     ]
    },
    {
     "name": "stderr",
     "output_type": "stream",
     "text": [
      " 40%|██████████████████████████████████████████████████████████                                                                                      | 23/57 [11:52<16:56, 29.90s/it]"
     ]
    },
    {
     "name": "stdout",
     "output_type": "stream",
     "text": [
      "n_foreground was reduced to 0.\n",
      "n_foreground was reduced to 0.\n"
     ]
    },
    {
     "name": "stderr",
     "output_type": "stream",
     "text": [
      " 42%|████████████████████████████████████████████████████████████▋                                                                                   | 24/57 [12:22<16:26, 29.91s/it]"
     ]
    },
    {
     "name": "stdout",
     "output_type": "stream",
     "text": [
      "n_foreground was reduced to 0.\n",
      "n_foreground was reduced to 0.\n",
      "n_foreground was reduced to 0.\n",
      "n_foreground was reduced to 0.\n",
      "n_foreground was reduced to 0.\n",
      "n_foreground was reduced to 0.\n"
     ]
    },
    {
     "name": "stderr",
     "output_type": "stream",
     "text": [
      " 44%|███████████████████████████████████████████████████████████████▏                                                                                | 25/57 [12:52<15:56, 29.90s/it]"
     ]
    },
    {
     "name": "stdout",
     "output_type": "stream",
     "text": [
      "n_foreground was reduced to 0.\n",
      "n_foreground was reduced to 0.\n",
      "n_foreground was reduced to 0.\n",
      "n_foreground was reduced to 0.\n",
      "n_foreground was reduced to 0.\n",
      "n_foreground was reduced to 0.\n",
      "n_foreground was reduced to 0.\n",
      "n_foreground was reduced to 0.\n",
      "n_foreground was reduced to 0.\n",
      "n_foreground was reduced to 6.\n",
      "n_foreground was reduced to 0.\n"
     ]
    },
    {
     "name": "stderr",
     "output_type": "stream",
     "text": [
      " 46%|█████████████████████████████████████████████████████████████████▋                                                                              | 26/57 [13:22<15:27, 29.90s/it]"
     ]
    },
    {
     "name": "stdout",
     "output_type": "stream",
     "text": [
      "n_foreground was reduced to 0.\n",
      "n_foreground was reduced to 0.\n",
      "n_foreground was reduced to 0.\n",
      "n_foreground was reduced to 0.\n",
      "n_foreground was reduced to 0.\n",
      "n_foreground was reduced to 0.\n",
      "n_foreground was reduced to 0.\n",
      "n_foreground was reduced to 0.\n",
      "n_foreground was reduced to 0.\n",
      "n_foreground was reduced to 0.\n",
      "n_foreground was reduced to 0.\n"
     ]
    },
    {
     "name": "stderr",
     "output_type": "stream",
     "text": [
      " 47%|████████████████████████████████████████████████████████████████████▏                                                                           | 27/57 [13:51<14:57, 29.91s/it]"
     ]
    },
    {
     "name": "stdout",
     "output_type": "stream",
     "text": [
      "n_foreground was reduced to 0.\n",
      "n_foreground was reduced to 0.\n",
      "n_foreground was reduced to 0.\n",
      "n_foreground was reduced to 0.\n",
      "n_foreground was reduced to 0.\n",
      "n_foreground was reduced to 0.\n",
      "n_foreground was reduced to 0.\n",
      "n_foreground was reduced to 0.\n",
      "n_foreground was reduced to 0.\n",
      "n_foreground was reduced to 0.\n",
      "n_foreground was reduced to 0.\n"
     ]
    },
    {
     "name": "stderr",
     "output_type": "stream",
     "text": [
      " 49%|██████████████████████████████████████████████████████████████████████▋                                                                         | 28/57 [14:21<14:27, 29.90s/it]"
     ]
    },
    {
     "name": "stdout",
     "output_type": "stream",
     "text": [
      "n_foreground was reduced to 0.\n",
      "n_foreground was reduced to 0.\n",
      "n_foreground was reduced to 0.\n",
      "n_foreground was reduced to 0.\n",
      "n_foreground was reduced to 0.\n",
      "n_foreground was reduced to 0.\n",
      "n_foreground was reduced to 0.\n",
      "n_foreground was reduced to 0.\n",
      "n_foreground was reduced to 0.\n"
     ]
    },
    {
     "name": "stderr",
     "output_type": "stream",
     "text": [
      " 51%|█████████████████████████████████████████████████████████████████████████▎                                                                      | 29/57 [14:51<13:57, 29.90s/it]"
     ]
    },
    {
     "name": "stdout",
     "output_type": "stream",
     "text": [
      "n_foreground was reduced to 0.\n",
      "n_foreground was reduced to 0.\n",
      "n_foreground was reduced to 0.\n",
      "n_foreground was reduced to 0.\n",
      "n_foreground was reduced to 0.\n",
      "n_foreground was reduced to 0.\n",
      "n_foreground was reduced to 0.\n",
      "n_foreground was reduced to 0.\n",
      "n_foreground was reduced to 0.\n",
      "n_foreground was reduced to 0.\n",
      "n_foreground was reduced to 0.\n",
      "n_foreground was reduced to 0.\n",
      "n_foreground was reduced to 0.\n",
      "n_foreground was reduced to 0.\n",
      "n_foreground was reduced to 0.\n",
      "n_foreground was reduced to 0.\n",
      "n_foreground was reduced to 0.\n",
      "n_foreground was reduced to 0.\n"
     ]
    },
    {
     "name": "stderr",
     "output_type": "stream",
     "text": [
      " 53%|███████████████████████████████████████████████████████████████████████████▊                                                                    | 30/57 [15:21<13:27, 29.89s/it]"
     ]
    },
    {
     "name": "stdout",
     "output_type": "stream",
     "text": [
      "n_foreground was reduced to 0.\n",
      "n_foreground was reduced to 0.\n",
      "n_foreground was reduced to 0.\n",
      "n_foreground was reduced to 0.\n",
      "n_foreground was reduced to 0.\n"
     ]
    },
    {
     "name": "stderr",
     "output_type": "stream",
     "text": [
      " 54%|██████████████████████████████████████████████████████████████████████████████▎                                                                 | 31/57 [15:51<12:57, 29.92s/it]"
     ]
    },
    {
     "name": "stdout",
     "output_type": "stream",
     "text": [
      "n_foreground was reduced to 0.\n",
      "n_foreground was reduced to 0.\n",
      "n_foreground was reduced to 0.\n",
      "n_foreground was reduced to 0.\n",
      "n_foreground was reduced to 0.\n",
      "n_foreground was reduced to 0.\n",
      "n_foreground was reduced to 0.\n",
      "n_foreground was reduced to 7.\n",
      "n_foreground was reduced to 0.\n"
     ]
    },
    {
     "name": "stderr",
     "output_type": "stream",
     "text": [
      " 56%|████████████████████████████████████████████████████████████████████████████████▊                                                               | 32/57 [16:21<12:28, 29.92s/it]"
     ]
    },
    {
     "name": "stdout",
     "output_type": "stream",
     "text": [
      "n_foreground was reduced to 0.\n",
      "n_foreground was reduced to 0.\n",
      "n_foreground was reduced to 0.\n",
      "n_foreground was reduced to 0.\n",
      "n_foreground was reduced to 0.\n",
      "n_foreground was reduced to 0.\n",
      "n_foreground was reduced to 0.\n",
      "n_foreground was reduced to 0.\n"
     ]
    },
    {
     "name": "stderr",
     "output_type": "stream",
     "text": [
      " 58%|███████████████████████████████████████████████████████████████████████████████████▎                                                            | 33/57 [16:51<11:58, 29.93s/it]"
     ]
    },
    {
     "name": "stdout",
     "output_type": "stream",
     "text": [
      "n_foreground was reduced to 0.\n",
      "n_foreground was reduced to 0.\n",
      "n_foreground was reduced to 0.\n",
      "n_foreground was reduced to 0.\n",
      "n_foreground was reduced to 0.\n",
      "n_foreground was reduced to 0.\n",
      "n_foreground was reduced to 0.\n",
      "n_foreground was reduced to 0.\n",
      "n_foreground was reduced to 0.\n",
      "n_foreground was reduced to 0.\n",
      "n_foreground was reduced to 0.\n",
      "n_foreground was reduced to 0.\n",
      "n_foreground was reduced to 0.\n",
      "n_foreground was reduced to 0.\n",
      "n_foreground was reduced to 0.\n",
      "n_foreground was reduced to 0.\n"
     ]
    },
    {
     "name": "stderr",
     "output_type": "stream",
     "text": [
      " 60%|█████████████████████████████████████████████████████████████████████████████████████▉                                                          | 34/57 [17:21<11:28, 29.92s/it]"
     ]
    },
    {
     "name": "stdout",
     "output_type": "stream",
     "text": [
      "n_foreground was reduced to 0.\n",
      "n_foreground was reduced to 0.\n",
      "n_foreground was reduced to 0.\n",
      "n_foreground was reduced to 0.\n",
      "n_foreground was reduced to 0.\n",
      "n_foreground was reduced to 0.\n",
      "n_foreground was reduced to 0.\n",
      "n_foreground was reduced to 0.\n",
      "n_foreground was reduced to 0.\n",
      "n_foreground was reduced to 0.\n",
      "n_foreground was reduced to 0.\n"
     ]
    },
    {
     "name": "stderr",
     "output_type": "stream",
     "text": [
      " 61%|████████████████████████████████████████████████████████████████████████████████████████▍                                                       | 35/57 [17:51<10:58, 29.92s/it]"
     ]
    },
    {
     "name": "stdout",
     "output_type": "stream",
     "text": [
      "n_foreground was reduced to 0.\n",
      "n_foreground was reduced to 0.\n",
      "n_foreground was reduced to 0.\n",
      "n_foreground was reduced to 0.\n",
      "n_foreground was reduced to 0.\n",
      "n_foreground was reduced to 0.\n",
      "n_foreground was reduced to 0.\n",
      "n_foreground was reduced to 0.\n",
      "n_foreground was reduced to 0.\n",
      "n_foreground was reduced to 0.\n",
      "n_foreground was reduced to 0.\n",
      "n_foreground was reduced to 0.\n"
     ]
    },
    {
     "name": "stderr",
     "output_type": "stream",
     "text": [
      " 63%|██████████████████████████████████████████████████████████████████████████████████████████▉                                                     | 36/57 [18:21<10:29, 30.00s/it]"
     ]
    },
    {
     "name": "stdout",
     "output_type": "stream",
     "text": [
      "n_foreground was reduced to 0.\n",
      "n_foreground was reduced to 0.\n",
      "n_foreground was reduced to 4.\n",
      "n_foreground was reduced to 0.\n",
      "n_foreground was reduced to 0.\n",
      "n_foreground was reduced to 0.\n",
      "n_foreground was reduced to 0.\n",
      "n_foreground was reduced to 0.\n",
      "n_foreground was reduced to 0.\n",
      "n_foreground was reduced to 0.\n",
      "n_foreground was reduced to 0.\n",
      "n_foreground was reduced to 0.\n"
     ]
    },
    {
     "name": "stderr",
     "output_type": "stream",
     "text": [
      " 65%|█████████████████████████████████████████████████████████████████████████████████████████████▍                                                  | 37/57 [18:51<09:59, 29.97s/it]"
     ]
    },
    {
     "name": "stdout",
     "output_type": "stream",
     "text": [
      "n_foreground was reduced to 0.\n",
      "n_foreground was reduced to 0.\n",
      "n_foreground was reduced to 0.\n",
      "n_foreground was reduced to 0.\n",
      "n_foreground was reduced to 0.\n",
      "n_foreground was reduced to 0.\n",
      "n_foreground was reduced to 0.\n",
      "n_foreground was reduced to 0.\n",
      "n_foreground was reduced to 0.\n",
      "n_foreground was reduced to 0.\n",
      "n_foreground was reduced to 0.\n"
     ]
    },
    {
     "name": "stderr",
     "output_type": "stream",
     "text": [
      " 67%|████████████████████████████████████████████████████████████████████████████████████████████████                                                | 38/57 [19:21<09:29, 29.97s/it]"
     ]
    },
    {
     "name": "stdout",
     "output_type": "stream",
     "text": [
      "n_foreground was reduced to 0.\n",
      "n_foreground was reduced to 0.\n",
      "n_foreground was reduced to 0.\n",
      "n_foreground was reduced to 0.\n",
      "n_foreground was reduced to 0.\n"
     ]
    },
    {
     "name": "stderr",
     "output_type": "stream",
     "text": [
      " 68%|██████████████████████████████████████████████████████████████████████████████████████████████████▌                                             | 39/57 [19:51<08:59, 29.96s/it]"
     ]
    },
    {
     "name": "stdout",
     "output_type": "stream",
     "text": [
      "n_foreground was reduced to 0.\n",
      "n_foreground was reduced to 0.\n",
      "n_foreground was reduced to 0.\n",
      "n_foreground was reduced to 0.\n",
      "n_foreground was reduced to 0.\n",
      "n_foreground was reduced to 0.\n"
     ]
    },
    {
     "name": "stderr",
     "output_type": "stream",
     "text": [
      " 70%|█████████████████████████████████████████████████████████████████████████████████████████████████████                                           | 40/57 [20:21<08:29, 29.95s/it]"
     ]
    },
    {
     "name": "stdout",
     "output_type": "stream",
     "text": [
      "n_foreground was reduced to 0.\n",
      "n_foreground was reduced to 0.\n",
      "n_foreground was reduced to 0.\n",
      "n_foreground was reduced to 0.\n",
      "n_foreground was reduced to 0.\n",
      "n_foreground was reduced to 0.\n",
      "n_foreground was reduced to 0.\n",
      "n_foreground was reduced to 0.\n",
      "n_foreground was reduced to 0.\n",
      "n_foreground was reduced to 0.\n",
      "n_foreground was reduced to 0.\n",
      "n_foreground was reduced to 0.\n",
      "n_foreground was reduced to 0.\n"
     ]
    },
    {
     "name": "stderr",
     "output_type": "stream",
     "text": [
      " 72%|███████████████████████████████████████████████████████████████████████████████████████████████████████▌                                        | 41/57 [20:51<07:59, 29.95s/it]"
     ]
    },
    {
     "name": "stdout",
     "output_type": "stream",
     "text": [
      "n_foreground was reduced to 0.\n",
      "n_foreground was reduced to 0.\n",
      "n_foreground was reduced to 0.\n",
      "n_foreground was reduced to 0.\n",
      "n_foreground was reduced to 0.\n",
      "n_foreground was reduced to 0.\n",
      "n_foreground was reduced to 0.\n",
      "n_foreground was reduced to 5.\n",
      "n_foreground was reduced to 0.\n",
      "n_foreground was reduced to 0.\n"
     ]
    },
    {
     "name": "stderr",
     "output_type": "stream",
     "text": [
      " 74%|██████████████████████████████████████████████████████████████████████████████████████████████████████████                                      | 42/57 [21:21<07:29, 29.99s/it]"
     ]
    },
    {
     "name": "stdout",
     "output_type": "stream",
     "text": [
      "n_foreground was reduced to 0.\n",
      "n_foreground was reduced to 0.\n",
      "n_foreground was reduced to 0.\n",
      "n_foreground was reduced to 0.\n",
      "n_foreground was reduced to 0.\n"
     ]
    },
    {
     "name": "stderr",
     "output_type": "stream",
     "text": [
      " 75%|████████████████████████████████████████████████████████████████████████████████████████████████████████████▋                                   | 43/57 [21:53<07:08, 30.63s/it]"
     ]
    },
    {
     "name": "stdout",
     "output_type": "stream",
     "text": [
      "n_foreground was reduced to 0.\n",
      "n_foreground was reduced to 0.\n",
      "n_foreground was reduced to 0.\n",
      "n_foreground was reduced to 0.\n",
      "n_foreground was reduced to 0.\n",
      "n_foreground was reduced to 0.\n",
      "n_foreground was reduced to 0.\n",
      "n_foreground was reduced to 0.\n",
      "n_foreground was reduced to 0.\n",
      "n_foreground was reduced to 0.\n"
     ]
    },
    {
     "name": "stderr",
     "output_type": "stream",
     "text": [
      " 77%|███████████████████████████████████████████████████████████████████████████████████████████████████████████████▏                                | 44/57 [22:24<06:41, 30.89s/it]"
     ]
    },
    {
     "name": "stdout",
     "output_type": "stream",
     "text": [
      "n_foreground was reduced to 0.\n",
      "n_foreground was reduced to 0.\n",
      "n_foreground was reduced to 0.\n",
      "n_foreground was reduced to 0.\n",
      "n_foreground was reduced to 0.\n",
      "n_foreground was reduced to 0.\n",
      "n_foreground was reduced to 0.\n"
     ]
    },
    {
     "name": "stderr",
     "output_type": "stream",
     "text": [
      " 79%|█████████████████████████████████████████████████████████████████████████████████████████████████████████████████▋                              | 45/57 [22:56<06:13, 31.08s/it]"
     ]
    },
    {
     "name": "stdout",
     "output_type": "stream",
     "text": [
      "n_foreground was reduced to 0.\n",
      "n_foreground was reduced to 0.\n"
     ]
    },
    {
     "name": "stderr",
     "output_type": "stream",
     "text": [
      " 81%|████████████████████████████████████████████████████████████████████████████████████████████████████████████████████▏                           | 46/57 [23:28<05:44, 31.29s/it]"
     ]
    },
    {
     "name": "stdout",
     "output_type": "stream",
     "text": [
      "n_foreground was reduced to 0.\n",
      "n_foreground was reduced to 0.\n",
      "n_foreground was reduced to 0.\n",
      "n_foreground was reduced to 6.\n",
      "n_foreground was reduced to 0.\n",
      "n_foreground was reduced to 0.\n",
      "n_foreground was reduced to 0.\n",
      "n_foreground was reduced to 0.\n",
      "n_foreground was reduced to 0.\n"
     ]
    },
    {
     "name": "stderr",
     "output_type": "stream",
     "text": [
      " 82%|██████████████████████████████████████████████████████████████████████████████████████████████████████████████████████▋                         | 47/57 [23:59<05:13, 31.32s/it]"
     ]
    },
    {
     "name": "stdout",
     "output_type": "stream",
     "text": [
      "n_foreground was reduced to 0.\n",
      "n_foreground was reduced to 0.\n",
      "n_foreground was reduced to 0.\n",
      "n_foreground was reduced to 0.\n",
      "n_foreground was reduced to 0.\n",
      "n_foreground was reduced to 0.\n",
      "n_foreground was reduced to 0.\n",
      "n_foreground was reduced to 0.\n",
      "n_foreground was reduced to 0.\n",
      "n_foreground was reduced to 0.\n"
     ]
    },
    {
     "name": "stderr",
     "output_type": "stream",
     "text": [
      " 84%|█████████████████████████████████████████████████████████████████████████████████████████████████████████████████████████▎                      | 48/57 [24:31<04:43, 31.50s/it]"
     ]
    },
    {
     "name": "stdout",
     "output_type": "stream",
     "text": [
      "n_foreground was reduced to 0.\n",
      "n_foreground was reduced to 0.\n",
      "n_foreground was reduced to 0.\n",
      "n_foreground was reduced to 0.\n",
      "n_foreground was reduced to 0.\n",
      "n_foreground was reduced to 0.\n",
      "n_foreground was reduced to 0.\n",
      "n_foreground was reduced to 0.\n"
     ]
    },
    {
     "name": "stderr",
     "output_type": "stream",
     "text": [
      " 86%|███████████████████████████████████████████████████████████████████████████████████████████████████████████████████████████▊                    | 49/57 [25:03<04:12, 31.61s/it]"
     ]
    },
    {
     "name": "stdout",
     "output_type": "stream",
     "text": [
      "n_foreground was reduced to 0.\n"
     ]
    },
    {
     "name": "stderr",
     "output_type": "stream",
     "text": [
      " 88%|██████████████████████████████████████████████████████████████████████████████████████████████████████████████████████████████▎                 | 50/57 [25:35<03:41, 31.63s/it]"
     ]
    },
    {
     "name": "stdout",
     "output_type": "stream",
     "text": [
      "n_foreground was reduced to 0.\n",
      "n_foreground was reduced to 0.\n",
      "n_foreground was reduced to 0.\n"
     ]
    },
    {
     "name": "stderr",
     "output_type": "stream",
     "text": [
      " 89%|████████████████████████████████████████████████████████████████████████████████████████████████████████████████████████████████▊               | 51/57 [26:06<03:09, 31.55s/it]"
     ]
    },
    {
     "name": "stdout",
     "output_type": "stream",
     "text": [
      "n_foreground was reduced to 0.\n",
      "n_foreground was reduced to 0.\n",
      "n_foreground was reduced to 0.\n",
      "n_foreground was reduced to 0.\n",
      "n_foreground was reduced to 0.\n",
      "n_foreground was reduced to 0.\n",
      "n_foreground was reduced to 0.\n"
     ]
    },
    {
     "name": "stderr",
     "output_type": "stream",
     "text": [
      " 91%|███████████████████████████████████████████████████████████████████████████████████████████████████████████████████████████████████▎            | 52/57 [26:37<02:37, 31.55s/it]"
     ]
    },
    {
     "name": "stdout",
     "output_type": "stream",
     "text": [
      "n_foreground was reduced to 0.\n",
      "n_foreground was reduced to 0.\n",
      "n_foreground was reduced to 0.\n",
      "n_foreground was reduced to 0.\n",
      "n_foreground was reduced to 0.\n",
      "n_foreground was reduced to 0.\n",
      "n_foreground was reduced to 0.\n",
      "n_foreground was reduced to 0.\n",
      "n_foreground was reduced to 0.\n",
      "n_foreground was reduced to 0.\n"
     ]
    },
    {
     "name": "stderr",
     "output_type": "stream",
     "text": [
      " 93%|█████████████████████████████████████████████████████████████████████████████████████████████████████████████████████████████████████▉          | 53/57 [27:09<02:06, 31.61s/it]"
     ]
    },
    {
     "name": "stdout",
     "output_type": "stream",
     "text": [
      "n_foreground was reduced to 0.\n",
      "n_foreground was reduced to 0.\n",
      "n_foreground was reduced to 0.\n",
      "n_foreground was reduced to 0.\n",
      "n_foreground was reduced to 0.\n",
      "n_foreground was reduced to 0.\n",
      "n_foreground was reduced to 0.\n",
      "n_foreground was reduced to 0.\n",
      "n_foreground was reduced to 0.\n",
      "n_foreground was reduced to 0.\n",
      "n_foreground was reduced to 0.\n",
      "n_foreground was reduced to 0.\n",
      "n_foreground was reduced to 0.\n"
     ]
    },
    {
     "name": "stderr",
     "output_type": "stream",
     "text": [
      " 95%|████████████████████████████████████████████████████████████████████████████████████████████████████████████████████████████████████████▍       | 54/57 [27:41<01:34, 31.67s/it]"
     ]
    },
    {
     "name": "stdout",
     "output_type": "stream",
     "text": [
      "n_foreground was reduced to 0.\n",
      "n_foreground was reduced to 0.\n",
      "n_foreground was reduced to 0.\n",
      "n_foreground was reduced to 0.\n",
      "n_foreground was reduced to 0.\n",
      "n_foreground was reduced to 0.\n"
     ]
    },
    {
     "name": "stderr",
     "output_type": "stream",
     "text": [
      " 96%|██████████████████████████████████████████████████████████████████████████████████████████████████████████████████████████████████████████▉     | 55/57 [28:14<01:04, 32.12s/it]"
     ]
    },
    {
     "name": "stdout",
     "output_type": "stream",
     "text": [
      "n_foreground was reduced to 0.\n",
      "n_foreground was reduced to 0.\n",
      "n_foreground was reduced to 0.\n",
      "n_foreground was reduced to 0.\n",
      "n_foreground was reduced to 0.\n",
      "n_foreground was reduced to 0.\n",
      "n_foreground was reduced to 0.\n",
      "n_foreground was reduced to 0.\n",
      "n_foreground was reduced to 0.\n"
     ]
    },
    {
     "name": "stderr",
     "output_type": "stream",
     "text": [
      " 98%|█████████████████████████████████████████████████████████████████████████████████████████████████████████████████████████████████████████████▍  | 56/57 [28:47<00:32, 32.37s/it]"
     ]
    },
    {
     "name": "stdout",
     "output_type": "stream",
     "text": [
      "n_foreground was reduced to 0.\n",
      "n_foreground was reduced to 0.\n",
      "n_foreground was reduced to 0.\n",
      "n_foreground was reduced to 0.\n",
      "n_foreground was reduced to 0.\n",
      "n_foreground was reduced to 0.\n",
      "n_foreground was reduced to 0.\n",
      "n_foreground was reduced to 0.\n",
      "n_foreground was reduced to 8.\n",
      "n_foreground was reduced to 0.\n",
      "n_foreground was reduced to 0.\n"
     ]
    },
    {
     "name": "stderr",
     "output_type": "stream",
     "text": [
      "100%|████████████████████████████████████████████████████████████████████████████████████████████████████████████████████████████████████████████████| 57/57 [29:14<00:00, 30.78s/it]\n"
     ]
    }
   ],
   "source": [
    "all_masks = []\n",
    "all_prompts = {1:[],2:[],3:[]}\n",
    "scores={}\n",
    "for batch in tqdm(dataloader):\n",
    "    embeddings, ground_truths = batch\n",
    "    prompt_class_1 = []\n",
    "    prompt_class_2 = []\n",
    "    prompt_class_3 = []\n",
    "    for ground_truth in ground_truths:\n",
    "        prompt_class_1.append(batch_sample_from_class(50, ground_truth, 1, n_foreground = 10, n_background= 0))\n",
    "        prompt_class_2.append(batch_sample_from_class(50, ground_truth, 2, n_foreground = 10, n_background= 0))\n",
    "        prompt_class_3.append(batch_sample_from_class(50, ground_truth, 3, n_foreground = 10, n_background= 0))\n",
    "        all_prompts[1].extend(prompt_class_1)\n",
    "        all_prompts[2].extend(prompt_class_2)\n",
    "        all_prompts[3].extend(prompt_class_3)\n",
    "    ana = analyze(embeddings,ground_truths)    \n",
    "    masks= ana.generate_masks(prompt_class_1,prompt_class_2,prompt_class_3,50)\n",
    "    all_masks.append(masks.numpy())\n",
    "    for metric,f in ana.metrics.items():\n",
    "        if metric not in scores.keys():\n",
    "            scores[metric] = ana.scoring_function(f)\n",
    "        else: \n",
    "            scores[metric] = torch.cat([scores[metric],ana.scoring_function(f)],dim = 0)\n",
    "            \n",
    "results = ana.get_results(scores[\"dice_score\"],scores[\"iou\"],scores[\"accuracy\"],(10,0),(10,0),(10,0))\n",
    "re = Results(\"../ACDC\",\"pos_1000\")\n",
    "re.append_row(results)"
   ]
  },
  {
   "cell_type": "code",
   "execution_count": 4,
   "id": "ddcdf904-44dd-4788-aec0-4baebd4bdcc3",
   "metadata": {},
   "outputs": [],
   "source": [
    "file_path = \"../ACDC/\"\n",
    "with open(f\"{file_path}prompts8.pickle\", 'wb') as f1:\n",
    "    pickle.dump(all_prompts, f1)"
   ]
  },
  {
   "cell_type": "code",
   "execution_count": 5,
   "id": "5ec4e29c-5a66-41c8-b7ee-a17b7831b63a",
   "metadata": {},
   "outputs": [],
   "source": [
    "os.mkdir(\"../ACDC/masks8\")\n",
    "for i in range(57):\n",
    "    f = gzip.GzipFile(f\"../ACDC/masks8/batch_{i}.npy.gz\", \"w\")\n",
    "    np.save(f, all_masks[i])"
   ]
  },
  {
   "cell_type": "code",
   "execution_count": 7,
   "id": "d37b033d-8e2b-4180-a579-862d24abf50a",
   "metadata": {},
   "outputs": [],
   "source": [
    "torch.cuda.empty_cache()"
   ]
  },
  {
   "cell_type": "markdown",
   "id": "caebca68-1c49-4a77-aded-ec55cf5ec846",
   "metadata": {},
   "source": [
    "## Pipeline 9\n",
    "- 1 positive point, 1 negative point for class 1\n",
    "- 5 positive points, 1 negative point for class 2\n",
    "- 1 positive point, 1 negative point for class 3"
   ]
  },
  {
   "cell_type": "code",
   "execution_count": 8,
   "id": "1e98d7ef-22ee-4591-87c8-92b1ffd74fba",
   "metadata": {},
   "outputs": [
    {
     "name": "stderr",
     "output_type": "stream",
     "text": [
      "  0%|                                                                                                                                                         | 0/57 [00:00<?, ?it/s]"
     ]
    },
    {
     "name": "stdout",
     "output_type": "stream",
     "text": [
      "n_foreground was reduced to 0.\n",
      "n_foreground was reduced to 0.\n",
      "n_background was reduced to 0.\n",
      "n_foreground was reduced to 0.\n",
      "n_foreground was reduced to 0.\n",
      "n_foreground was reduced to 0.\n",
      "n_foreground was reduced to 0.\n"
     ]
    },
    {
     "name": "stderr",
     "output_type": "stream",
     "text": [
      "  2%|██▌                                                                                                                                              | 1/57 [00:35<32:41, 35.03s/it]"
     ]
    },
    {
     "name": "stdout",
     "output_type": "stream",
     "text": [
      "n_foreground was reduced to 0.\n",
      "n_foreground was reduced to 0.\n",
      "n_background was reduced to 0.\n",
      "n_foreground was reduced to 0.\n",
      "n_foreground was reduced to 0.\n",
      "n_foreground was reduced to 0.\n",
      "n_foreground was reduced to 0.\n",
      "n_foreground was reduced to 0.\n",
      "n_foreground was reduced to 0.\n",
      "n_foreground was reduced to 0.\n",
      "n_background was reduced to 0.\n",
      "n_foreground was reduced to 0.\n",
      "n_foreground was reduced to 0.\n",
      "n_foreground was reduced to 0.\n",
      "n_foreground was reduced to 0.\n",
      "n_foreground was reduced to 0.\n",
      "n_foreground was reduced to 0.\n",
      "n_foreground was reduced to 0.\n"
     ]
    },
    {
     "name": "stderr",
     "output_type": "stream",
     "text": [
      "  4%|█████                                                                                                                                            | 2/57 [01:04<29:16, 31.94s/it]"
     ]
    },
    {
     "name": "stdout",
     "output_type": "stream",
     "text": [
      "n_foreground was reduced to 0.\n",
      "n_foreground was reduced to 0.\n",
      "n_background was reduced to 0.\n",
      "n_foreground was reduced to 0.\n",
      "n_foreground was reduced to 0.\n",
      "n_foreground was reduced to 0.\n"
     ]
    },
    {
     "name": "stderr",
     "output_type": "stream",
     "text": [
      "  5%|███████▋                                                                                                                                         | 3/57 [01:35<28:09, 31.29s/it]"
     ]
    },
    {
     "name": "stdout",
     "output_type": "stream",
     "text": [
      "n_foreground was reduced to 0.\n",
      "n_foreground was reduced to 0.\n",
      "n_background was reduced to 0.\n",
      "n_foreground was reduced to 0.\n",
      "n_foreground was reduced to 0.\n",
      "n_foreground was reduced to 0.\n",
      "n_foreground was reduced to 0.\n",
      "n_foreground was reduced to 0.\n",
      "n_foreground was reduced to 0.\n",
      "n_foreground was reduced to 0.\n",
      "n_foreground was reduced to 0.\n",
      "n_foreground was reduced to 0.\n"
     ]
    },
    {
     "name": "stderr",
     "output_type": "stream",
     "text": [
      "  7%|██████████▏                                                                                                                                      | 4/57 [02:05<27:14, 30.83s/it]"
     ]
    },
    {
     "name": "stdout",
     "output_type": "stream",
     "text": [
      "n_foreground was reduced to 0.\n",
      "n_foreground was reduced to 0.\n",
      "n_foreground was reduced to 0.\n",
      "n_foreground was reduced to 0.\n",
      "n_foreground was reduced to 0.\n",
      "n_foreground was reduced to 0.\n",
      "n_foreground was reduced to 0.\n",
      "n_foreground was reduced to 0.\n",
      "n_foreground was reduced to 0.\n",
      "n_foreground was reduced to 0.\n",
      "n_foreground was reduced to 0.\n",
      "n_foreground was reduced to 0.\n",
      "n_foreground was reduced to 0.\n",
      "n_foreground was reduced to 0.\n",
      "n_foreground was reduced to 0.\n",
      "n_foreground was reduced to 0.\n",
      "n_foreground was reduced to 0.\n"
     ]
    },
    {
     "name": "stderr",
     "output_type": "stream",
     "text": [
      "  9%|████████████▋                                                                                                                                    | 5/57 [02:35<26:25, 30.49s/it]"
     ]
    },
    {
     "name": "stdout",
     "output_type": "stream",
     "text": [
      "n_foreground was reduced to 0.\n",
      "n_foreground was reduced to 0.\n",
      "n_foreground was reduced to 0.\n",
      "n_foreground was reduced to 0.\n",
      "n_foreground was reduced to 0.\n",
      "n_foreground was reduced to 0.\n",
      "n_foreground was reduced to 0.\n"
     ]
    },
    {
     "name": "stderr",
     "output_type": "stream",
     "text": [
      " 11%|███████████████▎                                                                                                                                 | 6/57 [03:05<25:56, 30.52s/it]"
     ]
    },
    {
     "name": "stdout",
     "output_type": "stream",
     "text": [
      "n_foreground was reduced to 0.\n",
      "n_foreground was reduced to 0.\n",
      "n_foreground was reduced to 0.\n",
      "n_background was reduced to 0.\n",
      "n_foreground was reduced to 0.\n",
      "n_foreground was reduced to 0.\n",
      "n_background was reduced to 0.\n",
      "n_foreground was reduced to 0.\n",
      "n_foreground was reduced to 0.\n"
     ]
    },
    {
     "name": "stderr",
     "output_type": "stream",
     "text": [
      " 12%|█████████████████▊                                                                                                                               | 7/57 [03:36<25:25, 30.51s/it]"
     ]
    },
    {
     "name": "stdout",
     "output_type": "stream",
     "text": [
      "n_foreground was reduced to 0.\n",
      "n_foreground was reduced to 0.\n",
      "n_foreground was reduced to 0.\n",
      "n_foreground was reduced to 0.\n",
      "n_foreground was reduced to 0.\n",
      "n_foreground was reduced to 0.\n",
      "n_foreground was reduced to 0.\n",
      "n_foreground was reduced to 0.\n",
      "n_foreground was reduced to 0.\n",
      "n_foreground was reduced to 0.\n",
      "n_foreground was reduced to 0.\n",
      "n_foreground was reduced to 0.\n"
     ]
    },
    {
     "name": "stderr",
     "output_type": "stream",
     "text": [
      " 14%|████████████████████▎                                                                                                                            | 8/57 [04:06<24:49, 30.40s/it]"
     ]
    },
    {
     "name": "stdout",
     "output_type": "stream",
     "text": [
      "n_foreground was reduced to 0.\n",
      "n_foreground was reduced to 0.\n",
      "n_foreground was reduced to 0.\n",
      "n_foreground was reduced to 0.\n"
     ]
    },
    {
     "name": "stderr",
     "output_type": "stream",
     "text": [
      " 16%|██████████████████████▉                                                                                                                          | 9/57 [04:37<24:21, 30.46s/it]"
     ]
    },
    {
     "name": "stdout",
     "output_type": "stream",
     "text": [
      "n_background was reduced to 0.\n",
      "n_foreground was reduced to 0.\n",
      "n_foreground was reduced to 0.\n",
      "n_foreground was reduced to 0.\n",
      "n_foreground was reduced to 0.\n",
      "n_foreground was reduced to 0.\n"
     ]
    },
    {
     "name": "stderr",
     "output_type": "stream",
     "text": [
      " 18%|█████████████████████████▎                                                                                                                      | 10/57 [05:08<24:00, 30.64s/it]"
     ]
    },
    {
     "name": "stdout",
     "output_type": "stream",
     "text": [
      "n_foreground was reduced to 0.\n",
      "n_foreground was reduced to 0.\n"
     ]
    },
    {
     "name": "stderr",
     "output_type": "stream",
     "text": [
      " 19%|███████████████████████████▊                                                                                                                    | 11/57 [05:39<23:31, 30.69s/it]"
     ]
    },
    {
     "name": "stdout",
     "output_type": "stream",
     "text": [
      "n_foreground was reduced to 0.\n",
      "n_foreground was reduced to 0.\n",
      "n_foreground was reduced to 0.\n",
      "n_foreground was reduced to 0.\n",
      "n_foreground was reduced to 0.\n",
      "n_foreground was reduced to 0.\n",
      "n_foreground was reduced to 0.\n",
      "n_background was reduced to 0.\n",
      "n_foreground was reduced to 0.\n"
     ]
    },
    {
     "name": "stderr",
     "output_type": "stream",
     "text": [
      " 21%|██████████████████████████████▎                                                                                                                 | 12/57 [06:09<22:56, 30.58s/it]"
     ]
    },
    {
     "name": "stdout",
     "output_type": "stream",
     "text": [
      "n_foreground was reduced to 0.\n",
      "n_foreground was reduced to 0.\n",
      "n_foreground was reduced to 0.\n",
      "n_foreground was reduced to 0.\n",
      "n_foreground was reduced to 0.\n",
      "n_foreground was reduced to 0.\n",
      "n_foreground was reduced to 0.\n"
     ]
    },
    {
     "name": "stderr",
     "output_type": "stream",
     "text": [
      " 23%|████████████████████████████████▊                                                                                                               | 13/57 [06:39<22:26, 30.60s/it]"
     ]
    },
    {
     "name": "stdout",
     "output_type": "stream",
     "text": [
      "n_foreground was reduced to 0.\n",
      "n_foreground was reduced to 0.\n",
      "n_foreground was reduced to 0.\n",
      "n_foreground was reduced to 0.\n",
      "n_foreground was reduced to 0.\n",
      "n_foreground was reduced to 0.\n"
     ]
    },
    {
     "name": "stderr",
     "output_type": "stream",
     "text": [
      " 25%|███████████████████████████████████▎                                                                                                            | 14/57 [07:10<21:55, 30.59s/it]"
     ]
    },
    {
     "name": "stdout",
     "output_type": "stream",
     "text": [
      "n_background was reduced to 0.\n",
      "n_foreground was reduced to 0.\n",
      "n_foreground was reduced to 0.\n",
      "n_foreground was reduced to 0.\n",
      "n_foreground was reduced to 0.\n",
      "n_foreground was reduced to 0.\n",
      "n_foreground was reduced to 0.\n",
      "n_foreground was reduced to 0.\n",
      "n_background was reduced to 0.\n",
      "n_foreground was reduced to 0.\n",
      "n_foreground was reduced to 0.\n"
     ]
    },
    {
     "name": "stderr",
     "output_type": "stream",
     "text": [
      " 26%|█████████████████████████████████████▉                                                                                                          | 15/57 [07:40<21:22, 30.53s/it]"
     ]
    },
    {
     "name": "stdout",
     "output_type": "stream",
     "text": [
      "n_foreground was reduced to 0.\n",
      "n_foreground was reduced to 0.\n",
      "n_foreground was reduced to 0.\n",
      "n_foreground was reduced to 0.\n",
      "n_foreground was reduced to 0.\n",
      "n_foreground was reduced to 0.\n",
      "n_foreground was reduced to 0.\n",
      "n_foreground was reduced to 0.\n"
     ]
    },
    {
     "name": "stderr",
     "output_type": "stream",
     "text": [
      " 28%|████████████████████████████████████████▍                                                                                                       | 16/57 [08:11<20:50, 30.49s/it]"
     ]
    },
    {
     "name": "stdout",
     "output_type": "stream",
     "text": [
      "n_foreground was reduced to 0.\n",
      "n_foreground was reduced to 0.\n",
      "n_background was reduced to 0.\n",
      "n_foreground was reduced to 0.\n",
      "n_foreground was reduced to 0.\n",
      "n_foreground was reduced to 0.\n",
      "n_foreground was reduced to 0.\n",
      "n_foreground was reduced to 0.\n",
      "n_foreground was reduced to 0.\n",
      "n_foreground was reduced to 0.\n",
      "n_foreground was reduced to 0.\n",
      "n_foreground was reduced to 0.\n",
      "n_foreground was reduced to 0.\n",
      "n_foreground was reduced to 0.\n",
      "n_foreground was reduced to 0.\n",
      "n_background was reduced to 0.\n",
      "n_foreground was reduced to 0.\n",
      "n_foreground was reduced to 0.\n"
     ]
    },
    {
     "name": "stderr",
     "output_type": "stream",
     "text": [
      " 30%|██████████████████████████████████████████▉                                                                                                     | 17/57 [08:41<20:10, 30.27s/it]"
     ]
    },
    {
     "name": "stdout",
     "output_type": "stream",
     "text": [
      "n_foreground was reduced to 0.\n",
      "n_foreground was reduced to 0.\n",
      "n_foreground was reduced to 0.\n",
      "n_foreground was reduced to 0.\n",
      "n_foreground was reduced to 0.\n",
      "n_foreground was reduced to 0.\n",
      "n_foreground was reduced to 0.\n",
      "n_foreground was reduced to 0.\n",
      "n_foreground was reduced to 0.\n",
      "n_foreground was reduced to 0.\n",
      "n_foreground was reduced to 0.\n",
      "n_background was reduced to 0.\n",
      "n_foreground was reduced to 0.\n",
      "n_foreground was reduced to 0.\n",
      "n_foreground was reduced to 0.\n"
     ]
    },
    {
     "name": "stderr",
     "output_type": "stream",
     "text": [
      " 32%|█████████████████████████████████████████████▍                                                                                                  | 18/57 [09:11<19:36, 30.18s/it]"
     ]
    },
    {
     "name": "stdout",
     "output_type": "stream",
     "text": [
      "n_foreground was reduced to 0.\n",
      "n_foreground was reduced to 0.\n",
      "n_foreground was reduced to 0.\n",
      "n_foreground was reduced to 0.\n"
     ]
    },
    {
     "name": "stderr",
     "output_type": "stream",
     "text": [
      " 33%|████████████████████████████████████████████████                                                                                                | 19/57 [09:41<19:12, 30.33s/it]"
     ]
    },
    {
     "name": "stdout",
     "output_type": "stream",
     "text": [
      "n_foreground was reduced to 0.\n",
      "n_foreground was reduced to 0.\n",
      "n_foreground was reduced to 0.\n",
      "n_foreground was reduced to 0.\n",
      "n_foreground was reduced to 0.\n",
      "n_foreground was reduced to 0.\n",
      "n_foreground was reduced to 0.\n"
     ]
    },
    {
     "name": "stderr",
     "output_type": "stream",
     "text": [
      " 35%|██████████████████████████████████████████████████▌                                                                                             | 20/57 [10:12<18:44, 30.39s/it]"
     ]
    },
    {
     "name": "stdout",
     "output_type": "stream",
     "text": [
      "n_foreground was reduced to 0.\n",
      "n_foreground was reduced to 0.\n",
      "n_foreground was reduced to 0.\n",
      "n_foreground was reduced to 0.\n"
     ]
    },
    {
     "name": "stderr",
     "output_type": "stream",
     "text": [
      " 37%|█████████████████████████████████████████████████████                                                                                           | 21/57 [10:43<18:19, 30.53s/it]"
     ]
    },
    {
     "name": "stdout",
     "output_type": "stream",
     "text": [
      "n_foreground was reduced to 0.\n",
      "n_foreground was reduced to 0.\n",
      "n_foreground was reduced to 0.\n",
      "n_foreground was reduced to 0.\n",
      "n_foreground was reduced to 0.\n",
      "n_foreground was reduced to 0.\n",
      "n_foreground was reduced to 0.\n",
      "n_background was reduced to 0.\n",
      "n_foreground was reduced to 0.\n",
      "n_foreground was reduced to 0.\n",
      "n_foreground was reduced to 0.\n",
      "n_foreground was reduced to 0.\n"
     ]
    },
    {
     "name": "stderr",
     "output_type": "stream",
     "text": [
      " 39%|███████████████████████████████████████████████████████▌                                                                                        | 22/57 [11:13<17:45, 30.44s/it]"
     ]
    },
    {
     "name": "stdout",
     "output_type": "stream",
     "text": [
      "n_foreground was reduced to 0.\n",
      "n_foreground was reduced to 0.\n",
      "n_foreground was reduced to 0.\n",
      "n_foreground was reduced to 0.\n",
      "n_foreground was reduced to 0.\n",
      "n_foreground was reduced to 0.\n",
      "n_foreground was reduced to 0.\n",
      "n_foreground was reduced to 0.\n"
     ]
    },
    {
     "name": "stderr",
     "output_type": "stream",
     "text": [
      " 40%|██████████████████████████████████████████████████████████                                                                                      | 23/57 [11:43<17:14, 30.42s/it]"
     ]
    },
    {
     "name": "stdout",
     "output_type": "stream",
     "text": [
      "n_foreground was reduced to 0.\n",
      "n_foreground was reduced to 0.\n"
     ]
    },
    {
     "name": "stderr",
     "output_type": "stream",
     "text": [
      " 42%|████████████████████████████████████████████████████████████▋                                                                                   | 24/57 [12:14<16:49, 30.58s/it]"
     ]
    },
    {
     "name": "stdout",
     "output_type": "stream",
     "text": [
      "n_background was reduced to 0.\n",
      "n_foreground was reduced to 0.\n",
      "n_foreground was reduced to 0.\n",
      "n_background was reduced to 0.\n",
      "n_foreground was reduced to 0.\n",
      "n_foreground was reduced to 0.\n",
      "n_foreground was reduced to 0.\n",
      "n_foreground was reduced to 0.\n"
     ]
    },
    {
     "name": "stderr",
     "output_type": "stream",
     "text": [
      " 44%|███████████████████████████████████████████████████████████████▏                                                                                | 25/57 [12:45<16:18, 30.58s/it]"
     ]
    },
    {
     "name": "stdout",
     "output_type": "stream",
     "text": [
      "n_foreground was reduced to 0.\n",
      "n_foreground was reduced to 0.\n",
      "n_foreground was reduced to 0.\n",
      "n_background was reduced to 0.\n",
      "n_foreground was reduced to 0.\n",
      "n_foreground was reduced to 0.\n",
      "n_foreground was reduced to 0.\n",
      "n_foreground was reduced to 0.\n",
      "n_background was reduced to 0.\n",
      "n_foreground was reduced to 0.\n",
      "n_foreground was reduced to 0.\n",
      "n_foreground was reduced to 0.\n"
     ]
    },
    {
     "name": "stderr",
     "output_type": "stream",
     "text": [
      " 46%|█████████████████████████████████████████████████████████████████▋                                                                              | 26/57 [13:15<15:46, 30.52s/it]"
     ]
    },
    {
     "name": "stdout",
     "output_type": "stream",
     "text": [
      "n_foreground was reduced to 0.\n",
      "n_foreground was reduced to 0.\n",
      "n_foreground was reduced to 0.\n",
      "n_foreground was reduced to 0.\n",
      "n_foreground was reduced to 0.\n",
      "n_background was reduced to 0.\n",
      "n_foreground was reduced to 0.\n",
      "n_foreground was reduced to 0.\n",
      "n_foreground was reduced to 0.\n",
      "n_foreground was reduced to 0.\n",
      "n_background was reduced to 0.\n",
      "n_foreground was reduced to 0.\n",
      "n_foreground was reduced to 0.\n"
     ]
    },
    {
     "name": "stderr",
     "output_type": "stream",
     "text": [
      " 47%|████████████████████████████████████████████████████████████████████▏                                                                           | 27/57 [13:45<15:13, 30.45s/it]"
     ]
    },
    {
     "name": "stdout",
     "output_type": "stream",
     "text": [
      "n_foreground was reduced to 0.\n",
      "n_foreground was reduced to 0.\n",
      "n_foreground was reduced to 0.\n",
      "n_background was reduced to 0.\n",
      "n_foreground was reduced to 0.\n",
      "n_foreground was reduced to 0.\n",
      "n_foreground was reduced to 0.\n",
      "n_foreground was reduced to 0.\n",
      "n_foreground was reduced to 0.\n",
      "n_background was reduced to 0.\n",
      "n_foreground was reduced to 0.\n",
      "n_foreground was reduced to 0.\n",
      "n_background was reduced to 0.\n",
      "n_foreground was reduced to 0.\n"
     ]
    },
    {
     "name": "stderr",
     "output_type": "stream",
     "text": [
      " 49%|██████████████████████████████████████████████████████████████████████▋                                                                         | 28/57 [14:16<14:41, 30.41s/it]"
     ]
    },
    {
     "name": "stdout",
     "output_type": "stream",
     "text": [
      "n_foreground was reduced to 0.\n",
      "n_foreground was reduced to 0.\n",
      "n_foreground was reduced to 0.\n",
      "n_background was reduced to 0.\n",
      "n_foreground was reduced to 0.\n",
      "n_foreground was reduced to 0.\n",
      "n_foreground was reduced to 0.\n",
      "n_foreground was reduced to 0.\n",
      "n_foreground was reduced to 0.\n",
      "n_foreground was reduced to 0.\n"
     ]
    },
    {
     "name": "stderr",
     "output_type": "stream",
     "text": [
      " 51%|█████████████████████████████████████████████████████████████████████████▎                                                                      | 29/57 [14:46<14:12, 30.43s/it]"
     ]
    },
    {
     "name": "stdout",
     "output_type": "stream",
     "text": [
      "n_foreground was reduced to 0.\n",
      "n_foreground was reduced to 0.\n",
      "n_foreground was reduced to 0.\n",
      "n_foreground was reduced to 0.\n",
      "n_foreground was reduced to 0.\n",
      "n_foreground was reduced to 0.\n",
      "n_foreground was reduced to 0.\n",
      "n_foreground was reduced to 0.\n",
      "n_foreground was reduced to 0.\n",
      "n_foreground was reduced to 0.\n",
      "n_foreground was reduced to 0.\n",
      "n_foreground was reduced to 0.\n",
      "n_foreground was reduced to 0.\n",
      "n_foreground was reduced to 0.\n",
      "n_foreground was reduced to 0.\n",
      "n_foreground was reduced to 0.\n",
      "n_foreground was reduced to 0.\n",
      "n_background was reduced to 0.\n",
      "n_foreground was reduced to 0.\n"
     ]
    },
    {
     "name": "stderr",
     "output_type": "stream",
     "text": [
      " 53%|███████████████████████████████████████████████████████████████████████████▊                                                                    | 30/57 [15:17<13:40, 30.38s/it]"
     ]
    },
    {
     "name": "stdout",
     "output_type": "stream",
     "text": [
      "n_foreground was reduced to 0.\n",
      "n_foreground was reduced to 0.\n",
      "n_foreground was reduced to 0.\n",
      "n_foreground was reduced to 0.\n",
      "n_foreground was reduced to 0.\n"
     ]
    },
    {
     "name": "stderr",
     "output_type": "stream",
     "text": [
      " 54%|██████████████████████████████████████████████████████████████████████████████▎                                                                 | 31/57 [15:47<13:13, 30.51s/it]"
     ]
    },
    {
     "name": "stdout",
     "output_type": "stream",
     "text": [
      "n_background was reduced to 0.\n",
      "n_foreground was reduced to 0.\n",
      "n_foreground was reduced to 0.\n",
      "n_foreground was reduced to 0.\n",
      "n_foreground was reduced to 0.\n",
      "n_background was reduced to 0.\n",
      "n_foreground was reduced to 0.\n",
      "n_foreground was reduced to 0.\n",
      "n_foreground was reduced to 0.\n",
      "n_foreground was reduced to 0.\n"
     ]
    },
    {
     "name": "stderr",
     "output_type": "stream",
     "text": [
      " 56%|████████████████████████████████████████████████████████████████████████████████▊                                                               | 32/57 [16:18<12:46, 30.65s/it]"
     ]
    },
    {
     "name": "stdout",
     "output_type": "stream",
     "text": [
      "n_foreground was reduced to 0.\n",
      "n_foreground was reduced to 0.\n",
      "n_foreground was reduced to 0.\n",
      "n_foreground was reduced to 0.\n",
      "n_foreground was reduced to 0.\n",
      "n_foreground was reduced to 0.\n",
      "n_foreground was reduced to 0.\n",
      "n_foreground was reduced to 0.\n"
     ]
    },
    {
     "name": "stderr",
     "output_type": "stream",
     "text": [
      " 58%|███████████████████████████████████████████████████████████████████████████████████▎                                                            | 33/57 [16:49<12:15, 30.65s/it]"
     ]
    },
    {
     "name": "stdout",
     "output_type": "stream",
     "text": [
      "n_foreground was reduced to 0.\n",
      "n_foreground was reduced to 0.\n",
      "n_foreground was reduced to 0.\n",
      "n_foreground was reduced to 0.\n",
      "n_foreground was reduced to 0.\n",
      "n_foreground was reduced to 0.\n",
      "n_foreground was reduced to 0.\n",
      "n_foreground was reduced to 0.\n",
      "n_background was reduced to 0.\n",
      "n_foreground was reduced to 0.\n",
      "n_foreground was reduced to 0.\n",
      "n_foreground was reduced to 0.\n",
      "n_foreground was reduced to 0.\n",
      "n_foreground was reduced to 0.\n",
      "n_foreground was reduced to 0.\n",
      "n_foreground was reduced to 0.\n",
      "n_foreground was reduced to 0.\n"
     ]
    },
    {
     "name": "stderr",
     "output_type": "stream",
     "text": [
      " 60%|█████████████████████████████████████████████████████████████████████████████████████▉                                                          | 34/57 [17:19<11:39, 30.42s/it]"
     ]
    },
    {
     "name": "stdout",
     "output_type": "stream",
     "text": [
      "n_foreground was reduced to 0.\n",
      "n_foreground was reduced to 0.\n",
      "n_background was reduced to 0.\n",
      "n_foreground was reduced to 0.\n",
      "n_foreground was reduced to 0.\n",
      "n_foreground was reduced to 0.\n",
      "n_background was reduced to 0.\n",
      "n_foreground was reduced to 0.\n",
      "n_foreground was reduced to 0.\n",
      "n_foreground was reduced to 0.\n",
      "n_foreground was reduced to 0.\n",
      "n_foreground was reduced to 0.\n",
      "n_foreground was reduced to 0.\n"
     ]
    },
    {
     "name": "stderr",
     "output_type": "stream",
     "text": [
      " 61%|████████████████████████████████████████████████████████████████████████████████████████▍                                                       | 35/57 [17:49<11:07, 30.36s/it]"
     ]
    },
    {
     "name": "stdout",
     "output_type": "stream",
     "text": [
      "n_foreground was reduced to 0.\n",
      "n_foreground was reduced to 0.\n",
      "n_foreground was reduced to 0.\n",
      "n_foreground was reduced to 0.\n",
      "n_foreground was reduced to 0.\n",
      "n_foreground was reduced to 0.\n",
      "n_foreground was reduced to 0.\n",
      "n_foreground was reduced to 0.\n",
      "n_foreground was reduced to 0.\n",
      "n_foreground was reduced to 0.\n",
      "n_foreground was reduced to 0.\n",
      "n_foreground was reduced to 0.\n"
     ]
    },
    {
     "name": "stderr",
     "output_type": "stream",
     "text": [
      " 63%|██████████████████████████████████████████████████████████████████████████████████████████▉                                                     | 36/57 [18:20<10:39, 30.45s/it]"
     ]
    },
    {
     "name": "stdout",
     "output_type": "stream",
     "text": [
      "n_foreground was reduced to 0.\n",
      "n_foreground was reduced to 0.\n",
      "n_foreground was reduced to 0.\n",
      "n_foreground was reduced to 0.\n",
      "n_foreground was reduced to 0.\n",
      "n_foreground was reduced to 0.\n",
      "n_foreground was reduced to 0.\n",
      "n_foreground was reduced to 0.\n",
      "n_foreground was reduced to 0.\n",
      "n_foreground was reduced to 0.\n",
      "n_foreground was reduced to 0.\n"
     ]
    },
    {
     "name": "stderr",
     "output_type": "stream",
     "text": [
      " 65%|█████████████████████████████████████████████████████████████████████████████████████████████▍                                                  | 37/57 [18:50<10:10, 30.52s/it]"
     ]
    },
    {
     "name": "stdout",
     "output_type": "stream",
     "text": [
      "n_foreground was reduced to 0.\n",
      "n_foreground was reduced to 0.\n",
      "n_foreground was reduced to 0.\n",
      "n_foreground was reduced to 0.\n",
      "n_foreground was reduced to 0.\n",
      "n_foreground was reduced to 0.\n",
      "n_foreground was reduced to 0.\n",
      "n_foreground was reduced to 0.\n",
      "n_foreground was reduced to 0.\n",
      "n_foreground was reduced to 0.\n",
      "n_foreground was reduced to 0.\n"
     ]
    },
    {
     "name": "stderr",
     "output_type": "stream",
     "text": [
      " 67%|████████████████████████████████████████████████████████████████████████████████████████████████                                                | 38/57 [19:21<09:39, 30.51s/it]"
     ]
    },
    {
     "name": "stdout",
     "output_type": "stream",
     "text": [
      "n_foreground was reduced to 0.\n",
      "n_foreground was reduced to 0.\n",
      "n_foreground was reduced to 0.\n",
      "n_foreground was reduced to 0.\n",
      "n_foreground was reduced to 0.\n"
     ]
    },
    {
     "name": "stderr",
     "output_type": "stream",
     "text": [
      " 68%|██████████████████████████████████████████████████████████████████████████████████████████████████▌                                             | 39/57 [19:52<09:10, 30.61s/it]"
     ]
    },
    {
     "name": "stdout",
     "output_type": "stream",
     "text": [
      "n_foreground was reduced to 0.\n",
      "n_foreground was reduced to 0.\n",
      "n_foreground was reduced to 0.\n",
      "n_foreground was reduced to 0.\n",
      "n_foreground was reduced to 0.\n",
      "n_foreground was reduced to 0.\n"
     ]
    },
    {
     "name": "stderr",
     "output_type": "stream",
     "text": [
      " 70%|█████████████████████████████████████████████████████████████████████████████████████████████████████                                           | 40/57 [20:23<08:42, 30.71s/it]"
     ]
    },
    {
     "name": "stdout",
     "output_type": "stream",
     "text": [
      "n_foreground was reduced to 0.\n",
      "n_foreground was reduced to 0.\n",
      "n_foreground was reduced to 0.\n",
      "n_foreground was reduced to 0.\n",
      "n_foreground was reduced to 0.\n",
      "n_foreground was reduced to 0.\n",
      "n_foreground was reduced to 0.\n",
      "n_background was reduced to 0.\n",
      "n_foreground was reduced to 0.\n",
      "n_foreground was reduced to 0.\n",
      "n_foreground was reduced to 0.\n",
      "n_foreground was reduced to 0.\n",
      "n_background was reduced to 0.\n",
      "n_foreground was reduced to 0.\n",
      "n_foreground was reduced to 0.\n"
     ]
    },
    {
     "name": "stderr",
     "output_type": "stream",
     "text": [
      " 72%|███████████████████████████████████████████████████████████████████████████████████████████████████████▌                                        | 41/57 [20:53<08:08, 30.54s/it]"
     ]
    },
    {
     "name": "stdout",
     "output_type": "stream",
     "text": [
      "n_foreground was reduced to 0.\n",
      "n_background was reduced to 0.\n",
      "n_foreground was reduced to 0.\n",
      "n_foreground was reduced to 0.\n",
      "n_foreground was reduced to 0.\n",
      "n_foreground was reduced to 0.\n",
      "n_foreground was reduced to 0.\n",
      "n_foreground was reduced to 0.\n",
      "n_foreground was reduced to 0.\n",
      "n_foreground was reduced to 0.\n"
     ]
    },
    {
     "name": "stderr",
     "output_type": "stream",
     "text": [
      " 74%|██████████████████████████████████████████████████████████████████████████████████████████████████████████                                      | 42/57 [21:23<07:37, 30.53s/it]"
     ]
    },
    {
     "name": "stdout",
     "output_type": "stream",
     "text": [
      "n_background was reduced to 0.\n",
      "n_foreground was reduced to 0.\n",
      "n_foreground was reduced to 0.\n",
      "n_foreground was reduced to 0.\n",
      "n_foreground was reduced to 0.\n",
      "n_foreground was reduced to 0.\n"
     ]
    },
    {
     "name": "stderr",
     "output_type": "stream",
     "text": [
      " 75%|████████████████████████████████████████████████████████████████████████████████████████████████████████████▋                                   | 43/57 [21:54<07:08, 30.60s/it]"
     ]
    },
    {
     "name": "stdout",
     "output_type": "stream",
     "text": [
      "n_foreground was reduced to 0.\n",
      "n_foreground was reduced to 0.\n",
      "n_foreground was reduced to 0.\n",
      "n_foreground was reduced to 0.\n",
      "n_foreground was reduced to 0.\n",
      "n_foreground was reduced to 0.\n",
      "n_foreground was reduced to 0.\n",
      "n_foreground was reduced to 0.\n",
      "n_foreground was reduced to 0.\n",
      "n_background was reduced to 0.\n",
      "n_foreground was reduced to 0.\n"
     ]
    },
    {
     "name": "stderr",
     "output_type": "stream",
     "text": [
      " 77%|███████████████████████████████████████████████████████████████████████████████████████████████████████████████▏                                | 44/57 [22:25<06:37, 30.57s/it]"
     ]
    },
    {
     "name": "stdout",
     "output_type": "stream",
     "text": [
      "n_foreground was reduced to 0.\n",
      "n_foreground was reduced to 0.\n",
      "n_background was reduced to 0.\n",
      "n_foreground was reduced to 0.\n",
      "n_foreground was reduced to 0.\n",
      "n_foreground was reduced to 0.\n",
      "n_foreground was reduced to 0.\n",
      "n_foreground was reduced to 0.\n"
     ]
    },
    {
     "name": "stderr",
     "output_type": "stream",
     "text": [
      " 79%|█████████████████████████████████████████████████████████████████████████████████████████████████████████████████▋                              | 45/57 [22:55<06:07, 30.61s/it]"
     ]
    },
    {
     "name": "stdout",
     "output_type": "stream",
     "text": [
      "n_background was reduced to 0.\n",
      "n_foreground was reduced to 0.\n",
      "n_foreground was reduced to 0.\n"
     ]
    },
    {
     "name": "stderr",
     "output_type": "stream",
     "text": [
      " 81%|████████████████████████████████████████████████████████████████████████████████████████████████████████████████████▏                           | 46/57 [23:26<05:38, 30.73s/it]"
     ]
    },
    {
     "name": "stdout",
     "output_type": "stream",
     "text": [
      "n_background was reduced to 0.\n",
      "n_foreground was reduced to 0.\n",
      "n_foreground was reduced to 0.\n",
      "n_foreground was reduced to 0.\n",
      "n_foreground was reduced to 0.\n",
      "n_foreground was reduced to 0.\n",
      "n_foreground was reduced to 0.\n",
      "n_foreground was reduced to 0.\n",
      "n_foreground was reduced to 0.\n"
     ]
    },
    {
     "name": "stderr",
     "output_type": "stream",
     "text": [
      " 82%|██████████████████████████████████████████████████████████████████████████████████████████████████████████████████████▋                         | 47/57 [23:57<05:07, 30.73s/it]"
     ]
    },
    {
     "name": "stdout",
     "output_type": "stream",
     "text": [
      "n_foreground was reduced to 0.\n",
      "n_foreground was reduced to 0.\n",
      "n_background was reduced to 0.\n",
      "n_foreground was reduced to 0.\n",
      "n_foreground was reduced to 0.\n",
      "n_foreground was reduced to 0.\n",
      "n_foreground was reduced to 0.\n",
      "n_foreground was reduced to 0.\n",
      "n_foreground was reduced to 0.\n",
      "n_foreground was reduced to 0.\n",
      "n_foreground was reduced to 0.\n"
     ]
    },
    {
     "name": "stderr",
     "output_type": "stream",
     "text": [
      " 84%|█████████████████████████████████████████████████████████████████████████████████████████████████████████████████████████▎                      | 48/57 [24:31<04:44, 31.63s/it]"
     ]
    },
    {
     "name": "stdout",
     "output_type": "stream",
     "text": [
      "n_foreground was reduced to 0.\n",
      "n_foreground was reduced to 0.\n",
      "n_foreground was reduced to 0.\n",
      "n_foreground was reduced to 0.\n",
      "n_foreground was reduced to 0.\n",
      "n_foreground was reduced to 0.\n",
      "n_background was reduced to 0.\n",
      "n_foreground was reduced to 0.\n",
      "n_foreground was reduced to 0.\n"
     ]
    },
    {
     "name": "stderr",
     "output_type": "stream",
     "text": [
      " 86%|███████████████████████████████████████████████████████████████████████████████████████████████████████████████████████████▊                    | 49/57 [25:04<04:15, 31.99s/it]"
     ]
    },
    {
     "name": "stdout",
     "output_type": "stream",
     "text": [
      "n_foreground was reduced to 0.\n"
     ]
    },
    {
     "name": "stderr",
     "output_type": "stream",
     "text": [
      " 88%|██████████████████████████████████████████████████████████████████████████████████████████████████████████████████████████████▎                 | 50/57 [25:36<03:45, 32.26s/it]"
     ]
    },
    {
     "name": "stdout",
     "output_type": "stream",
     "text": [
      "n_foreground was reduced to 0.\n",
      "n_foreground was reduced to 0.\n",
      "n_foreground was reduced to 0.\n"
     ]
    },
    {
     "name": "stderr",
     "output_type": "stream",
     "text": [
      " 89%|████████████████████████████████████████████████████████████████████████████████████████████████████████████████████████████████▊               | 51/57 [26:09<03:14, 32.42s/it]"
     ]
    },
    {
     "name": "stdout",
     "output_type": "stream",
     "text": [
      "n_background was reduced to 0.\n",
      "n_foreground was reduced to 0.\n",
      "n_foreground was reduced to 0.\n",
      "n_foreground was reduced to 0.\n",
      "n_foreground was reduced to 0.\n",
      "n_foreground was reduced to 0.\n",
      "n_foreground was reduced to 0.\n",
      "n_foreground was reduced to 0.\n"
     ]
    },
    {
     "name": "stderr",
     "output_type": "stream",
     "text": [
      " 91%|███████████████████████████████████████████████████████████████████████████████████████████████████████████████████████████████████▎            | 52/57 [26:42<02:43, 32.62s/it]"
     ]
    },
    {
     "name": "stdout",
     "output_type": "stream",
     "text": [
      "n_foreground was reduced to 0.\n",
      "n_foreground was reduced to 0.\n",
      "n_foreground was reduced to 0.\n",
      "n_foreground was reduced to 0.\n",
      "n_background was reduced to 0.\n",
      "n_foreground was reduced to 0.\n",
      "n_foreground was reduced to 0.\n",
      "n_background was reduced to 0.\n",
      "n_foreground was reduced to 0.\n",
      "n_foreground was reduced to 0.\n",
      "n_foreground was reduced to 0.\n",
      "n_foreground was reduced to 0.\n"
     ]
    },
    {
     "name": "stderr",
     "output_type": "stream",
     "text": [
      " 93%|█████████████████████████████████████████████████████████████████████████████████████████████████████████████████████████████████████▉          | 53/57 [27:15<02:11, 32.77s/it]"
     ]
    },
    {
     "name": "stdout",
     "output_type": "stream",
     "text": [
      "n_foreground was reduced to 0.\n",
      "n_background was reduced to 0.\n",
      "n_foreground was reduced to 0.\n",
      "n_foreground was reduced to 0.\n",
      "n_foreground was reduced to 0.\n",
      "n_foreground was reduced to 0.\n",
      "n_foreground was reduced to 0.\n",
      "n_foreground was reduced to 0.\n",
      "n_foreground was reduced to 0.\n",
      "n_foreground was reduced to 0.\n",
      "n_foreground was reduced to 0.\n",
      "n_foreground was reduced to 0.\n",
      "n_foreground was reduced to 0.\n",
      "n_foreground was reduced to 0.\n"
     ]
    },
    {
     "name": "stderr",
     "output_type": "stream",
     "text": [
      " 95%|████████████████████████████████████████████████████████████████████████████████████████████████████████████████████████████████████████▍       | 54/57 [27:49<01:38, 32.89s/it]"
     ]
    },
    {
     "name": "stdout",
     "output_type": "stream",
     "text": [
      "n_foreground was reduced to 0.\n",
      "n_foreground was reduced to 0.\n",
      "n_background was reduced to 0.\n",
      "n_foreground was reduced to 0.\n",
      "n_foreground was reduced to 0.\n",
      "n_foreground was reduced to 0.\n",
      "n_foreground was reduced to 0.\n"
     ]
    },
    {
     "name": "stderr",
     "output_type": "stream",
     "text": [
      " 96%|██████████████████████████████████████████████████████████████████████████████████████████████████████████████████████████████████████████▉     | 55/57 [28:23<01:06, 33.26s/it]"
     ]
    },
    {
     "name": "stdout",
     "output_type": "stream",
     "text": [
      "n_foreground was reduced to 0.\n",
      "n_foreground was reduced to 0.\n",
      "n_background was reduced to 0.\n",
      "n_foreground was reduced to 0.\n",
      "n_foreground was reduced to 0.\n",
      "n_foreground was reduced to 0.\n",
      "n_background was reduced to 0.\n",
      "n_foreground was reduced to 0.\n",
      "n_foreground was reduced to 0.\n",
      "n_foreground was reduced to 0.\n",
      "n_foreground was reduced to 0.\n"
     ]
    },
    {
     "name": "stderr",
     "output_type": "stream",
     "text": [
      " 98%|█████████████████████████████████████████████████████████████████████████████████████████████████████████████████████████████████████████████▍  | 56/57 [28:57<00:33, 33.48s/it]"
     ]
    },
    {
     "name": "stdout",
     "output_type": "stream",
     "text": [
      "n_foreground was reduced to 0.\n",
      "n_foreground was reduced to 0.\n",
      "n_background was reduced to 0.\n",
      "n_foreground was reduced to 0.\n",
      "n_foreground was reduced to 0.\n",
      "n_background was reduced to 0.\n",
      "n_foreground was reduced to 0.\n",
      "n_foreground was reduced to 0.\n",
      "n_background was reduced to 0.\n",
      "n_foreground was reduced to 0.\n",
      "n_foreground was reduced to 0.\n",
      "n_background was reduced to 0.\n",
      "n_foreground was reduced to 0.\n",
      "n_foreground was reduced to 0.\n"
     ]
    },
    {
     "name": "stderr",
     "output_type": "stream",
     "text": [
      "100%|████████████████████████████████████████████████████████████████████████████████████████████████████████████████████████████████████████████████| 57/57 [29:25<00:00, 30.97s/it]\n"
     ]
    }
   ],
   "source": [
    "all_masks = []\n",
    "all_prompts = {1:[],2:[],3:[]}\n",
    "scores={}\n",
    "for batch in tqdm(dataloader):\n",
    "    embeddings, ground_truths = batch\n",
    "    prompt_class_1 = []\n",
    "    prompt_class_2 = []\n",
    "    prompt_class_3 = []\n",
    "    for ground_truth in ground_truths:\n",
    "        prompt_class_1.append(batch_sample_from_class(50, ground_truth, 1, n_foreground = 1, n_background= 1))\n",
    "        prompt_class_2.append(batch_sample_from_class(50, ground_truth, 2, n_foreground = 5, n_background= 1))\n",
    "        prompt_class_3.append(batch_sample_from_class(50, ground_truth, 3, n_foreground = 1, n_background= 1))\n",
    "        all_prompts[1].extend(prompt_class_1)\n",
    "        all_prompts[2].extend(prompt_class_2)\n",
    "        all_prompts[3].extend(prompt_class_3)\n",
    "    ana = analyze(embeddings,ground_truths)    \n",
    "    masks= ana.generate_masks(prompt_class_1,prompt_class_2,prompt_class_3,50)\n",
    "    all_masks.append(masks.numpy())\n",
    "    for metric,f in ana.metrics.items():\n",
    "        if metric not in scores.keys():\n",
    "            scores[metric] = ana.scoring_function(f)\n",
    "        else: \n",
    "            scores[metric] = torch.cat([scores[metric],ana.scoring_function(f)],dim = 0)\n",
    "            \n",
    "results = ana.get_results(scores[\"dice_score\"],scores[\"iou\"],scores[\"accuracy\"],(1,1),(5,1),(1,1))\n",
    "re = Results(\"../ACDC\",\"neg_pos_mixed\")\n",
    "re.append_row(results)"
   ]
  },
  {
   "cell_type": "code",
   "execution_count": 9,
   "id": "9af41fdc-9963-4a37-acf3-66b9632ab6dd",
   "metadata": {},
   "outputs": [],
   "source": [
    "file_path = \"../ACDC/\"\n",
    "with open(f\"{file_path}prompts9.pickle\", 'wb') as f1:\n",
    "    pickle.dump(all_prompts, f1)"
   ]
  },
  {
   "cell_type": "code",
   "execution_count": 10,
   "id": "20f2cfb0-ecf0-49e2-9aef-776a40b190e4",
   "metadata": {},
   "outputs": [],
   "source": [
    "os.mkdir(\"../ACDC/masks9\")\n",
    "for i in range(57):\n",
    "    f = gzip.GzipFile(f\"../ACDC/masks9/batch_{i}.npy.gz\", \"w\")\n",
    "    np.save(f, all_masks[i])"
   ]
  },
  {
   "cell_type": "code",
   "execution_count": null,
   "id": "14ec022f-cbb0-4240-ae93-b81bc52c22a5",
   "metadata": {},
   "outputs": [],
   "source": []
  }
 ],
 "metadata": {
  "kernelspec": {
   "display_name": "Python 3 (ipykernel)",
   "language": "python",
   "name": "python3"
  },
  "language_info": {
   "codemirror_mode": {
    "name": "ipython",
    "version": 3
   },
   "file_extension": ".py",
   "mimetype": "text/x-python",
   "name": "python",
   "nbconvert_exporter": "python",
   "pygments_lexer": "ipython3",
   "version": "3.9.7"
  }
 },
 "nbformat": 4,
 "nbformat_minor": 5
}
