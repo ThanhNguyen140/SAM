{
 "cells": [
  {
   "cell_type": "markdown",
   "id": "f8cabec4-be3e-4792-bf2a-74b1c315635e",
   "metadata": {},
   "source": [
    "## Pipeline 1:\n",
    "- Negative with positive prompts\n",
    "- Number of prompts for each class: 1 positive, 1 negative"
   ]
  },
  {
   "cell_type": "code",
   "execution_count": 1,
   "id": "eb761989-5608-4e68-9727-7c369630e208",
   "metadata": {},
   "outputs": [],
   "source": [
    "import sys\n",
    "sys.path.append(\"..\")\n",
    "from functions.pipeline import *\n",
    "from tqdm import tqdm\n",
    "import pickle\n",
    "dataloader = get_batch(\"../ACDC\",50,debug = False)"
   ]
  },
  {
   "cell_type": "code",
   "execution_count": 54,
   "id": "c87475bc-be7f-44a3-ab83-d11a9378f171",
   "metadata": {},
   "outputs": [
    {
     "name": "stdout",
     "output_type": "stream",
     "text": [
      "Loading batch\n"
     ]
    },
    {
     "name": "stderr",
     "output_type": "stream",
     "text": [
      "  0%|                                                                                                                                                         | 0/57 [00:00<?, ?it/s]"
     ]
    },
    {
     "name": "stdout",
     "output_type": "stream",
     "text": [
      "n_background was reduced to 0.\n"
     ]
    },
    {
     "name": "stderr",
     "output_type": "stream",
     "text": [
      "  2%|██▌                                                                                                                                              | 1/57 [00:30<28:46, 30.82s/it]"
     ]
    },
    {
     "name": "stdout",
     "output_type": "stream",
     "text": [
      "n_background was reduced to 0.\n",
      "n_background was reduced to 0.\n"
     ]
    },
    {
     "name": "stderr",
     "output_type": "stream",
     "text": [
      "  4%|█████                                                                                                                                            | 2/57 [01:00<27:42, 30.22s/it]"
     ]
    },
    {
     "name": "stdout",
     "output_type": "stream",
     "text": [
      "n_background was reduced to 0.\n"
     ]
    },
    {
     "name": "stderr",
     "output_type": "stream",
     "text": [
      "  5%|███████▋                                                                                                                                         | 3/57 [01:31<27:17, 30.32s/it]"
     ]
    },
    {
     "name": "stdout",
     "output_type": "stream",
     "text": [
      "n_background was reduced to 0.\n"
     ]
    },
    {
     "name": "stderr",
     "output_type": "stream",
     "text": [
      " 11%|███████████████▎                                                                                                                                 | 6/57 [03:01<25:38, 30.17s/it]"
     ]
    },
    {
     "name": "stdout",
     "output_type": "stream",
     "text": [
      "n_background was reduced to 0.\n",
      "n_background was reduced to 0.\n"
     ]
    },
    {
     "name": "stderr",
     "output_type": "stream",
     "text": [
      " 16%|██████████████████████▉                                                                                                                          | 9/57 [04:32<24:12, 30.27s/it]"
     ]
    },
    {
     "name": "stdout",
     "output_type": "stream",
     "text": [
      "n_background was reduced to 0.\n"
     ]
    },
    {
     "name": "stderr",
     "output_type": "stream",
     "text": [
      " 19%|███████████████████████████▊                                                                                                                    | 11/57 [05:33<23:23, 30.52s/it]"
     ]
    },
    {
     "name": "stdout",
     "output_type": "stream",
     "text": [
      "n_background was reduced to 0.\n"
     ]
    },
    {
     "name": "stderr",
     "output_type": "stream",
     "text": [
      " 25%|███████████████████████████████████▎                                                                                                            | 14/57 [07:04<21:49, 30.46s/it]"
     ]
    },
    {
     "name": "stdout",
     "output_type": "stream",
     "text": [
      "n_background was reduced to 0.\n",
      "n_background was reduced to 0.\n"
     ]
    },
    {
     "name": "stderr",
     "output_type": "stream",
     "text": [
      " 28%|████████████████████████████████████████▍                                                                                                       | 16/57 [08:05<20:49, 30.48s/it]"
     ]
    },
    {
     "name": "stdout",
     "output_type": "stream",
     "text": [
      "n_background was reduced to 0.\n",
      "n_background was reduced to 0.\n"
     ]
    },
    {
     "name": "stderr",
     "output_type": "stream",
     "text": [
      " 30%|██████████████████████████████████████████▉                                                                                                     | 17/57 [08:35<20:15, 30.39s/it]"
     ]
    },
    {
     "name": "stdout",
     "output_type": "stream",
     "text": [
      "n_background was reduced to 0.\n"
     ]
    },
    {
     "name": "stderr",
     "output_type": "stream",
     "text": [
      " 37%|█████████████████████████████████████████████████████                                                                                           | 21/57 [10:37<18:17, 30.50s/it]"
     ]
    },
    {
     "name": "stdout",
     "output_type": "stream",
     "text": [
      "n_background was reduced to 0.\n"
     ]
    },
    {
     "name": "stderr",
     "output_type": "stream",
     "text": [
      " 42%|████████████████████████████████████████████████████████████▋                                                                                   | 24/57 [12:08<16:44, 30.45s/it]"
     ]
    },
    {
     "name": "stdout",
     "output_type": "stream",
     "text": [
      "n_background was reduced to 0.\n",
      "n_background was reduced to 0.\n"
     ]
    },
    {
     "name": "stderr",
     "output_type": "stream",
     "text": [
      " 44%|███████████████████████████████████████████████████████████████▏                                                                                | 25/57 [12:39<16:13, 30.43s/it]"
     ]
    },
    {
     "name": "stdout",
     "output_type": "stream",
     "text": [
      "n_background was reduced to 0.\n",
      "n_background was reduced to 0.\n"
     ]
    },
    {
     "name": "stderr",
     "output_type": "stream",
     "text": [
      " 46%|█████████████████████████████████████████████████████████████████▋                                                                              | 26/57 [13:09<15:40, 30.32s/it]"
     ]
    },
    {
     "name": "stdout",
     "output_type": "stream",
     "text": [
      "n_background was reduced to 0.\n",
      "n_background was reduced to 0.\n"
     ]
    },
    {
     "name": "stderr",
     "output_type": "stream",
     "text": [
      " 47%|████████████████████████████████████████████████████████████████████▏                                                                           | 27/57 [13:39<15:11, 30.39s/it]"
     ]
    },
    {
     "name": "stdout",
     "output_type": "stream",
     "text": [
      "n_background was reduced to 0.\n",
      "n_background was reduced to 0.\n",
      "n_background was reduced to 0.\n"
     ]
    },
    {
     "name": "stderr",
     "output_type": "stream",
     "text": [
      " 49%|██████████████████████████████████████████████████████████████████████▋                                                                         | 28/57 [14:09<14:37, 30.25s/it]"
     ]
    },
    {
     "name": "stdout",
     "output_type": "stream",
     "text": [
      "n_background was reduced to 0.\n"
     ]
    },
    {
     "name": "stderr",
     "output_type": "stream",
     "text": [
      " 51%|█████████████████████████████████████████████████████████████████████████▎                                                                      | 29/57 [14:39<14:05, 30.21s/it]"
     ]
    },
    {
     "name": "stdout",
     "output_type": "stream",
     "text": [
      "n_background was reduced to 0.\n"
     ]
    },
    {
     "name": "stderr",
     "output_type": "stream",
     "text": [
      " 54%|██████████████████████████████████████████████████████████████████████████████▎                                                                 | 31/57 [15:39<13:02, 30.10s/it]"
     ]
    },
    {
     "name": "stdout",
     "output_type": "stream",
     "text": [
      "n_background was reduced to 0.\n",
      "n_background was reduced to 0.\n"
     ]
    },
    {
     "name": "stderr",
     "output_type": "stream",
     "text": [
      " 58%|███████████████████████████████████████████████████████████████████████████████████▎                                                            | 33/57 [16:41<12:08, 30.37s/it]"
     ]
    },
    {
     "name": "stdout",
     "output_type": "stream",
     "text": [
      "n_background was reduced to 0.\n"
     ]
    },
    {
     "name": "stderr",
     "output_type": "stream",
     "text": [
      " 60%|█████████████████████████████████████████████████████████████████████████████████████▉                                                          | 34/57 [17:11<11:36, 30.27s/it]"
     ]
    },
    {
     "name": "stdout",
     "output_type": "stream",
     "text": [
      "n_background was reduced to 0.\n",
      "n_background was reduced to 0.\n"
     ]
    },
    {
     "name": "stderr",
     "output_type": "stream",
     "text": [
      " 70%|█████████████████████████████████████████████████████████████████████████████████████████████████████                                           | 40/57 [20:13<08:36, 30.40s/it]"
     ]
    },
    {
     "name": "stdout",
     "output_type": "stream",
     "text": [
      "n_background was reduced to 0.\n",
      "n_background was reduced to 0.\n"
     ]
    },
    {
     "name": "stderr",
     "output_type": "stream",
     "text": [
      " 72%|███████████████████████████████████████████████████████████████████████████████████████████████████████▌                                        | 41/57 [20:43<08:05, 30.32s/it]"
     ]
    },
    {
     "name": "stdout",
     "output_type": "stream",
     "text": [
      "n_background was reduced to 0.\n"
     ]
    },
    {
     "name": "stderr",
     "output_type": "stream",
     "text": [
      " 74%|██████████████████████████████████████████████████████████████████████████████████████████████████████████                                      | 42/57 [21:13<07:33, 30.24s/it]"
     ]
    },
    {
     "name": "stdout",
     "output_type": "stream",
     "text": [
      "n_background was reduced to 0.\n"
     ]
    },
    {
     "name": "stderr",
     "output_type": "stream",
     "text": [
      " 75%|████████████████████████████████████████████████████████████████████████████████████████████████████████████▋                                   | 43/57 [21:44<07:04, 30.34s/it]"
     ]
    },
    {
     "name": "stdout",
     "output_type": "stream",
     "text": [
      "n_background was reduced to 0.\n"
     ]
    },
    {
     "name": "stderr",
     "output_type": "stream",
     "text": [
      " 77%|███████████████████████████████████████████████████████████████████████████████████████████████████████████████▏                                | 44/57 [22:14<06:33, 30.30s/it]"
     ]
    },
    {
     "name": "stdout",
     "output_type": "stream",
     "text": [
      "n_background was reduced to 0.\n"
     ]
    },
    {
     "name": "stderr",
     "output_type": "stream",
     "text": [
      " 79%|█████████████████████████████████████████████████████████████████████████████████████████████████████████████████▋                              | 45/57 [22:45<06:06, 30.53s/it]"
     ]
    },
    {
     "name": "stdout",
     "output_type": "stream",
     "text": [
      "n_background was reduced to 0.\n"
     ]
    },
    {
     "name": "stderr",
     "output_type": "stream",
     "text": [
      " 81%|████████████████████████████████████████████████████████████████████████████████████████████████████████████████████▏                           | 46/57 [23:16<05:37, 30.67s/it]"
     ]
    },
    {
     "name": "stdout",
     "output_type": "stream",
     "text": [
      "n_background was reduced to 0.\n"
     ]
    },
    {
     "name": "stderr",
     "output_type": "stream",
     "text": [
      " 82%|██████████████████████████████████████████████████████████████████████████████████████████████████████████████████████▋                         | 47/57 [23:46<05:04, 30.45s/it]"
     ]
    },
    {
     "name": "stdout",
     "output_type": "stream",
     "text": [
      "n_background was reduced to 0.\n"
     ]
    },
    {
     "name": "stderr",
     "output_type": "stream",
     "text": [
      " 84%|█████████████████████████████████████████████████████████████████████████████████████████████████████████████████████████▎                      | 48/57 [24:19<04:42, 31.38s/it]"
     ]
    },
    {
     "name": "stdout",
     "output_type": "stream",
     "text": [
      "n_background was reduced to 0.\n"
     ]
    },
    {
     "name": "stderr",
     "output_type": "stream",
     "text": [
      " 89%|████████████████████████████████████████████████████████████████████████████████████████████████████████████████████████████████▊               | 51/57 [25:57<03:12, 32.03s/it]"
     ]
    },
    {
     "name": "stdout",
     "output_type": "stream",
     "text": [
      "n_background was reduced to 0.\n"
     ]
    },
    {
     "name": "stderr",
     "output_type": "stream",
     "text": [
      " 91%|███████████████████████████████████████████████████████████████████████████████████████████████████████████████████████████████████▎            | 52/57 [26:30<02:42, 32.42s/it]"
     ]
    },
    {
     "name": "stdout",
     "output_type": "stream",
     "text": [
      "n_background was reduced to 0.\n",
      "n_background was reduced to 0.\n"
     ]
    },
    {
     "name": "stderr",
     "output_type": "stream",
     "text": [
      " 93%|█████████████████████████████████████████████████████████████████████████████████████████████████████████████████████████████████████▉          | 53/57 [27:03<02:10, 32.62s/it]"
     ]
    },
    {
     "name": "stdout",
     "output_type": "stream",
     "text": [
      "n_background was reduced to 0.\n"
     ]
    },
    {
     "name": "stderr",
     "output_type": "stream",
     "text": [
      " 95%|████████████████████████████████████████████████████████████████████████████████████████████████████████████████████████████████████████▍       | 54/57 [27:36<01:38, 32.75s/it]"
     ]
    },
    {
     "name": "stdout",
     "output_type": "stream",
     "text": [
      "n_background was reduced to 0.\n"
     ]
    },
    {
     "name": "stderr",
     "output_type": "stream",
     "text": [
      " 96%|██████████████████████████████████████████████████████████████████████████████████████████████████████████████████████████████████████████▉     | 55/57 [28:10<01:06, 33.16s/it]"
     ]
    },
    {
     "name": "stdout",
     "output_type": "stream",
     "text": [
      "n_background was reduced to 0.\n",
      "n_background was reduced to 0.\n"
     ]
    },
    {
     "name": "stderr",
     "output_type": "stream",
     "text": [
      " 98%|█████████████████████████████████████████████████████████████████████████████████████████████████████████████████████████████████████████████▍  | 56/57 [28:44<00:33, 33.38s/it]"
     ]
    },
    {
     "name": "stdout",
     "output_type": "stream",
     "text": [
      "n_background was reduced to 0.\n",
      "n_background was reduced to 0.\n",
      "n_background was reduced to 0.\n",
      "n_background was reduced to 0.\n"
     ]
    },
    {
     "name": "stderr",
     "output_type": "stream",
     "text": [
      "100%|████████████████████████████████████████████████████████████████████████████████████████████████████████████████████████████████████████████████| 57/57 [29:12<00:00, 30.75s/it]\n"
     ]
    }
   ],
   "source": [
    "all_masks = []\n",
    "all_prompts = {1:[],2:[],3:[]}\n",
    "print(\"Loading batch\")\n",
    "scores={}\n",
    "for batch in tqdm(dataloader):\n",
    "    embeddings, ground_truths = batch\n",
    "    prompt_class_1 = []\n",
    "    prompt_class_2 = []\n",
    "    prompt_class_3 = []\n",
    "    for ground_truth in ground_truths:\n",
    "        prompt_class_1.append(batch_sample_from_class(50, ground_truth, 1, n_foreground = 1, n_background= 1))\n",
    "        prompt_class_2.append(batch_sample_from_class(50, ground_truth, 2, n_foreground = 1, n_background= 1))\n",
    "        prompt_class_3.append(batch_sample_from_class(50, ground_truth, 3, n_foreground = 1, n_background= 1))\n",
    "    all_prompts[1].extend(prompt_class_1)\n",
    "    all_prompts[2].extend(prompt_class_2)\n",
    "    all_prompts[3].extend(prompt_class_3)\n",
    "    ana = analyze(embeddings,ground_truths)    \n",
    "    masks= ana.generate_masks(prompt_class_1,prompt_class_2,prompt_class_3,50)\n",
    "    all_masks.append(masks.numpy())\n",
    "    for metric,f in ana.metrics.items():\n",
    "        if metric not in scores.keys():\n",
    "            scores[metric] = ana.scoring_function(f)\n",
    "        else: \n",
    "            scores[metric] = torch.cat([scores[metric],ana.scoring_function(f)],dim = 0)"
   ]
  },
  {
   "cell_type": "code",
   "execution_count": 55,
   "id": "78fe8c84-bdc2-4373-a57a-edf709c9d3ea",
   "metadata": {},
   "outputs": [],
   "source": [
    "results = ana.get_results(scores[\"dice_score\"],scores[\"iou\"],scores[\"accuracy\"],(1,1),(1,1),(1,1))\n",
    "re = Results(\"../ACDC\",\"neg_and_pos_0101\")\n",
    "re.append_row(results)"
   ]
  },
  {
   "cell_type": "code",
   "execution_count": 58,
   "id": "454042b2-1225-4768-9eea-bb4dde1fa0d2",
   "metadata": {},
   "outputs": [],
   "source": [
    "import pickle\n",
    "file_path = \"../ACDC/\"\n",
    "with open(f\"{file_path}prompts1.pickle\", 'wb') as f1:\n",
    "    pickle.dump(all_prompts, f1)\n",
    "os.mkdir(\"../ACDC/masks1\")\n",
    "for i in range(57):\n",
    "    f = gzip.GzipFile(f\"../ACDC/masks1/batch_{i}.npy.gz\", \"w\")\n",
    "    np.save(f, all_masks[i])\n"
   ]
  },
  {
   "cell_type": "code",
   "execution_count": 59,
   "id": "c69362b0-49a3-4118-9f3d-50873b5ad88e",
   "metadata": {},
   "outputs": [],
   "source": [
    "torch.cuda.empty_cache()"
   ]
  },
  {
   "cell_type": "markdown",
   "id": "435c1261-883d-4009-99f0-4fcc49dcc402",
   "metadata": {},
   "source": [
    "## Pipeline 2"
   ]
  },
  {
   "cell_type": "markdown",
   "id": "9ae96b02-7b34-4a24-8d16-949da138d7b3",
   "metadata": {},
   "source": [
    "- Only 1 positive point\n",
    "- Batch of size 50 images, 50 prompts per image"
   ]
  },
  {
   "cell_type": "code",
   "execution_count": 2,
   "id": "2ba52b74-c332-49a4-89ff-08f94315f4b8",
   "metadata": {},
   "outputs": [
    {
     "name": "stdout",
     "output_type": "stream",
     "text": [
      "Loading batch\n"
     ]
    },
    {
     "name": "stderr",
     "output_type": "stream",
     "text": [
      "100%|████████████████████████████████████████████████████████████████████████████████████████████████████████████████████████████████████████████████| 57/57 [28:32<00:00, 30.04s/it]\n"
     ]
    }
   ],
   "source": [
    "all_masks = []\n",
    "all_prompts = {1:[],2:[],3:[]}\n",
    "print(\"Loading batch\")\n",
    "scores={}\n",
    "for batch in tqdm(dataloader):\n",
    "    embeddings, ground_truths = batch\n",
    "    prompt_class_1 = []\n",
    "    prompt_class_2 = []\n",
    "    prompt_class_3 = []\n",
    "    for ground_truth in ground_truths:\n",
    "        prompt_class_1.append(batch_sample_from_class(50, ground_truth, 1, n_foreground = 1, n_background= 0))\n",
    "        prompt_class_2.append(batch_sample_from_class(50, ground_truth, 2, n_foreground = 1, n_background= 0))\n",
    "        prompt_class_3.append(batch_sample_from_class(50, ground_truth, 3, n_foreground = 1, n_background= 0))\n",
    "    all_prompts[1].extend(prompt_class_1)\n",
    "    all_prompts[2].extend(prompt_class_2)\n",
    "    all_prompts[3].extend(prompt_class_3)\n",
    "    ana = analyze(embeddings,ground_truths)    \n",
    "    masks= ana.generate_masks(prompt_class_1,prompt_class_2,prompt_class_3,50)\n",
    "    all_masks.append(masks)\n",
    "    for metric,f in ana.metrics.items():\n",
    "        if metric not in scores.keys():\n",
    "            scores[metric] = ana.scoring_function(f)\n",
    "        else: \n",
    "            scores[metric] = torch.cat([scores[metric],ana.scoring_function(f)],dim = 0)\n",
    "            \n",
    "results = ana.get_results(scores[\"dice_score\"],scores[\"iou\"],scores[\"accuracy\"],(1,0),(1,0),(1,0))\n",
    "re = Results(\"../ACDC\",\"pos_0100\")\n",
    "re.append_row(results)"
   ]
  },
  {
   "cell_type": "code",
   "execution_count": 7,
   "id": "47464ff9-299a-48d9-9998-18be74d95cde",
   "metadata": {},
   "outputs": [],
   "source": [
    "file_path = \"../ACDC/\"\n",
    "with open(f\"{file_path}prompts2.pickle\", 'wb') as f1:\n",
    "    pickle.dump(all_prompts, f1)"
   ]
  },
  {
   "cell_type": "code",
   "execution_count": 8,
   "id": "c609a044-acca-48e1-95d4-d05ebcc0d097",
   "metadata": {},
   "outputs": [],
   "source": [
    "torch.cuda.empty_cache()"
   ]
  },
  {
   "cell_type": "code",
   "execution_count": 9,
   "id": "2ea7c7d3-086c-413d-b963-e10bc22d33c5",
   "metadata": {},
   "outputs": [],
   "source": [
    "import os\n",
    "import gzip\n",
    "import numpy as np\n",
    "os.mkdir(\"../ACDC/masks2\")\n",
    "for i in range(57):\n",
    "    all_masks[i] = all_masks[i].numpy()\n",
    "    f = gzip.GzipFile(f\"../ACDC/masks2/batch_{i}.npy.gz\", \"w\")\n",
    "    np.save(f, all_masks[i])"
   ]
  },
  {
   "cell_type": "markdown",
   "id": "282b7af7-26ed-4853-8aab-e14979c9a0d9",
   "metadata": {},
   "source": [
    "## Pipeline 3\n",
    "- 5 positive points and 1 negative point\n",
    "- A batch of 50 images, 50 prompts per image"
   ]
  },
  {
   "cell_type": "code",
   "execution_count": 2,
   "id": "79335239-b3e0-4822-8033-a2afc659ef18",
   "metadata": {},
   "outputs": [],
   "source": [
    "import sys\n",
    "sys.path.append(\"..\")\n",
    "from functions.pipeline import *\n",
    "from tqdm import tqdm\n",
    "import pickle\n",
    "import os\n",
    "import gzip\n",
    "import numpy as np\n",
    "dataloader = get_batch(\"../ACDC\",50,debug = False)"
   ]
  },
  {
   "cell_type": "code",
   "execution_count": 60,
   "id": "0145e552-b379-4c1e-b6a5-90c500f17b09",
   "metadata": {},
   "outputs": [
    {
     "name": "stderr",
     "output_type": "stream",
     "text": [
      "  0%|            | 0/57 [00:00<?, ?it/s]"
     ]
    },
    {
     "name": "stdout",
     "output_type": "stream",
     "text": [
      "n_background was reduced to 0.\n"
     ]
    },
    {
     "name": "stderr",
     "output_type": "stream",
     "text": [
      "  2%|    | 1/57 [00:31<29:29, 31.60s/it]"
     ]
    },
    {
     "name": "stdout",
     "output_type": "stream",
     "text": [
      "n_background was reduced to 0.\n",
      "n_background was reduced to 0.\n"
     ]
    },
    {
     "name": "stderr",
     "output_type": "stream",
     "text": [
      "  4%|▏   | 2/57 [01:01<28:09, 30.72s/it]"
     ]
    },
    {
     "name": "stdout",
     "output_type": "stream",
     "text": [
      "n_background was reduced to 0.\n"
     ]
    },
    {
     "name": "stderr",
     "output_type": "stream",
     "text": [
      "  5%|▏   | 3/57 [01:32<27:42, 30.78s/it]"
     ]
    },
    {
     "name": "stdout",
     "output_type": "stream",
     "text": [
      "n_background was reduced to 0.\n"
     ]
    },
    {
     "name": "stderr",
     "output_type": "stream",
     "text": [
      " 11%|▍   | 6/57 [03:03<25:55, 30.49s/it]"
     ]
    },
    {
     "name": "stdout",
     "output_type": "stream",
     "text": [
      "n_background was reduced to 0.\n",
      "n_background was reduced to 0.\n"
     ]
    },
    {
     "name": "stderr",
     "output_type": "stream",
     "text": [
      " 16%|▋   | 9/57 [04:35<24:29, 30.62s/it]"
     ]
    },
    {
     "name": "stdout",
     "output_type": "stream",
     "text": [
      "n_background was reduced to 0.\n"
     ]
    },
    {
     "name": "stderr",
     "output_type": "stream",
     "text": [
      " 19%|▌  | 11/57 [05:37<23:38, 30.84s/it]"
     ]
    },
    {
     "name": "stdout",
     "output_type": "stream",
     "text": [
      "n_background was reduced to 0.\n"
     ]
    },
    {
     "name": "stderr",
     "output_type": "stream",
     "text": [
      " 25%|▋  | 14/57 [07:09<22:05, 30.83s/it]"
     ]
    },
    {
     "name": "stdout",
     "output_type": "stream",
     "text": [
      "n_background was reduced to 0.\n",
      "n_background was reduced to 0.\n"
     ]
    },
    {
     "name": "stderr",
     "output_type": "stream",
     "text": [
      " 28%|▊  | 16/57 [08:10<20:57, 30.68s/it]"
     ]
    },
    {
     "name": "stdout",
     "output_type": "stream",
     "text": [
      "n_background was reduced to 0.\n",
      "n_background was reduced to 0.\n"
     ]
    },
    {
     "name": "stderr",
     "output_type": "stream",
     "text": [
      " 37%|█  | 21/57 [10:44<18:28, 30.80s/it]"
     ]
    },
    {
     "name": "stdout",
     "output_type": "stream",
     "text": [
      "n_background was reduced to 0.\n"
     ]
    },
    {
     "name": "stderr",
     "output_type": "stream",
     "text": [
      " 42%|█▎ | 24/57 [12:16<16:56, 30.81s/it]"
     ]
    },
    {
     "name": "stdout",
     "output_type": "stream",
     "text": [
      "n_background was reduced to 0.\n",
      "n_background was reduced to 0.\n"
     ]
    },
    {
     "name": "stderr",
     "output_type": "stream",
     "text": [
      " 44%|█▎ | 25/57 [12:47<16:26, 30.84s/it]"
     ]
    },
    {
     "name": "stdout",
     "output_type": "stream",
     "text": [
      "n_background was reduced to 0.\n",
      "n_background was reduced to 0.\n"
     ]
    },
    {
     "name": "stderr",
     "output_type": "stream",
     "text": [
      " 46%|█▎ | 26/57 [13:17<15:51, 30.71s/it]"
     ]
    },
    {
     "name": "stdout",
     "output_type": "stream",
     "text": [
      "n_background was reduced to 0.\n",
      "n_background was reduced to 0.\n"
     ]
    },
    {
     "name": "stderr",
     "output_type": "stream",
     "text": [
      " 47%|█▍ | 27/57 [13:48<15:19, 30.64s/it]"
     ]
    },
    {
     "name": "stdout",
     "output_type": "stream",
     "text": [
      "n_background was reduced to 0.\n",
      "n_background was reduced to 0.\n",
      "n_background was reduced to 0.\n"
     ]
    },
    {
     "name": "stderr",
     "output_type": "stream",
     "text": [
      " 49%|█▍ | 28/57 [14:18<14:47, 30.60s/it]"
     ]
    },
    {
     "name": "stdout",
     "output_type": "stream",
     "text": [
      "n_background was reduced to 0.\n"
     ]
    },
    {
     "name": "stderr",
     "output_type": "stream",
     "text": [
      " 51%|█▌ | 29/57 [14:49<14:18, 30.65s/it]"
     ]
    },
    {
     "name": "stdout",
     "output_type": "stream",
     "text": [
      "n_background was reduced to 0.\n"
     ]
    },
    {
     "name": "stderr",
     "output_type": "stream",
     "text": [
      " 54%|█▋ | 31/57 [15:50<13:17, 30.66s/it]"
     ]
    },
    {
     "name": "stdout",
     "output_type": "stream",
     "text": [
      "n_background was reduced to 0.\n",
      "n_background was reduced to 0.\n"
     ]
    },
    {
     "name": "stderr",
     "output_type": "stream",
     "text": [
      " 58%|█▋ | 33/57 [16:52<12:19, 30.80s/it]"
     ]
    },
    {
     "name": "stdout",
     "output_type": "stream",
     "text": [
      "n_background was reduced to 0.\n"
     ]
    },
    {
     "name": "stderr",
     "output_type": "stream",
     "text": [
      " 60%|█▊ | 34/57 [17:23<11:43, 30.61s/it]"
     ]
    },
    {
     "name": "stdout",
     "output_type": "stream",
     "text": [
      "n_background was reduced to 0.\n",
      "n_background was reduced to 0.\n"
     ]
    },
    {
     "name": "stderr",
     "output_type": "stream",
     "text": [
      " 63%|█▉ | 36/57 [18:23<10:40, 30.52s/it]"
     ]
    },
    {
     "name": "stdout",
     "output_type": "stream",
     "text": [
      "n_foreground was reduced to 4.\n"
     ]
    },
    {
     "name": "stderr",
     "output_type": "stream",
     "text": [
      " 70%|██ | 40/57 [20:27<08:45, 30.92s/it]"
     ]
    },
    {
     "name": "stdout",
     "output_type": "stream",
     "text": [
      "n_background was reduced to 0.\n",
      "n_background was reduced to 0.\n"
     ]
    },
    {
     "name": "stderr",
     "output_type": "stream",
     "text": [
      " 72%|██▏| 41/57 [20:57<08:11, 30.71s/it]"
     ]
    },
    {
     "name": "stdout",
     "output_type": "stream",
     "text": [
      "n_background was reduced to 0.\n"
     ]
    },
    {
     "name": "stderr",
     "output_type": "stream",
     "text": [
      " 74%|██▏| 42/57 [21:28<07:40, 30.72s/it]"
     ]
    },
    {
     "name": "stdout",
     "output_type": "stream",
     "text": [
      "n_background was reduced to 0.\n"
     ]
    },
    {
     "name": "stderr",
     "output_type": "stream",
     "text": [
      " 75%|██▎| 43/57 [21:59<07:11, 30.82s/it]"
     ]
    },
    {
     "name": "stdout",
     "output_type": "stream",
     "text": [
      "n_background was reduced to 0.\n"
     ]
    },
    {
     "name": "stderr",
     "output_type": "stream",
     "text": [
      " 77%|██▎| 44/57 [22:30<06:42, 31.00s/it]"
     ]
    },
    {
     "name": "stdout",
     "output_type": "stream",
     "text": [
      "n_background was reduced to 0.\n"
     ]
    },
    {
     "name": "stderr",
     "output_type": "stream",
     "text": [
      " 79%|██▎| 45/57 [23:02<06:12, 31.06s/it]"
     ]
    },
    {
     "name": "stdout",
     "output_type": "stream",
     "text": [
      "n_background was reduced to 0.\n"
     ]
    },
    {
     "name": "stderr",
     "output_type": "stream",
     "text": [
      " 81%|██▍| 46/57 [23:33<05:42, 31.11s/it]"
     ]
    },
    {
     "name": "stdout",
     "output_type": "stream",
     "text": [
      "n_background was reduced to 0.\n"
     ]
    },
    {
     "name": "stderr",
     "output_type": "stream",
     "text": [
      " 82%|██▍| 47/57 [24:03<05:09, 30.95s/it]"
     ]
    },
    {
     "name": "stdout",
     "output_type": "stream",
     "text": [
      "n_background was reduced to 0.\n"
     ]
    },
    {
     "name": "stderr",
     "output_type": "stream",
     "text": [
      " 84%|██▌| 48/57 [24:38<04:48, 32.06s/it]"
     ]
    },
    {
     "name": "stdout",
     "output_type": "stream",
     "text": [
      "n_background was reduced to 0.\n"
     ]
    },
    {
     "name": "stderr",
     "output_type": "stream",
     "text": [
      " 89%|██▋| 51/57 [26:17<03:16, 32.72s/it]"
     ]
    },
    {
     "name": "stdout",
     "output_type": "stream",
     "text": [
      "n_background was reduced to 0.\n"
     ]
    },
    {
     "name": "stderr",
     "output_type": "stream",
     "text": [
      " 91%|██▋| 52/57 [26:50<02:43, 32.63s/it]"
     ]
    },
    {
     "name": "stdout",
     "output_type": "stream",
     "text": [
      "n_background was reduced to 0.\n",
      "n_background was reduced to 0.\n"
     ]
    },
    {
     "name": "stderr",
     "output_type": "stream",
     "text": [
      " 93%|██▊| 53/57 [27:22<02:09, 32.45s/it]"
     ]
    },
    {
     "name": "stdout",
     "output_type": "stream",
     "text": [
      "n_background was reduced to 0.\n"
     ]
    },
    {
     "name": "stderr",
     "output_type": "stream",
     "text": [
      " 95%|██▊| 54/57 [27:54<01:37, 32.43s/it]"
     ]
    },
    {
     "name": "stdout",
     "output_type": "stream",
     "text": [
      "n_background was reduced to 0.\n"
     ]
    },
    {
     "name": "stderr",
     "output_type": "stream",
     "text": [
      " 96%|██▉| 55/57 [28:27<01:04, 32.46s/it]"
     ]
    },
    {
     "name": "stdout",
     "output_type": "stream",
     "text": [
      "n_background was reduced to 0.\n",
      "n_background was reduced to 0.\n"
     ]
    },
    {
     "name": "stderr",
     "output_type": "stream",
     "text": [
      " 98%|██▉| 56/57 [29:00<00:32, 32.55s/it]"
     ]
    },
    {
     "name": "stdout",
     "output_type": "stream",
     "text": [
      "n_background was reduced to 0.\n",
      "n_background was reduced to 0.\n",
      "n_background was reduced to 0.\n",
      "n_background was reduced to 0.\n"
     ]
    },
    {
     "name": "stderr",
     "output_type": "stream",
     "text": [
      "100%|███| 57/57 [29:27<00:00, 31.00s/it]\n"
     ]
    }
   ],
   "source": [
    "all_masks = []\n",
    "all_prompts = {1:[],2:[],3:[]}\n",
    "scores={}\n",
    "for batch in tqdm(dataloader):\n",
    "    embeddings, ground_truths = batch\n",
    "    prompt_class_1 = []\n",
    "    prompt_class_2 = []\n",
    "    prompt_class_3 = []\n",
    "    for ground_truth in ground_truths:\n",
    "        prompt_class_1.append(batch_sample_from_class(50, ground_truth, 1, n_foreground = 5, n_background= 1))\n",
    "        prompt_class_2.append(batch_sample_from_class(50, ground_truth, 2, n_foreground = 5, n_background= 1))\n",
    "        prompt_class_3.append(batch_sample_from_class(50, ground_truth, 3, n_foreground = 5, n_background= 1))\n",
    "    all_prompts[1].extend(prompt_class_1)\n",
    "    all_prompts[2].extend(prompt_class_2)\n",
    "    all_prompts[3].extend(prompt_class_3)\n",
    "    ana = analyze(embeddings,ground_truths)    \n",
    "    masks= ana.generate_masks(prompt_class_1,prompt_class_2,prompt_class_3,50)\n",
    "    all_masks.append(masks.numpy())\n",
    "    for metric,f in ana.metrics.items():\n",
    "        if metric not in scores.keys():\n",
    "            scores[metric] = ana.scoring_function(f)\n",
    "        else: \n",
    "            scores[metric] = torch.cat([scores[metric],ana.scoring_function(f)],dim = 0)\n",
    "            \n",
    "results = ana.get_results(scores[\"dice_score\"],scores[\"iou\"],scores[\"accuracy\"],(5,1),(5,1),(5,1))\n",
    "re = Results(\"../ACDC\",\"pos_and_neg_0501\")\n",
    "re.append_row(results)"
   ]
  },
  {
   "cell_type": "code",
   "execution_count": 61,
   "id": "504c383c-60ea-48ee-a55d-89d9737e02dd",
   "metadata": {},
   "outputs": [],
   "source": [
    "file_path = \"../ACDC/\"\n",
    "with open(f\"{file_path}prompts3.pickle\", 'wb') as f1:\n",
    "    pickle.dump(all_prompts, f1)"
   ]
  },
  {
   "cell_type": "code",
   "execution_count": 62,
   "id": "713f564f-bd9a-4bef-89a4-db07da600ebb",
   "metadata": {},
   "outputs": [],
   "source": [
    "os.mkdir(\"../ACDC/masks3\")\n",
    "for i in range(57):\n",
    "    f = gzip.GzipFile(f\"../ACDC/masks3/batch_{i}.npy.gz\", \"w\")\n",
    "    np.save(f, all_masks[i])"
   ]
  },
  {
   "cell_type": "code",
   "execution_count": 63,
   "id": "3f87a591-1c36-4e69-bb3b-065294a37e7b",
   "metadata": {},
   "outputs": [],
   "source": [
    "torch.cuda.empty_cache()"
   ]
  },
  {
   "cell_type": "markdown",
   "id": "d69dfe4d-ce57-4c0c-9696-ad745339edf3",
   "metadata": {},
   "source": [
    "## Pipeline 4\n",
    "- 5 positive points, 3 negative points\n",
    "- Batch of 50 images, 50 prompts for each image"
   ]
  },
  {
   "cell_type": "code",
   "execution_count": 64,
   "id": "f0f4b23a-9b8f-4d38-a1e7-a7b405051df0",
   "metadata": {},
   "outputs": [
    {
     "name": "stderr",
     "output_type": "stream",
     "text": [
      "  0%|            | 0/57 [00:00<?, ?it/s]"
     ]
    },
    {
     "name": "stdout",
     "output_type": "stream",
     "text": [
      "n_background was reduced to 0.\n"
     ]
    },
    {
     "name": "stderr",
     "output_type": "stream",
     "text": [
      "  2%|    | 1/57 [00:32<29:54, 32.05s/it]"
     ]
    },
    {
     "name": "stdout",
     "output_type": "stream",
     "text": [
      "n_background was reduced to 0.\n",
      "n_background was reduced to 0.\n"
     ]
    },
    {
     "name": "stderr",
     "output_type": "stream",
     "text": [
      "  4%|▏   | 2/57 [01:02<28:29, 31.07s/it]"
     ]
    },
    {
     "name": "stdout",
     "output_type": "stream",
     "text": [
      "n_background was reduced to 0.\n"
     ]
    },
    {
     "name": "stderr",
     "output_type": "stream",
     "text": [
      "  5%|▏   | 3/57 [01:33<27:50, 30.94s/it]"
     ]
    },
    {
     "name": "stdout",
     "output_type": "stream",
     "text": [
      "n_background was reduced to 0.\n"
     ]
    },
    {
     "name": "stderr",
     "output_type": "stream",
     "text": [
      " 11%|▍   | 6/57 [03:04<25:58, 30.56s/it]"
     ]
    },
    {
     "name": "stdout",
     "output_type": "stream",
     "text": [
      "n_background was reduced to 0.\n",
      "n_background was reduced to 0.\n"
     ]
    },
    {
     "name": "stderr",
     "output_type": "stream",
     "text": [
      " 16%|▋   | 9/57 [04:37<24:39, 30.82s/it]"
     ]
    },
    {
     "name": "stdout",
     "output_type": "stream",
     "text": [
      "n_background was reduced to 0.\n"
     ]
    },
    {
     "name": "stderr",
     "output_type": "stream",
     "text": [
      " 19%|▌  | 11/57 [05:39<23:43, 30.95s/it]"
     ]
    },
    {
     "name": "stdout",
     "output_type": "stream",
     "text": [
      "n_background was reduced to 0.\n"
     ]
    },
    {
     "name": "stderr",
     "output_type": "stream",
     "text": [
      " 25%|▋  | 14/57 [07:12<22:15, 31.07s/it]"
     ]
    },
    {
     "name": "stdout",
     "output_type": "stream",
     "text": [
      "n_background was reduced to 0.\n",
      "n_background was reduced to 0.\n"
     ]
    },
    {
     "name": "stderr",
     "output_type": "stream",
     "text": [
      " 28%|▊  | 16/57 [08:14<21:08, 30.94s/it]"
     ]
    },
    {
     "name": "stdout",
     "output_type": "stream",
     "text": [
      "n_background was reduced to 0.\n",
      "n_background was reduced to 0.\n"
     ]
    },
    {
     "name": "stderr",
     "output_type": "stream",
     "text": [
      " 30%|▉  | 17/57 [08:44<20:30, 30.76s/it]"
     ]
    },
    {
     "name": "stdout",
     "output_type": "stream",
     "text": [
      "n_background was reduced to 0.\n"
     ]
    },
    {
     "name": "stderr",
     "output_type": "stream",
     "text": [
      " 35%|█  | 20/57 [10:17<19:04, 30.92s/it]"
     ]
    },
    {
     "name": "stdout",
     "output_type": "stream",
     "text": [
      "n_foreground was reduced to 1.\n"
     ]
    },
    {
     "name": "stderr",
     "output_type": "stream",
     "text": [
      " 37%|█  | 21/57 [10:48<18:37, 31.04s/it]"
     ]
    },
    {
     "name": "stdout",
     "output_type": "stream",
     "text": [
      "n_background was reduced to 0.\n"
     ]
    },
    {
     "name": "stderr",
     "output_type": "stream",
     "text": [
      " 42%|█▎ | 24/57 [12:22<17:10, 31.24s/it]"
     ]
    },
    {
     "name": "stdout",
     "output_type": "stream",
     "text": [
      "n_background was reduced to 0.\n",
      "n_background was reduced to 0.\n"
     ]
    },
    {
     "name": "stderr",
     "output_type": "stream",
     "text": [
      " 44%|█▎ | 25/57 [12:53<16:40, 31.25s/it]"
     ]
    },
    {
     "name": "stdout",
     "output_type": "stream",
     "text": [
      "n_background was reduced to 0.\n",
      "n_background was reduced to 0.\n"
     ]
    },
    {
     "name": "stderr",
     "output_type": "stream",
     "text": [
      " 46%|█▎ | 26/57 [13:24<16:06, 31.17s/it]"
     ]
    },
    {
     "name": "stdout",
     "output_type": "stream",
     "text": [
      "n_background was reduced to 0.\n",
      "n_background was reduced to 0.\n"
     ]
    },
    {
     "name": "stderr",
     "output_type": "stream",
     "text": [
      " 47%|█▍ | 27/57 [13:55<15:34, 31.14s/it]"
     ]
    },
    {
     "name": "stdout",
     "output_type": "stream",
     "text": [
      "n_background was reduced to 0.\n",
      "n_background was reduced to 0.\n",
      "n_background was reduced to 0.\n"
     ]
    },
    {
     "name": "stderr",
     "output_type": "stream",
     "text": [
      " 49%|█▍ | 28/57 [14:26<15:01, 31.09s/it]"
     ]
    },
    {
     "name": "stdout",
     "output_type": "stream",
     "text": [
      "n_background was reduced to 0.\n"
     ]
    },
    {
     "name": "stderr",
     "output_type": "stream",
     "text": [
      " 51%|█▌ | 29/57 [14:57<14:27, 30.99s/it]"
     ]
    },
    {
     "name": "stdout",
     "output_type": "stream",
     "text": [
      "n_background was reduced to 0.\n"
     ]
    },
    {
     "name": "stderr",
     "output_type": "stream",
     "text": [
      " 54%|█▋ | 31/57 [15:59<13:24, 30.93s/it]"
     ]
    },
    {
     "name": "stdout",
     "output_type": "stream",
     "text": [
      "n_background was reduced to 0.\n",
      "n_background was reduced to 0.\n"
     ]
    },
    {
     "name": "stderr",
     "output_type": "stream",
     "text": [
      " 58%|█▋ | 33/57 [17:01<12:26, 31.09s/it]"
     ]
    },
    {
     "name": "stdout",
     "output_type": "stream",
     "text": [
      "n_background was reduced to 0.\n"
     ]
    },
    {
     "name": "stderr",
     "output_type": "stream",
     "text": [
      " 60%|█▊ | 34/57 [17:32<11:51, 30.94s/it]"
     ]
    },
    {
     "name": "stdout",
     "output_type": "stream",
     "text": [
      "n_background was reduced to 0.\n",
      "n_background was reduced to 0.\n"
     ]
    },
    {
     "name": "stderr",
     "output_type": "stream",
     "text": [
      " 63%|█▉ | 36/57 [18:34<10:49, 30.92s/it]"
     ]
    },
    {
     "name": "stdout",
     "output_type": "stream",
     "text": [
      "n_foreground was reduced to 4.\n"
     ]
    },
    {
     "name": "stderr",
     "output_type": "stream",
     "text": [
      " 70%|██ | 40/57 [20:37<08:46, 31.00s/it]"
     ]
    },
    {
     "name": "stdout",
     "output_type": "stream",
     "text": [
      "n_background was reduced to 0.\n",
      "n_background was reduced to 0.\n"
     ]
    },
    {
     "name": "stderr",
     "output_type": "stream",
     "text": [
      " 72%|██▏| 41/57 [21:08<08:13, 30.86s/it]"
     ]
    },
    {
     "name": "stdout",
     "output_type": "stream",
     "text": [
      "n_background was reduced to 0.\n"
     ]
    },
    {
     "name": "stderr",
     "output_type": "stream",
     "text": [
      " 74%|██▏| 42/57 [21:39<07:42, 30.86s/it]"
     ]
    },
    {
     "name": "stdout",
     "output_type": "stream",
     "text": [
      "n_background was reduced to 0.\n"
     ]
    },
    {
     "name": "stderr",
     "output_type": "stream",
     "text": [
      " 75%|██▎| 43/57 [22:10<07:13, 30.95s/it]"
     ]
    },
    {
     "name": "stdout",
     "output_type": "stream",
     "text": [
      "n_background was reduced to 0.\n"
     ]
    },
    {
     "name": "stderr",
     "output_type": "stream",
     "text": [
      " 77%|██▎| 44/57 [22:41<06:42, 30.93s/it]"
     ]
    },
    {
     "name": "stdout",
     "output_type": "stream",
     "text": [
      "n_background was reduced to 0.\n"
     ]
    },
    {
     "name": "stderr",
     "output_type": "stream",
     "text": [
      " 79%|██▎| 45/57 [23:12<06:13, 31.12s/it]"
     ]
    },
    {
     "name": "stdout",
     "output_type": "stream",
     "text": [
      "n_background was reduced to 0.\n"
     ]
    },
    {
     "name": "stderr",
     "output_type": "stream",
     "text": [
      " 81%|██▍| 46/57 [23:44<05:43, 31.20s/it]"
     ]
    },
    {
     "name": "stdout",
     "output_type": "stream",
     "text": [
      "n_background was reduced to 0.\n"
     ]
    },
    {
     "name": "stderr",
     "output_type": "stream",
     "text": [
      " 82%|██▍| 47/57 [24:15<05:10, 31.03s/it]"
     ]
    },
    {
     "name": "stdout",
     "output_type": "stream",
     "text": [
      "n_background was reduced to 0.\n"
     ]
    },
    {
     "name": "stderr",
     "output_type": "stream",
     "text": [
      " 84%|██▌| 48/57 [24:48<04:44, 31.64s/it]"
     ]
    },
    {
     "name": "stdout",
     "output_type": "stream",
     "text": [
      "n_background was reduced to 0.\n"
     ]
    },
    {
     "name": "stderr",
     "output_type": "stream",
     "text": [
      " 89%|██▋| 51/57 [26:29<03:17, 32.87s/it]"
     ]
    },
    {
     "name": "stdout",
     "output_type": "stream",
     "text": [
      "n_background was reduced to 0.\n"
     ]
    },
    {
     "name": "stderr",
     "output_type": "stream",
     "text": [
      " 91%|██▋| 52/57 [27:02<02:45, 33.14s/it]"
     ]
    },
    {
     "name": "stdout",
     "output_type": "stream",
     "text": [
      "n_background was reduced to 0.\n",
      "n_background was reduced to 0.\n"
     ]
    },
    {
     "name": "stderr",
     "output_type": "stream",
     "text": [
      " 93%|██▊| 53/57 [27:37<02:14, 33.50s/it]"
     ]
    },
    {
     "name": "stdout",
     "output_type": "stream",
     "text": [
      "n_background was reduced to 0.\n"
     ]
    },
    {
     "name": "stderr",
     "output_type": "stream",
     "text": [
      " 95%|██▊| 54/57 [28:10<01:40, 33.55s/it]"
     ]
    },
    {
     "name": "stdout",
     "output_type": "stream",
     "text": [
      "n_background was reduced to 0.\n"
     ]
    },
    {
     "name": "stderr",
     "output_type": "stream",
     "text": [
      " 96%|██▉| 55/57 [28:45<01:07, 33.69s/it]"
     ]
    },
    {
     "name": "stdout",
     "output_type": "stream",
     "text": [
      "n_background was reduced to 0.\n",
      "n_background was reduced to 0.\n"
     ]
    },
    {
     "name": "stderr",
     "output_type": "stream",
     "text": [
      " 98%|██▉| 56/57 [29:18<00:33, 33.59s/it]"
     ]
    },
    {
     "name": "stdout",
     "output_type": "stream",
     "text": [
      "n_background was reduced to 0.\n",
      "n_background was reduced to 0.\n",
      "n_background was reduced to 0.\n",
      "n_background was reduced to 0.\n"
     ]
    },
    {
     "name": "stderr",
     "output_type": "stream",
     "text": [
      "100%|███| 57/57 [29:46<00:00, 31.34s/it]\n"
     ]
    }
   ],
   "source": [
    "all_masks = []\n",
    "all_prompts = {1:[],2:[],3:[]}\n",
    "scores={}\n",
    "for batch in tqdm(dataloader):\n",
    "    embeddings, ground_truths = batch\n",
    "    prompt_class_1 = []\n",
    "    prompt_class_2 = []\n",
    "    prompt_class_3 = []\n",
    "    for ground_truth in ground_truths:\n",
    "        prompt_class_1.append(batch_sample_from_class(50, ground_truth, 1, n_foreground = 5, n_background= 3))\n",
    "        prompt_class_2.append(batch_sample_from_class(50, ground_truth, 2, n_foreground = 5, n_background= 3))\n",
    "        prompt_class_3.append(batch_sample_from_class(50, ground_truth, 3, n_foreground = 5, n_background= 3))\n",
    "    all_prompts[1].extend(prompt_class_1)\n",
    "    all_prompts[2].extend(prompt_class_2)\n",
    "    all_prompts[3].extend(prompt_class_3)\n",
    "    ana = analyze(embeddings,ground_truths)    \n",
    "    masks= ana.generate_masks(prompt_class_1,prompt_class_2,prompt_class_3,50)\n",
    "    all_masks.append(masks.numpy())\n",
    "    for metric,f in ana.metrics.items():\n",
    "        if metric not in scores.keys():\n",
    "            scores[metric] = ana.scoring_function(f)\n",
    "        else: \n",
    "            scores[metric] = torch.cat([scores[metric],ana.scoring_function(f)],dim = 0)\n",
    "            \n",
    "results = ana.get_results(scores[\"dice_score\"],scores[\"iou\"],scores[\"accuracy\"],(5,3),(5,3),(5,3))\n",
    "re = Results(\"../ACDC\",\"pos_and_neg_0503\")\n",
    "re.append_row(results)"
   ]
  },
  {
   "cell_type": "code",
   "execution_count": 65,
   "id": "673540e4-f611-46da-9022-bb379338f069",
   "metadata": {},
   "outputs": [],
   "source": [
    "file_path = \"../ACDC/\"\n",
    "with open(f\"{file_path}prompts4.pickle\", 'wb') as f1:\n",
    "    pickle.dump(all_prompts, f1)\n"
   ]
  },
  {
   "cell_type": "code",
   "execution_count": 66,
   "id": "ae616121-3378-4043-9120-ac94bde7301c",
   "metadata": {},
   "outputs": [],
   "source": [
    "os.mkdir(\"../ACDC/masks4\")\n",
    "for i in range(57):\n",
    "    f = gzip.GzipFile(f\"../ACDC/masks4/batch_{i}.npy.gz\", \"w\")\n",
    "    np.save(f, all_masks[i])"
   ]
  },
  {
   "cell_type": "code",
   "execution_count": 67,
   "id": "6b820021-c6a8-4319-824d-d267d5c81128",
   "metadata": {},
   "outputs": [],
   "source": [
    "torch.cuda.empty_cache()"
   ]
  },
  {
   "cell_type": "markdown",
   "id": "41d0586a-9cbc-49f1-874a-2e556358f2f5",
   "metadata": {},
   "source": [
    "## Pipeline 5\n",
    "- Only 5 positive prompts, no negative prompts"
   ]
  },
  {
   "cell_type": "code",
   "execution_count": null,
   "id": "dbc84e6b-ee47-4606-94b5-f0f37900a08a",
   "metadata": {},
   "outputs": [
    {
     "name": "stderr",
     "output_type": "stream",
     "text": [
      " 35%|█  | 20/57 [10:01<18:28, 29.97s/it]"
     ]
    },
    {
     "name": "stdout",
     "output_type": "stream",
     "text": [
      "n_foreground was reduced to 1.\n"
     ]
    },
    {
     "name": "stderr",
     "output_type": "stream",
     "text": [
      " 63%|█▉ | 36/57 [18:01<10:27, 29.89s/it]"
     ]
    },
    {
     "name": "stdout",
     "output_type": "stream",
     "text": [
      "n_foreground was reduced to 4.\n"
     ]
    },
    {
     "name": "stderr",
     "output_type": "stream",
     "text": [
      " 89%|██▋| 51/57 [25:45<03:12, 32.13s/it]"
     ]
    }
   ],
   "source": [
    "all_masks = []\n",
    "all_prompts = {1:[],2:[],3:[]}\n",
    "scores={}\n",
    "for batch in tqdm(dataloader):\n",
    "    embeddings, ground_truths = batch\n",
    "    prompt_class_1 = []\n",
    "    prompt_class_2 = []\n",
    "    prompt_class_3 = []\n",
    "    for ground_truth in ground_truths:\n",
    "        prompt_class_1.append(batch_sample_from_class(50, ground_truth, 1, n_foreground = 5, n_background= 0))\n",
    "        prompt_class_2.append(batch_sample_from_class(50, ground_truth, 2, n_foreground = 5, n_background= 0))\n",
    "        prompt_class_3.append(batch_sample_from_class(50, ground_truth, 3, n_foreground = 5, n_background= 0))\n",
    "    all_prompts[1].extend(prompt_class_1)\n",
    "    all_prompts[2].extend(prompt_class_2)\n",
    "    all_prompts[3].extend(prompt_class_3)\n",
    "    ana = analyze(embeddings,ground_truths)    \n",
    "    masks= ana.generate_masks(prompt_class_1,prompt_class_2,prompt_class_3,50)\n",
    "    all_masks.append(masks.numpy())\n",
    "    for metric,f in ana.metrics.items():\n",
    "        if metric not in scores.keys():\n",
    "            scores[metric] = ana.scoring_function(f)\n",
    "        else: \n",
    "            scores[metric] = torch.cat([scores[metric],ana.scoring_function(f)],dim = 0)\n",
    "            \n",
    "results = ana.get_results(scores[\"dice_score\"],scores[\"iou\"],scores[\"accuracy\"],(5,0),(5,0),(5,0))\n",
    "re = Results(\"../ACDC\",\"pos_0500\")\n",
    "re.append_row(results)"
   ]
  },
  {
   "cell_type": "code",
   "execution_count": null,
   "id": "9de9b633-69e1-4b6c-bb05-1a4814a68339",
   "metadata": {},
   "outputs": [],
   "source": [
    "file_path = \"../ACDC/\"\n",
    "with open(f\"{file_path}prompts5.pickle\", 'wb') as f1:\n",
    "    pickle.dump(all_prompts, f1)\n"
   ]
  },
  {
   "cell_type": "code",
   "execution_count": null,
   "id": "1c36608f-e7ad-46b8-afa7-e6bd0569f4b1",
   "metadata": {},
   "outputs": [],
   "source": [
    "os.mkdir(\"../ACDC/masks5\")\n",
    "for i in range(57):\n",
    "    f = gzip.GzipFile(f\"../ACDC/masks5/batch_{i}.npy.gz\", \"w\")\n",
    "    np.save(f, all_masks[i])"
   ]
  },
  {
   "cell_type": "markdown",
   "id": "16ca3c9e-096d-470d-b18f-cd9b6d56a718",
   "metadata": {},
   "source": [
    "## Pipeline 6\n",
    "- 10 positive points, 5 negative points per prompts\n",
    "- A batch containing 50 images, each image contains 50 prompts"
   ]
  },
  {
   "cell_type": "code",
   "execution_count": null,
   "id": "ce403c51-bebc-455d-9728-a678d075fde1",
   "metadata": {},
   "outputs": [],
   "source": [
    "import sys\n",
    "sys.path.append(\"..\")\n",
    "from functions.pipeline import *\n",
    "from tqdm import tqdm\n",
    "import pickle\n",
    "dataloader = get_batch(\"../ACDC\",50,debug = False)"
   ]
  },
  {
   "cell_type": "code",
   "execution_count": null,
   "id": "54c460e6-8029-40de-bc47-e78819118416",
   "metadata": {},
   "outputs": [
    {
     "name": "stderr",
     "output_type": "stream",
     "text": [
      "  0%|            | 0/57 [00:00<?, ?it/s]"
     ]
    },
    {
     "name": "stdout",
     "output_type": "stream",
     "text": [
      "n_background was reduced to 0.\n"
     ]
    },
    {
     "name": "stderr",
     "output_type": "stream",
     "text": [
      "  2%|    | 1/57 [00:59<55:59, 60.00s/it]"
     ]
    },
    {
     "name": "stdout",
     "output_type": "stream",
     "text": [
      "n_background was reduced to 0.\n",
      "n_background was reduced to 0.\n"
     ]
    },
    {
     "name": "stderr",
     "output_type": "stream",
     "text": [
      "  4%|▏   | 2/57 [01:29<38:47, 42.32s/it]"
     ]
    },
    {
     "name": "stdout",
     "output_type": "stream",
     "text": [
      "n_foreground was reduced to 8.\n",
      "n_background was reduced to 0.\n",
      "n_background was reduced to 10.\n",
      "n_background was reduced to 10.\n"
     ]
    },
    {
     "name": "stderr",
     "output_type": "stream",
     "text": [
      "  5%|▏   | 3/57 [02:00<33:22, 37.09s/it]"
     ]
    },
    {
     "name": "stdout",
     "output_type": "stream",
     "text": [
      "n_background was reduced to 0.\n"
     ]
    },
    {
     "name": "stderr",
     "output_type": "stream",
     "text": [
      " 11%|▍   | 6/57 [03:32<27:21, 32.18s/it]"
     ]
    },
    {
     "name": "stdout",
     "output_type": "stream",
     "text": [
      "n_background was reduced to 0.\n",
      "n_background was reduced to 0.\n"
     ]
    }
   ],
   "source": [
    "all_masks = []\n",
    "all_prompts = {1:[],2:[],3:[]}\n",
    "scores={}\n",
    "for batch in tqdm(dataloader):\n",
    "    embeddings, ground_truths = batch\n",
    "    prompt_class_1 = []\n",
    "    prompt_class_2 = []\n",
    "    prompt_class_3 = []\n",
    "    for ground_truth in ground_truths:\n",
    "        prompt_class_1.append(batch_sample_from_class(50, ground_truth, 1, n_foreground = 10, n_background= 5))\n",
    "        prompt_class_2.append(batch_sample_from_class(50, ground_truth, 2, n_foreground = 10, n_background= 5))\n",
    "        prompt_class_3.append(batch_sample_from_class(50, ground_truth, 3, n_foreground = 10, n_background= 5))\n",
    "    all_prompts[1].extend(prompt_class_1)\n",
    "    all_prompts[2].extend(prompt_class_2)\n",
    "    all_prompts[3].extend(prompt_class_3)\n",
    "    ana = analyze(embeddings,ground_truths)    \n",
    "    masks= ana.generate_masks(prompt_class_1,prompt_class_2,prompt_class_3,50)\n",
    "    all_masks.append(masks.numpy())\n",
    "    for metric,f in ana.metrics.items():\n",
    "        if metric not in scores.keys():\n",
    "            scores[metric] = ana.scoring_function(f)\n",
    "        else: \n",
    "            scores[metric] = torch.cat([scores[metric],ana.scoring_function(f)],dim = 0)\n",
    "            \n",
    "results = ana.get_results(scores[\"dice_score\"],scores[\"iou\"],scores[\"accuracy\"],(10,5),(10,5),(10,5))\n",
    "re = Results(\"../ACDC\",\"pos_1005\")\n",
    "re.append_row(results)"
   ]
  },
  {
   "cell_type": "code",
   "execution_count": null,
   "id": "31a52c11-0fd0-47b5-b75c-a67711b596db",
   "metadata": {},
   "outputs": [],
   "source": [
    "file_path = \"../ACDC/\"\n",
    "with open(f\"{file_path}prompts6.pickle\", 'wb') as f1:\n",
    "    pickle.dump(all_prompts, f1)"
   ]
  },
  {
   "cell_type": "code",
   "execution_count": null,
   "id": "0761820f-faa1-4aa4-b4fa-b4d9341db119",
   "metadata": {},
   "outputs": [],
   "source": [
    "os.mkdir(\"../ACDC/masks6\")\n",
    "for i in range(57):\n",
    "    f = gzip.GzipFile(f\"../ACDC/masks6/batch_{i}.npy.gz\", \"w\")\n",
    "    np.save(f, all_masks[i])"
   ]
  },
  {
   "cell_type": "code",
   "execution_count": null,
   "id": "b00c0f6e-02af-4cab-ab7a-b84738a2eacc",
   "metadata": {},
   "outputs": [],
   "source": [
    "torch.cuda.empty_cache()"
   ]
  },
  {
   "cell_type": "markdown",
   "id": "391826e2-18f3-46ce-ad45-221d43fb4338",
   "metadata": {},
   "source": [
    "## Pipeline 7\n",
    "- 10 positive points, 3 negative points per prompts\n",
    "- Batch of 50 images, 50 prompts per image"
   ]
  },
  {
   "cell_type": "code",
   "execution_count": null,
   "id": "39a6ef99-c712-4b47-a724-3eb7a12062be",
   "metadata": {},
   "outputs": [],
   "source": [
    "all_masks = []\n",
    "all_prompts = {1:[],2:[],3:[]}\n",
    "scores={}\n",
    "for batch in tqdm(dataloader):\n",
    "    embeddings, ground_truths = batch\n",
    "    prompt_class_1 = []\n",
    "    prompt_class_2 = []\n",
    "    prompt_class_3 = []\n",
    "    for ground_truth in ground_truths:\n",
    "        prompt_class_1.append(batch_sample_from_class(50, ground_truth, 1, n_foreground = 10, n_background= 3))\n",
    "        prompt_class_2.append(batch_sample_from_class(50, ground_truth, 2, n_foreground = 10, n_background= 3))\n",
    "        prompt_class_3.append(batch_sample_from_class(50, ground_truth, 3, n_foreground = 10, n_background= 3))\n",
    "    all_prompts[1].extend(prompt_class_1)\n",
    "    all_prompts[2].extend(prompt_class_2)\n",
    "    all_prompts[3].extend(prompt_class_3)\n",
    "    ana = analyze(embeddings,ground_truths)    \n",
    "    masks= ana.generate_masks(prompt_class_1,prompt_class_2,prompt_class_3,50)\n",
    "    all_masks.append(masks.numpy())\n",
    "    for metric,f in ana.metrics.items():\n",
    "        if metric not in scores.keys():\n",
    "            scores[metric] = ana.scoring_function(f)\n",
    "        else: \n",
    "            scores[metric] = torch.cat([scores[metric],ana.scoring_function(f)],dim = 0)\n",
    "            \n",
    "results = ana.get_results(scores[\"dice_score\"],scores[\"iou\"],scores[\"accuracy\"],(10,3),(10,3),(10,3))\n",
    "re = Results(\"../ACDC\",\"pos_1003\")\n",
    "re.append_row(results)"
   ]
  },
  {
   "cell_type": "code",
   "execution_count": null,
   "id": "cf66419e-d852-4270-9cb8-c021801d245b",
   "metadata": {},
   "outputs": [],
   "source": [
    "file_path = \"../ACDC/\"\n",
    "with open(f\"{file_path}prompts7.pickle\", 'wb') as f1:\n",
    "    pickle.dump(all_prompts, f1)"
   ]
  },
  {
   "cell_type": "code",
   "execution_count": null,
   "id": "f6d1edfa-ce68-4f5b-a71c-e6e04c600c35",
   "metadata": {},
   "outputs": [],
   "source": [
    "os.mkdir(\"../ACDC/masks7\")\n",
    "for i in range(57):\n",
    "    f = gzip.GzipFile(f\"../ACDC/masks7/batch_{i}.npy.gz\", \"w\")\n",
    "    np.save(f, all_masks[i])"
   ]
  },
  {
   "cell_type": "markdown",
   "id": "54e54783-ae5e-461f-9d58-1c6d6d769cbf",
   "metadata": {},
   "source": [
    "## Pipeline 8\n",
    "- 10 positive points, 0 negative points per prompt\n",
    "- Batch of 50 images, 50 prompts per image"
   ]
  },
  {
   "cell_type": "code",
   "execution_count": null,
   "id": "223b788c-c0b9-42a0-af66-6146b8e26029",
   "metadata": {},
   "outputs": [],
   "source": [
    "all_masks = []\n",
    "all_prompts = {1:[],2:[],3:[]}\n",
    "scores={}\n",
    "for batch in tqdm(dataloader):\n",
    "    embeddings, ground_truths = batch\n",
    "    prompt_class_1 = []\n",
    "    prompt_class_2 = []\n",
    "    prompt_class_3 = []\n",
    "    for ground_truth in ground_truths:\n",
    "        prompt_class_1.append(batch_sample_from_class(50, ground_truth, 1, n_foreground = 10, n_background= 0))\n",
    "        prompt_class_2.append(batch_sample_from_class(50, ground_truth, 2, n_foreground = 10, n_background= 0))\n",
    "        prompt_class_3.append(batch_sample_from_class(50, ground_truth, 3, n_foreground = 10, n_background= 0))\n",
    "    all_prompts[1].extend(prompt_class_1)\n",
    "    all_prompts[2].extend(prompt_class_2)\n",
    "    all_prompts[3].extend(prompt_class_3)\n",
    "    ana = analyze(embeddings,ground_truths)    \n",
    "    masks= ana.generate_masks(prompt_class_1,prompt_class_2,prompt_class_3,50)\n",
    "    all_masks.append(masks.numpy())\n",
    "    for metric,f in ana.metrics.items():\n",
    "        if metric not in scores.keys():\n",
    "            scores[metric] = ana.scoring_function(f)\n",
    "        else: \n",
    "            scores[metric] = torch.cat([scores[metric],ana.scoring_function(f)],dim = 0)\n",
    "            \n",
    "results = ana.get_results(scores[\"dice_score\"],scores[\"iou\"],scores[\"accuracy\"],(10,0),(10,0),(10,0))\n",
    "re = Results(\"../ACDC\",\"pos_1000\")\n",
    "re.append_row(results)"
   ]
  },
  {
   "cell_type": "code",
   "execution_count": null,
   "id": "ddcdf904-44dd-4788-aec0-4baebd4bdcc3",
   "metadata": {},
   "outputs": [],
   "source": [
    "file_path = \"../ACDC/\"\n",
    "with open(f\"{file_path}prompts8.pickle\", 'wb') as f1:\n",
    "    pickle.dump(all_prompts, f1)"
   ]
  },
  {
   "cell_type": "code",
   "execution_count": null,
   "id": "5ec4e29c-5a66-41c8-b7ee-a17b7831b63a",
   "metadata": {},
   "outputs": [],
   "source": [
    "os.mkdir(\"../ACDC/masks8\")\n",
    "for i in range(57):\n",
    "    f = gzip.GzipFile(f\"../ACDC/masks8/batch_{i}.npy.gz\", \"w\")\n",
    "    np.save(f, all_masks[i])"
   ]
  },
  {
   "cell_type": "code",
   "execution_count": null,
   "id": "d37b033d-8e2b-4180-a579-862d24abf50a",
   "metadata": {},
   "outputs": [],
   "source": [
    "torch.cuda.empty_cache()"
   ]
  },
  {
   "cell_type": "markdown",
   "id": "caebca68-1c49-4a77-aded-ec55cf5ec846",
   "metadata": {},
   "source": [
    "## Pipeline 9\n",
    "- 1 positive point, 1 negative point for class 1\n",
    "- 5 positive points, 1 negative point for class 2\n",
    "- 1 positive point, 1 negative point for class 3"
   ]
  },
  {
   "cell_type": "code",
   "execution_count": null,
   "id": "1e98d7ef-22ee-4591-87c8-92b1ffd74fba",
   "metadata": {},
   "outputs": [],
   "source": [
    "all_masks = []\n",
    "all_prompts = {1:[],2:[],3:[]}\n",
    "scores={}\n",
    "for batch in tqdm(dataloader):\n",
    "    embeddings, ground_truths = batch\n",
    "    prompt_class_1 = []\n",
    "    prompt_class_2 = []\n",
    "    prompt_class_3 = []\n",
    "    for ground_truth in ground_truths:\n",
    "        prompt_class_1.append(batch_sample_from_class(50, ground_truth, 1, n_foreground = 1, n_background= 1))\n",
    "        prompt_class_2.append(batch_sample_from_class(50, ground_truth, 2, n_foreground = 5, n_background= 1))\n",
    "        prompt_class_3.append(batch_sample_from_class(50, ground_truth, 3, n_foreground = 1, n_background= 1))\n",
    "    all_prompts[1].extend(prompt_class_1)\n",
    "    all_prompts[2].extend(prompt_class_2)\n",
    "    all_prompts[3].extend(prompt_class_3)\n",
    "    ana = analyze(embeddings,ground_truths)    \n",
    "    masks= ana.generate_masks(prompt_class_1,prompt_class_2,prompt_class_3,50)\n",
    "    all_masks.append(masks.numpy())\n",
    "    for metric,f in ana.metrics.items():\n",
    "        if metric not in scores.keys():\n",
    "            scores[metric] = ana.scoring_function(f)\n",
    "        else: \n",
    "            scores[metric] = torch.cat([scores[metric],ana.scoring_function(f)],dim = 0)\n",
    "            \n",
    "results = ana.get_results(scores[\"dice_score\"],scores[\"iou\"],scores[\"accuracy\"],(1,1),(5,1),(1,1))\n",
    "re = Results(\"../ACDC\",\"neg_pos_mixed\")\n",
    "re.append_row(results)"
   ]
  },
  {
   "cell_type": "code",
   "execution_count": null,
   "id": "9af41fdc-9963-4a37-acf3-66b9632ab6dd",
   "metadata": {},
   "outputs": [],
   "source": [
    "file_path = \"../ACDC/\"\n",
    "with open(f\"{file_path}prompts9.pickle\", 'wb') as f1:\n",
    "    pickle.dump(all_prompts, f1)"
   ]
  },
  {
   "cell_type": "code",
   "execution_count": null,
   "id": "20f2cfb0-ecf0-49e2-9aef-776a40b190e4",
   "metadata": {},
   "outputs": [],
   "source": [
    "os.mkdir(\"../ACDC/masks9\")\n",
    "for i in range(57):\n",
    "    f = gzip.GzipFile(f\"../ACDC/masks9/batch_{i}.npy.gz\", \"w\")\n",
    "    np.save(f, all_masks[i])"
   ]
  }
 ],
 "metadata": {
  "kernelspec": {
   "display_name": "Python 3 (ipykernel)",
   "language": "python",
   "name": "python3"
  },
  "language_info": {
   "codemirror_mode": {
    "name": "ipython",
    "version": 3
   },
   "file_extension": ".py",
   "mimetype": "text/x-python",
   "name": "python",
   "nbconvert_exporter": "python",
   "pygments_lexer": "ipython3",
   "version": "3.9.7"
  }
 },
 "nbformat": 4,
 "nbformat_minor": 5
}
