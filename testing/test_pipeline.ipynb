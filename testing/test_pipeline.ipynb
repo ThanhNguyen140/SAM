{
 "cells": [
  {
   "cell_type": "code",
   "execution_count": 1,
   "id": "3515eb2b-72da-42ae-9807-4f4e21f365c7",
   "metadata": {},
   "outputs": [],
   "source": [
    "import sys\n",
    "sys.path.append(\"..\")\n",
    "from functions.pipeline import *"
   ]
  },
  {
   "cell_type": "code",
   "execution_count": 2,
   "id": "a1e1c4ae-25a7-4f57-87a7-d266ee10e200",
   "metadata": {},
   "outputs": [],
   "source": [
    "dataloader = get_batch(\"../ACDC\",10,debug=True)"
   ]
  },
  {
   "cell_type": "code",
   "execution_count": 3,
   "id": "243e1afc-37ed-4d1c-b1ea-28f3bb4425fd",
   "metadata": {},
   "outputs": [],
   "source": [
    "embeddings,ground_truths = next(iter(dataloader))"
   ]
  },
  {
   "cell_type": "code",
   "execution_count": 4,
   "id": "1463dbb3-750c-4c36-8061-e0346c1218b5",
   "metadata": {},
   "outputs": [
    {
     "name": "stdout",
     "output_type": "stream",
     "text": [
      "0\n",
      "class1\n",
      "class2\n",
      "class3\n",
      "1\n",
      "class1\n",
      "class2\n",
      "class3\n",
      "2\n",
      "class1\n",
      "class2\n",
      "class3\n",
      "3\n",
      "class1\n",
      "class2\n",
      "class3\n",
      "4\n",
      "class1\n",
      "class2\n",
      "class3\n",
      "5\n",
      "class1\n",
      "class2\n",
      "class3\n",
      "6\n",
      "class1\n",
      "class2\n",
      "class3\n",
      "7\n",
      "class1\n",
      "class2\n",
      "class3\n",
      "8\n",
      "class1\n",
      "n_foreground was reduced to 0.\n",
      "class2\n",
      "class3\n",
      "9\n",
      "class1\n",
      "class2\n",
      "class3\n"
     ]
    }
   ],
   "source": [
    "prompt_class_1 = []\n",
    "prompt_class_2 = []\n",
    "prompt_class_3 = []\n",
    "for id,ground_truth in enumerate(ground_truths):\n",
    "    print(id)\n",
    "    print(\"class1\")\n",
    "    prompt_class_1.append(batch_sample_from_class(10, ground_truth, 1, n_foreground = 1, n_background= 1))\n",
    "    print(\"class2\")\n",
    "    prompt_class_2.append(batch_sample_from_class(10, ground_truth, 2, n_foreground = 1, n_background= 1))\n",
    "    print(\"class3\")\n",
    "    prompt_class_3.append(batch_sample_from_class(10, ground_truth, 3, n_foreground = 1, n_background= 1))"
   ]
  },
  {
   "cell_type": "code",
   "execution_count": 5,
   "id": "a4bf213f-be48-4507-907d-7bb47a243c67",
   "metadata": {},
   "outputs": [
    {
     "data": {
      "text/plain": [
       "(tensor([[[107, 112]],\n",
       " \n",
       "         [[109, 106]],\n",
       " \n",
       "         [[103, 112]],\n",
       " \n",
       "         [[113, 109]],\n",
       " \n",
       "         [[107, 114]],\n",
       " \n",
       "         [[112, 104]],\n",
       " \n",
       "         [[107, 107]],\n",
       " \n",
       "         [[103, 101]],\n",
       " \n",
       "         [[114, 106]],\n",
       " \n",
       "         [[115, 113]]]),\n",
       " tensor([[0.],\n",
       "         [0.],\n",
       "         [0.],\n",
       "         [0.],\n",
       "         [0.],\n",
       "         [0.],\n",
       "         [0.],\n",
       "         [0.],\n",
       "         [0.],\n",
       "         [0.]]))"
      ]
     },
     "execution_count": 5,
     "metadata": {},
     "output_type": "execute_result"
    }
   ],
   "source": [
    "prompt_class_1[8]"
   ]
  },
  {
   "cell_type": "code",
   "execution_count": 6,
   "id": "ab777945-8308-4908-9ab7-9e1fe19b341d",
   "metadata": {},
   "outputs": [],
   "source": [
    "test = analyze(embeddings,ground_truths)"
   ]
  },
  {
   "cell_type": "code",
   "execution_count": 7,
   "id": "9a9adc12-2a28-4b67-957d-78e949dca3c4",
   "metadata": {},
   "outputs": [],
   "source": [
    "masks= test.generate_masks(prompt_class_1,prompt_class_2,prompt_class_3,10)"
   ]
  },
  {
   "cell_type": "code",
   "execution_count": 8,
   "id": "c6d463f1-fb36-4c3b-b544-40e62df9d207",
   "metadata": {},
   "outputs": [
    {
     "data": {
      "text/plain": [
       "torch.Size([10, 10, 256, 216])"
      ]
     },
     "execution_count": 8,
     "metadata": {},
     "output_type": "execute_result"
    }
   ],
   "source": [
    "masks.shape"
   ]
  },
  {
   "cell_type": "code",
   "execution_count": 9,
   "id": "b53ddaa5-15b5-40e7-b7fb-c92ac21b85b5",
   "metadata": {},
   "outputs": [],
   "source": [
    "masks = masks.cpu()"
   ]
  },
  {
   "cell_type": "code",
   "execution_count": 10,
   "id": "a7f7d5cf-8dba-4451-a94c-f9bb17994780",
   "metadata": {},
   "outputs": [
    {
     "data": {
      "text/plain": [
       "<matplotlib.image.AxesImage at 0x7f11ed162760>"
      ]
     },
     "execution_count": 10,
     "metadata": {},
     "output_type": "execute_result"
    },
    {
     "data": {
      "image/png": "[encoded data removed]",
      "text/plain": [
       "<Figure size 640x480 with 1 Axes>"
      ]
     },
     "metadata": {},
     "output_type": "display_data"
    }
   ],
   "source": [
    "# Mask prediction after calculating logits\n",
    "import matplotlib.pyplot as plt\n",
    "plt.imshow(masks[0,2,:,:])"
   ]
  },
  {
   "cell_type": "code",
   "execution_count": 11,
   "id": "4ce920c4-7ed4-45e5-94bd-e8ed82a41298",
   "metadata": {},
   "outputs": [
    {
     "data": {
      "text/plain": [
       "<matplotlib.image.AxesImage at 0x7f11ed0da8e0>"
      ]
     },
     "execution_count": 11,
     "metadata": {},
     "output_type": "execute_result"
    },
    {
     "data": {
      "image/png": "[encoded data removed]",
      "text/plain": [
       "<Figure size 640x480 with 1 Axes>"
      ]
     },
     "metadata": {},
     "output_type": "display_data"
    }
   ],
   "source": [
    "plt.imshow(ground_truths[0,:,:])"
   ]
  },
  {
   "cell_type": "code",
   "execution_count": 12,
   "id": "a8550ff1-922f-4460-a23d-a37cfa8ecd6f",
   "metadata": {},
   "outputs": [
    {
     "name": "stdout",
     "output_type": "stream",
     "text": [
      "<class 'torchmetrics.classification.f_beta.BinaryF1Score'>\n",
      "<class 'torchmetrics.classification.jaccard.BinaryJaccardIndex'>\n",
      "<class 'torchmetrics.classification.accuracy.BinaryAccuracy'>\n"
     ]
    }
   ],
   "source": [
    "scores = []\n",
    "masks = masks.cuda()\n",
    "for f in test.metrics.values():\n",
    "    print(f)\n",
    "    score= test.scoring_function(f)\n",
    "    scores.append(score)"
   ]
  },
  {
   "cell_type": "code",
   "execution_count": 13,
   "id": "fc6c7882-18c8-4a94-91e4-463daa3a48ad",
   "metadata": {},
   "outputs": [
    {
     "data": {
      "text/plain": [
       "tensor([[0.0000, 0.6572, 0.8095],\n",
       "        [0.0000, 0.6398, 0.7954],\n",
       "        [0.0000, 0.1407, 0.5403],\n",
       "        [0.0000, 0.7384, 0.8259],\n",
       "        [0.0000, 0.1681, 0.4250],\n",
       "        [0.0000, 0.5904, 0.7556],\n",
       "        [0.0000, 0.7230, 0.8230],\n",
       "        [0.0000, 0.4000, 0.7120],\n",
       "        [0.0000, 0.4839, 0.7027],\n",
       "        [0.0000, 0.6089, 0.1786]])"
      ]
     },
     "execution_count": 13,
     "metadata": {},
     "output_type": "execute_result"
    }
   ],
   "source": [
    "scores[0][8,:,:]"
   ]
  },
  {
   "cell_type": "code",
   "execution_count": 14,
   "id": "32a738de-70ab-4fc1-8253-e83e55f1dad6",
   "metadata": {},
   "outputs": [],
   "source": [
    "results = test.get_results(scores[0],scores[1],scores[2],(1,1),(1,1),(1,1))"
   ]
  },
  {
   "cell_type": "code",
   "execution_count": null,
   "id": "77e9126c-b795-47ba-8cee-89f09eabaab7",
   "metadata": {},
   "outputs": [],
   "source": []
  }
 ],
 "metadata": {
  "kernelspec": {
   "display_name": "Python 3 (ipykernel)",
   "language": "python",
   "name": "python3"
  },
  "language_info": {
   "codemirror_mode": {
    "name": "ipython",
    "version": 3
   },
   "file_extension": ".py",
   "mimetype": "text/x-python",
   "name": "python",
   "nbconvert_exporter": "python",
   "pygments_lexer": "ipython3",
   "version": "3.9.7"
  }
 },
 "nbformat": 4,
 "nbformat_minor": 5
}
